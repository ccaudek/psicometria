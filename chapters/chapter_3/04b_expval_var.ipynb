{
 "cells": [
  {
   "attachments": {},
   "cell_type": "markdown",
   "id": "d9394e23-ff49-4e99-9f6f-7f0a90e6dd81",
   "metadata": {},
   "source": [
    "(random_variables_notebook)=\n",
    "# Proprietà delle variabili casuali "
   ]
  },
  {
   "cell_type": "markdown",
   "id": "363b035f-0933-40d6-9b6c-610622388063",
   "metadata": {},
   "source": [
    "```{admonition} Obiettivi di apprendimento\n",
    "Al termine di questo capitolo, sarete in grado di:\n",
    "\n",
    "- Comprendere in modo approfondito i concetti di valore atteso e varianza per variabili casuali discrete.\n",
    "- Familiarizzare con le principali proprietà legate a valore atteso e varianza.\n",
    "- Estendere la tua comprensione di valore atteso e varianza a variabili casuali continue.\n",
    "- Utilizzare Python per calcolare effettivamente queste metriche.\n",
    "- Interpretare in maniera critica i risultati calcolati.\n",
    "```\n",
    "\n",
    "In questo capitolo descriveremo le proprietà di base delle variabili casuali."
   ]
  },
  {
   "cell_type": "markdown",
   "id": "9a3efad2-ee27-4955-8c6e-d72e63826930",
   "metadata": {},
   "source": [
    "## Preparazione del Notebook"
   ]
  },
  {
   "cell_type": "code",
   "execution_count": 1,
   "id": "05f4ac5e-c9b1-4717-be42-f8981db9788e",
   "metadata": {},
   "outputs": [],
   "source": [
    "import numpy as np\n",
    "from scipy import stats as stats\n",
    "import matplotlib.pyplot as plt\n",
    "import arviz as az\n",
    "import seaborn as sns"
   ]
  },
  {
   "cell_type": "code",
   "execution_count": 2,
   "id": "9513e544-b773-46cb-808c-94d1f00a3df7",
   "metadata": {},
   "outputs": [],
   "source": [
    "# set seed to make the results fully reproducible\n",
    "seed: int = sum(map(ord, \"expval_var\"))\n",
    "rng: np.random.Generator = np.random.default_rng(seed=seed)\n",
    "\n",
    "az.style.use(\"arviz-darkgrid\")\n",
    "plt.rcParams[\"figure.dpi\"] = 100\n",
    "plt.rcParams[\"figure.facecolor\"] = \"white\"\n",
    "\n",
    "%config InlineBackend.figure_format = \"retina\""
   ]
  },
  {
   "cell_type": "markdown",
   "id": "f5ff53c8-9758-444d-b502-67aee32f8a63",
   "metadata": {},
   "source": [
    "## Natura delle Variabili Casuali\n",
    "\n",
    "Una variabile casuale rappresenta un elemento centrale nella teoria della probabilità e nelle sue applicazioni statistiche. Dal punto di vista formale, una variabile casuale è definita come una funzione che associa elementi di uno spazio campionario $ S $ a valori in un sottoinsieme dei numeri reali $ \\mathbb{R} $. Questa definizione consente di quantificare numericamente gli esiti di un fenomeno aleatorio, attribuendo un valore specifico ad ogni possibile risultato.\n",
    "\n",
    "Le variabili casuali possono essere classificate in due categorie principali: le variabili casuali discrete e quelle continue. Le variabili casuali discrete sono caratterizzate dal fatto di assumere valori in un insieme finito o al più numerabile, mentre le variabili casuali continue si distinguono per la loro capacità di assumere un'infinità di valori all'interno di un intervallo continuo.\n",
    "\n",
    "Con il concetto di variabile casuale ben definito, emergono questioni relative alla descrizione dell'insieme completo dei possibili esiti e delle probabilità associate a ciascun esito. Queste considerazioni portano alla nozione di \"distribuzione\" di una variabile casuale. Per le variabili casuali discrete, la distribuzione è una funzione che elenca tutti i possibili valori che la variabile può assumere, insieme alle probabilità corrispondenti a ciascun valore. In questo modo, la distribuzione di una variabile casuale fornisce un quadro completo delle sue caratteristiche probabilistiche, consentendo analisi e inferenze statistiche."
   ]
  },
  {
   "attachments": {},
   "cell_type": "markdown",
   "id": "c8488aff-ec29-40bd-8d6f-ce2f277bc492",
   "metadata": {},
   "source": [
    "## Valore atteso\n",
    "\n",
    "Spesso è utile sintetizzare la distribuzione di una variabile casuale tramite indicatori caratteristici.  Questi indicatori permettono di cogliere le caratteristiche principali della distribuzione, come la posizione (cioè il baricentro) e la variabilità (cioè la dispersione attorno ad un centro). In questo modo, si può avere una descrizione sintetica della distribuzione di probabilità della variabile casuale. In questo capitolo introdurremo i concetti di valore atteso e di varianza di una variabile casule. \n",
    "\n",
    "Quando vogliamo conoscere il comportamento tipico di una variabile casuale spesso vogliamo sapere qual è il suo \"valore tipico\". La nozione di \"valore tipico\", tuttavia, è ambigua. Infatti, essa può essere definita in almeno tre modi diversi:\n",
    "\n",
    "-   la *media* (somma dei valori divisa per il numero dei valori),\n",
    "-   la *mediana* (il valore centrale della distribuzione, quando la variabile è ordinata in senso crescente o decrescente),\n",
    "-   la *moda* (il valore che ricorre più spesso).\n",
    "\n",
    "Per esempio, la media di $\\{3, 1, 4, 1, 5\\}$ è $\\frac{3+1+4+1+5}{5} = 2.8$, la mediana è $3$ e la moda è $1$. Tuttavia, la teoria delle probabilità si occupa di variabili casuali piuttosto che di sequenze di numeri. Diventa dunque necessario precisare che cosa intendiamo per \"valore tipico\" quando facciamo riferimento alle variabili casuali. Giungiamo così alla seguente definizione.\n",
    "\n",
    "```{admonition} Definizione\n",
    "Sia $Y$ è una variabile casuale discreta che assume i valori $y_1, \\dots, y_n$ con distribuzione $P(Y = y_i) = p(y_i)$. Per definizione il *valore atteso* di $Y$, $\\mathbb{E}(Y)$, è\n",
    "\n",
    "$$\n",
    "\\mathbb{E}(Y) = \\sum_{i=1}^n y_i \\cdot p(y_i).\n",
    "$$ (eq-expval-discr)\n",
    "```\n",
    "\n",
    "A parole: il valore atteso (o speranza matematica, o aspettazione, o valor medio) di una variabile casuale è definito come la somma di tutti i valori che la variabile casuale può prendere, ciascuno pesato dalla probabilità con cui il valore è preso.\n",
    "\n",
    "````{prf:example}\n",
    ":label: rv-expl-2\n",
    "Calcoliamo il valore atteso della variabile casuale $Y$ corrispondente al lancio di una moneta equilibrata (testa: *Y* = 1; croce: *Y* = 0).\n",
    "````\n",
    "\n",
    "$$\n",
    "\\mathbb{E}(Y) = \\sum_{i=1}^{2} y_i \\cdot P(y_i) = 0 \\cdot \\frac{1}{5} + 1 \\cdot \\frac{1}{5} = 0.5.\n",
    "$$\n",
    "\n",
    "````{prf:example}\n",
    ":label: rv-expl-3\n",
    "Calcoliamo il valore atteso della variabile casuale $X$ corrispondente alla somma dei punti ottenuti dal lancio di due dadi equilibrati a sei facce. \n",
    "````\n",
    "\n",
    "Abbiamo visto nel capitolo {ref}`intro_prob_notebook` che $X$ può assumere i valori [2, 3, 4, 5, 6, 7, 8, 9, 10, 11, 12] con distribuzione di massa di probabilità pari a [1/36, 2/36, 3/36, 4/36, 5/36, 6/36, 5/36, 4/36, 3/36, 2/36, 1/36]. Applicando l'eq. {eq}`eq-expval-discr` otteniamo:\n",
    "\n",
    "$$\n",
    "\\mathbb{E}(X) = \\sum_{i=1}^{11} x_i \\cdot P(x_i) = 2 \\cdot \\frac{1}{36} + 3 \\cdot \\frac{2}{36} + \\dots + 12 \\cdot \\frac{1}{36} = 7.0.\n",
    "$$\n",
    "\n",
    "Svolgiamo ora l'esercizio in Python. "
   ]
  },
  {
   "attachments": {},
   "cell_type": "markdown",
   "id": "50a6696b-1f41-4ccb-8e8c-9b1bc021eb79",
   "metadata": {},
   "source": [
    "Definisco i valori della variabile casuale $X$ e li trasformiamo in un array NumPy:"
   ]
  },
  {
   "cell_type": "code",
   "execution_count": 3,
   "id": "c57c3730-64d8-484c-a74c-2bb40ddddd56",
   "metadata": {},
   "outputs": [
    {
     "data": {
      "text/plain": [
       "array([ 2,  3,  4,  5,  6,  7,  8,  9, 10, 11, 12])"
      ]
     },
     "execution_count": 3,
     "metadata": {},
     "output_type": "execute_result"
    }
   ],
   "source": [
    "x = np.array(list(range(2, 13)))\n",
    "x"
   ]
  },
  {
   "attachments": {},
   "cell_type": "markdown",
   "id": "cce94403-a7a6-4074-91f1-13911eac39ef",
   "metadata": {},
   "source": [
    "Per trovare la distribuzione di massa della variabile $X$ ripeto qui il codice che abbiamo usato nel capitolo {ref}`intro_prob_notebook`."
   ]
  },
  {
   "cell_type": "code",
   "execution_count": 6,
   "id": "897ac085-ad88-471e-aa1a-3640d93b7d63",
   "metadata": {},
   "outputs": [
    {
     "data": {
      "text/plain": [
       "array([0.02777778, 0.05555556, 0.08333333, 0.11111111, 0.13888889,\n",
       "       0.16666667, 0.13888889, 0.11111111, 0.08333333, 0.05555556,\n",
       "       0.02777778])"
      ]
     },
     "execution_count": 6,
     "metadata": {},
     "output_type": "execute_result"
    }
   ],
   "source": [
    "r = range(1, 7)\n",
    "sample = [(i, j) for i in r for j in r]\n",
    "\n",
    "px = []\n",
    "\n",
    "for i in range(2, 13):\n",
    "    event = [roll for roll in sample if sum(roll) == i]\n",
    "    px.append(len(event) / len(sample))\n",
    "\n",
    "px = np.array(px)\n",
    "px"
   ]
  },
  {
   "attachments": {},
   "cell_type": "markdown",
   "id": "e1b12de2-144c-4afd-9037-1217d3516c97",
   "metadata": {},
   "source": [
    "Calcolo ora il valore atteso della $X$ usando l'eq. {eq}`eq-expval-discr`:"
   ]
  },
  {
   "cell_type": "code",
   "execution_count": 7,
   "id": "bfa473a9-766a-4673-9b99-c8687c075ebd",
   "metadata": {},
   "outputs": [
    {
     "data": {
      "text/plain": [
       "7.0"
      ]
     },
     "execution_count": 7,
     "metadata": {},
     "output_type": "execute_result"
    }
   ],
   "source": [
    "ex = np.sum(x * px)\n",
    "ex.round(3)"
   ]
  },
  {
   "attachments": {},
   "cell_type": "markdown",
   "id": "d8c55f51-61c7-431d-886d-9eb0d24e02ac",
   "metadata": {},
   "source": [
    "In alternativa, posso usare le funzioni del modulo `rv_discrete` della libreria `stats`:"
   ]
  },
  {
   "cell_type": "code",
   "execution_count": 8,
   "id": "383ac5f2-a633-4f4f-afea-4be83bb8ecc7",
   "metadata": {},
   "outputs": [],
   "source": [
    "x = np.arange(2, 13)\n",
    "px = np.array([1/36, 2/36, 3/36, 4/36, 5/36, 6/36, 5/36, 4/36, 3/36, 2/36, 1/36])\n",
    "X = stats.rv_discrete(values=(x, px))"
   ]
  },
  {
   "attachments": {},
   "cell_type": "markdown",
   "id": "bf14190b-a546-4085-9e9e-0ab419de04bc",
   "metadata": {},
   "source": [
    "Una volta definito l'oggetto $X$ con `rv_discrete()`, il valore atteso viene ritornato dalla funzione `expect()`:"
   ]
  },
  {
   "cell_type": "code",
   "execution_count": 9,
   "id": "aee82d07-b562-43da-b653-91b8ede0f41a",
   "metadata": {},
   "outputs": [
    {
     "data": {
      "text/plain": [
       "7.0"
      ]
     },
     "execution_count": 9,
     "metadata": {},
     "output_type": "execute_result"
    }
   ],
   "source": [
    "x_ev = X.expect()\n",
    "round(x_ev, 3)"
   ]
  },
  {
   "attachments": {},
   "cell_type": "markdown",
   "id": "92de4cd9-d515-4ddb-8e6f-234f2bba451b",
   "metadata": {},
   "source": [
    "### Interpretazione\n",
    "\n",
    "Il valore atteso corrisponde alla media aritmetica di un grande numero di realizzazioni indipendenti della variabile casuale.\n",
    "\n",
    "Per fare un esempio, ritorniamo all'esempio precedente relativo al lancio di due dadi bilanciati a sei facce nel quale $X$ rappresenta la \"somma dei due dadi\". Per interpretare il valore atteso, simuliamo un grande numero di realizzazioni indipendenti della $X$ mediante la funzione `random.choice()` della libreria NumPy. Tale funzione prende come argomenti i valori della variabile casuale, il numero di ripetizioni indipedenti (qui 1,000,000) e la distribuzione di massa di probabilità:"
   ]
  },
  {
   "cell_type": "code",
   "execution_count": 10,
   "id": "342d4516-9fc7-4452-92f5-ce14f536dba3",
   "metadata": {},
   "outputs": [],
   "source": [
    "x_samples = np.random.choice(x, size=1000000, p=px)"
   ]
  },
  {
   "attachments": {},
   "cell_type": "markdown",
   "id": "b928783d-ca6c-4f99-8703-58dd41b95ba9",
   "metadata": {},
   "source": [
    "L'istruzione `np.random.choice(x, size=1000000, p=px)` utilizza la libreria NumPy per generare un array di 1.000.000 di elementi (parametro `size`), scelti casualmente dall'array `x` con le probabilità specificate nell'array `px`. In particolare, `x` è l'array di cui si vuole effettuare una scelta casuale e `px` è un array che contiene le probabilità associate ad ogni elemento di `x`. \n",
    "\n",
    "Come ci aspettavamo, per un grande numero di realizzazioni indipendenti della $X$, la media aritmetica approssima il valore atteso:"
   ]
  },
  {
   "cell_type": "code",
   "execution_count": 11,
   "id": "d6e8c811-e9a1-476b-a85c-7d4a94465547",
   "metadata": {},
   "outputs": [
    {
     "data": {
      "text/plain": [
       "7.002"
      ]
     },
     "execution_count": 11,
     "metadata": {},
     "output_type": "execute_result"
    }
   ],
   "source": [
    "np.mean(x_samples).round(3)"
   ]
  },
  {
   "attachments": {},
   "cell_type": "markdown",
   "id": "acdcfcc2-9eb2-4ce8-b719-6b72027a2cf4",
   "metadata": {},
   "source": [
    "### Proprietà del valore atteso\n",
    "\n",
    "La proprietà più importante del valore atteso è la linearità: il valore atteso di una somma di variabili casuali è uguale alla somma dei lori rispettivi valori attesi:\n",
    "\n",
    "$$\n",
    "\\mathbb{E}(X + Y) = \\mathbb{E}(X) + \\mathbb{E}(Y).\n",
    "$$ (eq-prop-expval-linearity)\n",
    "\n",
    "L'eq. {eq}`eq-prop-expval-linearity` sembra ragionevole quando $X$ e $Y$ sono indipendenti, ma è anche vera quando $X$ e $Y$ sono associati. Abbiamo anche che\n",
    "\n",
    "$$\n",
    "\\mathbb{E}(cY) = c \\mathbb{E}(Y).\n",
    "$$ (eq-prop-expval-const)\n",
    "\n",
    "L'eq. {eq}`eq-prop-expval-const` ci dice che possiamo estrarre una costante dall'operatore di valore atteso. Tale proprietà si estende a qualunque numero di variabili casuali. Infine, se due variabili casuali $X$ e $Y$ sono indipendenti, abbiamo che\n",
    "\n",
    "$$\n",
    "\\mathbb{E}(X Y) = \\mathbb{E}(X) \\mathbb{E}(Y). \n",
    "$$ (eq-expval-prod-ind-rv)\n",
    "\n",
    "La media aritmetica $\\textstyle {\\bar  {X}}={\\frac  {X_{1}+\\ldots +X_{n}}{n}}$ di $n$ variabili casuali indipendenti aventi la medesima distribuzione di media $\\mu$ ha valore atteso \n",
    "\n",
    "$$\n",
    "\\mathbb{E}(\\bar{X}) = \\frac{1}{n} \\mathbb{E}(X_1)+ \\dots \\mathbb{E}(X_n) = \\frac{1}{n} n \\mathbb{E}(X) = \\mu.\n",
    "$$\n",
    "\n",
    "````{prf:example}\n",
    ":label: rv-expl-4\n",
    "\n",
    "Consideriamo il seguente esperimento casuale. Sia $Y$ il numero che si ottiene dal lancio di un dado equilibrato a sei facce e $Y$ il numero di teste prodotto dal lancio di una moneta equilibrata (0 oppure 1). Troviamo il valore atteso di $X+Y$.\n",
    "````\n",
    "\n",
    "Per risolvere il problema iniziamo a costruire lo spazio campione dell'esperimento casuale.\n",
    "\n",
    "| $x /\\ y$ |   1    |   2    |   3    |   4    |   5    |   6    |\n",
    "|:--------------------:|:------:|:------:|:------:|:------:|:------:|:------:|\n",
    "|          0           | (0, 1) | (0, 2) | (0, 3) | (0, 4) | (0, 5) | (0, 6) |\n",
    "|          1           | (1, 1) | (1, 2) | (1, 3) | (1, 4) | (1, 5) | (1, 6) |\n",
    "\n",
    "ovvero\n",
    "\n",
    "| $x /\\ y$ |  1  |  2  |  3  |  4  |  5  |  6  |\n",
    "|:--------------------:|:---:|:---:|:---:|:---:|:---:|:---:|\n",
    "|          0           |  1  |  2  |  3  |  4  |  5  |  6  |\n",
    "|          1           |  2  |  3  |  4  |  5  |  6  |  7  |\n",
    "\n",
    "Il risultato del lancio del dado è indipendente dal risultato del lancio della moneta. Pertanto, ciascun evento elementare dello spazio campione avrà la stessa probabilità di verificarsi, ovvero $P(\\omega) = \\frac{1}{12}$. Il valore atteso di $X+Y$ è dunque uguale a:\n",
    "\n",
    "$$\n",
    "\\mathbb{E}(X+Y) = 1 \\cdot \\frac{1}{12} + 2 \\cdot \\frac{1}{12} + \\dots + 7 \\cdot \\frac{1}{12} = 4.0.\n",
    "$$\n",
    "\n",
    "Si ottiene lo stesso risultato usando l'eq. {eq}`eq-prop-expval-linearity`:\n",
    "\n",
    "$$\n",
    "\\mathbb{E}(X+Y) = \\mathbb{E}(X) + E(Y) = 3.5 + 0.5 = 4.0.\n",
    "$$"
   ]
  },
  {
   "attachments": {},
   "cell_type": "markdown",
   "id": "0746a61d-02d2-4349-b5ba-46869b797275",
   "metadata": {},
   "source": [
    "Svolgiamo ora l'esercizio in Python."
   ]
  },
  {
   "cell_type": "code",
   "execution_count": 12,
   "id": "2fc42fa6-cb22-4200-aacc-7fed6b186f3e",
   "metadata": {},
   "outputs": [
    {
     "data": {
      "text/plain": [
       "[(0, 1),\n",
       " (0, 2),\n",
       " (0, 3),\n",
       " (0, 4),\n",
       " (0, 5),\n",
       " (0, 6),\n",
       " (1, 1),\n",
       " (1, 2),\n",
       " (1, 3),\n",
       " (1, 4),\n",
       " (1, 5),\n",
       " (1, 6)]"
      ]
     },
     "execution_count": 12,
     "metadata": {},
     "output_type": "execute_result"
    }
   ],
   "source": [
    "coin = range(0, 2)\n",
    "die = range(1, 7)\n",
    "\n",
    "sample = [(c, d) for c in coin for d in die]\n",
    "list(sample)"
   ]
  },
  {
   "cell_type": "code",
   "execution_count": 13,
   "id": "1b74a8f3-d5dd-4d7b-96e8-a952274b76f3",
   "metadata": {},
   "outputs": [
    {
     "name": "stdout",
     "output_type": "stream",
     "text": [
      "P(X + Y = 1) = 1 / 12\n",
      "P(X + Y = 2) = 2 / 12\n",
      "P(X + Y = 3) = 2 / 12\n",
      "P(X + Y = 4) = 2 / 12\n",
      "P(X + Y = 5) = 2 / 12\n",
      "P(X + Y = 6) = 2 / 12\n",
      "P(X + Y = 7) = 1 / 12\n"
     ]
    }
   ],
   "source": [
    "px = []\n",
    "for i in range(1, 8):\n",
    "    event = [roll for roll in sample if sum(roll) == i]\n",
    "    px.append(len(event) / len(sample))\n",
    "    print(f\"P(X + Y = {i}) = {len(event)} / {len(sample)}\")\n"
   ]
  },
  {
   "cell_type": "code",
   "execution_count": 14,
   "id": "628af16b-7847-414d-b183-dcd2dc8ed509",
   "metadata": {},
   "outputs": [
    {
     "data": {
      "text/plain": [
       "4.0"
      ]
     },
     "execution_count": 14,
     "metadata": {},
     "output_type": "execute_result"
    }
   ],
   "source": [
    "x = np.arange(1, 8)\n",
    "sum(x * px)"
   ]
  },
  {
   "attachments": {},
   "cell_type": "markdown",
   "id": "32e2deea-44c9-46e7-8cef-39cb73fceb59",
   "metadata": {},
   "source": [
    "````{prf:example}\n",
    ":label: rv-expl-5\n",
    "\n",
    "Consideriamo le variabili casuali $X$ e $Y$ definite nel caso del lancio di tre monete equilibrate, dove $X$ conta il numero delle teste nei tre lanci e $Y$ conta il numero delle teste al primo lancio. Si calcoli il valore atteso di $Z = X \\cdot Y$.\n",
    "````\n",
    "\n",
    "La distribuzione di probabilità congiunta $P(X, Y)$ è fornita nella tabella seguente.\n",
    "\n",
    "| $x /\\ y$ |  0  |  1  | $p(Y)$ |\n",
    "|:--------------------:|:---:|:---:|:------:|\n",
    "|          0           | 1/8 |  0  |  1/8   |\n",
    "|          1           | 2/8 | 1/8 |  3/8   |\n",
    "|          2           | 1/8 | 2/8 |  3/8   |\n",
    "|          3           |  0  | 1/8 |  1/8   |\n",
    "|        $p(y)$        | 4/8 | 4/8 |  1.0   |\n",
    "\n",
    "Il calcolo del valore atteso di $XY$ si riduce a\n",
    "\n",
    "$$\n",
    "\\mathbb{E}(Z) = 1 \\cdot \\frac{1}{8} + 2 \\cdot \\frac{2}{8} + 3 \\cdot \\frac{1}{8} = 1.0.\n",
    "$$\n",
    "\n",
    "Si noti che le variabili casuali $Y$ e $Y$ non sono indipendenti. Dunque non possiamo usare l'eq. {eq}`eq-expval-prod-ind-rv`. Infatti, il valore atteso di $X$ è\n",
    "\n",
    "$$\n",
    "\\mathbb{E}(X) = 1 \\cdot \\frac{3}{8} + 2 \\cdot \\frac{3}{8} + 3 \\cdot \\frac{1}{8} = 1.5\n",
    "$$\n",
    "\n",
    "e il valore atteso di $Y$ è\n",
    "\n",
    "$$\n",
    "\\mathbb{E}(Y) = 0 \\cdot \\frac{4}{8} + 1 \\cdot \\frac{4}{8} = 0.5.\n",
    "$$\n",
    "\n",
    "Perciò\n",
    "\n",
    "$$\n",
    "1.5 \\cdot 0.5 \\neq 1.0.\n",
    "$$\n",
    "\n",
    "Svolgiamo l'esercizio in Python."
   ]
  },
  {
   "cell_type": "code",
   "execution_count": 15,
   "id": "d09955b0-ebeb-40b9-9ae4-f1f8001692cd",
   "metadata": {},
   "outputs": [
    {
     "name": "stdout",
     "output_type": "stream",
     "text": [
      "P(Z = 0) : 4 / 8\n",
      "P(Z = 1) : 1 / 8\n",
      "P(Z = 2) : 2 / 8\n",
      "P(Z = 3) : 1 / 8\n"
     ]
    }
   ],
   "source": [
    "r = range(0, 2)\n",
    "sample = [(i, j, w) for i in r for j in r for w in r]\n",
    "\n",
    "for i in range(0, 4):\n",
    "    event = [toss for toss in sample if sum(toss) * toss[0] == i]\n",
    "    print(f\"P(Z = {i}) : {len(event)} / {len(sample)}\")"
   ]
  },
  {
   "cell_type": "code",
   "execution_count": 16,
   "id": "83108b70-2cc7-4a36-8cde-03fe02e9349f",
   "metadata": {},
   "outputs": [
    {
     "data": {
      "text/plain": [
       "1.0"
      ]
     },
     "execution_count": 16,
     "metadata": {},
     "output_type": "execute_result"
    }
   ],
   "source": [
    "z = np.array([0, 1, 2, 3])\n",
    "pz = np.array([4/8, 1/8, 2/8, 1/8])\n",
    "sum(z * pz)"
   ]
  },
  {
   "attachments": {},
   "cell_type": "markdown",
   "id": "d006dbbf-3395-4e12-983c-a48737d48852",
   "metadata": {},
   "source": [
    "### Variabili casuali continue\n",
    "\n",
    "Nel caso di una variabile casuale continua $Y$ il valore atteso diventa:\n",
    "\n",
    "$$\n",
    "\\mathbb{E}(Y) = \\int_{-\\infty}^{+\\infty} y p(y) \\,\\operatorname{d}\\!y.\n",
    "$$ (eq-def-ev-rv-cont)\n",
    "\n",
    "Anche in questo caso il valore atteso è una media ponderata della $y$, nella quale ciascun possibile valore $y$ è ponderato per il corrispondente valore della densità $p(y)$. Possiamo leggere l'integrale pensando che $y$ rappresenti l'ampiezza delle barre infinitamente strette di un istogramma, con la densità $p(y)$ che corrisponde all'altezza di tali barre e la notazione $\\int_{-\\infty}^{+\\infty}$ che corrisponde ad una somma.[^018_expval_var-1]\n",
    "\n",
    "[^018_expval_var-1]: Per il significato della notazione di integrale, si veda l'appendice {ref}`calculus-appendix`.\n",
    "\n",
    "#### Moda\n",
    "\n",
    "Un'altra misura di tendenza centrale delle variabili casuali continue è la moda. La moda di $Y$ individua il valore $y$ più plausibile, ovvero il valore $y$ che massimizza la funzione di densità $p(y)$:\n",
    "\n",
    "$$\n",
    "Mo(Y) = \\text{argmax}_y p(y).\n",
    "$$ (eq-def-mode)\n",
    "\n",
    "```{note}\n",
    "La notazione $\\text{argmax}_y p(y)$ significa: il valore $y$ tale per cui la funzione $p(y)$ assume il suo valore massimo.\n",
    "```"
   ]
  },
  {
   "attachments": {},
   "cell_type": "markdown",
   "id": "9d7119ea-1918-44e8-889a-2e07b7dcd367",
   "metadata": {},
   "source": [
    "## Varianza\n",
    "\n",
    "La seconda più importante proprietà di una variabile casuale, dopo che conosciamo il suo valore atteso, è la *varianza*.\n",
    "\n",
    "```{admonition} Definizione\n",
    "Se $Y$ è una variabile casuale discreta con distribuzione $p(y)$, per definizione la varianza di $Y$, $\\mathbb{V}(Y)$, è\n",
    "\n",
    "$$\n",
    "\\mathbb{V}(Y) = \\mathbb{E}\\Big[\\big(Y - \\mathbb{E}(Y)\\big)^2\\Big].\n",
    "$$ (eq-def-var-rv)\n",
    "```\n",
    "\n",
    "A parole: la varianza è la deviazione media quadratica della variabile dalla sua media.[^018_expval_var-2] Se denotiamo $\\mathbb{E}(Y) = \\mu$, la varianza $\\mathbb{V}(Y)$ diventa il valore atteso di $(Y - \\mu)^2$.\n",
    "\n",
    "[^018_expval_var-2]: Data una variabile casuale $Y$ con valore atteso $\\mathbb{E}(Y)$, le \"distanze\" tra i valori di $Y$ e il valore atteso $\\mathbb{E}(Y)$ definiscono la variabile casuale $Y - \\mathbb{E}(Y)$ chiamata *scarto*, oppure *deviazione* oppure *variabile casuale centrata*. La variabile $Y - \\mathbb{E}(Y)$ equivale ad una traslazione di sistema di riferimento che porta il valore atteso nell'origine degli assi. Si può dimostrare facilmente che il valore atteso della variabile scarto $Y - \\mathbb{E}(Y)$ vale zero, dunque la media di tale variabile non può essere usata per quantificare la \"dispersione\" dei valori di $Y$ relativamente al suo valore medio. Occorre rendere sempre positivi i valori di $Y - \\mathbb{E}(Y)$ e tale risultato viene ottenuto considerando la variabile casuale $\\left(Y - \\mathbb{E}(Y)\\right)^2$.\n"
   ]
  },
  {
   "attachments": {},
   "cell_type": "markdown",
   "id": "ff012817-7d09-4b8b-9a20-902b86abeb9f",
   "metadata": {},
   "source": [
    "````{prf:example}\n",
    ":label: rv-expl-6\n",
    "\n",
    "Posta $S$ uguale alla somma dei punti ottenuti nel lancio di due dadi equilibrati, si calcoli la varianza di $S$.\n",
    "````\n",
    "\n",
    "La variabile casuale $S$ ha la seguente distribuzione di probabilità:\n",
    "\n",
    "|    $s$     |       2        |       3        |       4        |       5        |       6        |       7        |       8        |       9        |       10       |       11       |       12       |\n",
    "|:----------:|:--------------:|:--------------:|:--------------:|:--------------:|:--------------:|:--------------:|:--------------:|:--------------:|:--------------:|:--------------:|:--------------:|\n",
    "| $P(S = s)$ | $\\frac{1}{36}$ | $\\frac{2}{36}$ | $\\frac{3}{36}$ | $\\frac{4}{36}$ | $\\frac{5}{36}$ | $\\frac{6}{36}$ | $\\frac{5}{36}$ | $\\frac{4}{36}$ | $\\frac{3}{36}$ | $\\frac{2}{36}$ | $\\frac{1}{36}$ |\n",
    "\n",
    "Essendo $\\mathbb{E}(S) = 7$, la varianza diventa\n",
    "\n",
    "$$\n",
    "\\begin{align}\n",
    "\\mathbb{V}(S) &= \\sum \\left(s - \\mathbb{E}(S)\\right)^2 \\cdot P(s) \\notag\\\\\n",
    "&= (2 - 7)^2 \\cdot \\frac{1}{36} + (3-7)^2 \\cdot \\frac{3}{36} + \\dots + (12 - 7)^2 \\cdot \\frac{1}{36} \\notag\\\\\n",
    "&= 5.8333.\\notag\n",
    "\\end{align}\n",
    "$$\n",
    "\n",
    "Svolgiamo l'esercizio in Python."
   ]
  },
  {
   "cell_type": "code",
   "execution_count": 17,
   "id": "59ce11c9-0eca-403a-9b37-b53ffba76c2c",
   "metadata": {},
   "outputs": [
    {
     "data": {
      "text/plain": [
       "6.999999999999998"
      ]
     },
     "execution_count": 17,
     "metadata": {},
     "output_type": "execute_result"
    }
   ],
   "source": [
    "x = np.arange(2, 13)\n",
    "px = np.array(\n",
    "    [\n",
    "        1 / 36,\n",
    "        2 / 36,\n",
    "        3 / 36,\n",
    "        4 / 36,\n",
    "        5 / 36,\n",
    "        6 / 36,\n",
    "        5 / 36,\n",
    "        4 / 36,\n",
    "        3 / 36,\n",
    "        2 / 36,\n",
    "        1 / 36,\n",
    "    ]\n",
    ")\n",
    "X = stats.rv_discrete(values=(x, px))\n",
    "ex = X.expect()\n",
    "ex"
   ]
  },
  {
   "attachments": {},
   "cell_type": "markdown",
   "id": "1bdc2fe3-a088-487c-9632-0ab01f2ebc19",
   "metadata": {},
   "source": [
    "Applichiamo l'eq. {eq}`eq-def-var-rv`:"
   ]
  },
  {
   "cell_type": "code",
   "execution_count": 5,
   "id": "5721fb4b-9f37-4a64-8fcb-1aa466c493db",
   "metadata": {},
   "outputs": [
    {
     "data": {
      "text/plain": [
       "5.833333333333333"
      ]
     },
     "execution_count": 5,
     "metadata": {},
     "output_type": "execute_result"
    }
   ],
   "source": [
    "((x - ex) ** 2 * px).sum()"
   ]
  },
  {
   "attachments": {},
   "cell_type": "markdown",
   "id": "fde81655-42e7-43a4-a169-9379801e0c35",
   "metadata": {},
   "source": [
    "Usiamo la funzione `var()` di `rv_discrete`:"
   ]
  },
  {
   "cell_type": "code",
   "execution_count": 6,
   "id": "1b523332-b0ff-434f-aedb-146b90b2e84e",
   "metadata": {},
   "outputs": [
    {
     "data": {
      "text/plain": [
       "5.833333333333364"
      ]
     },
     "execution_count": 6,
     "metadata": {},
     "output_type": "execute_result"
    }
   ],
   "source": [
    "X.var()"
   ]
  },
  {
   "attachments": {},
   "cell_type": "markdown",
   "id": "76b84f9e-fe40-4287-bafc-93842057e933",
   "metadata": {},
   "source": [
    "### Formula alternativa per la varianza\n",
    "\n",
    "C'è un modo più semplice per calcolare la varianza:\n",
    "\n",
    "$$\n",
    "\\begin{align}\n",
    "\\mathbb{E}\\Big[\\big(Y - \\mathbb{E}(Y)\\big)^2\\Big] &= \\mathbb{E}\\big(Y^2 - 2Y\\mathbb{E}(Y) + \\mathbb{E}(Y)^2\\big)\\notag\\\\\n",
    "&= \\mathbb{E}(Y^2) - 2\\mathbb{E}(Y)\\mathbb{E}(Y) + \\mathbb{E}(Y)^2,\n",
    "\\end{align}\n",
    "$$\n",
    "\n",
    "dato che $\\mathbb{E}(Y)$ è una costante. Pertanto\n",
    "\n",
    "$$\n",
    "\\mathbb{V}(Y) = \\mathbb{E}(Y^2) - \\big(\\mathbb{E}(Y) \\big)^2.\n",
    "$$ (eq-def-alt-var-rv)\n",
    "\n",
    "A parole: la varianza è la media dei quadrati meno il quadrato della media della variabile.\n"
   ]
  },
  {
   "attachments": {},
   "cell_type": "markdown",
   "id": "d1c9edcb-6cb2-4f61-a2df-cef49fb8b47a",
   "metadata": {},
   "source": [
    "````{prf:example}\n",
    ":label: rv-expl-7\n",
    "\n",
    "Consideriamo la variabile casuale $Y$ che corrisponde al numero di teste che si osservano nel lancio di una moneta truccata con probabilità di testa uguale a 0.8. Si trovi la varianza di $Y$.\n",
    "````\n",
    "\n",
    "Il valore atteso di $Y$ è\n",
    "\n",
    "$$\n",
    "\\mathbb{E}(Y) = 0 \\cdot 0.2 + 1 \\cdot 0.8 = 0.8.\n",
    "$$\n",
    "\n",
    "Usando la formula tradizionale della varianza otteniamo:\n",
    "\n",
    "$$\n",
    "\\mathbb{V}(Y) = (0 - 0.8)^2 \\cdot 0.2 + (1 - 0.8)^2 \\cdot 0.8 = 0.16.\n",
    "$$\n",
    "\n",
    "Lo stesso risultato si trova con la formula alternativa della varianza. Il valore atteso di $Y^2$ è\n",
    "\n",
    "$$\n",
    "\\mathbb{E}(Y^2) = 0^2 \\cdot 0.2 + 1^2 \\cdot 0.8 = 0.8.\n",
    "$$\n",
    "\n",
    "e la varianza diventa\n",
    "\n",
    "$$\n",
    "\\mathbb{V}(Y) = \\mathbb{E}(Y^2) - \\big(\\mathbb{E}(Y) \\big)^2 = 0.8 - 0.8^2 = 0.16.\n",
    "$$\n",
    "\n",
    "Svolgiamo l'esercizio in Python:"
   ]
  },
  {
   "cell_type": "code",
   "execution_count": 21,
   "id": "cea35fa4-7f22-47d8-9fbd-4ac1f9ad0528",
   "metadata": {},
   "outputs": [
    {
     "data": {
      "text/plain": [
       "0.15999999999999992"
      ]
     },
     "execution_count": 21,
     "metadata": {},
     "output_type": "execute_result"
    }
   ],
   "source": [
    "y = np.array([0, 1])\n",
    "py = np.array([0.2, 0.8])\n",
    "\n",
    "sum(y**2 * py) - (sum(y * py)) ** 2"
   ]
  },
  {
   "attachments": {},
   "cell_type": "markdown",
   "id": "f25ddbc1-0ab7-457c-8b83-1ceb70ac1875",
   "metadata": {},
   "source": [
    "### Proprietà\n",
    "\n",
    "**Segno della varianza.** La varianza di una variabile aleatoria non è mai negativa, ed è zero solamente quando la variabile assume  un solo valore.\n",
    "\n",
    "**Invarianza per traslazione.** La varianza è invariante per traslazione, che lascia fisse le distanze dalla media, e cambia quadraticamente per riscalamento:\n",
    "  \n",
    "$$\n",
    "\\mathbb{V}(a + bX) = b^2\\mathbb{V}(X).\n",
    "$$\n",
    "\n",
    "*Dimostrazione.* Iniziamo a scrivere\n",
    "\n",
    "$$\n",
    "(aX+b)-{\\mathbb{E}}[aX+b]=aX+b-a{\\mathbb{E}}[X]-b=a(X-{\\mathbb  {E}}[X]).\n",
    "$$\n",
    "\n",
    "Quindi\n",
    "\n",
    "$$\n",
    "\\sigma _{{aX+b}}^{2}={\\mathbb{E}}[a^{2}(X-{\\mathbb  {E}}[X])^{2}]=a^{2}\\sigma _{X}^{2}.\n",
    "$$\n"
   ]
  },
  {
   "attachments": {},
   "cell_type": "markdown",
   "id": "383b900c-e750-4a42-ae25-0ab936efbce9",
   "metadata": {},
   "source": [
    "Esaminiamo una dimostrazione numerica."
   ]
  },
  {
   "cell_type": "code",
   "execution_count": 22,
   "id": "952f5f2e-15f3-420a-9385-2b1a194cfb93",
   "metadata": {},
   "outputs": [
    {
     "data": {
      "text/plain": [
       "True"
      ]
     },
     "execution_count": 22,
     "metadata": {},
     "output_type": "execute_result"
    }
   ],
   "source": [
    "x = np.array([2, 1, 4, 7])\n",
    "y = 100 + 2 * x\n",
    "\n",
    "np.var(y) == 2**2 * np.var(x)"
   ]
  },
  {
   "attachments": {},
   "cell_type": "markdown",
   "id": "784ac8b4-b800-4c06-8fb3-cd3611d20014",
   "metadata": {},
   "source": [
    "**Varianza della somma di due variabili indipendenti.** La varianza della somma di due variabili indipendenti o anche solo incorrelate è pari alla somma delle loro varianze:\n",
    "\n",
    "$$\n",
    "\\mathbb{V}(X+Y) = \\mathbb{V}(X) + \\mathbb{V}(Y).\n",
    "$$\n",
    "\n",
    "*Dimostrazione.* Se $\\mathbb{E}(X) = \\mathbb{E}(Y) = 0$, allora $\\mathbb{E}(X+Y) = 0$ e \n",
    "\n",
    "$$\\mathbb{V}(X+Y) = \\mathbb{E}((X+Y)^2) = \\mathbb{E}(X^2) + 2 \\mathbb{E}(XY) + \\mathbb{E}(Y^2).$$ \n",
    "\n",
    "Siccome le variabili sono indipendenti risulta $\\mathbb{E}(XY) = \\mathbb{E}(X)\\mathbb{E}(Y) = 0$. "
   ]
  },
  {
   "attachments": {},
   "cell_type": "markdown",
   "id": "f6e45424-463d-4d49-bc59-3e86471f680e",
   "metadata": {},
   "source": [
    "**Varianza della differenza di due variabili indipendenti.** La varianza della differenza di due variabili indipendenti è pari alla somma delle loro varianze:\n",
    "\n",
    "$$\n",
    "\\mathbb{V}(X-Y) = \\mathbb{V}(X) + \\mathbb{V}(Y).\n",
    "$$\n",
    "\n",
    "*Dimostrazione.*\n",
    "\n",
    "$$\n",
    "\\mathbb{V}(X-Y) = \\mathbb{V}(X +(-Y)) = \\mathbb{V}(X) + \\mathbb{V}(-Y) = \\mathbb{V}(X) + \\mathbb{V}(Y).\n",
    "$$"
   ]
  },
  {
   "attachments": {},
   "cell_type": "markdown",
   "id": "96ac87d2-735c-434a-9cd4-2f95c0ea1e76",
   "metadata": {},
   "source": [
    "**Varianza della somma di due variabili non indipendenti.** Se $X$ e $Y$ non sono indipendenti, la formula viene corretta dalla loro covarianza:\n",
    "\n",
    "$$\n",
    "\\mathbb{V}(X+Y) = \\mathbb{V}(X) + \\mathbb{V}(Y) + 2 Cov(X,Y),\n",
    "$$\n",
    "\n",
    "dove $Cov(X,Y) = \\mathbb{E}(XY) - \\mathbb{E}(X)\\mathbb{E}(Y)$.\n",
    "\n",
    "Una dimostrazione numerica di questo principio è fornita sotto."
   ]
  },
  {
   "cell_type": "code",
   "execution_count": 23,
   "id": "f96ed007-d0d5-45ba-8997-c726f3946551",
   "metadata": {},
   "outputs": [
    {
     "data": {
      "text/plain": [
       "35.25"
      ]
     },
     "execution_count": 23,
     "metadata": {},
     "output_type": "execute_result"
    }
   ],
   "source": [
    "x = np.array([2, 1, 4, 7])\n",
    "y = np.array([1, 3, 5, 11])\n",
    "\n",
    "np.var(x + y, ddof=0)"
   ]
  },
  {
   "cell_type": "code",
   "execution_count": 24,
   "id": "4dd94309-6591-45ff-849f-849707a10b1d",
   "metadata": {},
   "outputs": [
    {
     "data": {
      "text/plain": [
       "35.25"
      ]
     },
     "execution_count": 24,
     "metadata": {},
     "output_type": "execute_result"
    }
   ],
   "source": [
    "np.var(x, ddof=0) + np.var(y, ddof=0) + 2 * np.cov(x, y, ddof=0)[0, 1]"
   ]
  },
  {
   "attachments": {},
   "cell_type": "markdown",
   "id": "9d4744b8-611a-4b17-96c6-5603aa5b424c",
   "metadata": {},
   "source": [
    "**Varianza della media di variabili indipendenti.** La media aritmetica \n",
    "$\\textstyle {\\bar  {X}}={\\frac  {X_{1}+\\ldots +X_{n}}{n}}$ di $n$ variabili casuali indipendenti aventi la medesima distribuzione, ha varianza \n",
    "\n",
    "$$\n",
    "\\mathbb{V}(\\bar{X}) = \\frac{1}{n^2} \\mathbb{V}(X_1)+ \\dots \\mathbb{V}(X_n) = \\frac{1}{n^2} n \\mathbb{V}(X) = \\frac{1}{n} \\mathbb{V}(X).\n",
    "$$"
   ]
  },
  {
   "attachments": {},
   "cell_type": "markdown",
   "id": "c4999ade-cd40-47be-b8a0-0c5af18c224a",
   "metadata": {},
   "source": [
    "Il principio precedente è illustrato dalla seguente simulazione."
   ]
  },
  {
   "cell_type": "code",
   "execution_count": 27,
   "id": "fcfcb107-5de7-43e4-a757-4b531565590a",
   "metadata": {},
   "outputs": [
    {
     "data": {
      "text/plain": [
       "3.4103710835201433"
      ]
     },
     "execution_count": 27,
     "metadata": {},
     "output_type": "execute_result"
    }
   ],
   "source": [
    "# Set up the population distribution\n",
    "population = np.random.normal(loc=50, scale=10, size=10000)\n",
    "\n",
    "# Set up the sample size and number of samples\n",
    "sample_size = 30\n",
    "num_samples = 100000\n",
    "\n",
    "# Create an array to hold the sample means\n",
    "sample_means = np.zeros(num_samples)\n",
    "\n",
    "# Generate the samples and compute their means\n",
    "for i in range(num_samples):\n",
    "    sample = np.random.choice(population, size=sample_size)\n",
    "    sample_means[i] = np.mean(sample)\n",
    "\n",
    "# Calculate the variance of the sample means\n",
    "sampling_dist_mean_var = np.var(sample_means)\n",
    "sampling_dist_mean_var"
   ]
  },
  {
   "attachments": {},
   "cell_type": "markdown",
   "id": "6d58f60b-9b1c-4b45-83ab-34574fe7e4c3",
   "metadata": {},
   "source": [
    "Il valore teorico della varianza della distribuzione campionaria della media è"
   ]
  },
  {
   "cell_type": "code",
   "execution_count": 28,
   "id": "2c66745e-752e-4274-b70b-1005cfc6b962",
   "metadata": {},
   "outputs": [
    {
     "data": {
      "text/plain": [
       "3.3333333333333335"
      ]
     },
     "execution_count": 28,
     "metadata": {},
     "output_type": "execute_result"
    }
   ],
   "source": [
    "10**2 / 30"
   ]
  },
  {
   "attachments": {},
   "cell_type": "markdown",
   "id": "af22b509-e559-42fd-9b26-41a8a2321194",
   "metadata": {},
   "source": [
    "### Variabili casuali continue\n",
    "\n",
    "Nel caso di una variabile casuale continua $Y$, la varianza diventa:\n",
    "\n",
    "$$\n",
    "\\mathbb{V}(Y) = \\int_{-\\infty}^{+\\infty} \\large[y - \\mathbb{E}(Y)\\large]^2 p(y) \\,\\operatorname {d}\\!y.\n",
    "$$ (eq-def-var-rv-cont)\n",
    "\n",
    "Come nel caso discreto, la varianza di una v.c. continua $Y$ misura approssimativamente la distanza al quadrato tipica o prevista dei possibili valori $y$ dalla loro media.\n",
    "\n",
    "## Deviazione standard\n",
    "\n",
    "Quando lavoriamo con le varianze, i termini sono innalzati al quadrato e quindi i numeri possono diventare molto grandi (o molto piccoli). Per trasformare nuovamente i valori nell'unità di misura della scala originaria si prende la radice quadrata. Il valore risultante viene chiamato *deviazione standard* e solitamente è denotato dalla lettera greca $\\sigma$.\n",
    "\n",
    "```{admonition} Definizione\n",
    "Si definisce scarto quadratico medio (o deviazione standard o scarto tipo) la radice quadrata della varianza:\n",
    "\n",
    "$$\n",
    "\\sigma_Y = \\sqrt{\\mathbb{V}(Y)}.\n",
    "$$ (eq-def-sd)\n",
    "```\n",
    "\n",
    "Come nella statistica descrittiva, la deviazione standard di una variabile casuale misura approssimativamente la distanza tipica o prevista dei possibili valori $y$ dalla loro media.\n",
    "\n",
    "Per i dadi equilibrati dell'esemio precedebte, la deviazione standard della variabile casuale $S$ è uguale a $\\sqrt{5.833} = 2.415$."
   ]
  },
  {
   "attachments": {},
   "cell_type": "markdown",
   "id": "7e8f524c-7dfc-4a3a-b180-d2472c2834c0",
   "metadata": {},
   "source": [
    "## Standardizzazione\n",
    "\n",
    "```{admonition} Definizione\n",
    "Data una variabile casuale $Y$, si dice *variabile standardizzata* di $Y$ l'espressione\n",
    "\n",
    "$$\n",
    "Z = \\frac{Y - \\mathbb{E}(Y)}{\\sigma_Y}.\n",
    "$$ (eq-standardization)\n",
    "```\n",
    "\n",
    "Solitamente, una variabile standardizzata viene denotata con la lettera $Z$."
   ]
  },
  {
   "attachments": {},
   "cell_type": "markdown",
   "id": "e4e1146b-7d54-4f87-9d34-47cf0da7dbaf",
   "metadata": {},
   "source": [
    "## Momenti di variabili casuali\n",
    "\n",
    "```{admonition} Definizione\n",
    "Si chiama *momento* di ordine $q$ di una v.c. $X$, dotata di densità $p(x)$, la quantità\n",
    "\n",
    "$$\n",
    "\\mathbb{E}(X^q) = \\int_{-\\infty}^{+\\infty} x^q p(x) \\; dx.\n",
    "$$ (eq-moments-cont)\n",
    "\n",
    "Se $X$ è una v.c. discreta, i suoi momenti valgono:\n",
    "\n",
    "$$\n",
    "\\mathbb{E}(X^q) = \\sum_i x_i^q P(x_i).\n",
    "$$ (eq-moments-discr)\n",
    "```\n",
    "\n",
    "I momenti sono importanti parametri indicatori di certe proprietà di $X$. I più noti sono senza dubbio quelli per $q = 1$ e $q = 2$. Il momento del primo ordine corrisponde al valore atteso di $X$. Spesso i momenti di ordine superiore al primo vengono calcolati rispetto al valor medio di $X$, operando una traslazione $x_0 = x − \\mathbb{E}(X)$ che individua lo scarto dalla media. Ne deriva che il momento centrale di ordine 2 corrisponde alla varianza.\n",
    "\n",
    "## Alcuni esempi in Python\n",
    "\n",
    "Utilizzando il modulo `stats` di `scipy`, è possibile semplificare i calcoli del valore atteso e della varianza di variabili casuali discrete.\n",
    "\n",
    "Consideriamo ad esempio una variabile casuale $X$ che rappresenta i valori ottenuti dal lancio di un dado non equilibrato, con valori possibili da 0 a 6, e con la seguente distribuzione di massa di probabilità: 0.1, 0.2, 0.3, 0.1, 0.1, 0.0, 0.2.\n",
    "\n",
    "Iniziamo a definire un vettore che contiene i valori della v.c.:"
   ]
  },
  {
   "cell_type": "code",
   "execution_count": 17,
   "id": "8ac273d8-cb18-4873-9f3d-f8378081789e",
   "metadata": {},
   "outputs": [
    {
     "name": "stdout",
     "output_type": "stream",
     "text": [
      "[0 1 2 3 4 5 6]\n"
     ]
    }
   ],
   "source": [
    "x = np.arange(7)\n",
    "print(x)"
   ]
  },
  {
   "attachments": {},
   "cell_type": "markdown",
   "id": "9a408306-878e-4dfc-aea0-a1bbe07ea27b",
   "metadata": {},
   "source": [
    "Il vettore `px` conterrà le probabilità associate ai valori `x`:"
   ]
  },
  {
   "cell_type": "code",
   "execution_count": 19,
   "id": "61b68e42-449e-491f-b84a-a1ef6cd7d76c",
   "metadata": {},
   "outputs": [
    {
     "name": "stdout",
     "output_type": "stream",
     "text": [
      "[0.1, 0.2, 0.3, 0.1, 0.1, 0.0, 0.2]\n"
     ]
    }
   ],
   "source": [
    "px = [0.1, 0.2, 0.3, 0.1, 0.1, 0.0, 0.2]\n",
    "print(px)"
   ]
  },
  {
   "attachments": {},
   "cell_type": "markdown",
   "id": "387a0f97-27ee-4964-942c-3e9ba87c063d",
   "metadata": {},
   "source": [
    "Controlliamo che la somma sia 1:"
   ]
  },
  {
   "cell_type": "code",
   "execution_count": 20,
   "id": "6fb5af7a-98f7-4657-8248-7989742ef6f6",
   "metadata": {},
   "outputs": [
    {
     "data": {
      "text/plain": [
       "1.0"
      ]
     },
     "execution_count": 20,
     "metadata": {},
     "output_type": "execute_result"
    }
   ],
   "source": [
    "np.sum(px)"
   ]
  },
  {
   "attachments": {},
   "cell_type": "markdown",
   "id": "c5b540b8-b5a5-4a4d-af43-feb8340e2930",
   "metadata": {},
   "source": [
    "Usiamo ora la funzione `rv_discrete()` che è una funzione della libreria `stats` di Python. Tale funzione viene utilizzata per creare una distribuzione discreta personalizzata. La funzione richiede che vengano forniti dei valori discreti (ossia interi) e le rispettive probabilità di occorrenza.\n",
    "\n",
    "Una volta definita la distribuzione discreta, `rv_discrete()` permette di eseguire operazioni come la generazione di numeri casuali dalla distribuzione, il calcolo della funzione di probabilità cumulativa (CDF) e della funzione di densità di probabilità (PDF), e la valutazione della media, della varianza e di altre statistiche della distribuzione.\n",
    "\n",
    "La sintassi di base della funzione rv_discrete() è la seguente:\n",
    "\n",
    "```\n",
    "rv = stats.rv_discrete(name='rv', values=(xk, pk))\n",
    "```\n",
    "\n",
    "dove `name` è il nome della distribuzione discreta, `xk` sono i valori discreti e `pk` sono le rispettive probabilità di occorrenza. Ad esempio, creiamo la variabile casuale `X`:"
   ]
  },
  {
   "cell_type": "code",
   "execution_count": 21,
   "id": "851ee0b5-72c8-4d4b-a2d7-457a6f4611cf",
   "metadata": {},
   "outputs": [],
   "source": [
    "X = stats.rv_discrete(name='rv', values=(x, px))"
   ]
  },
  {
   "cell_type": "code",
   "execution_count": 22,
   "id": "316a4af3-b417-4ae4-8c0c-d9b1378cf5a3",
   "metadata": {},
   "outputs": [
    {
     "name": "stdout",
     "output_type": "stream",
     "text": [
      "[0.1 0.2 0.3 0.1 0.1 0.  0.2]\n"
     ]
    }
   ],
   "source": [
    "# Distribuzione di massa di probabilità di X.\n",
    "print(X.pmf(x))"
   ]
  },
  {
   "cell_type": "code",
   "execution_count": 23,
   "id": "09c687d6-c03c-40f4-80e6-95d382a676ea",
   "metadata": {},
   "outputs": [
    {
     "name": "stdout",
     "output_type": "stream",
     "text": [
      "[0.1 0.3 0.6 0.7 0.8 0.8 1. ]\n"
     ]
    }
   ],
   "source": [
    "# Distribuzione comulativa di probabilità di X.\n",
    "print(X.cdf(x))"
   ]
  },
  {
   "attachments": {},
   "cell_type": "markdown",
   "id": "71f8f2e3-59aa-40e5-93f6-fc6e43820d71",
   "metadata": {},
   "source": [
    "Generiamo un grafico che rappresenta la distribuzione di massa con Matplotlib."
   ]
  },
  {
   "cell_type": "code",
   "execution_count": 24,
   "id": "db99026f-7fcd-489c-a270-501f6d3dc25c",
   "metadata": {},
   "outputs": [
    {
     "data": {
      "image/png": "[encoded data removed]",
      "text/plain": [
       "<Figure size 720x480 with 1 Axes>"
      ]
     },
     "metadata": {
      "image/png": {
       "height": 491,
       "width": 731
      }
     },
     "output_type": "display_data"
    }
   ],
   "source": [
    "fig, ax = plt.subplots(1, 1)\n",
    "ax.plot(x, X.pmf(x), \"o\", ms=6)\n",
    "ax.vlines(x, 0, X.pmf(x), lw=2)\n",
    "plt.show()\n"
   ]
  },
  {
   "attachments": {},
   "cell_type": "markdown",
   "id": "59d0bd7b-0c31-43ea-805b-446c5ccb8594",
   "metadata": {},
   "source": [
    "Calcoliamo il valore atteso di $X$ implementando la formula del valore atteso, ovvero utilizzando i vettori `x` e `px`."
   ]
  },
  {
   "cell_type": "code",
   "execution_count": 25,
   "id": "fb5d13ed-8342-436c-9dc1-cde0e763c0a6",
   "metadata": {},
   "outputs": [
    {
     "data": {
      "text/plain": [
       "2.7"
      ]
     },
     "execution_count": 25,
     "metadata": {},
     "output_type": "execute_result"
    }
   ],
   "source": [
    "x_ev = (x * px).sum()\n",
    "x_ev"
   ]
  },
  {
   "attachments": {},
   "cell_type": "markdown",
   "id": "1daefb8e-863e-45c2-8975-c29c14870337",
   "metadata": {},
   "source": [
    "Lo stesso risultato si ottience applicando il metodo `.expect()` all'oggetto `X`."
   ]
  },
  {
   "cell_type": "code",
   "execution_count": 26,
   "id": "8920f3e6-7e94-4dba-bc60-56286ed82dea",
   "metadata": {},
   "outputs": [
    {
     "data": {
      "text/plain": [
       "2.7"
      ]
     },
     "execution_count": 26,
     "metadata": {},
     "output_type": "execute_result"
    }
   ],
   "source": [
    "x_ev = X.expect()\n",
    "x_ev"
   ]
  },
  {
   "attachments": {},
   "cell_type": "markdown",
   "id": "5c5431c2-f0d2-47b8-8a91-885f0d9c929a",
   "metadata": {},
   "source": [
    "Calcoliamo la varianza di $X$ usando i vettori `x` e `px`."
   ]
  },
  {
   "cell_type": "code",
   "execution_count": 27,
   "id": "86998f09-4f4b-456c-ad20-889d66b4859f",
   "metadata": {},
   "outputs": [
    {
     "data": {
      "text/plain": [
       "3.8100000000000005"
      ]
     },
     "execution_count": 27,
     "metadata": {},
     "output_type": "execute_result"
    }
   ],
   "source": [
    "x_var = ((x - x_ev)**2 * X.pmf(x)).sum()\n",
    "x_var"
   ]
  },
  {
   "attachments": {},
   "cell_type": "markdown",
   "id": "c04f9450-96a9-4c81-818c-6b9f51f4957e",
   "metadata": {},
   "source": [
    "Otteniamo lo stesso risultato applicando il metodo `.var()` all'oggetto `X`."
   ]
  },
  {
   "cell_type": "code",
   "execution_count": 28,
   "id": "3579c89a-af9c-45e3-9081-2b6116f40dd5",
   "metadata": {},
   "outputs": [
    {
     "data": {
      "text/plain": [
       "3.8099999999999987"
      ]
     },
     "execution_count": 28,
     "metadata": {},
     "output_type": "execute_result"
    }
   ],
   "source": [
    "X.var()"
   ]
  },
  {
   "attachments": {},
   "cell_type": "markdown",
   "id": "1b290061-82d6-4bac-9625-258c12f60b9e",
   "metadata": {},
   "source": [
    "Calcoliamo la deviazione standard di $X$ prendento la radice quadrata della varianza."
   ]
  },
  {
   "cell_type": "code",
   "execution_count": 30,
   "id": "f26009d1-a514-43f5-a779-36a18ebcf81e",
   "metadata": {},
   "outputs": [
    {
     "data": {
      "text/plain": [
       "1.9519221295943137"
      ]
     },
     "execution_count": 30,
     "metadata": {},
     "output_type": "execute_result"
    }
   ],
   "source": [
    "np.sqrt(x_var)"
   ]
  },
  {
   "attachments": {},
   "cell_type": "markdown",
   "id": "bb54f794-c8be-4ff5-849c-56b2733c48f6",
   "metadata": {},
   "source": [
    "Oppure, in maniera equivalente, applicando il metodo `.std()` all'oggetto `X`."
   ]
  },
  {
   "cell_type": "code",
   "execution_count": 31,
   "id": "282e5590-6767-4279-a482-5285d9c2557c",
   "metadata": {},
   "outputs": [
    {
     "data": {
      "text/plain": [
       "1.9519221295943132"
      ]
     },
     "execution_count": 31,
     "metadata": {},
     "output_type": "execute_result"
    }
   ],
   "source": [
    "X.std()"
   ]
  },
  {
   "attachments": {},
   "cell_type": "markdown",
   "id": "29e6d49e-195a-46b1-b3c5-e42c48db3671",
   "metadata": {},
   "source": [
    "## Commenti e considerazioni finali \n",
    "\n",
    "L'inferenza bayesiana mira a descrivere la distribuzione a posteriori di variabili casuali che rappresentano i parametri di un modello statistico. Nel capitolo precedente, abbiamo esaminato le caratteristiche principali delle variabili casuali, concentrandoci sul caso discreto. In questo capitolo, abbiamo approfondito le proprietà di una singola variabile casuale. Nel prossimo capitolo, invece, esploreremo il problema di descrivere il verificarsi congiunto di due o più variabili casuali."
   ]
  },
  {
   "cell_type": "markdown",
   "id": "2277453a-e386-4aeb-80a2-53012604544f",
   "metadata": {},
   "source": [
    "## Informazioni sull'Ambiente di Sviluppo"
   ]
  },
  {
   "cell_type": "code",
   "execution_count": 16,
   "id": "21a0d211-0c0c-40ef-ba5d-d30314f331ec",
   "metadata": {},
   "outputs": [
    {
     "name": "stdout",
     "output_type": "stream",
     "text": [
      "Last updated: Sat Mar 16 2024\n",
      "\n",
      "Python implementation: CPython\n",
      "Python version       : 3.11.8\n",
      "IPython version      : 8.22.2\n",
      "\n",
      "Compiler    : Clang 16.0.6 \n",
      "OS          : Darwin\n",
      "Release     : 23.4.0\n",
      "Machine     : arm64\n",
      "Processor   : arm\n",
      "CPU cores   : 8\n",
      "Architecture: 64bit\n",
      "\n",
      "scipy     : 1.12.0\n",
      "arviz     : 0.17.0\n",
      "matplotlib: 3.8.3\n",
      "numpy     : 1.26.4\n",
      "seaborn   : 0.13.2\n",
      "\n",
      "Watermark: 2.4.3\n",
      "\n"
     ]
    }
   ],
   "source": [
    "%load_ext watermark\n",
    "%watermark -n -u -v -iv -w -m"
   ]
  }
 ],
 "metadata": {
  "kernelspec": {
   "display_name": "Python 3",
   "language": "python",
   "name": "python3"
  },
  "language_info": {
   "codemirror_mode": {
    "name": "ipython",
    "version": 3
   },
   "file_extension": ".py",
   "mimetype": "text/x-python",
   "name": "python",
   "nbconvert_exporter": "python",
   "pygments_lexer": "ipython3",
   "version": "3.1.undefined"
  },
  "vscode": {
   "interpreter": {
    "hash": "2fb22ef73048ab480306a3a8971dd9d9ae74918bef9be9e93ea3e01644b9825e"
   }
  }
 },
 "nbformat": 4,
 "nbformat_minor": 2
}
