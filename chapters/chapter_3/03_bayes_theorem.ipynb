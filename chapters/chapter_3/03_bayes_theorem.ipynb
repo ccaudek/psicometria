{
 "cells": [
  {
   "attachments": {},
   "cell_type": "markdown",
   "id": "ee38e2e6-32a6-45d3-bbb7-df6cc22a6b88",
   "metadata": {},
   "source": [
    "# Il teorema di Bayes {#sec-bayes_theorem}\n",
    "\n",
    "> It is, without exaggeration, perhaps the most important single equation in history.\n",
    ">\n",
    "> Tom Chivers (2024)"
   ]
  },
  {
   "cell_type": "markdown",
   "metadata": {},
   "source": [
    "**Prerequisiti**\n",
    "\n",
    "Leggi *Everything is Predictable: How Bayesian Statistics Explain Our World* [@chivers2024everything]. Questo libro offre una descrizione chiara e accessibile dell'impatto che il teorema di Bayes ha avuto sulla vita moderna.\n",
    "\n",
    "**Concetti e competenze chiave**\n",
    "\n",
    "- Capire in profondità il teorema di Bayes e la sua importanza.\n",
    "- Utilizzare il teorema di Bayes per analizzare e interpretare i test diagnostici, tenendo in considerazione la prevalenza della malattia in questione.\n",
    "- Affrontare e risolvere problemi di probabilità discreta che necessitano dell'applicazione del teorema di Bayes.\n",
    "\n",
    "**Preparazione del Notebook**"
   ]
  },
  {
   "cell_type": "code",
   "execution_count": 1,
   "id": "55181c8b-b24b-4eed-82e8-1fdb0a15ffa3",
   "metadata": {},
   "outputs": [],
   "source": [
    "import numpy as np\n",
    "import pandas as pd\n",
    "import matplotlib as mpl\n",
    "import matplotlib.pyplot as plt\n",
    "import arviz as az\n",
    "import seaborn as sns"
   ]
  },
  {
   "cell_type": "code",
   "execution_count": 2,
   "id": "56a119a2-25a6-4856-9520-2fef953fb881",
   "metadata": {},
   "outputs": [],
   "source": [
    "seed: int = sum(map(ord, \"bayes_theorem\"))\n",
    "rng: np.random.Generator = np.random.default_rng(seed=seed)\n",
    "sns.set_theme(palette=\"colorblind\")\n",
    "az.style.use(\"arviz-darkgrid\")\n",
    "%config InlineBackend.figure_format = \"retina\""
   ]
  },
  {
   "cell_type": "markdown",
   "metadata": {},
   "source": [
    "## Introduzione {.unnumbered}\n",
    "\n",
    "@chivers2024everything pone una domanda retorica: è possibile prevedere il futuro? La risposta è sì, in un certo senso.\n",
    "\n",
    "Alcuni eventi possono essere previsti con notevole accuratezza, come il nostro prossimo respiro, il battito cardiaco o il sorgere del sole il giorno seguente. Possiamo anche fare previsioni meno certe, come l'arrivo di un treno o l'arrivo di un amico a un appuntamento.\n",
    "\n",
    "Tuttavia, tutte queste previsioni rimangono incerte. Anche se l'universo fosse deterministico, la nostra conoscenza non è perfetta: non conosciamo ogni singola particella che lo compone. Le nostre informazioni sono parziali e imperfette, ottenute attraverso i nostri sensi limitati. Basandoci su ciò che sappiamo, facciamo previsioni approssimative: ad esempio, sappiamo che gli esseri umani cercano cibo e compagnia, mentre le rocce tendono a rimanere immobili.\n",
    "\n",
    "La vita non è come una partita a scacchi, un gioco con informazioni perfette che può essere \"risolto\". È più simile al poker, dove le decisioni vengono prese utilizzando le informazioni limitate a disposizione.\n",
    "\n",
    "Questo capitolo, come il libro di @chivers2024everything, tratta dell'equazione che ci consente di fare proprio questo: il teorema di Bayes."
   ]
  },
  {
   "cell_type": "markdown",
   "metadata": {},
   "source": [
    "# Una Rivoluzione nel Pensiero Probabilistico\n",
    "\n",
    "Nel cuore del XVIII secolo, un ecclesiastico presbiteriano di nome Thomas Bayes gettò le basi per una delle più importanti rivoluzioni nel campo della statistica e del calcolo delle probabilità. Il suo contributo, noto oggi come teorema di Bayes, non solo ha trasformato il modo in cui comprendiamo e applichiamo la probabilità, ma continua a influenzare profondamente la scienza moderna e la tecnologia, inclusa l'intelligenza artificiale.\n",
    "\n",
    "Thomas Bayes nacque in una famiglia benestante e ricevette un'educazione di alto livello, studiando teologia a Edimburgo per prepararsi alla vita da ecclesiastico. Come nota il suo biografo Bellhouse, Bayes \"non sembrava un accademico moderno. Era più un dilettante, un virtuoso. Lo faceva per il proprio piacere piuttosto che avere un'agenda di ricerca.\"\n",
    "\n",
    "Bayes pubblicò due opere principali durante la sua vita:\n",
    "\n",
    "1. Una di teologia, \"Divine benevolence: Or, an attempt to prove that the principal end of the divine providence and government is the happiness of his creatures\", nel 1731.\n",
    "2. Una difesa del calcolo newtoniano, \"An Introduction to the Doctrine of Fluxions\", in risposta a una critica del filosofo George Berkeley.\n",
    "\n",
    "Tuttavia, fu il suo lavoro postumo, \"An Essay towards Solving a Problem in the Doctrine of Chances\", pubblicato nel 1763 nella rivista *Philosophical Transactions*, a cambiare per sempre il corso della teoria della probabilità.\n",
    "\n",
    "Bellhouse nota che l'interesse di Bayes per la matematica era tipico del suo tempo: \"Nel XVIII secolo, i ricchi si dedicavano alla scienza. È un po' come i ricchi di oggi che si dedicano agli sport.\" Ma forse Bellhouse si riferiva solo al suo tempo: oggi i ricchi sembrano interessarsi solo ai social media.\n",
    "\n",
    "Il contributo di Bayes non fu tanto matematico quanto filosofico. David Spiegelhalter, ex presidente della Royal Statistical Society, spiega che per Bayes \"la probabilità è un'espressione della nostra mancanza di conoscenza sul mondo.\" Questa visione introduce l'idea rivoluzionaria che la probabilità sia soggettiva, un'espressione della nostra ignoranza e delle nostre migliori supposizioni sulla verità, piuttosto che una proprietà oggettiva della realtà.\n",
    "\n",
    "Per illustrare questo concetto, Bayes utilizzò l'esempio di un tavolo nascosto alla vista su cui vengono lanciate delle palle. Una palla bianca viene lanciata in modo tale che la sua posizione finale sia completamente casuale. Quando la palla bianca si ferma, viene rimossa e si traccia una linea sul tavolo nel punto in cui si trovava. La posizione della linea non è nota. Successivamente, un certo numero di palle rosse viene lanciato sul tavolo. Viene comunicato solo quante palle si trovano a sinistra della linea e quante a destra. Il compito è stimare la posizione della linea. La soluzione proposta da Bayes utilizza non solo i dati osservati (il numero di palle rosse a sinistra e a destra della linea), ma anche le convinzioni iniziali (il \"prior\").\n",
    "\n",
    "Richard Price (1723-1791), un altro ecclesiastico nonconformista, ebbe un ruolo cruciale nella diffusione del lavoro di Thomas Bayes. Molto più noto del suo amico, Price era ben inserito nei circoli intellettuali dell'epoca. Era in contatto con diversi Padri Fondatori della Rivoluzione Americana, tra cui Thomas Jefferson e Benjamin Franklin, così come John Adams, il secondo presidente degli Stati Uniti. Supportava attivamente la rivoluzione americana, pubblicando un influente opuscolo *Observations on the Nature of Civil Liberty, the Principles of Government, and the Justice and Policy of the War with America* nel 1776. Era amico di filosofi come David Hume e Adam Smith.\n",
    "\n",
    "Price è importante in questa storia come colui che portò all'attenzione pubblica il lavoro di Bayes: mostrò il saggio al fisico John Canton nel 1761, dopo la morte di Bayes, e lo fece pubblicare nelle *Philosophical Transactions* della Royal Society due anni dopo. Parte del motivo per cui ci volle tanto tempo per pubblicarlo era che Price non si limitò a correggere refusi e virgole fuori posto. Price aveva una visione propria del lavoro: mentre Bayes scrisse la prima metà del saggio, la seconda metà, contenente tutte le possibili applicazioni pratiche del teorema, fu tutta opera di Price. Bayes non aveva interesse per le statistiche applicate: il suo lavoro, in questo e in tutti gli altri articoli, era \"tutta teoria senza alcun accenno di applicazione.\" Ma Price fu -- come dice lo storico della statistica Stephen Stigler -- \"il primo bayesiano.\"\n",
    "\n",
    "Sebbene il lavoro di Bayes sia rimasto nell'ombra per decenni, con Pierre-Simon Laplace che giunse indipendentemente a conclusioni simili nel 1774 e le espanse nella sua \"Théorie analytique des probabilités\" del 1812, l'importanza del teorema di Bayes è oggi indiscutibile. Esso fornisce un meccanismo matematico per aggiornare le probabilità di un'ipotesi in base a nuove evidenze, riflettendo un approccio dinamico e iterativo alla conoscenza.\n",
    "\n",
    "Nel panorama contemporaneo, il teorema di Bayes trova applicazioni in ogni campo della scienza e della tecnologia. È particolarmente rilevante nel campo dell'intelligenza artificiale, dove modelli linguistici avanzati come ChatGPT e Claude utilizzano principi bayesiani per fare previsioni e prendere decisioni.\n",
    "\n",
    "In conclusione, il teorema di Bayes, nato dalle riflessioni di un ministro presbiteriano del XVIII secolo, ha trasformato il nostro modo di comprendere la probabilità e di aggiornare le nostre conoscenze. La sua rilevanza universale nella comprensione e previsione dei fenomeni è tale che, come afferma Brian Clegg nel suo libro \"Everything is predictable: how bayesian statistics explain our world\", la statistica bayesiana è diventata uno strumento fondamentale per spiegare il nostro mondo.\n",
    "\n",
    "Nelle prossime sezioni, esploreremo in dettaglio gli aspetti matematici e statistici del teorema di Bayes."
   ]
  },
  {
   "cell_type": "markdown",
   "metadata": {},
   "source": [
    "## Teorema \n",
    "\n",
    "Consideriamo una situazione in cui lo spazio degli eventi possibili, $\\Omega$, è diviso in due eventi distinti e mutualmente esclusivi, denominati ipotesi $H_1$ e $H_2$. Supponiamo di avere già una certa comprensione di questi eventi, espressa attraverso le loro probabilità a priori $P(H_1)$ e $P(H_2)$. A questo punto, introduciamo un nuovo evento $E$, la cui occorrenza è accompagnata da una probabilità non nulla e per il quale conosciamo le probabilità condizionate $P(E \\mid H_1)$ e $P(E \\mid H_2)$, che indicano quanto sia probabile osservare $E$ assumendo che una delle due ipotesi sia vera. Se $E$ si verifica, siamo interessati a determinare le probabilità a posteriori $P(H_1 \\mid E)$ e $P(H_2 \\mid E)$ delle nostre ipotesi alla luce di questa nuova evidenza.\n",
    "\n",
    "La seguente illustrazione rappresenta come lo spazio totale degli eventi si suddivide tra le ipotesi $H_1$ e $H_2$, con l'evidenza $E$ posizionata all'interno di questo contesto.\n",
    "\n",
    "::: {#fig-bayes}\n",
    "![](../../figures/bayes_theorem.png){width=\"50%\"}\n",
    "\n",
    "Partizione dello spazio campionario per il teorema di Bayes.\n",
    ":::\n",
    "\n",
    "Per calcolare la probabilità a posteriori dell'ipotesi 1 data l'osservazione di $E$, utilizziamo la formula:\n",
    "\n",
    "$$\n",
    "P(H_1 \\mid E) = \\frac{P(E \\cap H_1)}{P(E)}.\n",
    "$$\n",
    "\n",
    "Questo calcolo può essere semplificato sfruttando la definizione di probabilità condizionata, che ci permette di sostituire $P(E \\cap H_1)$ con $P(E \\mid H_1)P(H_1)$. Applicando questa sostituzione, otteniamo:\n",
    "\n",
    "$$\n",
    "P(H_1 \\mid E) = \\frac{P(E \\mid H_1) P(H_1)}{P(E)}.\n",
    "$$\n",
    "\n",
    "Dato che $H_1$ e $H_2$ si escludono a vicenda, la probabilità totale di $E$ può essere espressa come la somma delle probabilità di $E$ occorrente in concomitanza con ciascuna ipotesi, utilizzando il teorema della probabilità totale:\n",
    "\n",
    "$$\n",
    "P(E) = P(E \\mid H_1)P(H_1) + P(E \\mid H_2)P(H_2).\n",
    "$$\n",
    "\n",
    "Incorporando questi valori nella formula di Bayes, giungiamo a:\n",
    "\n",
    "$$\n",
    "P(H_1 \\mid E) = \\frac{P(E \\mid H_1)P(H_1)}{P(E \\mid H_1)P(H_1) + P(E \\mid H_2)P(H_2)}.\n",
    "$$ {#eq-bayes1}\n",
    "\n",
    "Questa espressione costituisce l'essenza della formula di Bayes per il caso semplificato in cui le ipotesi si limitano a due eventi mutualmente esclusivi, $H_1$ e $H_2$.\n",
    "\n",
    "Nel quadro delle probabilità discrete, questa formula può essere generalizzata per accogliere un insieme più ampio di ipotesi che formano una partizione completa dello spazio degli eventi $\\Omega$, dove ogni $E$ rappresenta un evento con probabilità maggiore di zero. Per ogni ipotesi $H_i$ all'interno di un insieme numerabile, la formula di Bayes si estende come segue:\n",
    "\n",
    "$$\n",
    "P(H_i \\mid E) = \\frac{P(E \\mid H_i)P(H_i)}{\\sum_{j=1}^{\\infty}P(E \\mid H_j)P(H_j)}.\n",
    "$$ {#eq-bayes2}\n",
    "\n",
    "Qui, il denominatore agisce come un fattore di normalizzazione che integra i prodotti delle probabilità a priori e delle verosimiglianze associate a ogni ipotesi considerata.\n",
    "\n",
    "Per variabili continue, la formula di Bayes assume una forma integrale, adattandosi a situazioni in cui le ipotesi $H_i$ rappresentano valori in un continuum. In questo contesto, la formula diventa:\n",
    "\n",
    "$$\n",
    "P(H_i \\mid E) = \\frac{P(E \\mid H_i) \\cdot P(H_i)}{\\int P(E \\mid H) \\cdot P(H) \\, dH},\n",
    "$$ {#eq-bayes-cont}\n",
    "\n",
    "offrendo un framework potente per aggiornare le probabilità a posteriori di ipotesi continue basate su nuove evidenze, sottolineando l'importanza della formula di Bayes non solo come strumento matematico, ma anche come filosofia di apprendimento continuo e adattamento alle nuove informazioni.\n",
    "\n",
    "### Interpretazione della Formula di Bayes\n",
    "\n",
    "La formula di Bayes si articola in tre elementi fondamentali che ne facilitano la comprensione e l'applicazione in diversi campi di studio:\n",
    "\n",
    "- **Probabilità a Priori, $P(H)$**: Questa componente riflette la nostra valutazione preliminare riguardo la verosimiglianza dell'ipotesi $H$ prima di prendere in esame nuove evidenze $E$. Essa incarna il livello di credibilità o fiducia attribuita all'ipotesi, basandosi su conoscenze preesistenti o su deduzioni logiche. In sostanza, la probabilità a priori quantifica le nostre convinzioni pregresse o le aspettative iniziali su quanto sia probabile che l'ipotesi sia vera.\n",
    "- **Probabilità a Posteriori, $P(H \\mid E)$**: Questo valore aggiorna la nostra fiducia nell'ipotesi $H$ in seguito all'osservazione dell'evidenza $E$. In termini più intuitivi, rappresenta il livello di convinzione ricalibrato in $H$ dopo aver considerato l'evidenza. La formula di Bayes ci offre un meccanismo matematicamente rigoroso per modulare questa probabilità alla luce delle nuove informazioni ricevute.\n",
    "- **Verosimiglianza, $P(E \\mid H)$**: La verosimiglianza esprime la probabilità di rilevare l'evidenza $E$ dato che l'ipotesi $H$ sia vera. È un indice di quanto l'evidenza supporti o confermi l'ipotesi. Un valore elevato di verosimiglianza indica che l'evidenza è fortemente in linea o prevista dalla veridicità dell'ipotesi.\n",
    "\n",
    "Grazie alla formula di Bayes, possiamo adottare un processo di aggiornamento continuo delle nostre credenze in base a nuove informazioni, promuovendo un metodo dinamico per navigare tra conoscenza e incertezza. Questa metodologia ci fornisce un approccio strutturato per rivedere e adattare le nostre convinzioni riguardo l'ipotesi $H$ di fronte a nuovi dati o evidenze $E$. La capacità di rielaborare costantemente le nostre aspettative in funzione di informazioni aggiuntive si rivela essenziale in una vasta gamma di ambiti, inclusi l'intelligenza artificiale, la ricerca statistica, le discipline scientifiche e umanistiche. Tale prassi ci consente di prendere decisioni più informate, di interpretare con maggiore precisione i dati disponibili e di affinare significativamente le nostre previsioni e comprensioni del mondo circostante."
   ]
  },
  {
   "attachments": {},
   "cell_type": "markdown",
   "id": "7b50241c-9e21-498d-8155-5cc7c9821920",
   "metadata": {},
   "source": [
    "## Alcuni esempi\n",
    "\n",
    "::: {#exm-2}\n",
    "Il modo più comune per spiegare il teorema di Bayes è attraverso i test medici. Prendiamo come esempio la mammografia e la diagnosi del cancro al seno.\n",
    "\n",
    "Supponiamo di avere un test di mammografia con una sensibilità del 90% e una specificità del 90%. Questo significa che:\n",
    "\n",
    "- In presenza di cancro al seno, la probabilità che il test lo rilevi correttamente è del 90%.\n",
    "- In assenza di cancro al seno, la probabilità che il test confermi correttamente l'assenza della malattia è del 90%.\n",
    "\n",
    "In altri termini, il test ha un tasso di falsi negativi del 10% e un tasso di falsi positivi anch'esso del 10%.\n",
    "\n",
    "Definiamo due ipotesi:\n",
    "\n",
    "1. $M^+$: presenza della malattia\n",
    "2. $M^-$: assenza della malattia\n",
    "\n",
    "L'evidenza è rappresentata dal risultato positivo di un test di mammografia, che indichiamo con $T^+$.\n",
    "\n",
    "Applicando il teorema di Bayes, possiamo calcolare la probabilità di avere il cancro al seno dato un risultato positivo al test, come segue:\n",
    "\n",
    "$$\n",
    "P(M^+ \\mid T^+) = \\frac{P(T^+ \\mid M^+) \\cdot P(M^+)}{P(T^+ \\mid M^+) \\cdot P(M^+) + P(T^+ \\mid M^-) \\cdot P(M^-)},\n",
    "$$\n",
    "\n",
    "dove:\n",
    "\n",
    "- $P(M^+ \\mid T^+)$ è la probabilità di avere il cancro ($M^+$) dato un risultato positivo al test ($T^+$).\n",
    "- $P(T^+ \\mid M^+)$ rappresenta la sensibilità del test, ovvero la probabilità che il test risulti positivo in presenza effettiva del cancro. In questo caso, è pari a 0.90.\n",
    "- $P(M^+)$ è la probabilità a priori che una persona abbia il cancro, ovvero la prevalenza della malattia nella popolazione.\n",
    "- $P(T^+ \\mid M^-)$ indica la probabilità di un falso positivo, cioè la probabilità che il test risulti positivo in assenza di cancro. Con una specificità del 90%, questa probabilità si calcola come:\n",
    "\n",
    "  $$\n",
    "  P(T^+ \\mid M^-) = 1 - \\text{Specificità} = 1 - 0.90 = 0.10\n",
    "  $$\n",
    "\n",
    "  Questo significa che c'è una probabilità del 10% che il test diagnostichi erroneamente la presenza del cancro in una persona sana.\n",
    "\n",
    "- $P(M^-)$ è la probabilità a priori che una persona non sia affetta da cancro prima di effettuare il test.\n",
    "\n",
    "Questa formulazione del teorema di Bayes ci permette di calcolare la probabilità effettiva di avere il cancro al seno, dato un risultato positivo al test di mammografia, tenendo conto sia della sensibilità e specificità del test, sia della prevalenza della malattia nella popolazione.\n",
    "\n",
    "Inserendo nella formula i del problema, otteniamo:\n",
    "\n",
    "$$\n",
    "\\begin{align}\n",
    "P(M^+ \\mid T^+) &= \\frac{0.9 \\cdot 0.01}{0.9 \\cdot 0.01 + 0.1 \\cdot 0.99} \\notag\\\\\n",
    "&= \\frac{9}{108} \\notag\\\\\n",
    "&\\approx 0.083.\\notag\n",
    "\\end{align}\n",
    "$$\n",
    "\n",
    "Questo calcolo dimostra che, considerando una mammografia con risultato positivo ottenuto tramite un test con una sensibilità del 90% e una specificità del 90%, la probabilità che il paziente sia effettivamente affetto da cancro al seno è solo dell'8.3%.\n",
    ":::"
   ]
  },
  {
   "attachments": {},
   "cell_type": "markdown",
   "id": "568a483b-c95d-4b86-819c-7c4abfee8d32",
   "metadata": {},
   "source": [
    "### Il Valore Predittivo di un Test di Laboratorio\n",
    "\n",
    "Per semplicità, possiamo riscrivere il teorema di Bayes in due modi distinti per calcolare ciò che viene chiamato valore predittivo del test positivo e valore predittivo del test negativo.\n",
    "\n",
    "La comprensione di tre elementi è fondamentale per questo calcolo: la prevalenza della malattia, la sensibilità e la specificità del test.\n",
    "\n",
    "- **Prevalenza:** Si riferisce alla percentuale di individui in una popolazione affetti da una certa malattia in un determinato momento. Viene espressa come percentuale o frazione della popolazione. Per esempio, una prevalenza dello 0,5% indica che su mille persone, cinque sono affette dalla malattia.\n",
    "\n",
    "- **Sensibilità:** Indica la capacità del test di identificare correttamente la malattia negli individui malati. Viene calcolata come la frazione di veri positivi (individui malati correttamente identificati) sul totale degli individui malati. La formula della sensibilità ($Sens$) è la seguente:\n",
    "\n",
    "    $$ \\text{Sensibilità} = \\frac{TP}{TP + FN}, $$\n",
    "\n",
    "    dove $TP$ rappresenta i veri positivi e $FN$ i falsi negativi. Pertanto, la sensibilità misura la probabilità che il test risulti positivo se la malattia è effettivamente presente.\n",
    "\n",
    "- **Specificità:** Misura la capacità del test di riconoscere gli individui sani, producendo un risultato negativo per chi non è affetto dalla malattia. Si calcola come la frazione di veri negativi (individui sani correttamente identificati) sul totale degli individui sani. La specificità ($Spec$) si definisce come:\n",
    "\n",
    "    $$ \\text{Specificità} = \\frac{TN}{TN + FP}, $$\n",
    "\n",
    "    dove $TN$ sono i veri negativi e $FP$ i falsi positivi. Così, la specificità rappresenta la probabilità che il test risulti negativo in assenza della malattia.\n",
    "\n",
    "Questa tabella riassume la terminologia:\n",
    "\n",
    "|       | $T^+$                                              | $T^-$                                              | Totale              |\n",
    "| :---: | :------------------------------------------------: | :------------------------------------------------: | :------------------:|\n",
    "| $M^+$ | $P(T^+ \\cap M^+)$ <br> (Sensibilità)               | $P(T^- \\cap M^+)$ <br> (1 - Sensibilità)           | $P(M^+)$            |\n",
    "| $M^-$ | $P(T^+ \\cap M^-)$ <br> (1 - Specificità)           | $P(T^- \\cap M^-)$ <br> (Specificità)               | $P(M^-)$            |\n",
    "| Totale| $P(T^+)$                                           | $P(T^-)$                                           | 1                   |\n",
    "\n",
    "dove $T^+$ e $T^-$ indicano rispettivamente un risultato positivo o negativo del test, mentre $M^+$ e $M^-$ la presenza o assenza effettiva della malattia. In questa tabella, i totali marginali rappresentano:\n",
    "\n",
    "- **Totale per $M^+$ e $M^-$** (ultima colonna): La probabilità totale di avere la malattia ($P(M^+)$) e la probabilità totale di non avere la malattia ($P(M^-)$), rispettivamente. Questi valori sono calcolati sommando le probabilità all'interno di ciascuna riga.\n",
    "- **Totale per $T^+$ e $T^-$** (ultima riga): La probabilità totale di un risultato positivo al test ($P(T^+)$) e la probabilità totale di un risultato negativo al test ($P(T^-)$), rispettivamente. Questi valori sono calcolati sommando le probabilità all'interno di ciascuna colonna.\n",
    "- **Totale generale** (angolo in basso a destra): La somma di tutte le probabilità, che per definizione è 1, rappresentando l'intera popolazione o il set di casi considerati.\n",
    "\n",
    "Mediante il teorema di Bayes, possiamo usare queste informazioni per stimare la probabilità post-test di avere o non avere la malattia basandoci sul risultato del test.\n",
    "\n",
    "Il **valore predittivo positivo** (VPP) del test, cioè la probabilità post-test che un individuo sia malato dato un risultato positivo del test, è calcolato come:\n",
    "\n",
    "$$\n",
    "P(M^+ \\mid T^+) = \\frac{P(T^+ \\mid M^+) \\cdot P(M^+)}{P(T^+ \\mid M^+) \\cdot P(M^+) + P(T^+ \\mid M^-) \\cdot P(M^-)}.\n",
    "$$\n",
    "\n",
    "ovvero,\n",
    "\n",
    "$$ VPP = \\frac{(\\text{Sensibilità} \\times \\text{Prevalenza})}{(\\text{Sensibilità} \\times \\text{Prevalenza}) + (1 - \\text{Specificità}) \\times (1 - \\text{Prevalenza})} $$\n",
    "\n",
    "Analogamente, il **valore predittivo negativo** (VPN), che è la probabilità che un individuo non sia malato dato un risultato negativo del test, si calcola come:\n",
    "\n",
    "$$\n",
    "P(M^- \\mid T^-) = \\frac{P(T^- \\mid M^-) \\cdot (1 - P(M^+))}{P(T^- \\mid M^-) \\cdot (1 - P(M^+)) + P(T^- \\mid M^+) \\cdot P(M^+)}.\n",
    "$$\n",
    "\n",
    "ovvero,\n",
    "\n",
    "$$ NPV = \\frac{\\text{Specificità} \\cdot (1 - \\text{Prevalenza})}{\\text{Specificità} \\cdot (1 - \\text{Prevalenza}) + (1 - \\text{Sensibilità}) \\cdot \\text{Prevalenza}}. $$"
   ]
  },
  {
   "attachments": {},
   "cell_type": "markdown",
   "id": "be99bcb3-1bf0-4003-9337-d819f55e1b18",
   "metadata": {},
   "source": [
    "::: {#exm-3}\n",
    "\n",
    "Implementiamo le formule del valore predittivo positivo e del valore predittivo negativo del test in Python e usiamo gli stessi dati dell'esercizio precedente."
   ]
  },
  {
   "cell_type": "code",
   "execution_count": null,
   "id": "c7c8dbed-04e0-46ca-85fc-924be5f24bde",
   "metadata": {},
   "outputs": [],
   "source": [
    "def positive_predictive_value_of_diagnostic_test(sens, spec, prev):\n",
    "    return (sens * prev) / (sens * prev + (1 - spec) * (1 - prev))"
   ]
  },
  {
   "cell_type": "code",
   "execution_count": 6,
   "id": "0a14c214-3564-4d65-9833-d4b4db55581f",
   "metadata": {},
   "outputs": [],
   "source": [
    "def negative_predictive_value_of_diagnostic_test(sens, spec, prev):\n",
    "    return (spec * (1 - prev)) / (spec * (1 - prev) + (1 - sens) * prev)"
   ]
  },
  {
   "cell_type": "markdown",
   "id": "18cbbf62-6711-4b95-b103-c65a6b8bd4e1",
   "metadata": {},
   "source": [
    "Inseriamo i dati del problema."
   ]
  },
  {
   "cell_type": "code",
   "execution_count": 7,
   "id": "633a535b-6c92-48ab-a55a-255eb47e6b13",
   "metadata": {},
   "outputs": [],
   "source": [
    "sens = 0.9  # sensibilità\n",
    "spec = 0.9  # specificità\n",
    "prev = 0.01  # prevalenza"
   ]
  },
  {
   "cell_type": "markdown",
   "id": "c89a39e8-d555-4b1d-9be4-09f08f0a8434",
   "metadata": {},
   "source": [
    "Il valore predittivo del test positivo è:"
   ]
  },
  {
   "cell_type": "code",
   "execution_count": 8,
   "id": "69571aa8-46ef-4258-8908-3cd7644a39da",
   "metadata": {},
   "outputs": [
    {
     "name": "stdout",
     "output_type": "stream",
     "text": [
      "P(M+ | T+) = 0.083\n"
     ]
    }
   ],
   "source": [
    "res_pos = positive_predictive_value_of_diagnostic_test(sens, spec, prev)\n",
    "print(f\"P(M+ | T+) = {round(res_pos, 3)}\")"
   ]
  },
  {
   "cell_type": "markdown",
   "id": "d0bc9a90-987d-4dd1-92c3-b1a305d4c1fe",
   "metadata": {},
   "source": [
    "Il valore predittivo del test negativo è:"
   ]
  },
  {
   "cell_type": "code",
   "execution_count": 9,
   "id": "1f3f7241-4859-4043-9ad5-13972f9ac345",
   "metadata": {},
   "outputs": [
    {
     "name": "stdout",
     "output_type": "stream",
     "text": [
      "P(M- | T-) = 0.999\n"
     ]
    }
   ],
   "source": [
    "res_neg = negative_predictive_value_of_diagnostic_test(sens, spec, prev)\n",
    "print(f\"P(M- | T-) = {round(res_neg, 3)}\")"
   ]
  },
  {
   "cell_type": "markdown",
   "metadata": {},
   "source": [
    ":::"
   ]
  },
  {
   "attachments": {},
   "cell_type": "markdown",
   "id": "c5321bac-8880-4b93-9778-8977c1286b1f",
   "metadata": {},
   "source": [
    "::: {#exm-4}\n",
    "\n",
    "Consideriamo ora un altro esempio relativo ai test medici e analizziamo i risultati del test antigenico rapido per il virus SARS-CoV-2 alla luce del teorema di Bayes. Questo test può essere eseguito mediante tampone nasale, tampone naso-orofaringeo o campione di saliva. L'Istituto Superiore di Sanità, nel documento pubblicato il 5 novembre 2020, sottolinea che, fino a quel momento, i dati disponibili sui vari test erano quelli forniti dai produttori: la sensibilità varia tra il 70% e l'86%, mentre la specificità si attesta tra il 95% e il 97%.\n",
    "\n",
    "Prendiamo un esempio specifico: nella settimana tra il 17 e il 23 marzo 2023, in Italia, il numero di individui positivi al virus è stato stimato essere di 138.599 (fonte: Il Sole 24 Ore). Questo dato corrisponde a una prevalenza di circa lo 0,2% su una popolazione totale di circa 59 milioni di persone."
   ]
  },
  {
   "cell_type": "code",
   "execution_count": 10,
   "id": "496b4410-4562-4d9a-8b3f-13e502cf4316",
   "metadata": {},
   "outputs": [
    {
     "data": {
      "text/plain": [
       "0.002349135593220339"
      ]
     },
     "execution_count": 10,
     "metadata": {},
     "output_type": "execute_result"
    }
   ],
   "source": [
    " prev = 138599 / 59000000\n",
    " prev"
   ]
  },
  {
   "attachments": {},
   "cell_type": "markdown",
   "id": "ac1c7f91-99a8-4adb-90cb-27d829874391",
   "metadata": {},
   "source": [
    "L'obiettivo è determinare la probabilità di essere effettivamente affetti da Covid-19, dato un risultato positivo al test antigenico rapido, ossia $P(M^+ \\mid T^+)$. Per raggiungere questo scopo, useremo la formula relativa al valore predittivo positivo del test."
   ]
  },
  {
   "cell_type": "code",
   "execution_count": 11,
   "id": "d02716f1-63ef-45c9-ae84-5a40a9d1a742",
   "metadata": {},
   "outputs": [
    {
     "name": "stdout",
     "output_type": "stream",
     "text": [
      "P(M+ | T+) = 0.044\n"
     ]
    }
   ],
   "source": [
    "sens = (0.7 + 0.86) / 2  # sensibilità\n",
    "spec = (0.95 + 0.97) / 2 # specificità\n",
    "\n",
    "res_pos = positive_predictive_value_of_diagnostic_test(sens, spec, prev)\n",
    "print(f\"P(M+ | T+) = {round(res_pos, 3)}\")"
   ]
  },
  {
   "attachments": {},
   "cell_type": "markdown",
   "id": "abc319ad-bc8f-41ed-ac15-150720d01447",
   "metadata": {},
   "source": [
    "Pertanto, se il risultato del tampone è positivo, la probabilità di essere effettivamente affetti da Covid-19 è solo del 4.4%.\n",
    "\n",
    "Se la prevalenza fosse 100 volte superiore (cioè, pari al 23.5%), la probabilità di avere il Covid-19, dato un risultato positivo del tampone, aumenterebbe notevolmente e sarebbe pari a circa l'86%."
   ]
  },
  {
   "cell_type": "code",
   "execution_count": 12,
   "id": "191caf07-8f89-4f20-a3a1-19b43f6e7fe0",
   "metadata": {},
   "outputs": [
    {
     "name": "stdout",
     "output_type": "stream",
     "text": [
      "P(M+ | T+) = 0.857\n"
     ]
    }
   ],
   "source": [
    "prev = 138599 / 59000000 * 100\n",
    "\n",
    "res_pos = positive_predictive_value_of_diagnostic_test(sens, spec, prev)\n",
    "print(f\"P(M+ | T+) = {round(res_pos, 3)}\")"
   ]
  },
  {
   "attachments": {},
   "cell_type": "markdown",
   "id": "5c4d8942-25a7-44d4-8724-e7590d22358c",
   "metadata": {},
   "source": [
    "Se il risultato del test fosse negativo, considerando la prevalenza stimata del Covid-19 nella settimana dal 17 al 23 marzo 2023, la probabilità di non essere infetto sarebbe del 99.9%."
   ]
  },
  {
   "cell_type": "code",
   "execution_count": 13,
   "id": "fe9b7fc8-aa79-4a1c-a50f-fb9edd0d81b7",
   "metadata": {},
   "outputs": [
    {
     "name": "stdout",
     "output_type": "stream",
     "text": [
      "P(M- | T-) = 0.999\n"
     ]
    }
   ],
   "source": [
    "sens = (0.7 + 0.86) / 2  # sensibilità\n",
    "spec = (0.95 + 0.97) / 2  # specificità\n",
    "prev = 138599 / 59000000  # prevalenza\n",
    "\n",
    "res_neg = negative_predictive_value_of_diagnostic_test(sens, spec, prev)\n",
    "print(f\"P(M- | T-) = {round(res_neg, 3)}\")"
   ]
  },
  {
   "cell_type": "markdown",
   "id": "3faa85f3-5c69-4f29-b38b-4d3519c300cd",
   "metadata": {},
   "source": [
    "Tuttavia, un'esito del genere non dovrebbe sorprenderci, considerando che la prevalenza della malattia è molto bassa; in altre parole, il risultato negativo conferma una situazione già presunta prima di sottoporsi al test. Il vero ostacolo, specialmente nel caso di malattie rare come il Covid-19 in quel periodo specifico, non risiede tanto nell'asserire l'assenza della malattia quanto piuttosto nel confermarne la presenza.\n",
    "\n",
    ":::"
   ]
  },
  {
   "cell_type": "markdown",
   "metadata": {},
   "source": [
    "::: {#exm-5}\n",
    "\n",
    "Consideriamo le persone in attesa di un figlio. Il teorema di Bayes gioca un ruolo cruciale nell'interpretazione dei test prenatali non invasivi (NIPT), un esame del sangue materno usato per rilevare anomalie cromosomiche fetali. Sebbene il NIPT sia spesso pubblicizzato con un'accuratezza del 99%, la sua affidabilità varia significativamente a seconda della condizione testata e della popolazione esaminata.\n",
    "\n",
    "Parametri chiave del NIPT:\n",
    "\n",
    "1. Sensibilità:\n",
    "\n",
    "   - Sindrome di Down: 99%\n",
    "   - Sindrome di Edwards: 97%\n",
    "   - Sindrome di Patau: 91%\n",
    "\n",
    "2. Specificità: circa 99.9% per tutte le condizioni citate\n",
    "\n",
    "3. Prevalenza nelle nascite:\n",
    "\n",
    "   - Sindrome di Down: 1 su 700 (0.14%)\n",
    "   - Sindrome di Edwards: 1 su 5,000 (0.02%)\n",
    "   - Sindrome di Patau: 1 su 10,000 (0.01%)\n",
    "\n",
    "Nonostante l'alta sensibilità e specificità, il VPP può essere sorprendentemente basso, soprattutto nella popolazione generale. Questo implica che molti risultati positivi potrebbero essere falsi positivi, in particolare per le condizioni più rare.\n",
    "\n",
    "Per calcolare il VPP, utilizziamo il teorema di Bayes:\n",
    "\n",
    "$$ VPP = \\frac{(\\text{Sensibilità} \\times \\text{Prevalenza})}{(\\text{Sensibilità} \\times \\text{Prevalenza}) + (1 - \\text{Specificità}) \\times (1 - \\text{Prevalenza})} $$\n",
    "\n",
    "Applicando questa formula alla popolazione generale:\n",
    "\n",
    "- Sindrome di Down:\n",
    "  $$ VPP = \\frac{(0.99 \\times 0.0014)}{(0.99 \\times 0.0014) + (1 - 0.999) \\times (1 - 0.0014)} \\approx 58\\% $$\n",
    "\n",
    "- Sindrome di Edwards:\n",
    "  $$ VPP = \\frac{(0.97 \\times 0.0002)}{(0.97 \\times 0.0002) + (1 - 0.999) \\times (1 - 0.0002)} \\approx 16.2\\% $$\n",
    "\n",
    "- Sindrome di Patau:\n",
    "  $$ VPP = \\frac{(0.91 \\times 0.0001)}{(0.91 \\times 0.0001) + (1 - 0.999) \\times (1 - 0.0001)} \\approx 8.3\\% $$\n",
    "\n",
    "Questi calcoli rivelano VPP molto bassi, specialmente per condizioni molto rare come la sindrome di Patau. Anche in questo caso, dunque, il teorema di Bayes ci mostra che la probabilità che un risultato positivo sia effettivamente corretto dipende non solo dall'accuratezza del test, ma anche dalla prevalenza della condizione nella popolazione testata. Per questo motivo, il NIPT risulta più affidabile nelle categorie ad alto rischio.\n",
    "\n",
    "In conclusione, mentre il NIPT è uno strumento prezioso per lo screening prenatale, è fondamentale interpretare i risultati con cautela, considerando il contesto specifico di ogni paziente e la prevalenza della condizione nella popolazione di riferimento.\n",
    "\n",
    ":::"
   ]
  },
  {
   "cell_type": "markdown",
   "metadata": {},
   "source": [
    "::: {#exm-6}\n",
    "\n",
    "Il teorema di Bayes non è rilevante solo in medicina. In ambito legale è presente un fenomeno noto come la Fallacia del Procuratore. La \"fallacia del procuratore\" è un errore logico che si verifica quando si confonde la probabilità di un evento dato un certo risultato con la probabilità di quel risultato dato l'evento. In ambito legale, si tratta spesso di confondere la probabilità di ottenere un risultato di un test (ad esempio, una corrispondenza del DNA) se una persona è innocente, con la probabilità che una persona sia innocente dato che il test ha mostrato una corrispondenza.\n",
    "\n",
    "Supponiamo di avere i seguenti parametri per un test del DNA:\n",
    "\n",
    "- *Sensibilità*: 99% (probabilità di identificare correttamente il colpevole).\n",
    "- *Specificità*: 99.99997% (probabilità di identificare correttamente un innocente).\n",
    "- *Prevalenza*: 1 su 65 milioni (probabilità a priori che una persona qualsiasi sia il colpevole, data una popolazione di 65 milioni).\n",
    "\n",
    "Immaginiamo che ci sia stato un crimine e che un campione di DNA sia stato trovato sulla scena del crimine. Il campione è confrontato con il DNA di una persona nel database.\n",
    "\n",
    "Svolgiamo i calcoli:\n",
    "\n",
    "1. **Probabilità a Priori (Prevalenza)**:\n",
    "\n",
    "   - La prevalenza $P(C)$ che una persona casuale sia il colpevole è $\\frac{1}{65.000.000}$.\n",
    "\n",
    "2. **Sensibilità e Specificità**:\n",
    "\n",
    "   - Sensibilità $P(T+|C) = 0.99$.\n",
    "   - Specificità $P(T-|I) = 0.9999997$.\n",
    "\n",
    "3. **Probabilità del Test Positivo**:\n",
    "\n",
    "   - Probabilità di ottenere un test positivo $P(T+)$ è la somma della probabilità di ottenere un positivo dai veri colpevoli e dai falsi positivi:\n",
    "\n",
    "$$ P(T+) = P(T+|C) \\cdot P(C) + P(T+|I) \\cdot P(I), $$\n",
    "\n",
    "   - dove $P(T+|I)$ è $1 - \\text{Specificità}$ e $P(I)$ è la probabilità di essere innocente ($1 - P(C)$).\n",
    "\n",
    "$$ P(T+) = 0.99 \\cdot \\frac{1}{65.000.000} + (1 - 0.9999997) \\cdot \\frac{64.999.999}{65.000.000} $$\n",
    "\n",
    "$$ P(T+) \\approx 0.99 \\cdot 1.5385 \\times 10^{-8} + 0.0000003 \\cdot 0.9999999 $$\n",
    "\n",
    "$$ P(T+) \\approx 1.5231 \\times 10^{-8} + 2.9999997 \\times 10^{-7} $$\n",
    "\n",
    "$$ P(T+) \\approx 3.1523 \\times 10^{-7} $$\n",
    "\n",
    "4. **Probabilità Condizionale che il Sospetto sia Colpevole Dato un Test Positivo**:\n",
    "   - Utilizzando il teorema di Bayes:\n",
    "\n",
    "$$ P(C|T+) = \\frac{P(T+|C) \\cdot P(C)}{P(T+)} $$\n",
    "\n",
    "$$ P(C|T+) = \\frac{0.99 \\cdot \\frac{1}{65.000.000}}{3.1523 \\times 10^{-7}} $$\n",
    "\n",
    "$$ P(C|T+) = \\frac{0.99 \\times 1.5385 \\times 10^{-8}}{3.1523 \\times 10^{-7}} $$\n",
    "\n",
    "$$ P(C|T+) \\approx 0.0483 $$\n",
    "\n",
    "Quindi, la probabilità che il sospetto sia effettivamente il colpevole, dato che il test del DNA è positivo, è circa 4.83%, nonostante l'alta specificità del test.\n",
    "\n",
    "In sintesi, quando si afferma che c'è solo una probabilità su 3 milioni che il sospetto sia innocente (ovvero la specificità), si commette la fallacia del procuratore. In realtà, la probabilità che il sospetto sia colpevole, data una corrispondenza del DNA, è molto inferiore, come dimostrato nell'esempio numerico (circa 4.83%). \n",
    "\n",
    "Questa fallacia può portare a errori giudiziari perché non si considera la bassa prevalenza del colpevole nella popolazione generale e si confonde la specificità del test con la probabilità condizionale di colpevolezza. In altre parole, non si riconosce che le due domande 'Quanto è probabile che il DNA di una persona corrisponda al campione, se è innocente?' e 'Quanto è probabile che qualcuno sia innocente, dato che il suo DNA corrisponde al campione?' non sono equivalenti. È come confondere 'Quanto è probabile che un determinato essere umano sia il papa?' con 'Quanto è probabile che il papa sia un essere umano?'.\n",
    ":::"
   ]
  },
  {
   "cell_type": "markdown",
   "metadata": {},
   "source": [
    "## Probabilità Inversa\n",
    "\n",
    "Gli esempi precedenti mettono in luce che possiamo distinguere due domande diverse. La prima domanda è: \"Qual è la probabilità dell'evidenza, data l'ipotesi?\" La seconda domanda è: \"Qual è la probabilità che l'ipotesi sia vera, data l'evidenza?\"\n",
    "\n",
    "Un esempio per rispondere alla prima domanda è il seguente: Supponiamo che la probabilità di ottenere testa nel lancio di una moneta sia 0.5 (questa è l'ipotesi). Qual è la probabilità di ottenere 0 volte testa in cinque lanci?\n",
    "\n",
    "Un esempio per rispondere alla seconda domanda è il seguente: Supponiamo di avere ottenuto 0 volte testa in 5 lanci di una moneta (questa è l'evidenza). Ci chiediamo: qual è la probabilità che la moneta sia bilanciata, alla luce delle nostre osservazioni?\n",
    "\n",
    "Per molto tempo, la storia della probabilità si è concentrata sulla prima domanda. Ma dopo che il reverendo Thomas Bayes ha iniziato a porsi la seconda domanda nel XVIII secolo, questa è diventata nota come *probabilità inversa*.\n",
    "\n",
    "Questo modo di pensare ha suscitato molte controversie nel corso della storia della statistica, forse perché influisce su tutto. In particolare, ci si può chiedere la seguente domanda: quanto è probabile che un'ipotesi scientifica sia vera, dato il risultato di uno studio? Per stimare questa probabilità, e un numero crescente di scienziati sostiene che è esattamente ciò che dovrebbero fare le statistiche, abbiamo bisogno di Bayes e delle probabilità a priori."
   ]
  },
  {
   "attachments": {},
   "cell_type": "markdown",
   "id": "bb79fc85-d23b-4676-bdc7-06735791e57a",
   "metadata": {},
   "source": [
    "## Commenti e Considerazioni Finali\n",
    "\n",
    "In questo capitolo abbiamo esaminato una serie di esempi in campo medico e forense, dimostrando come il teorema di Bayes permetta di combinare le informazioni fornite dalle osservazioni con le nostre conoscenze precedenti (prior), per produrre una conoscenza a posteriori. Il teorema di Bayes offre un meccanismo razionale—noto come \"aggiornamento bayesiano\"—per ricalibrare le nostre convinzioni iniziali in risposta a nuove informazioni o evidenze.\n",
    "\n",
    "Soprattutto, il teorema di Bayes ci fa comprendere che nella ricerca scientifica, così come nella vita quotidiana, non siamo tanto interessati a conoscere la probabilità che qualcosa accada assumendo vera un'ipotesi. Siamo invece interessati alla domanda opposta: qual è la probabilità che un'ipotesi sia vera, dato che abbiamo osservato una certa evidenza?\n",
    "\n",
    "Nel contesto di questo capitolo, abbiamo focalizzato la nostra discussione sul teorema di Bayes utilizzando probabilità puntuali. Tuttavia, vedremo successivamente che il teorema di Bayes esprime pienamente il suo potenziale esplicativo quando l'evidenza e le conoscenze a priori sono rappresentate in termini di grado di certezza, cioè attraverso distribuzioni di probabilità continue."
   ]
  },
  {
   "cell_type": "markdown",
   "id": "517aeb7a-f0de-43c6-9eb8-a158c642ba14",
   "metadata": {},
   "source": [
    "## Informazioni sull'Ambiente di Sviluppo"
   ]
  },
  {
   "cell_type": "code",
   "execution_count": 14,
   "id": "ca5cf3a4-13bb-44fc-ae47-bc0a5cbb8da3",
   "metadata": {},
   "outputs": [
    {
     "name": "stdout",
     "output_type": "stream",
     "text": [
      "Last updated: Sat Mar 16 2024\n",
      "\n",
      "Python implementation: CPython\n",
      "Python version       : 3.11.8\n",
      "IPython version      : 8.22.2\n",
      "\n",
      "Compiler    : Clang 16.0.6 \n",
      "OS          : Darwin\n",
      "Release     : 23.4.0\n",
      "Machine     : arm64\n",
      "Processor   : arm\n",
      "CPU cores   : 8\n",
      "Architecture: 64bit\n",
      "\n",
      "seaborn   : 0.13.2\n",
      "pandas    : 2.2.1\n",
      "matplotlib: 3.8.3\n",
      "numpy     : 1.26.4\n",
      "arviz     : 0.17.0\n",
      "\n",
      "Watermark: 2.4.3\n",
      "\n"
     ]
    }
   ],
   "source": [
    "%load_ext watermark\n",
    "%watermark -n -u -v -iv -w -m"
   ]
  }
 ],
 "metadata": {
  "kernelspec": {
   "display_name": "pymc",
   "language": "python",
   "name": "python3"
  },
  "language_info": {
   "codemirror_mode": {
    "name": "ipython",
    "version": 3
   },
   "file_extension": ".py",
   "mimetype": "text/x-python",
   "name": "python",
   "nbconvert_exporter": "python",
   "pygments_lexer": "ipython3",
   "version": "3.12.4"
  },
  "vscode": {
   "interpreter": {
    "hash": "cbb367cc0128e23b7454d788d5a4229ca1f9848fd2e857f4797fbd26ab3b0776"
   }
  }
 },
 "nbformat": 4,
 "nbformat_minor": 2
}
