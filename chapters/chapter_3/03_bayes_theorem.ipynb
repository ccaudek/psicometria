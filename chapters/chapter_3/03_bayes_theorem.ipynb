{
 "cells": [
  {
   "attachments": {},
   "cell_type": "markdown",
   "id": "ee38e2e6-32a6-45d3-bbb7-df6cc22a6b88",
   "metadata": {},
   "source": [
    "# Il teorema di Bayes {#sec-bayes_theorem}"
   ]
  },
  {
   "cell_type": "markdown",
   "metadata": {},
   "source": [
    "**Prerequisiti**\n",
    "\n",
    "**Concetti e competenze chiave**\n",
    "\n",
    "- Capire in profondità il teorema di Bayes e la sua importanza.\n",
    "- Utilizzare il teorema di Bayes per analizzare e interpretare i test diagnostici, tenendo in considerazione la prevalenza della malattia in questione.\n",
    "- Affrontare e risolvere problemi di probabilità discreta che necessitano dell'applicazione del teorema di Bayes.\n",
    "\n",
    "**Preparazione del Notebook**"
   ]
  },
  {
   "cell_type": "code",
   "execution_count": 1,
   "id": "55181c8b-b24b-4eed-82e8-1fdb0a15ffa3",
   "metadata": {},
   "outputs": [],
   "source": [
    "import numpy as np\n",
    "import pandas as pd\n",
    "import matplotlib as mpl\n",
    "import matplotlib.pyplot as plt\n",
    "import arviz as az\n",
    "import seaborn as sns"
   ]
  },
  {
   "cell_type": "code",
   "execution_count": 2,
   "id": "56a119a2-25a6-4856-9520-2fef953fb881",
   "metadata": {},
   "outputs": [],
   "source": [
    "# set seed to make the results fully reproducible\n",
    "seed: int = sum(map(ord, \"bayes_theorem\"))\n",
    "rng: np.random.Generator = np.random.default_rng(seed=seed)\n",
    "\n",
    "az.style.use(\"arviz-darkgrid\")\n",
    "%config InlineBackend.figure_format = \"retina\""
   ]
  },
  {
   "cell_type": "markdown",
   "metadata": {},
   "source": [
    "## Introduzione\n",
    "\n",
    "In questo capitolo esploreremo il teorema di Bayes, un fondamentale risultato della teoria delle probabilità che ci permette di calcolare le probabilità a posteriori di eventi ipotetici, dati i loro valori a priori e nuove informazioni. In altre parole, ci consente di aggiornare razionalmente le nostre conoscenze alla luce di nuove evidenze. "
   ]
  },
  {
   "cell_type": "markdown",
   "id": "4c18e80a-b9cc-413f-b212-3c47917a1424",
   "metadata": {},
   "source": [
    "## Storia\n",
    "\n",
    "Il teorema di Bayes, così denominato in onore del Reverendo Thomas Bayes, un matematico e filosofo del XVIII secolo, rappresenta uno dei concetti fondamentali nel campo della statistica e del calcolo delle probabilità. Sebbene Bayes non abbia pubblicato il suo lavoro durante la sua vita, ritenendolo non abbastanza significativo, fu il suo amico Richard Price a riconoscere il valore delle sue scoperte. Price non solo editò il manoscritto inedito di Bayes ma lo arricchì significativamente prima di sottometterlo per la pubblicazione nelle \"Philosophical Transactions\" nel 1763. Questa pubblicazione non solo introdusse il teorema di Bayes al mondo scientifico ma fornì anche una base filosofica per quello che sarebbe poi diventato noto come l'approccio bayesiano alla statistica.\n",
    "\n",
    "Parallelamente e indipendentemente dai lavori di Bayes, Pierre-Simon Laplace, un eminente matematico e astronomo francese, formulò concetti simili. Nel 1774, e più dettagliatamente nella sua opera \"Théorie analytique des probabilités\" del 1812, Laplace esplorò l'uso della probabilità condizionale per aggiornare le conoscenze precedenti (probabilità a priori) sulla base di nuove evidenze (probabilità a posteriori). Sebbene Laplace abbia sviluppato questi principi senza conoscere il lavoro di Bayes, i suoi contributi hanno notevolmente esteso l'applicazione e l'interpretazione delle statistiche bayesiane.\n",
    "\n",
    "Il teorema di Bayes, nella sua essenza, fornisce un meccanismo matematico per aggiornare le probabilità iniziali di un'ipotesi in base all'osservazione di nuove evidenze. Questo processo di revisione continua della probabilità si basa sulla combinazione di conoscenze preesistenti (il prior) con informazioni appena acquisite (la likelihood), per produrre una nuova comprensione (il posterior). Tale meccanismo riflette un approccio olistico alla conoscenza, che considera la comprensione come un processo dinamico e iterativo.\n",
    "\n",
    "Nel contesto contemporaneo, l'importanza e l'applicabilità del teorema di Bayes vanno ben oltre la teoria della probabilità e la statistica, influenzando vari campi come l'intelligenza artificiale, l'apprendimento automatico, la psicologia, la medicina e persino la presa di decisioni nella vita quotidiana. La capacità di aggiornare costantemente le nostre convinzioni in base a nuove informazioni è fondamentale in un'era caratterizzata da un flusso incessante di dati. In modo emblematico, potremmo affermare che rilevanza universale del teorema di Bayes nella comprensione dei fenomeni e nella previsione degli eventi è enfatizzata nel titolo del libro di Tom Chivers pubblicato nel 2024: \"Everything is predictable: how bayesian statistics explain our world\"."
   ]
  },
  {
   "cell_type": "markdown",
   "metadata": {},
   "source": [
    "## Teorema \n",
    "\n",
    "Consideriamo una situazione in cui lo spazio degli eventi possibili, $\\Omega$, è diviso in due eventi distinti e mutualmente esclusivi, denominati ipotesi $H_1$ e $H_2$. Supponiamo di avere già una certa comprensione di questi eventi, espressa attraverso le loro probabilità a priori $P(H_1)$ e $P(H_2)$. A questo punto, introduciamo un nuovo evento $E$, la cui occorrenza è accompagnata da una probabilità non nulla e per il quale conosciamo le probabilità condizionate $P(E \\mid H_1)$ e $P(E \\mid H_2)$, che indicano quanto sia probabile osservare $E$ assumendo che una delle due ipotesi sia vera. Se $E$ si verifica, siamo interessati a determinare le probabilità a posteriori $P(H_1 \\mid E)$ e $P(H_2 \\mid E)$ delle nostre ipotesi alla luce di questa nuova evidenza.\n",
    "\n",
    "La seguente illustrazione rappresenta come lo spazio totale degli eventi si suddivide tra le ipotesi $H_1$ e $H_2$, con l'evidenza $E$ posizionata all'interno di questo contesto.\n",
    "\n",
    "::: {#fig-bayes}\n",
    "![](../../figures/bayes_theorem.png){width=\"50%\"}\n",
    "\n",
    "Partizione dello spazio campionario per il teorema di Bayes.\n",
    ":::\n",
    "\n",
    "Per calcolare la probabilità a posteriori dell'ipotesi 1 data l'osservazione di $E$, utilizziamo la formula:\n",
    "\n",
    "$$\n",
    "P(H_1 \\mid E) = \\frac{P(E \\cap H_1)}{P(E)}.\n",
    "$$\n",
    "\n",
    "Questo calcolo può essere semplificato sfruttando la definizione di probabilità condizionata, che ci permette di sostituire $P(E \\cap H_1)$ con $P(E \\mid H_1)P(H_1)$. Applicando questa sostituzione, otteniamo:\n",
    "\n",
    "$$\n",
    "P(H_1 \\mid E) = \\frac{P(E \\mid H_1) P(H_1)}{P(E)}.\n",
    "$$\n",
    "\n",
    "Dato che $H_1$ e $H_2$ si escludono a vicenda, la probabilità totale di $E$ può essere espressa come la somma delle probabilità di $E$ occorrente in concomitanza con ciascuna ipotesi, utilizzando il teorema della probabilità totale:\n",
    "\n",
    "$$\n",
    "P(E) = P(E \\mid H_1)P(H_1) + P(E \\mid H_2)P(H_2).\n",
    "$$\n",
    "\n",
    "Incorporando questi valori nella formula di Bayes, giungiamo a:\n",
    "\n",
    "$$\n",
    "P(H_1 \\mid E) = \\frac{P(E \\mid H_1)P(H_1)}{P(E \\mid H_1)P(H_1) + P(E \\mid H_2)P(H_2)}.\n",
    "$$ {#eq-bayes1}\n",
    "\n",
    "Questa espressione costituisce l'essenza della formula di Bayes per il caso semplificato in cui le ipotesi si limitano a due eventi mutualmente esclusivi, $H_1$ e $H_2$.\n",
    "\n",
    "Nel quadro delle probabilità discrete, questa formula può essere generalizzata per accogliere un insieme più ampio di ipotesi che formano una partizione completa dello spazio degli eventi $\\Omega$, dove ogni $E$ rappresenta un evento con probabilità maggiore di zero. Per ogni ipotesi $H_i$ all'interno di un insieme numerabile, la formula di Bayes si estende come segue:\n",
    "\n",
    "$$\n",
    "P(H_i \\mid E) = \\frac{P(E \\mid H_i)P(H_i)}{\\sum_{j=1}^{\\infty}P(E \\mid H_j)P(H_j)}.\n",
    "$$ {#eq-bayes2}\n",
    "\n",
    "Qui, il denominatore agisce come un fattore di normalizzazione che integra i prodotti delle probabilità a priori e delle verosimiglianze associate a ogni ipotesi considerata.\n",
    "\n",
    "Per variabili continue, la formula di Bayes assume una forma integrale, adattandosi a situazioni in cui le ipotesi $H_i$ rappresentano valori in un continuum. In questo contesto, la formula diventa:\n",
    "\n",
    "$$\n",
    "P(H_i \\mid E) = \\frac{P(E \\mid H_i) \\cdot P(H_i)}{\\int P(E \\mid H) \\cdot P(H) \\, dH},\n",
    "$$ {#eq-bayes-cont}\n",
    "\n",
    "offrendo un framework potente per aggiornare le probabilità a posteriori di ipotesi continue basate su nuove evidenze, sottolineando l'importanza della formula di Bayes non solo come strumento matematico, ma anche come filosofia di apprendimento continuo e adattamento alle nuove informazioni.\n",
    "\n",
    "### Interpretazione della Formula di Bayes\n",
    "\n",
    "La formula di Bayes si articola in tre elementi fondamentali che ne facilitano la comprensione e l'applicazione in diversi campi di studio:\n",
    "\n",
    "- **Probabilità a Priori, $P(H)$**: Questa componente riflette la nostra valutazione preliminare riguardo la verosimiglianza dell'ipotesi $H$ prima di prendere in esame nuove evidenze $E$. Essa incarna il livello di credibilità o fiducia attribuita all'ipotesi, basandosi su conoscenze preesistenti o su deduzioni logiche. In sostanza, la probabilità a priori quantifica le nostre convinzioni pregresse o le aspettative iniziali su quanto sia probabile che l'ipotesi sia vera.\n",
    "- **Probabilità a Posteriori, $P(H \\mid E)$**: Questo valore aggiorna la nostra fiducia nell'ipotesi $H$ in seguito all'osservazione dell'evidenza $E$. In termini più intuitivi, rappresenta il livello di convinzione ricalibrato in $H$ dopo aver considerato l'evidenza. La formula di Bayes ci offre un meccanismo matematicamente rigoroso per modulare questa probabilità alla luce delle nuove informazioni ricevute.\n",
    "- **Verosimiglianza, $P(E \\mid H)$**: La verosimiglianza esprime la probabilità di rilevare l'evidenza $E$ dato che l'ipotesi $H$ sia vera. È un indice di quanto l'evidenza supporti o confermi l'ipotesi. Un valore elevato di verosimiglianza indica che l'evidenza è fortemente in linea o prevista dalla veridicità dell'ipotesi.\n",
    "\n",
    "Grazie alla formula di Bayes, possiamo adottare un processo di aggiornamento continuo delle nostre credenze in base a nuove informazioni, promuovendo un metodo dinamico per navigare tra conoscenza e incertezza. Questa metodologia ci fornisce un approccio strutturato per rivedere e adattare le nostre convinzioni riguardo l'ipotesi $H$ di fronte a nuovi dati o evidenze $E$. La capacità di rielaborare costantemente le nostre aspettative in funzione di informazioni aggiuntive si rivela essenziale in una vasta gamma di ambiti, inclusi l'intelligenza artificiale, la ricerca statistica, le discipline scientifiche e umanistiche. Tale prassi ci consente di prendere decisioni più informate, di interpretare con maggiore precisione i dati disponibili e di affinare significativamente le nostre previsioni e comprensioni del mondo circostante."
   ]
  },
  {
   "cell_type": "markdown",
   "metadata": {},
   "source": [
    "## Alcuni esempi\n",
    "\n",
    "Esamineremo alcuni esempi basilari per illustrare in maniera più chiara il modo in cui il teorema di Bayes viene applicato e funziona.\n",
    "\n",
    "::: {#exm-1}\n",
    "Consideriamo il caso in cui osserviamo una persona con i capelli lunghi e desideriamo valutare la probabilità che questa persona sia femminile. In termini formali, definiamo $H = \\text{\"donna\"}$ e $E = \\text{\"capelli lunghi\"}$, e miriamo a stimare $P(H \\mid E)$.\n",
    "\n",
    "Le nostre conoscenze preliminari includono:\n",
    "\n",
    "- La probabilità a priori che la persona osservata sia una donna, $P(H) = 0.5$,\n",
    "- La probabilità generale di osservare qualcuno con i capelli lunghi, $P(E) = 0.4$,\n",
    "- La probabilità di avere i capelli lunghi dato che la persona è una donna, $P(E \\mid H) = 0.7$.\n",
    "\n",
    "Applicando la formula di Bayes, possiamo determinare:\n",
    "\n",
    "$$ P(H \\mid E) = \\frac{P(H) \\cdot P(E \\mid H)}{P(E)} = \\frac{0.5 \\cdot 0.7}{0.4} = 0.875. $$\n",
    "\n",
    "Questo risultato ci mostra che, alla luce delle informazioni a nostra disposizione, la probabilità che una persona con i capelli lunghi sia una donna è dell'0.875. In altre parole, prima di osservare l'evidenza (i capelli lunghi), partivamo da una conoscenza di base secondo cui c'era una chance su due (50%) che la persona fosse una donna. Dopo aver considerato l'evidenza dei capelli lunghi, abbiamo aggiornato la nostra stima alla probabilità \"a posteriori\" di 0.875, riflettendo così un incremento  della nostra convinzione che la persona sia una donna basandoci su quest'ultima osservazione.\n",
    ":::"
   ]
  },
  {
   "attachments": {},
   "cell_type": "markdown",
   "id": "7b50241c-9e21-498d-8155-5cc7c9821920",
   "metadata": {},
   "source": [
    "::: {#exm-2}\n",
    "Un esempio pratico che illustra efficacemente l'uso del teorema di Bayes è l'analisi del rapporto tra la mammografia e la diagnosi del cancro al seno, già considerato in precedenza. In questo contesto, si considerano due ipotesi: la presenza della malattia, indicata con $M^+$, e l'assenza della malattia, denotata con $M^-$. L'evidenza in questo caso è rappresentata dal risultato positivo di un test di mammografia, che indicheremo con $T^+$. Applicando la formula di Bayes, possiamo esprimere la probabilità di avere il cancro al seno dato un risultato positivo al test come segue:\n",
    "\n",
    "$$\n",
    "P(M^+ \\mid T^+) = \\frac{P(T^+ \\mid M^+) \\cdot P(M^+)}{P(T^+ \\mid M^+) \\cdot P(M^+) + P(T^+ \\mid M^-) \\cdot P(M^-)},\n",
    "$$\n",
    "\n",
    "dove:\n",
    "\n",
    "- $P(M^+ \\mid T^+)$ è la probabilità di avere il cancro ($M^+$) dato un risultato positivo al test ($T^+$),\n",
    "- $P(T^+ \\mid M^+)$ rappresenta la probabilità che il test di mammografia risulti positivo ($T^+$) in presenza effettiva del cancro ($M^+$),\n",
    "- $P(M^+)$ denota la probabilità a priori che una persona abbia il cancro prima di sottoporsi al test,\n",
    "- $P(T^+ \\mid M^-)$ indica la probabilità che il test risulti positivo ($T^+$) nonostante l'assenza del cancro ($M^-$); dal momento che la specificità è data e uguale a 0.9, possiamo calcolare la probabilità di un falso positivo come segue:\n",
    "\n",
    "$$ P(T^+ \\mid M^-) = 1 - \\text{Specificità} = 1 - 0.9 = 0.1. $$\n",
    "\n",
    "Quindi, in questo contesto, $P(T^+ \\mid M^-) = 0.1$ significa che c'è un 10% di probabilità che il test diagnostichi erroneamente la presenza del cancro in una persona sana. \n",
    "\n",
    "- $P(M^-)$ rappresenta la probabilità a priori che una persona non sia affetta da cancro prima di effettuare il test.\n",
    "\n",
    "Inserendo i valori specifici del contesto analizzato otteniamo:\n",
    "\n",
    "$$\n",
    "\\begin{align}\n",
    "P(M^+ \\mid T^+) &= \\frac{0.9 \\cdot 0.01}{0.9 \\cdot 0.01 + 0.1 \\cdot 0.99} \\\\\n",
    "&= \\frac{9}{108} \\\\\n",
    "&\\approx 0.083.\n",
    "\\end{align}\n",
    "$$\n",
    "\n",
    "Questo calcolo dimostra che, considerando una mammografia con risultato positivo ottenuta tramite un test con una sensibilità del 90% e una specificità del 90%, la probabilità che il paziente sia effettivamente affetto da cancro al seno è approssimativamente dell'8.3%.\n",
    ":::"
   ]
  },
  {
   "attachments": {},
   "cell_type": "markdown",
   "id": "568a483b-c95d-4b86-819c-7c4abfee8d32",
   "metadata": {},
   "source": [
    "### Il Valore Predittivo di un Test di Laboratorio\n",
    "\n",
    "L'applicazione del teorema di Bayes nell'interpretazione dei risultati dei test di laboratorio è cruciale nella pratica clinica. Questo teorema consente di calcolare la probabilità che un individuo sia affetto da una specifica malattia dopo un risultato positivo al test, nonché la probabilità di non essere malati in caso di esito negativo. La comprensione di tre elementi è fondamentale per questo calcolo: la prevalenza della malattia, la sensibilità e la specificità del test.\n",
    "\n",
    "- **Prevalenza:** Si riferisce alla percentuale di individui in una popolazione che sono affetti da una certa malattia in un determinato momento. Viene espressa come percentuale o frazione della popolazione. Per esempio, una prevalenza del 0.5% indica che su mille persone, cinque sono affette dalla malattia.\n",
    "\n",
    "- **Sensibilità:** Indica la capacità del test di identificare correttamente la malattia negli individui malati. Viene calcolata come la frazione di veri positivi (individui malati correttamente identificati) sul totale degli individui malati. La formula della sensibilità ($Sens$) è la seguente:\n",
    "\n",
    "$$ Sens = \\frac{TP}{TP + FN}, $$\n",
    "\n",
    "dove $TP$ rappresenta i veri positivi e $FN$ i falsi negativi. Pertanto, la sensibilità misura la probabilità che il test risulti positivo se la malattia è effettivamente presente.\n",
    "\n",
    "- **Specificità:** Misura la capacità del test di riconoscere gli individui sani, producendo un risultato negativo per chi non è affetto dalla malattia. Si calcola come la frazione di veri negativi (individui sani correttamente identificati) sul totale degli individui sani. La specificità ($Spec$) si definisce come:\n",
    "\n",
    "$$ Spec = \\frac{TN}{TN + FP}, $$\n",
    "\n",
    "dove $TN$ sono i veri negativi e $FP$ i falsi positivi. Così, la specificità rappresenta la probabilità che il test risulti negativo in assenza della malattia.\n",
    "\n",
    "Questa tabella riassume la terminologia:\n",
    "\n",
    "|       | $T^+$                                              | $T^-$                                              | Totale              |\n",
    "| :---: | :------------------------------------------------: | :------------------------------------------------: | :------------------:|\n",
    "| $M^+$ | $P(T^+ \\cap M^+)$ <br> (Sensibilità)               | $P(T^- \\cap M^+)$ <br> (1 - Sensibilità)           | $P(M^+)$            |\n",
    "| $M^-$ | $P(T^+ \\cap M^-)$ <br> (1 - Specificità)           | $P(T^- \\cap M^-)$ <br> (Specificità)               | $P(M^-)$            |\n",
    "| Totale| $P(T^+)$                                           | $P(T^-)$                                           | 1                   |\n",
    "\n",
    "dove $T^+$ e $T^-$ indicano rispettivamente un risultato positivo o negativo del test, mentre $M^+$ e $M^-$ la presenza o assenza effettiva della malattia. In questa tabella, i totali marginali rappresentano:\n",
    "\n",
    "- **Totale per $M^+$ e $M^-$** (ultima colonna): La probabilità totale di avere la malattia ($P(M^+)$) e la probabilità totale di non avere la malattia ($P(M^-)$), rispettivamente. Questi valori sono calcolati sommando le probabilità all'interno di ciascuna riga.\n",
    "- **Totale per $T^+$ e $T^-$** (ultima riga): La probabilità totale di un risultato positivo al test ($P(T^+)$) e la probabilità totale di un risultato negativo al test ($P(T^-)$), rispettivamente. Questi valori sono calcolati sommando le probabilità all'interno di ciascuna colonna.\n",
    "- **Totale generale** (angolo in basso a destra): La somma di tutte le probabilità, che per definizione è 1, rappresentando l'intera popolazione o il set di casi considerati.\n",
    "\n",
    "Mediante il teorema di Bayes, possiamo usare queste informazioni per stimare la probabilità post-test di avere o non avere la malattia basandoci sul risultato del test, fornendo così una base razionale per decisioni diagnostiche e terapeutiche.\n",
    "\n",
    "La probabilità post-test che un individuo sia malato dato un risultato positivo del test è calcolata come:\n",
    "\n",
    "$$\n",
    "P(M^+ \\mid T^+) = \\frac{P(T^+ \\mid M^+) \\cdot P(M^+)}{P(T^+ \\mid M^+) \\cdot P(M^+) + P(T^+ \\mid M^-) \\cdot P(M^-)}.\n",
    "$$\n",
    "\n",
    "Questa formula rappresenta il valore predittivo positivo, indicando la probabilità che un individuo sia realmente malato se il test è positivo. Analogamente, il valore predittivo negativo, che è la probabilità che un individuo non sia malato dato un risultato negativo del test, si calcola come:\n",
    "\n",
    "$$\n",
    "P(M^- \\mid T^-) = \\frac{P(T^- \\mid M^-) \\cdot (1 - P(M^+))}{P(T^- \\mid M^-) \\cdot (1 - P(M^+)) + P(T^- \\mid M^+) \\cdot P(M^+)}.\n",
    "$$\n",
    "\n",
    "Questi valori predittivi sono essenziali per valutare l'efficacia di un test diagnostico, aiutando a determinare quanto sia affidabile un risultato positivo o negativo nel contesto di una specifica popolazione e malattia.\n",
    "\n",
    "::: {#fig-bayes-theorem2}\n",
    "![](../../figures/bayes_theorem_2x.png){width=\"35%\"}\n",
    ":::"
   ]
  },
  {
   "attachments": {},
   "cell_type": "markdown",
   "id": "be99bcb3-1bf0-4003-9337-d819f55e1b18",
   "metadata": {},
   "source": [
    "::: {#exm-3}\n",
    "Calcoliamo ora il valore predittivo del test positivo e il valore predittivo del test negativo per i dati dell'esempio sulla mammografia e cancro al seno."
   ]
  },
  {
   "cell_type": "code",
   "execution_count": null,
   "id": "c7c8dbed-04e0-46ca-85fc-924be5f24bde",
   "metadata": {},
   "outputs": [],
   "source": [
    "def positive_predictive_value_of_diagnostic_test(sens, spec, prev):\n",
    "    return (sens * prev) / (sens * prev + (1 - spec) * (1 - prev))"
   ]
  },
  {
   "cell_type": "markdown",
   "id": "4567620c-67ac-4c26-9937-47d8fbaa79ab",
   "metadata": {},
   "source": [
    "**Valore Predittivo Positivo (Positive Predictive Value, PPV):** Questa misura indica la probabilità che un individuo sia effettivamente malato se ha ricevuto un risultato positivo al test. La formula che hai fornito per il PPV è:\n",
    "\n",
    "   $$ PPV = \\frac{Sens \\cdot Prev}{Sens \\cdot Prev + (1 - Spec) \\cdot (1 - Prev)} $$\n",
    "\n",
    "   Qui, `sens` rappresenta la sensibilità del test, `spec` la specificità, e `prev` la prevalenza della malattia nella popolazione. La formula riflette il calcolo del PPV basato sul teorema di Bayes."
   ]
  },
  {
   "cell_type": "code",
   "execution_count": 6,
   "id": "0a14c214-3564-4d65-9833-d4b4db55581f",
   "metadata": {},
   "outputs": [],
   "source": [
    "def negative_predictive_value_of_diagnostic_test(sens, spec, prev):\n",
    "    return (spec * (1 - prev)) / (spec * (1 - prev) + (1 - sens) * prev)"
   ]
  },
  {
   "cell_type": "markdown",
   "id": "6bfd1e11-c617-477d-9d85-8f82d23e3817",
   "metadata": {},
   "source": [
    "**Valore Predittivo Negativo (Negative Predictive Value, NPV):** Questa misura indica la probabilità che un individuo non sia malato se ha ricevuto un risultato negativo al test. La formula per il NPV è:\n",
    "\n",
    "   $$ NPV = \\frac{Spec \\cdot (1 - Prev)}{Spec \\cdot (1 - Prev) + (1 - Sens) \\cdot Prev} $$\n",
    "\n",
    "   Anche in questo caso, `sens`, `spec`, e `prev` hanno gli stessi significati menzionati sopra. Questa formula calcola il NPV basandosi sul teorema di Bayes."
   ]
  },
  {
   "cell_type": "markdown",
   "id": "18cbbf62-6711-4b95-b103-c65a6b8bd4e1",
   "metadata": {},
   "source": [
    "Inseriamo i dati del problema."
   ]
  },
  {
   "cell_type": "code",
   "execution_count": 7,
   "id": "633a535b-6c92-48ab-a55a-255eb47e6b13",
   "metadata": {},
   "outputs": [],
   "source": [
    "sens = 0.9  # sensibilità\n",
    "spec = 0.9  # specificità\n",
    "prev = 0.01  # prevalenza"
   ]
  },
  {
   "cell_type": "markdown",
   "id": "c89a39e8-d555-4b1d-9be4-09f08f0a8434",
   "metadata": {},
   "source": [
    "Il valore predittivo del test positivo è:"
   ]
  },
  {
   "cell_type": "code",
   "execution_count": 8,
   "id": "69571aa8-46ef-4258-8908-3cd7644a39da",
   "metadata": {},
   "outputs": [
    {
     "name": "stdout",
     "output_type": "stream",
     "text": [
      "P(M+ | T+) = 0.083\n"
     ]
    }
   ],
   "source": [
    "res_pos = positive_predictive_value_of_diagnostic_test(sens, spec, prev)\n",
    "print(f\"P(M+ | T+) = {round(res_pos, 3)}\")"
   ]
  },
  {
   "cell_type": "markdown",
   "id": "d0bc9a90-987d-4dd1-92c3-b1a305d4c1fe",
   "metadata": {},
   "source": [
    "Il valore predittivo del test negativo è:"
   ]
  },
  {
   "cell_type": "code",
   "execution_count": 9,
   "id": "1f3f7241-4859-4043-9ad5-13972f9ac345",
   "metadata": {},
   "outputs": [
    {
     "name": "stdout",
     "output_type": "stream",
     "text": [
      "P(M- | T-) = 0.999\n"
     ]
    }
   ],
   "source": [
    "res_neg = negative_predictive_value_of_diagnostic_test(sens, spec, prev)\n",
    "print(f\"P(M- | T-) = {round(res_neg, 3)}\")"
   ]
  },
  {
   "cell_type": "markdown",
   "metadata": {},
   "source": [
    ":::"
   ]
  },
  {
   "attachments": {},
   "cell_type": "markdown",
   "id": "c5321bac-8880-4b93-9778-8977c1286b1f",
   "metadata": {},
   "source": [
    "::: {#exm-4}\n",
    "\n",
    "Consideriamo ora un altro esempio relativo al test antigenico rapido per il virus SARS-CoV-2, che può essere eseguito mediante tampone nasale, tampone naso-orofaringeo o campione di saliva. L'Istituto Superiore di Sanità ha pubblicato un documento il 5 novembre 2020, nel quale viene sottolineato che, fino a quel momento, i dati disponibili sui vari test sono quelli forniti dai produttori: la sensibilità varia tra il 70% e l'86%, mentre la specificità si attesta tra il 95% e il 97%.\n",
    "\n",
    "Per fare un esempio, consideriamo i dati di un certo momento temporale. Nella settimana tra il 17 e il 23 marzo 2023, in Italia, il numero di individui positivi al virus è stato stimato essere di 138.599 (fonte: Il Sole 24 Ore). Questo dato corrisponde a una prevalenza di circa 0.2% su una popolazione totale di circa 59 milioni di persone."
   ]
  },
  {
   "cell_type": "code",
   "execution_count": 10,
   "id": "496b4410-4562-4d9a-8b3f-13e502cf4316",
   "metadata": {},
   "outputs": [
    {
     "data": {
      "text/plain": [
       "0.002349135593220339"
      ]
     },
     "execution_count": 10,
     "metadata": {},
     "output_type": "execute_result"
    }
   ],
   "source": [
    " prev = 138599 / 59000000\n",
    " prev"
   ]
  },
  {
   "attachments": {},
   "cell_type": "markdown",
   "id": "ac1c7f91-99a8-4adb-90cb-27d829874391",
   "metadata": {},
   "source": [
    "L'obiettivo è determinare la probabilità di essere effettivamente affetti da Covid-19, dato un risultato positivo al test antigenico rapido, ossia $P(M^+ \\mid T^+)$. Per raggiungere questo scopo, useremo la formula relativa al valore predittivo positivo del test."
   ]
  },
  {
   "cell_type": "code",
   "execution_count": 11,
   "id": "d02716f1-63ef-45c9-ae84-5a40a9d1a742",
   "metadata": {},
   "outputs": [
    {
     "name": "stdout",
     "output_type": "stream",
     "text": [
      "P(M+ | T+) = 0.044\n"
     ]
    }
   ],
   "source": [
    "sens = (0.7 + 0.86) / 2  # sensibilità\n",
    "spec = (0.95 + 0.97) / 2 # specificità\n",
    "\n",
    "res_pos = positive_predictive_value_of_diagnostic_test(sens, spec, prev)\n",
    "print(f\"P(M+ | T+) = {round(res_pos, 3)}\")"
   ]
  },
  {
   "attachments": {},
   "cell_type": "markdown",
   "id": "abc319ad-bc8f-41ed-ac15-150720d01447",
   "metadata": {},
   "source": [
    "Pertanto, se il risultato del tampone è positivo, la probabilità di essere effettivamente affetti da Covid-19 è solo del 4.4%, approssimativamente.\n",
    "\n",
    "Se la prevalenza fosse 100 volte superiore (cioè, pari al 23.5%), la probabilità di avere il Covid-19, dato un risultato positivo del tampone, aumenterebbe notevolmente e sarebbe pari a circa l'86%."
   ]
  },
  {
   "cell_type": "code",
   "execution_count": 12,
   "id": "191caf07-8f89-4f20-a3a1-19b43f6e7fe0",
   "metadata": {},
   "outputs": [
    {
     "name": "stdout",
     "output_type": "stream",
     "text": [
      "P(M+ | T+) = 0.857\n"
     ]
    }
   ],
   "source": [
    "prev = 138599 / 59000000 * 100\n",
    "\n",
    "res_pos = positive_predictive_value_of_diagnostic_test(sens, spec, prev)\n",
    "print(f\"P(M+ | T+) = {round(res_pos, 3)}\")"
   ]
  },
  {
   "attachments": {},
   "cell_type": "markdown",
   "id": "5c4d8942-25a7-44d4-8724-e7590d22358c",
   "metadata": {},
   "source": [
    "Se il risultato del test fosse negativo, considerando la prevalenza stimata del Covid-19 nella settimana dal 17 al 23 marzo 2023, la probabilità di non essere infetto sarebbe del 99.9%, approssimativamente."
   ]
  },
  {
   "cell_type": "code",
   "execution_count": 13,
   "id": "fe9b7fc8-aa79-4a1c-a50f-fb9edd0d81b7",
   "metadata": {},
   "outputs": [
    {
     "name": "stdout",
     "output_type": "stream",
     "text": [
      "P(M- | T-) = 0.999\n"
     ]
    }
   ],
   "source": [
    "sens = (0.7 + 0.86) / 2  # sensibilità\n",
    "spec = (0.95 + 0.97) / 2  # specificità\n",
    "prev = 138599 / 59000000  # prevalenza\n",
    "\n",
    "res_neg = negative_predictive_value_of_diagnostic_test(sens, spec, prev)\n",
    "print(f\"P(M- | T-) = {round(res_neg, 3)}\")"
   ]
  },
  {
   "cell_type": "markdown",
   "id": "3faa85f3-5c69-4f29-b38b-4d3519c300cd",
   "metadata": {},
   "source": [
    "Tuttavia, un'esito del genere non dovrebbe sorprenderci, considerando che la prevalenza della malattia è molto bassa; in altre parole, il risultato negativo conferma una situazione già presunta prima di sottoporsi al test. Il vero ostacolo, specialmente nel caso di malattie rare come il Covid-19 in quel periodo specifico, non risiede tanto nell'asserire l'assenza della malattia quanto piuttosto nel confermarne la presenza.\n",
    ":::"
   ]
  },
  {
   "attachments": {},
   "cell_type": "markdown",
   "id": "bb79fc85-d23b-4676-bdc7-06735791e57a",
   "metadata": {},
   "source": [
    "## Commenti e considerazioni finali\n",
    "\n",
    "La riflessione epistemologica contemporanea ha ribadito che la conoscenza non può essere vista come una certezza inconfutabile o una garanzia razionale di verità. Invece, essa emerge come una serie di decisioni prese all'interno di un contesto di incertezza. Questa comprensione è particolarmente pertinente nel campo della ricerca scientifica, dove né la logica deduttiva né le rigorose dimostrazioni matematiche sono sufficienti. Di conseguenza, la scienza necessita di una \"logica dell'incertezza,\" che è efficacemente fornita dalla teoria delle probabilità, e più specificamente, dal teorema di Bayes.\n",
    "\n",
    "Il teorema di Bayes ci offre un framework per interpretare la probabilità come una valutazione soggettiva influenzata da diversi fattori condizionanti. In pratica, il teorema esprime la probabilità a posteriori $P(H_i \\mid E)$ come un risultato derivato dalla combinazione della probabilità a priori $P(H_i)$ e della verosimiglianza $P(E \\mid H_i)$. Questa formulazione sottolinea che la nostra valutazione probabilistica di una data ipotesi $H_i$ è modulata sia dall'evidenza empirica $E$ che dalle nostre credenze a priori $P(H_i)$.\n",
    "\n",
    "Poiché la probabilità è una valutazione intrinsecamente soggettiva, è possibile che diversi osservatori arrivino a conclusioni differenti. Tuttavia, il teorema di Bayes fornisce un meccanismo razionale—conosciuto come \"aggiornamento bayesiano\"—per ricalibrare queste credenze in risposta a nuove informazioni o evidenze.\n",
    "\n",
    "L'approccio bayesiano offre strumenti per valutare l'efficacia di diverse strategie di trattamento o interventi in psicologia clinica. Per esempio, se si afferma che la meditazione mattutina è efficace nel trattamento della depressione, è essenziale valutare questa affermazione nel contesto di tutte le evidenze disponibili, compresi i casi in cui la meditazione non ha portato a miglioramenti.\n",
    "\n",
    "In sintesi, la metodologia bayesiana fornisce una cornice robusta per l'aggiornamento delle probabilità in presenza di nuove informazioni, offrendo spunti importanti sia per la ricerca che per la pratica clinica in psicologia.\n",
    "\n",
    "Nel contesto di questo capitolo, abbiamo focalizzato la nostra discussione sul teorema di Bayes nel caso delle variabili casuali discrete. Tuttavia, nel prossimo capitolo, esploreremo come il teorema può essere applicato anche alle variabili casuali continue. "
   ]
  },
  {
   "cell_type": "markdown",
   "id": "517aeb7a-f0de-43c6-9eb8-a158c642ba14",
   "metadata": {},
   "source": [
    "## Informazioni sull'Ambiente di Sviluppo"
   ]
  },
  {
   "cell_type": "code",
   "execution_count": 14,
   "id": "ca5cf3a4-13bb-44fc-ae47-bc0a5cbb8da3",
   "metadata": {},
   "outputs": [
    {
     "name": "stdout",
     "output_type": "stream",
     "text": [
      "Last updated: Sat Mar 16 2024\n",
      "\n",
      "Python implementation: CPython\n",
      "Python version       : 3.11.8\n",
      "IPython version      : 8.22.2\n",
      "\n",
      "Compiler    : Clang 16.0.6 \n",
      "OS          : Darwin\n",
      "Release     : 23.4.0\n",
      "Machine     : arm64\n",
      "Processor   : arm\n",
      "CPU cores   : 8\n",
      "Architecture: 64bit\n",
      "\n",
      "seaborn   : 0.13.2\n",
      "pandas    : 2.2.1\n",
      "matplotlib: 3.8.3\n",
      "numpy     : 1.26.4\n",
      "arviz     : 0.17.0\n",
      "\n",
      "Watermark: 2.4.3\n",
      "\n"
     ]
    }
   ],
   "source": [
    "%load_ext watermark\n",
    "%watermark -n -u -v -iv -w -m"
   ]
  }
 ],
 "metadata": {
  "kernelspec": {
   "display_name": "pymc",
   "language": "python",
   "name": "python3"
  },
  "language_info": {
   "codemirror_mode": {
    "name": "ipython",
    "version": 3
   },
   "file_extension": ".py",
   "mimetype": "text/x-python",
   "name": "python",
   "nbconvert_exporter": "python",
   "pygments_lexer": "ipython3",
   "version": "3.12.4"
  },
  "vscode": {
   "interpreter": {
    "hash": "cbb367cc0128e23b7454d788d5a4229ca1f9848fd2e857f4797fbd26ab3b0776"
   }
  }
 },
 "nbformat": 4,
 "nbformat_minor": 2
}
