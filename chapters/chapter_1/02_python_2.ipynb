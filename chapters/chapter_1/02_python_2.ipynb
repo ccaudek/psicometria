{
 "cells": [
  {
   "attachments": {},
   "cell_type": "markdown",
   "id": "7565a75f-c7c2-4b92-b7b4-3a01f60863d7",
   "metadata": {},
   "source": [
    "# Python (2) {#sec-python-2}"
   ]
  },
  {
   "cell_type": "markdown",
   "id": "55b2ae73-9681-4f15-943d-794172692470",
   "metadata": {},
   "source": [
    "In questo capitolo, approfondiremo ulteriormente le nozioni fondamentali legate al linguaggio Python. Ci concentreremo principalmente sull'analisi delle funzioni, la gestione del flusso di esecuzione, l'utilizzo dei cicli, l'implementazione delle list comprehension e l'esplorazione delle librerie e dei moduli disponibili."
   ]
  },
  {
   "cell_type": "code",
   "execution_count": 1,
   "id": "3bc727ae-c313-4d36-be6c-fa52e3cbb2ea",
   "metadata": {},
   "outputs": [],
   "source": [
    "import numpy as np\n",
    "import pandas as pd\n",
    "from matplotlib import pyplot as plt\n",
    "import arviz as az\n",
    "import seaborn as sns"
   ]
  },
  {
   "cell_type": "code",
   "execution_count": 2,
   "id": "216620ac-48eb-4e59-af31-79c17a8bbd2d",
   "metadata": {},
   "outputs": [],
   "source": [
    "# set seed to make the results fully reproducible\n",
    "seed: int = sum(map(ord, \"python_2\"))\n",
    "rng: np.random.Generator = np.random.default_rng(seed=seed)\n",
    "\n",
    "az.style.use(\"arviz-darkgrid\")\n",
    "plt.rcParams[\"figure.dpi\"] = 100\n",
    "plt.rcParams[\"figure.facecolor\"] = \"white\"\n",
    "\n",
    "%config InlineBackend.figure_format = \"retina\""
   ]
  },
  {
   "attachments": {},
   "cell_type": "markdown",
   "id": "11c38671-5bf8-4150-a9c2-46d1e9adf8e2",
   "metadata": {},
   "source": [
    "## Funzioni\n",
    "\n",
    "Lo scopo delle funzioni è raggruppare il codice in un formato organizzato, leggibile e riutilizzabile, contribuendo così a ridurre la ridondanza del codice.\n",
    "\n",
    "Una regola generale per le funzioni è che dovrebbero essere di piccole dimensioni e svolgere un'unica operazione.\n",
    "\n",
    "Nella programmazione, una funzione accetta un input, esegue operazioni su di esso e può restituire un output. Python mette a disposizione un'ampia gamma di funzioni integrate, e si può anche importare funzioni da pacchetti aggiuntivi o definirne di nuove.\n",
    "\n",
    "Per definire una nuova funzione in Python, si utilizza la parola chiave `def`, seguita dal nome della funzione e dai nomi simbolici dei suoi argomenti, separati da virgole e racchiusi tra parentesi. La definizione continua con i due punti (:) e il corpo della funzione, le cui istruzioni devono essere indentate. Il valore restituito dalla funzione viene specificato tramite la parola chiave `return`, generalmente nella riga finale del corpo della funzione."
   ]
  },
  {
   "cell_type": "code",
   "execution_count": 3,
   "id": "9cbf2ce3-6e0f-461c-839a-2beed3f18c07",
   "metadata": {},
   "outputs": [],
   "source": [
    "def add_numbers(a, b):\n",
    "    \"\"\"\n",
    "    returns the sum of the two numeric arguments\n",
    "    \"\"\"\n",
    "    the_sum = a + b\n",
    "    return the_sum"
   ]
  },
  {
   "attachments": {},
   "cell_type": "markdown",
   "id": "1a920e68-37eb-4174-9346-d16a2894f41b",
   "metadata": {},
   "source": [
    "Una volta definita una funzione, è possibile eseguirla chiamandola e passando gli argomenti appropriati. Ad esempio, possiamo chiamare la funzione `add_numbers` per sommare due numeri, come ad esempio 20 e 10:"
   ]
  },
  {
   "cell_type": "code",
   "execution_count": 5,
   "id": "da0dc093-c463-4e33-85b0-38906b521ae5",
   "metadata": {},
   "outputs": [
    {
     "data": {
      "text/plain": [
       "30"
      ]
     },
     "execution_count": 5,
     "metadata": {},
     "output_type": "execute_result"
    }
   ],
   "source": [
    "add_numbers(20, 10)"
   ]
  },
  {
   "attachments": {},
   "cell_type": "markdown",
   "id": "4c03895a-de79-4dab-9531-d31291237f2b",
   "metadata": {},
   "source": [
    "Consideriamo la funzione `roll_die()`:"
   ]
  },
  {
   "cell_type": "code",
   "execution_count": 7,
   "id": "f07beefd-9487-4186-92b5-821190f38d2d",
   "metadata": {},
   "outputs": [],
   "source": [
    "import random\n",
    "\n",
    "def roll_die():\n",
    "    \"\"\"\n",
    "    returns a random int between 1 and 6\n",
    "    \"\"\"\n",
    "    return random.choice([1, 2, 3, 4, 5, 6])\n"
   ]
  },
  {
   "attachments": {},
   "cell_type": "markdown",
   "id": "a84fd7e5-6129-4846-9bd7-efd244e97d11",
   "metadata": {},
   "source": [
    "Il corpo della funzione è composto da una singola riga di codice che utilizza la funzione `choice()` della libreria `random`, a cui viene passata una lista. Questo significa che una funzione può utilizzare altre funzioni che sono già state definite. In questo caso, la funzione si limita a specificare l'argomento da passare a `choice()`. La funzione `choice()` restituirà un numero casuale tra quelli specificati in input. Pertanto, la funzione `roll_die()` simula il lancio di un dado:"
   ]
  },
  {
   "cell_type": "code",
   "execution_count": 8,
   "id": "4855535c-a971-4062-8f7a-073505f46ef9",
   "metadata": {},
   "outputs": [
    {
     "data": {
      "text/plain": [
       "6"
      ]
     },
     "execution_count": 8,
     "metadata": {},
     "output_type": "execute_result"
    }
   ],
   "source": [
    "roll_die()"
   ]
  },
  {
   "cell_type": "code",
   "execution_count": 9,
   "id": "7d42dbfd-888d-4076-af91-5727e30d4597",
   "metadata": {},
   "outputs": [
    {
     "data": {
      "text/plain": [
       "5"
      ]
     },
     "execution_count": 9,
     "metadata": {},
     "output_type": "execute_result"
    }
   ],
   "source": [
    "roll_die()"
   ]
  },
  {
   "attachments": {},
   "cell_type": "markdown",
   "id": "0aa3e7c9-bad3-437f-a222-9bde0e5abf75",
   "metadata": {},
   "source": [
    "Si noti inoltre la `docstring`, cioè una stringa (in genere racchiusa tra \"\"\"...\"\"\") che si trova come prima istruzione all'interno di una funzione. La `docstring` contiene informazioni sullo scopo e sulle modalità d'uso della funzione. \n",
    "\n",
    "### Introspection\n",
    "\n",
    "Usando un punto interrogativo (?) prima o dopo una variabile è possibile visualizzare alcune informazioni generale su quell'oggetto. Nel caso di una funzione viene stampata la `doc string`."
   ]
  },
  {
   "cell_type": "code",
   "execution_count": 10,
   "id": "3f3d7b4d-a848-4f85-b728-ef49b8211687",
   "metadata": {},
   "outputs": [
    {
     "name": "stdout",
     "output_type": "stream",
     "text": [
      "\u001b[0;31mSignature:\u001b[0m \u001b[0mroll_die\u001b[0m\u001b[0;34m(\u001b[0m\u001b[0;34m)\u001b[0m\u001b[0;34m\u001b[0m\u001b[0;34m\u001b[0m\u001b[0m\n",
      "\u001b[0;31mDocstring:\u001b[0m returns a random int between 1 and 6\n",
      "\u001b[0;31mFile:\u001b[0m      /var/folders/cl/wwjrsxdd5tz7y9jr82nd5hrw0000gn/T/ipykernel_13125/63164766.py\n",
      "\u001b[0;31mType:\u001b[0m      function"
     ]
    }
   ],
   "source": [
    "roll_die?"
   ]
  },
  {
   "attachments": {},
   "cell_type": "markdown",
   "id": "2f8daea4-ef98-46d2-9cc6-70e78b0889ca",
   "metadata": {},
   "source": [
    "### Metodi\n",
    "\n",
    "Le funzioni definite all'interno di una classe, chiamate \"metodi\", rappresentano operazioni specifiche che possono essere eseguite sugli oggetti di quella classe. Una classe è una struttura concettuale che rappresenta un concetto o un oggetto nel contesto del problema che stiamo affrontando. Ad esempio, nel capitolo sull'introduzione a Pandas, lavorando con dati organizzati in una tabella, utilizziamo un oggetto chiamato DataFrame, appartenente alla classe \"pandas.DataFrame\". Un DataFrame è una struttura tabellare che contiene dati disposti in righe e colonne.\n",
    "\n",
    "I metodi specifici della classe DataFrame offrono funzionalità per manipolare e analizzare i dati in questa struttura. Per esempio, il metodo \"hist()\" genera istogrammi dei valori presenti in una colonna specifica del DataFrame. Per invocare un metodo su un oggetto DataFrame, come \"df\", utilizziamo la sintassi \"nome_oggetto.nome_metodo()\" e possiamo passare eventuali parametri richiesti tra parentesi.\n",
    "\n",
    "D'altra parte, gli attributi rappresentano le caratteristiche o le proprietà degli oggetti di una classe. Gli attributi possono essere richiamati utilizzando la sintassi \"nome_oggetto.nome_attributo\" e restituiscono un valore specifico associato a quell'oggetto. Per esempio, l'attributo \".shape\" applicato a un DataFrame come \"df.shape\" restituisce il numero di righe e colonne presenti nel DataFrame.\n",
    "\n",
    "In sintesi, una classe definisce un tipo di oggetto che ha attributi che ne descrivono le caratteristiche e metodi che rappresentano le azioni eseguibili su di esso. Gli attributi forniscono informazioni specifiche sull'oggetto, mentre i metodi consentono di effettuare operazioni e manipolazioni sui dati contenuti nell'oggetto stesso.\n",
    "\n",
    "### La funzione `lambda`\n",
    "\n",
    "Python offre una sintassi alternativa che consente di definire funzioni \"inline\", cioè in una singola linea di codice. Queste funzioni, chiamate funzioni anonime, non richiedono una definizione esplicita poiché vengono utilizzate solo nel punto in cui sono dichiarate. Per creare una funzione anonima, utilizziamo la parola chiave `lambda`, seguita da un elenco di argomenti separati da virgole, due punti \":\" e l'espressione che definisce il comportamento della funzione basandosi sugli argomenti forniti. \n",
    "\n",
    "```\n",
    "lambda argomento1, argomento2, ... : espressione\n",
    "```\n",
    "\n",
    "Questa sintassi permette di creare funzioni semplici ed espressive in modo conciso.\n",
    "\n",
    "Nell'esempio seguente, la funzione somma 1 al valore passato come input:"
   ]
  },
  {
   "cell_type": "code",
   "execution_count": 11,
   "id": "34dec2e5-0e93-41aa-b493-6d87cf62ef44",
   "metadata": {},
   "outputs": [
    {
     "data": {
      "text/plain": [
       "3"
      ]
     },
     "execution_count": 11,
     "metadata": {},
     "output_type": "execute_result"
    }
   ],
   "source": [
    "(lambda x : x + 1)(2)"
   ]
  },
  {
   "cell_type": "markdown",
   "metadata": {},
   "source": [
    "Quando eseguiamo `(lambda x : x + 1)(2)`, avviene quanto segue:\n",
    "\n",
    "1. L'interprete Python definisce la funzione lambda `lambda x : x + 1`.\n",
    "2. La funzione lambda viene immediatamente chiamata con l'argomento `2`.\n",
    "3. All'interno della funzione lambda, `x` viene sostituito da `2`, quindi l'espressione `x + 1` diventa `2 + 1`.\n",
    "4. La funzione lambda restituisce `3`.\n",
    "\n",
    "Quindi, il risultato dell'espressione `(lambda x : x + 1)(2)` è `3`.\n",
    "\n",
    "In sintesi, la funzione lambda `(lambda x : x + 1)` definisce una funzione che aggiunge 1 al suo argomento. Quando la chiamiamo con l'argomento `2`, otteniamo `3` come risultato."
   ]
  },
  {
   "attachments": {},
   "cell_type": "markdown",
   "id": "1bc55ec3-1e11-4bc0-b659-08520fac6c3b",
   "metadata": {},
   "source": [
    "In questo secondo esempio sommiamo i due numeri in entrata:"
   ]
  },
  {
   "cell_type": "code",
   "execution_count": 7,
   "id": "fa95085a-7e40-441d-8bf3-44d36d7a4bdf",
   "metadata": {},
   "outputs": [
    {
     "data": {
      "text/plain": [
       "5"
      ]
     },
     "execution_count": 7,
     "metadata": {},
     "output_type": "execute_result"
    }
   ],
   "source": [
    "(lambda x, y: x + y)(2, 3)"
   ]
  },
  {
   "attachments": {},
   "cell_type": "markdown",
   "id": "715c099b-4e3f-4e27-9f6e-c7dbd59c6731",
   "metadata": {},
   "source": [
    "La sintassi seguente è valida in quanto, per l'interprete, il carattere `_` corrisponde all'ultima funzione che è stata valutata:"
   ]
  },
  {
   "cell_type": "code",
   "execution_count": 8,
   "id": "d17d64fd-dc1a-4f39-8208-89f31cf12fd7",
   "metadata": {},
   "outputs": [
    {
     "data": {
      "text/plain": [
       "<function __main__.<lambda>(x, y)>"
      ]
     },
     "execution_count": 8,
     "metadata": {},
     "output_type": "execute_result"
    }
   ],
   "source": [
    "lambda x, y: x + y"
   ]
  },
  {
   "cell_type": "code",
   "execution_count": 9,
   "id": "ec77dfda-1743-485e-8880-140fca64ca59",
   "metadata": {},
   "outputs": [
    {
     "data": {
      "text/plain": [
       "30"
      ]
     },
     "execution_count": 9,
     "metadata": {},
     "output_type": "execute_result"
    }
   ],
   "source": [
    "_(20, 10)"
   ]
  },
  {
   "attachments": {},
   "cell_type": "markdown",
   "id": "40ffc4d7-c9f9-4e3f-9a90-1e8fc8967944",
   "metadata": {},
   "source": [
    "Si noti che abbiamo valutato la funzione `lambda x, y: x + y` in una cella precedente a quella che contiene `_(20, 10)`; inserendo le due espressioni in una singola cella si ottiene un `SyntaxError`."
   ]
  },
  {
   "attachments": {},
   "cell_type": "markdown",
   "id": "db11ba8c-a9c6-4d0b-9ebd-d6f0fdcd9827",
   "metadata": {},
   "source": [
    "### Le funzioni `map()` e `filter()`\n",
    "\n",
    "Per gli esercizi che svolgeremo in seguito, risultano utili le funzioni `map()` e `filter()`.\n",
    "\n",
    "La funzione `map()` prende come input una funzione e una lista, e restituisce il risultato dell'applicazione della funzione a ciascun elemento della lista (è anche possibile usare qualsiasi oggetto iterabile al posto della lista). La lista stessa rimane invariata. Ad esempio, la seguente linea di codice eleva al quadrato ciascuno degli elementi della lista `a` e salva il risultato nella lista `b`:"
   ]
  },
  {
   "cell_type": "code",
   "execution_count": 16,
   "id": "1a5825f2-9b92-4dc0-a272-283e6d7ca9c8",
   "metadata": {},
   "outputs": [
    {
     "data": {
      "text/plain": [
       "[1, 4, 9, 16, 25, 36, 49, 64, 81, 100]"
      ]
     },
     "execution_count": 16,
     "metadata": {},
     "output_type": "execute_result"
    }
   ],
   "source": [
    "a = [1, 2, 3, 4, 5, 6, 7, 8, 9, 10]\n",
    "b = list(map(lambda x: x * x, a))\n",
    "b"
   ]
  },
  {
   "attachments": {},
   "cell_type": "markdown",
   "id": "b3c54894-124d-4fd5-92c0-89f36f290822",
   "metadata": {},
   "source": [
    "Un'altra funzione molto utile per manipolare gli oggetti iterabili è la funzione `filter()`. Questa funzione filtra un oggetto iterabile selezionando solo gli elementi che rispondono ad un determinato predicato. (Il predicato è una funzione che restituisce un booleano). Per esempio"
   ]
  },
  {
   "cell_type": "code",
   "execution_count": 17,
   "id": "90a4f704-b143-40da-aec7-57979304b3b2",
   "metadata": {},
   "outputs": [
    {
     "data": {
      "text/plain": [
       "[64, 81, 100]"
      ]
     },
     "execution_count": 17,
     "metadata": {},
     "output_type": "execute_result"
    }
   ],
   "source": [
    "c = list(filter(lambda x: x > 50, b))\n",
    "c"
   ]
  },
  {
   "attachments": {},
   "cell_type": "markdown",
   "id": "dcef82f0-c429-4526-aab9-069ca3dc1198",
   "metadata": {},
   "source": [
    "Sia `map()` che `filter()` restituiscono risultati che non sono ancora stati calcolati. "
   ]
  },
  {
   "cell_type": "code",
   "execution_count": 18,
   "id": "1473b72b-c777-4c21-a36a-ad58b79f87df",
   "metadata": {},
   "outputs": [
    {
     "data": {
      "text/plain": [
       "<filter at 0x171da9720>"
      ]
     },
     "execution_count": 18,
     "metadata": {},
     "output_type": "execute_result"
    }
   ],
   "source": [
    "filter(lambda x: x > 50, b)"
   ]
  },
  {
   "attachments": {},
   "cell_type": "markdown",
   "id": "ca1a5073-6ad9-4a48-ac80-eca64cce37dd",
   "metadata": {},
   "source": [
    "Possiamo visualizzare il risultato convertendolo in una lista:"
   ]
  },
  {
   "cell_type": "code",
   "execution_count": 19,
   "id": "a3737a09-bede-4ac5-bfe1-3c1c324c4195",
   "metadata": {},
   "outputs": [
    {
     "data": {
      "text/plain": [
       "[64, 81, 100]"
      ]
     },
     "execution_count": 19,
     "metadata": {},
     "output_type": "execute_result"
    }
   ],
   "source": [
    "list(filter(lambda x: x > 50, b))"
   ]
  },
  {
   "attachments": {},
   "cell_type": "markdown",
   "id": "b5263ac6-c36e-421b-8d77-9feeb432779b",
   "metadata": {},
   "source": [
    "### La funzione `zip()`\n",
    "\n",
    "La funzione `zip()` crea una lista di tuple dagli elementi di due contenitori. Come nel caso delle operazioni precedenti, gli elementi vengono calcolati solo quando viene richiesto. Per esempio:"
   ]
  },
  {
   "cell_type": "code",
   "execution_count": 20,
   "id": "60714842-27fc-44be-bfa0-bf70cd9e2a37",
   "metadata": {},
   "outputs": [
    {
     "data": {
      "text/plain": [
       "[0, 1, 2, 3]"
      ]
     },
     "execution_count": 20,
     "metadata": {},
     "output_type": "execute_result"
    }
   ],
   "source": [
    "a = list(range(4))\n",
    "a"
   ]
  },
  {
   "cell_type": "code",
   "execution_count": 21,
   "id": "690482c2-52a2-4474-b692-ae315b747f7d",
   "metadata": {},
   "outputs": [
    {
     "data": {
      "text/plain": [
       "[4, 5, 6, 7]"
      ]
     },
     "execution_count": 21,
     "metadata": {},
     "output_type": "execute_result"
    }
   ],
   "source": [
    "b = list(range(4, 8))\n",
    "b"
   ]
  },
  {
   "cell_type": "code",
   "execution_count": 22,
   "id": "473fe5eb-bb4f-4b59-939b-8f8f3d20f5ad",
   "metadata": {},
   "outputs": [
    {
     "data": {
      "text/plain": [
       "<zip at 0x172034f80>"
      ]
     },
     "execution_count": 22,
     "metadata": {},
     "output_type": "execute_result"
    }
   ],
   "source": [
    "b = zip(a, b)\n",
    "b"
   ]
  },
  {
   "cell_type": "code",
   "execution_count": 23,
   "id": "477e99cf-00a5-48ff-9a4e-7746c4aa3ac8",
   "metadata": {},
   "outputs": [
    {
     "data": {
      "text/plain": [
       "[(0, 4), (1, 5), (2, 6), (3, 7)]"
      ]
     },
     "execution_count": 23,
     "metadata": {},
     "output_type": "execute_result"
    }
   ],
   "source": [
    "list(b)"
   ]
  },
  {
   "attachments": {},
   "cell_type": "markdown",
   "id": "5cadb513-4f59-4ebe-ba8b-4d49a90a999b",
   "metadata": {},
   "source": [
    "## Il flusso di esecuzione\n",
    "\n",
    "In Python il codice viene eseguito sequenzialmente, partendo dalla prima riga fino a quando non c'è più nulla da eseguire. L'ordine di esecuzione delle varie istruzioni è detto *flusso di esecuzione*. \n",
    "\n",
    "Per esempio la cella seguente prima memorizza la lista `names`, poi la lista `born` e infine la lista `dead`.  "
   ]
  },
  {
   "cell_type": "code",
   "execution_count": 24,
   "id": "ea4f124a-203a-49bd-b5b5-cef65e7dada2",
   "metadata": {},
   "outputs": [],
   "source": [
    "names = [\"Sigmund Freud\", \"Jean Piaget\", \"Burrhus Frederic Skinner\", \"Albert Bandura\"]\n",
    "born = [1856, 1896, 1904, 1925]\n",
    "dead = [1939, 1980, 1990, None]"
   ]
  },
  {
   "attachments": {},
   "cell_type": "markdown",
   "id": "3eff8382-84c6-42fa-97f5-80183ae827f5",
   "metadata": {},
   "source": [
    "Ho usato il valore speciale `None` in quanto non risulta disponibile l'anno. In queste situazioni si parla di *valori mancanti* (*missing values*) che, di norma, vengono indicati con la sigla NA (*not available*). \n",
    "\n",
    "La cella seguente include le istruzioni condizionali che specificano se e quando devono essere eseguiti determinati blocchi di codice. La più semplice istruzione di controllo è l'istruzione `if`. Per esempio:"
   ]
  },
  {
   "cell_type": "code",
   "execution_count": 25,
   "id": "2860624a-1451-48d9-a48e-a4d9b38bab2f",
   "metadata": {},
   "outputs": [
    {
     "name": "stdout",
     "output_type": "stream",
     "text": [
      "Maria, hai ottenuto un ottimo voto all'esame!\n",
      "Tu potresti essere Giovanna oppure potresti avere ottenuto un ottimo voto all'esame.\n",
      "Tu non sei Giovanna ma hai ottenuto un ottimo voto all'esame.\n"
     ]
    }
   ],
   "source": [
    "name = \"Maria\"\n",
    "grade = 29\n",
    "\n",
    "if name == \"Maria\" and grade > 28:\n",
    "    print(\"Maria, hai ottenuto un ottimo voto all'esame!\")\n",
    "\n",
    "if name == \"Giovanna\" or grade > 28:\n",
    "    print(\n",
    "        \"Tu potresti essere Giovanna oppure potresti avere ottenuto un ottimo voto all'esame.\"\n",
    "    )\n",
    "\n",
    "if name != \"Giovanna\" and grade > 28:\n",
    "    print(\"Tu non sei Giovanna ma hai ottenuto un ottimo voto all'esame.\")\n"
   ]
  },
  {
   "attachments": {},
   "cell_type": "markdown",
   "id": "4d596c8c-95b5-4eca-8ede-edc965b70dad",
   "metadata": {},
   "source": [
    "Tutte e tre le condizioni precedenti ritornano `True`, quindi vengono stampati tutti e tre i messaggi. \n",
    "\n",
    "Si noti che `==` e `!=` confrontano *valori*, mentre `is` e `not` confrontano *oggetti*. Per esempio,"
   ]
  },
  {
   "cell_type": "code",
   "execution_count": 26,
   "id": "3559d3fa-ddab-410c-92f7-534671511213",
   "metadata": {},
   "outputs": [
    {
     "name": "stdout",
     "output_type": "stream",
     "text": [
      "False\n",
      "False\n"
     ]
    }
   ],
   "source": [
    "name_list = [\"Maria\", \"Giovanna\"]\n",
    "name_list_two = [\"Marco\", \"Francesco\"]\n",
    "\n",
    "# Compare values\n",
    "print(name_list == name_list_two)\n",
    "\n",
    "# Compare objects\n",
    "print(name_list is name_list_two)\n"
   ]
  },
  {
   "attachments": {},
   "cell_type": "markdown",
   "id": "4f4e74c5-56de-464b-b65d-706b1c6cd94a",
   "metadata": {},
   "source": [
    "Una delle parole chiave condizionali più utili è `in`. Un esempio è il seguente:"
   ]
  },
  {
   "cell_type": "code",
   "execution_count": 27,
   "id": "eaea8c50-d281-47fb-be1d-b7ddc90daa5b",
   "metadata": {},
   "outputs": [
    {
     "name": "stdout",
     "output_type": "stream",
     "text": [
      "True\n",
      "False\n"
     ]
    }
   ],
   "source": [
    "name_list = [\"Maria\", \"Giovanna\", \"Marco\", \"Francesco\"]\n",
    "\n",
    "print(\"Giovanna\" in name_list)\n",
    "print(\"Luca\" in name_list)"
   ]
  },
  {
   "attachments": {},
   "cell_type": "markdown",
   "id": "4c6856b4-70d1-428b-a72c-b03e8f811224",
   "metadata": {},
   "source": [
    "La condizione opposta è `not in`."
   ]
  },
  {
   "cell_type": "code",
   "execution_count": 28,
   "id": "cdcf912a-d9bc-4e02-8030-fb344188ca33",
   "metadata": {},
   "outputs": [
    {
     "name": "stdout",
     "output_type": "stream",
     "text": [
      "True\n"
     ]
    }
   ],
   "source": [
    "print(\"Luca\" not in name_list)"
   ]
  },
  {
   "attachments": {},
   "cell_type": "markdown",
   "id": "477b1826-5b36-4f91-a694-0c206b4708b9",
   "metadata": {},
   "source": [
    "Facciamo un altro esempio."
   ]
  },
  {
   "cell_type": "code",
   "execution_count": 29,
   "id": "b78671ff-0139-4f95-9f9f-4815e87c7628",
   "metadata": {},
   "outputs": [
    {
     "name": "stdout",
     "output_type": "stream",
     "text": [
      "Sei maggiorenne\n"
     ]
    }
   ],
   "source": [
    "age = 26\n",
    "if age >= 18:\n",
    "    print(\"Sei maggiorenne\")"
   ]
  },
  {
   "cell_type": "markdown",
   "id": "4ab8babc-6df0-46e5-b3d4-02acc19addcc",
   "metadata": {},
   "source": [
    "Python dispone di un'espressione ternaria che introduce la potenza dell'istruzione 'else' in una sintassi concisa:"
   ]
  },
  {
   "cell_type": "code",
   "execution_count": 30,
   "id": "b19d0f37-e106-42d7-8855-d45e310be6e3",
   "metadata": {},
   "outputs": [
    {
     "name": "stdout",
     "output_type": "stream",
     "text": [
      "Sei maggiorenne\n"
     ]
    }
   ],
   "source": [
    "age = 26\n",
    "b = \"Sei maggiorenne\" if age >=18 else \"Sei minorenne\"\n",
    "print(b)"
   ]
  },
  {
   "cell_type": "code",
   "execution_count": 31,
   "id": "eb45fed4-10dd-42d7-a7d3-83e027af82a1",
   "metadata": {},
   "outputs": [
    {
     "name": "stdout",
     "output_type": "stream",
     "text": [
      "Sei minorenne\n"
     ]
    }
   ],
   "source": [
    "age = 16\n",
    "b = \"Sei maggiorenne\" if age >=18 else \"Sei minorenne\"\n",
    "print(b)"
   ]
  },
  {
   "attachments": {},
   "cell_type": "markdown",
   "id": "a3d4d46c-42b0-4076-8f52-65573d2aebef",
   "metadata": {},
   "source": [
    "Una struttura di selezione leggermente più complessa è \"if-else\". La sintassi di questa struttura è la seguente:\n",
    "\n",
    "```\n",
    "if <condizione>:\n",
    "    <istruzione_se_condizione_vera>\n",
    "else:\n",
    "    <istruzione_se_condizione_falsa>\n",
    "```\n",
    "\n",
    "La semantica di \"if-else\" è quella che ci si aspetta: la condizione tra la parola chiave `if` e il carattere di due punti viene valutata: se risulta vera viene eseguita l'istruzione alla linea seguente, altrimenti viene eseguita l'istruzione dopo la parola chiave `else`. Anche in questo caso l'indentazione permette di identificare quali istruzioni devono essere eseguite nei due rami della selezione. Per esempio:"
   ]
  },
  {
   "cell_type": "code",
   "execution_count": 32,
   "id": "fddd3712-1a98-4cb9-a78b-9e960bdb743a",
   "metadata": {},
   "outputs": [
    {
     "name": "stdout",
     "output_type": "stream",
     "text": [
      "Sei minorenne\n"
     ]
    }
   ],
   "source": [
    "age = 16\n",
    "if age >= 18:\n",
    "    print(\"Sei maggiorenne\")\n",
    "else:\n",
    "    print(\"Sei minorenne\")"
   ]
  },
  {
   "attachments": {},
   "cell_type": "markdown",
   "id": "42cdfc1e-22cb-42b6-acb1-5ef2b49d9d69",
   "metadata": {},
   "source": [
    "In presenza di più di due possibilità mutuamente esclusive ed esaustive possiamo usare l'istruzione `elif`. Per esempio:"
   ]
  },
  {
   "cell_type": "code",
   "execution_count": 33,
   "id": "45c3c578-d9b3-4ca5-ac40-de8e30a0d6d8",
   "metadata": {},
   "outputs": [
    {
     "name": "stdout",
     "output_type": "stream",
     "text": [
      "Ripassa tra qualche anno!\n"
     ]
    }
   ],
   "source": [
    "cfu = 36\n",
    "thesis_defense = False\n",
    "\n",
    "if cfu >= 180 and thesis_defense == True:\n",
    "    print(\"Puoi andare a festeggiare!\")\n",
    "elif cfu >= 180 and thesis_defense == False:\n",
    "    print(\"Devi ancora superare la prova finale!\")\n",
    "else:\n",
    "    print(\"Ripassa tra qualche anno!\")\n"
   ]
  },
  {
   "attachments": {},
   "cell_type": "markdown",
   "id": "de0f3442-f922-4ec9-9ca3-bf062de883a5",
   "metadata": {},
   "source": [
    "### Commenti\n",
    "In Python è possibile usare il carattere # per aggiungere commenti al codice. Ogni riga di commento deve essere preceduta da un #. I commenti non devono spiegare il metodo (cosa fa il codice: quello si vede), ma bensì lo scopo: *quello che noi intendiamo ottenere*. I primi destinatari dei commenti siamo noi stessi tra un po' di tempo, ovvero quando ci saremo dimenticati cosa avevamo in mente quando abbiamo scritto il codice."
   ]
  },
  {
   "cell_type": "code",
   "execution_count": 18,
   "id": "d0a03324-e2f9-4bdb-9b1c-e62f8f1ec3e8",
   "metadata": {},
   "outputs": [],
   "source": [
    "# This is a comment and will not be executed."
   ]
  },
  {
   "attachments": {},
   "cell_type": "markdown",
   "id": "7e9909c6-2640-4648-8008-0320b04ce15d",
   "metadata": {},
   "source": [
    "## Cicli\n",
    "\n",
    "Un ciclo è un modo per eseguire una porzione di codice più di una volta. I cicli sono fondamentali nei linguaggi di programmazione. Come molti altri linguaggi di programmazione, Python ha due tipi di cicli per gestire tutte le proprie necessità di iterazione: il ciclo \"while\" e il ciclo \"for\".\n",
    "\n",
    "### Il ciclo `while`\n",
    "\n",
    "il ciclo `while` permette l'esecuzione di un blocco di codice finché una determinata condizione è True. Per esempio:"
   ]
  },
  {
   "cell_type": "code",
   "execution_count": 34,
   "id": "13f29547-9f80-4d02-8920-a218c78921db",
   "metadata": {},
   "outputs": [
    {
     "name": "stdout",
     "output_type": "stream",
     "text": [
      "0\n",
      "1\n",
      "2\n",
      "3\n",
      "4\n",
      "5\n",
      "6\n",
      "7\n",
      "8\n",
      "9\n",
      "10\n"
     ]
    }
   ],
   "source": [
    "counter = 0\n",
    "\n",
    "while counter <= 10:\n",
    "    print(counter)\n",
    "    counter += 1"
   ]
  },
  {
   "attachments": {},
   "cell_type": "markdown",
   "id": "7293fefa-b144-4f62-945b-7494f387bb28",
   "metadata": {},
   "source": [
    "Il codice `counter += 1` è equivalente a `counter = counter + 1` e, ogni qualvolta viene eseguito il ciclo, riassegna alla variabile `counter` il valore che aveva in precedenza + 1.\n",
    "\n",
    "L'istruzione `while` controlla se alla variabile `counter` è associato un valore minore o uguale a 10. Nel primo passo del ciclo la condizione è soddisfatta, avendo noi definito `counter = 0`, pertanto il programma entra nel loop, stampa il valore della variabile `counter` e incrementa `counter` di un'unità. \n",
    "\n",
    "Questo comportamento si ripete finché la condizione `counter <= 10` risulta `True`. Quando il contatore `counter` assume il valore 11 il ciclo `while` si interrompe e il blocco di codice del ciclo non viene più eseguito.\n",
    "\n",
    "### Il ciclo `for`\n",
    "\n",
    "Il ciclo `for` è un costrutto di controllo di flusso che viene utilizzato per iterare su una sequenza di valori, come ad esempio una lista, una tupla, una stringa o un dizionario.\n",
    "\n",
    "La sintassi generale di un ciclo for in Python è la seguente:\n",
    "\n",
    "```\n",
    "for element in sequence:\n",
    "    # codice da eseguire\n",
    "```\n",
    "\n",
    "Dove `element` è una variabile temporanea che assume il valore di ciascun elemento della sequenza ad ogni iterazione del ciclo, e `sequence` è la sequenza di valori su cui iterare.\n",
    "\n",
    "Durante l'esecuzione del ciclo, il blocco di codice indentato sotto la linea for viene eseguito una volta per ogni elemento della sequenza. Ad ogni iterazione, la variabile elemento assume il valore dell'elemento corrente della sequenza e il codice all'interno del blocco viene eseguito con questo valore.\n",
    "\n",
    "Il ciclo `for` è spesso utilizzato per eseguire operazioni su ciascun elemento di una sequenza, come ad esempio la somma degli elementi di una lista o la stampa di ciascun carattere di una stringa. Per esempio"
   ]
  },
  {
   "cell_type": "code",
   "execution_count": 35,
   "id": "e64bab48-3d4d-40b8-a81f-ad99ba57e132",
   "metadata": {},
   "outputs": [
    {
     "name": "stdout",
     "output_type": "stream",
     "text": [
      "0\n",
      "1\n",
      "2\n",
      "3\n",
      "4\n",
      "5\n"
     ]
    }
   ],
   "source": [
    "numbers = [0, 1, 2, 3, 4, 5]\n",
    "for number in numbers: # number is temporary name to refer to the list's items, valid only inside this loop\n",
    "    print(number)"
   ]
  },
  {
   "cell_type": "code",
   "execution_count": 36,
   "id": "c7f5f883-0367-4909-bca6-90c75e35e90c",
   "metadata": {},
   "outputs": [
    {
     "name": "stdout",
     "output_type": "stream",
     "text": [
      "P\n",
      "y\n",
      "t\n",
      "h\n",
      "o\n",
      "n\n"
     ]
    }
   ],
   "source": [
    "language = \"Python\"\n",
    "for letter in language:\n",
    "    print(letter)"
   ]
  },
  {
   "attachments": {},
   "cell_type": "markdown",
   "id": "bc974eb1-3e0a-40d0-a276-137fc3a02b73",
   "metadata": {},
   "source": [
    "La funzione `range()` è spesso usata nei cicli `for` e permette di impostare un intervallo di esecuzione tanto ampio quanto il numero che le passiamo come parametro meno uno. \n",
    "\n",
    "La funzione `range()` prende tre parametri: start (default 0), stop e step (default 1), ovvero un punto di inizio dell'intervallo, un punto di fine e un passo di avanzamento. L'indicizzazione Python parte da 0; quindi `range(0, 11, 1)` una lista di 11 elementi, da 0 a 10 inclusi. "
   ]
  },
  {
   "cell_type": "code",
   "execution_count": 37,
   "id": "0d6cf779-1b25-4b1e-9e66-8fcb3b3e9cf8",
   "metadata": {},
   "outputs": [
    {
     "name": "stdout",
     "output_type": "stream",
     "text": [
      "[0, 1, 2, 3, 4, 5, 6, 7, 8, 9, 10]\n"
     ]
    }
   ],
   "source": [
    "print(list(range(0, 11, 1)))"
   ]
  },
  {
   "attachments": {},
   "cell_type": "markdown",
   "id": "72c8122b-997e-4094-812c-697d0b55d393",
   "metadata": {},
   "source": [
    "Ad esempio, impostiamo un punto di inizio a 3, il punto di fine a 11 e un passo di 2:"
   ]
  },
  {
   "cell_type": "code",
   "execution_count": 38,
   "id": "cc904c5f-c4ae-4944-9067-ebc85afd10a1",
   "metadata": {},
   "outputs": [
    {
     "name": "stdout",
     "output_type": "stream",
     "text": [
      "[3, 5, 7, 9, 11]\n"
     ]
    }
   ],
   "source": [
    "print(list(range(3, 12, 2)))"
   ]
  },
  {
   "attachments": {},
   "cell_type": "markdown",
   "id": "e756ebea-4ce4-465e-afd2-2d8e3033cd6e",
   "metadata": {},
   "source": [
    "In un ciclo `for`, l'intervallo di `range()` corrisponde al numero di iterazioni che verranno eseguite, ovvero al numero di volte che il ciclo verrà processato. Nel caso seguente, l'indice del ciclo (qui chiamato `number`) assume il valore 0 la prima volta che il ciclo viene eseguito e il valore 10 nell'ultima esecuzione del ciclo."
   ]
  },
  {
   "cell_type": "code",
   "execution_count": 39,
   "id": "081d4e1f-4664-4aeb-a678-f0e20dd38554",
   "metadata": {},
   "outputs": [
    {
     "name": "stdout",
     "output_type": "stream",
     "text": [
      "0\n",
      "1\n",
      "2\n",
      "3\n",
      "4\n",
      "5\n",
      "6\n",
      "7\n",
      "8\n",
      "9\n",
      "10\n"
     ]
    }
   ],
   "source": [
    "for number in range(11):\n",
    "    print(number)"
   ]
  },
  {
   "cell_type": "code",
   "execution_count": 40,
   "id": "ff29b6af-0037-4f46-817f-41bcc3160f0c",
   "metadata": {},
   "outputs": [
    {
     "name": "stdout",
     "output_type": "stream",
     "text": [
      "3\n",
      "5\n",
      "7\n",
      "9\n",
      "11\n"
     ]
    }
   ],
   "source": [
    "for number in range(3, 12, 2):\n",
    "    print(number)"
   ]
  },
  {
   "attachments": {},
   "cell_type": "markdown",
   "id": "0bb9ae8a-a596-4da3-8a32-67e1a83e6c56",
   "metadata": {},
   "source": [
    "#### Cicli `for` annidati\n",
    "\n",
    "Sono possibili i cicli `for` annidati, vale a dire un ciclo posto all'interno del corpo di un altro (chiamato ciclo esterno). Al suo primo passo, il ciclo esterno mette in esecuzione quello interno che esegue il proprio blocco di codice fino alla conclusione. Quindi, al secondo passo, il ciclo esterno rimette in esecuzione quello interno. Questo si ripete finché il ciclo esterno non termina. Per esempio:"
   ]
  },
  {
   "cell_type": "code",
   "execution_count": 41,
   "id": "f02dcec0-820f-4950-aa92-b1c4376b0c43",
   "metadata": {},
   "outputs": [
    {
     "name": "stdout",
     "output_type": "stream",
     "text": [
      "(0, 0)\n",
      "(0, 1)\n",
      "(0, 2)\n",
      "(0, 3)\n",
      "(1, 0)\n",
      "(1, 1)\n",
      "(1, 2)\n",
      "(1, 3)\n",
      "(2, 0)\n",
      "(2, 1)\n",
      "(2, 2)\n",
      "(2, 3)\n",
      "(3, 0)\n",
      "(3, 1)\n",
      "(3, 2)\n",
      "(3, 3)\n"
     ]
    }
   ],
   "source": [
    "for i in range(4):\n",
    "    for j in range(4):\n",
    "        print((i, j))"
   ]
  },
  {
   "attachments": {},
   "cell_type": "markdown",
   "id": "dc2261cd-afce-4fd7-9133-3882c27a9562",
   "metadata": {},
   "source": [
    "#### Modificare gli elementi di una lista\n",
    "\n",
    "Il ciclo `for` è il modo più comune per scorrere gli elementi di una lista, come abbiamo visto in precedenza."
   ]
  },
  {
   "cell_type": "code",
   "execution_count": 43,
   "id": "983dc659-0eeb-46da-b76c-2734fce7f587",
   "metadata": {},
   "outputs": [
    {
     "name": "stdout",
     "output_type": "stream",
     "text": [
      "Maria\n",
      "Giovanna\n",
      "Marco\n",
      "Francesco\n"
     ]
    }
   ],
   "source": [
    "for name in name_list:\n",
    "    print(name)"
   ]
  },
  {
   "attachments": {},
   "cell_type": "markdown",
   "id": "9dcff208-74d4-49e2-bd90-1cac89992491",
   "metadata": {},
   "source": [
    "Questo approccio può essere usato se abbiamo solo bisogno di leggere gli elementi della lista. Nel ciclo seguente, ad esempio, leggiamo gli elementi d una lista per incrementare una variabile così da calcolare una somma."
   ]
  },
  {
   "cell_type": "code",
   "execution_count": 44,
   "id": "1d08bcf1-367f-4544-ac08-1a116ed2dd11",
   "metadata": {},
   "outputs": [
    {
     "name": "stdout",
     "output_type": "stream",
     "text": [
      "8\n"
     ]
    }
   ],
   "source": [
    "numbers = [2, -4, 1, 6, 3]\n",
    "\n",
    "total = 0\n",
    "for num in numbers:\n",
    "    total += num\n",
    "\n",
    "print(total)"
   ]
  },
  {
   "attachments": {},
   "cell_type": "markdown",
   "id": "9d62e9cd-f965-4a22-ac2d-b8b3cc1c4efe",
   "metadata": {},
   "source": [
    "Ma se vogliamo cambiare gli elementi di una lista l'approccio precedente non funziona e dobbiamo usare gli indici. Nell'esempio seguente, questo risultato viene ottenuto utilizzando le funzioni `range` e `len`:"
   ]
  },
  {
   "cell_type": "code",
   "execution_count": 45,
   "id": "5754f3e5-ef3c-4d43-b4fe-430c2dd7394b",
   "metadata": {},
   "outputs": [
    {
     "name": "stdout",
     "output_type": "stream",
     "text": [
      "[4, -8, 2, 12, 6]\n"
     ]
    }
   ],
   "source": [
    "numbers = [2, -4, 1, 6, 3]\n",
    "\n",
    "for i in range(len(numbers)):\n",
    "    numbers[i] = numbers[i] * 2\n",
    "\n",
    "print(numbers)"
   ]
  },
  {
   "attachments": {},
   "cell_type": "markdown",
   "id": "16614f74-d97b-424b-a389-49f6a5cdf56c",
   "metadata": {},
   "source": [
    "Nel codice seguente, la funzione `len()` ritorna 5."
   ]
  },
  {
   "cell_type": "code",
   "execution_count": 46,
   "id": "be7c7acc-4a9f-455d-88ed-44316e07d152",
   "metadata": {},
   "outputs": [
    {
     "data": {
      "text/plain": [
       "5"
      ]
     },
     "execution_count": 46,
     "metadata": {},
     "output_type": "execute_result"
    }
   ],
   "source": [
    "numbers = [2, -4, 1, 6, 3]\n",
    "len(numbers)"
   ]
  },
  {
   "attachments": {},
   "cell_type": "markdown",
   "id": "c4584464-0e1c-46ae-a81f-025dc984446e",
   "metadata": {},
   "source": [
    "Quindi, `range(5)` produce la seguente sequenza iterabile:"
   ]
  },
  {
   "cell_type": "code",
   "execution_count": 47,
   "id": "c0850e60-0b01-40de-9ffb-bbc21007e2d5",
   "metadata": {},
   "outputs": [
    {
     "data": {
      "text/plain": [
       "[0, 1, 2, 3, 4]"
      ]
     },
     "execution_count": 47,
     "metadata": {},
     "output_type": "execute_result"
    }
   ],
   "source": [
    "list(range(5))"
   ]
  },
  {
   "attachments": {},
   "cell_type": "markdown",
   "id": "f3484b95-7359-43d8-a51d-f7665e96bcac",
   "metadata": {},
   "source": [
    "Questi sono gli indici che verranno usati nelle iterazioni del ciclo `for`.\n",
    "\n",
    "- La prima volta che il ciclo viene eseguito, l'indice `i` vale 0 e `numbers[i]` si riferisce al primo elemento della lista;\n",
    "- la seconda volta che il ciclo viene eseguito, `i` vale 1 e `numbers[i]` si riferisce al secondo elemento della lista; \n",
    "- e così via. \n",
    "\n",
    "L'istruzione di assegnazione nel corpo del ciclo `for` usa `i` per leggere il valore *i*-esimo della lista originale (a destra dell'uguale) e per assegnargli un nuovo valore (a sinistra dell'uguale)."
   ]
  },
  {
   "attachments": {},
   "cell_type": "markdown",
   "id": "d1e31eb4-259e-494a-80e7-433674b70bd8",
   "metadata": {},
   "source": [
    "### List comprehension\n",
    "\n",
    "Una *list comprehension* è un modo conciso di creare una lista. È un modo compatto per creare una nuova lista. Accade speso di dover creare una lista dove ciascun elemento è il risultato di un'operazione condotta sugli elementi di un'altra lista o di un iterabile; oppure, di dover estrarre gli elementi che soddisfano una certa condizione. Per esempio, supponiamo di volere sommare una costante ad una lista di numeri. Usando un ciclo `for` possiamo procedere nel modo seguente (si noti l'uso della funzione `append`):"
   ]
  },
  {
   "cell_type": "code",
   "execution_count": 48,
   "id": "8898ea39-cd9f-48f8-bae3-733852084942",
   "metadata": {},
   "outputs": [
    {
     "data": {
      "text/plain": [
       "[10, 11, 12, 13, 14, 15, 16, 17, 18, 19]"
      ]
     },
     "execution_count": 48,
     "metadata": {},
     "output_type": "execute_result"
    }
   ],
   "source": [
    "new_list = []\n",
    "k = 10\n",
    "for x in range(10):\n",
    "    new_list.append(x + k)\n",
    "\n",
    "new_list"
   ]
  },
  {
   "attachments": {},
   "cell_type": "markdown",
   "id": "c2d0b14e-ec08-4610-b998-e656d12272e9",
   "metadata": {},
   "source": [
    "Oppure, in maniera più semplice, possiamo usare una *list comprehension*:"
   ]
  },
  {
   "cell_type": "code",
   "execution_count": 49,
   "id": "e31d774b-fde7-484e-9dc7-9e2778145c2e",
   "metadata": {},
   "outputs": [
    {
     "data": {
      "text/plain": [
       "[10, 11, 12, 13, 14, 15, 16, 17, 18, 19]"
      ]
     },
     "execution_count": 49,
     "metadata": {},
     "output_type": "execute_result"
    }
   ],
   "source": [
    "new_list = [x + k for x in range(10)]\n",
    "new_list"
   ]
  },
  {
   "attachments": {},
   "cell_type": "markdown",
   "id": "6205e8e5-fc2c-4007-aaa7-8e0438c7ab5b",
   "metadata": {},
   "source": [
    "Una *list comprehension* è racchiusa tra parentesi quadre; contiene un'espressione, seguita da una clausola `for`, seguita da zero o più clausole `for` o `if`. La sintassi è la seguente:\n",
    "\n",
    "```\n",
    "[ <expression> for item in iterable <if optional_condition> ]\n",
    "```\n",
    "\n",
    "Il risultato è una nuova lista costruita valutando l'espressione nel contesto delle clausole `for` e `if` che la seguono. Una *list comprehension* combina dunque un ciclo `for` e (se necessario) una o più condizioni logiche in una singola riga di codice. Esaminiamo una variante dell'esempio precedente."
   ]
  },
  {
   "cell_type": "code",
   "execution_count": 50,
   "id": "55703190-4137-4f7a-9ed5-a60f29067330",
   "metadata": {},
   "outputs": [
    {
     "name": "stdout",
     "output_type": "stream",
     "text": [
      "list1: [1, 2, 3, 4, 5, 6]\n"
     ]
    }
   ],
   "source": [
    "list1 = [1, 2, 3, 4, 5, 6]\n",
    "print(\"list1:\", list1)"
   ]
  },
  {
   "cell_type": "code",
   "execution_count": 51,
   "id": "70ffa111-8d0b-4dee-9290-1fdb61263e77",
   "metadata": {},
   "outputs": [
    {
     "name": "stdout",
     "output_type": "stream",
     "text": [
      "list2: [2, 3, 4, 5, 6, 7]\n"
     ]
    }
   ],
   "source": [
    "list2 = [item + 1 for item in list1]\n",
    "print(\"list2:\", list2)"
   ]
  },
  {
   "attachments": {},
   "cell_type": "markdown",
   "id": "25407133-a751-4f05-bc8c-d095e45cb680",
   "metadata": {},
   "source": [
    "Si noti che la parola `item` avrebbe potuto essere quasi qualsiasi stringa (in precedenza abbiamo usato `x`). La possiamo immaginare con la seguente definizione: `...per ogni elemento in ...`. Nel seguente esempio, sommiamo 1 agli elementi di `list1` solo se sono pari:"
   ]
  },
  {
   "cell_type": "code",
   "execution_count": 16,
   "id": "70e1e29f-24c1-4d37-b00d-6ac176675101",
   "metadata": {},
   "outputs": [
    {
     "name": "stdout",
     "output_type": "stream",
     "text": [
      "list3: [3, 5, 7]\n"
     ]
    }
   ],
   "source": [
    "list3 = [item + 1 for item in list1 if item % 2 == 0] \n",
    "print('list3:', list3)"
   ]
  },
  {
   "attachments": {},
   "cell_type": "markdown",
   "id": "eacea369-b566-4eed-a3e5-0c426d0b1ed7",
   "metadata": {},
   "source": [
    "Facciamo un altro esempio usando `range()`:"
   ]
  },
  {
   "cell_type": "code",
   "execution_count": 52,
   "id": "f58a78aa-2b1b-445a-9547-70446ceadc0e",
   "metadata": {},
   "outputs": [
    {
     "data": {
      "text/plain": [
       "[51, 52, 53, 54, 55, 56, 57, 58, 59, 60]"
      ]
     },
     "execution_count": 52,
     "metadata": {},
     "output_type": "execute_result"
    }
   ],
   "source": [
    "num_list = range(50, 60)\n",
    "[1 + num for num in num_list]"
   ]
  },
  {
   "attachments": {},
   "cell_type": "markdown",
   "id": "b4f73bcc-2159-45f1-b5af-9ec44f949b14",
   "metadata": {},
   "source": [
    "Qui selezioniamo solo i numeri pari (oltre allo zero):"
   ]
  },
  {
   "cell_type": "code",
   "execution_count": 18,
   "id": "33a08926-e438-44e8-9ad1-cf35bd83a83d",
   "metadata": {},
   "outputs": [
    {
     "data": {
      "text/plain": [
       "[0, 2, 4, 6, 8, 10]"
      ]
     },
     "execution_count": 18,
     "metadata": {},
     "output_type": "execute_result"
    }
   ],
   "source": [
    "[i for i in range(11) if i % 2 == 0]"
   ]
  },
  {
   "attachments": {},
   "cell_type": "markdown",
   "id": "0a0e6282-f891-4ae9-b83c-6b541aa29054",
   "metadata": {},
   "source": [
    "Specificando una condizione, possiamo cambiare il segno solo dei numeri dispari nella lista:"
   ]
  },
  {
   "cell_type": "code",
   "execution_count": 19,
   "id": "22010df7-30a3-4cad-9e60-76bf277486b7",
   "metadata": {},
   "outputs": [
    {
     "data": {
      "text/plain": [
       "[0, -1, 2, -3, 4, -5, 6, -7, 8, -9, 10]"
      ]
     },
     "execution_count": 19,
     "metadata": {},
     "output_type": "execute_result"
    }
   ],
   "source": [
    "[-i if i % 2 else i for i in range(11)]"
   ]
  },
  {
   "attachments": {},
   "cell_type": "markdown",
   "id": "ca3f7a0b-286e-4198-8eeb-7907b973eed1",
   "metadata": {},
   "source": [
    "Possiamo anche eseguire più iterazioni simultaneamente:"
   ]
  },
  {
   "cell_type": "code",
   "execution_count": 53,
   "id": "610a0846-f75d-44dd-8c4f-cdc2e1b5959e",
   "metadata": {},
   "outputs": [
    {
     "data": {
      "text/plain": [
       "[(0, 0),\n",
       " (0, 1),\n",
       " (0, 2),\n",
       " (0, 3),\n",
       " (1, 0),\n",
       " (1, 1),\n",
       " (1, 2),\n",
       " (1, 3),\n",
       " (2, 0),\n",
       " (2, 1),\n",
       " (2, 2),\n",
       " (2, 3)]"
      ]
     },
     "execution_count": 53,
     "metadata": {},
     "output_type": "execute_result"
    }
   ],
   "source": [
    "[(i, j) for i in range(3) for j in range(4)]"
   ]
  },
  {
   "attachments": {},
   "cell_type": "markdown",
   "id": "72c61fa9-a494-48b8-a829-7a533f2ffe12",
   "metadata": {},
   "source": [
    "In questo esempio vengono selezionati solo i nomi inclusi nella lista `female_names`:"
   ]
  },
  {
   "cell_type": "code",
   "execution_count": 54,
   "id": "a61db715-0862-4f83-a195-18006838f7f2",
   "metadata": {},
   "outputs": [
    {
     "name": "stdout",
     "output_type": "stream",
     "text": [
      "['Maria', 'Giovanna']\n"
     ]
    }
   ],
   "source": [
    "first_names = [\"Maria\", \"Marco\", \"Francesco\", \"Giovanna\"]\n",
    "female_names = [\"Alice\", \"Maria\", \"Giovanna\", \"Lisa\"]\n",
    "female_list = [name for name in first_names if name in female_names]\n",
    "print(female_list)"
   ]
  },
  {
   "attachments": {},
   "cell_type": "markdown",
   "id": "e160ff08-14bb-431e-8cac-d9d3729a6c0b",
   "metadata": {},
   "source": [
    "Nel seguente esempio vengono estratte le prime tre lettere di ciascuno dei nomi che compongono una lista:"
   ]
  },
  {
   "cell_type": "code",
   "execution_count": 55,
   "id": "ecd36fbf-8433-4efe-9d8d-7771c6782e55",
   "metadata": {},
   "outputs": [
    {
     "data": {
      "text/plain": [
       "['Mar', 'Mar', 'Fra', 'Gio']"
      ]
     },
     "execution_count": 55,
     "metadata": {},
     "output_type": "execute_result"
    }
   ],
   "source": [
    "letters = [name[0:3] for name in first_names] \n",
    "letters"
   ]
  },
  {
   "attachments": {},
   "cell_type": "markdown",
   "id": "7a1da45b-1874-44c6-8915-c89366cc70f2",
   "metadata": {},
   "source": [
    "Per estrarre l'ultimo carattere di una stringa usiamo `[-1]`:"
   ]
  },
  {
   "cell_type": "code",
   "execution_count": 23,
   "id": "d3e69136-c14a-43b7-b16d-9a26c2deebc6",
   "metadata": {},
   "outputs": [
    {
     "data": {
      "text/plain": [
       "'ù'"
      ]
     },
     "execution_count": 23,
     "metadata": {},
     "output_type": "execute_result"
    }
   ],
   "source": [
    "my_string = \"barbablù\"\n",
    "my_string[-1]"
   ]
  },
  {
   "attachments": {},
   "cell_type": "markdown",
   "id": "610f5f4b-747e-4d47-8c95-677ad654440c",
   "metadata": {},
   "source": [
    "Possiamo dunque usare seguente *list comprehension* estrae gli ultimi tre caratteri di ciascun elemento della lista `first_names`."
   ]
  },
  {
   "cell_type": "code",
   "execution_count": 24,
   "id": "c8480c29-d4f5-4536-95e9-e115c47a6b24",
   "metadata": {},
   "outputs": [
    {
     "data": {
      "text/plain": [
       "['ria', 'rco', 'sco', 'nna']"
      ]
     },
     "execution_count": 24,
     "metadata": {},
     "output_type": "execute_result"
    }
   ],
   "source": [
    "letters = [name[-3:] for name in first_names] \n",
    "letters"
   ]
  },
  {
   "cell_type": "markdown",
   "id": "be23cfa5-442d-48df-a327-434ce9ca7614",
   "metadata": {},
   "source": [
    "È possibile impiegare un'espressione ternaria all'interno di una list comprehension per sfruttare la versatilità dell'istruzione 'else' in modo sintatticamente efficace. Ad esempio, possiamo sostituire tutti i numeri dispari di una lista (un un NumPy array) con il valore 99."
   ]
  },
  {
   "cell_type": "code",
   "execution_count": 15,
   "id": "924870b9-7b27-4b9a-b01d-785fbe535a9d",
   "metadata": {},
   "outputs": [
    {
     "data": {
      "text/plain": [
       "[4, 99, 2, 6, 99, 99]"
      ]
     },
     "execution_count": 15,
     "metadata": {},
     "output_type": "execute_result"
    }
   ],
   "source": [
    "num = np.array([4, 7, 2, 6, 3, 9])  # può anche essere una lista Python\n",
    "[e if e % 2 == 0 else 99 for e in num]"
   ]
  },
  {
   "attachments": {},
   "cell_type": "markdown",
   "id": "c934e43e-f115-4f03-8d5c-ac93174ee57f",
   "metadata": {},
   "source": [
    "## Librerie e moduli\n",
    "\n",
    "### Importare moduli\n",
    "\n",
    "I moduli (anche conosciuti come librerie in altri linguaggi) sono dei file usati per raggruppare funzioni e altri oggetti. Python include una lista estensiva di moduli standard (anche conosciuti come Standard Library), ma è anche possibile scaricarne o definirne di nuovi. Prima di potere utilizzare le funzioni non presenti nella Standard Library all'interno dei nostri programmi dobbiamo importare dei moduli aggiuntivi, e per fare ciò usiamo il comando `import`. \n",
    "\n",
    "L'importazione può riguardare un intero modulo oppure solo uno (o più) dei suoi elementi. Consideriamo per esempio la funzione `mean`. Essa è disponibile nel modulo `numpy`. L'istruzione `import numpy` importa tutto il modulo [numpy](http://www.numpy.org). Dopo che un modulo è stato importato, è possibile accedere a un suo generico elemento usando il nome del modulo, seguito da un punto e dal nome dell'elemento in questione. Ad esempio, `numpy.mean()`.\n",
    "\n",
    "Indicare il nome di un modulo per poter accedere ai suoi elementi ha spesso l'effetto di allungare il codice, diminuendone al contempo la leggibilità. È per questo motivo che è possibile importare un modulo specificando un nome alternativo, più corto. È quello che succede quando scriviamo l'istruzione `import numpy as np`. In questo caso, l'istruzione precedente diventa `np.mean()`.\n",
    "\n",
    "I moduli più complessi sono organizzati in strutture gerarchiche chiamate _package_. La seguente cella importa il modulo `pyplot` che è contenuto nel package `matplotlib` ([matplotlib](http://matplotlib.org) è la libreria di riferimento in Python per la creazione di grafici). "
   ]
  },
  {
   "cell_type": "code",
   "execution_count": 56,
   "id": "8cfa4907-acef-4cd7-a07b-a13301254b4d",
   "metadata": {},
   "outputs": [],
   "source": [
    "import matplotlib.pyplot as plt"
   ]
  },
  {
   "attachments": {},
   "cell_type": "markdown",
   "id": "c6188a11-df78-4777-b05d-6ac62a63a440",
   "metadata": {},
   "source": [
    "Qui di seguito sono descritte tutte le possibilità:"
   ]
  },
  {
   "cell_type": "code",
   "execution_count": 58,
   "id": "02eb7a69-f2d0-4c1b-842f-ad122a2de3a2",
   "metadata": {},
   "outputs": [
    {
     "data": {
      "text/plain": [
       "0.16777284588756924"
      ]
     },
     "execution_count": 58,
     "metadata": {},
     "output_type": "execute_result"
    }
   ],
   "source": [
    "# import everything from library\n",
    "import random\n",
    "# call function by\n",
    "random.random()"
   ]
  },
  {
   "cell_type": "code",
   "execution_count": 59,
   "id": "4f4d32ae-9c94-4d71-a11f-342c67568f7b",
   "metadata": {},
   "outputs": [
    {
     "data": {
      "text/plain": [
       "0.05690270000491682"
      ]
     },
     "execution_count": 59,
     "metadata": {},
     "output_type": "execute_result"
    }
   ],
   "source": [
    "#import everything, but change name\n",
    "import random as rnd\n",
    "# call function by\n",
    "rnd.random()"
   ]
  },
  {
   "cell_type": "code",
   "execution_count": 60,
   "id": "3bdfff98-c5bf-4197-92e3-de69eda7a7d2",
   "metadata": {},
   "outputs": [
    {
     "data": {
      "text/plain": [
       "0.037974565142151695"
      ]
     },
     "execution_count": 60,
     "metadata": {},
     "output_type": "execute_result"
    }
   ],
   "source": [
    "# select what to import from library\n",
    "from random import random\n",
    "#call function by\n",
    "random()"
   ]
  },
  {
   "cell_type": "code",
   "execution_count": 61,
   "id": "8883f592-18ee-4131-ba21-593328b8f4bb",
   "metadata": {},
   "outputs": [
    {
     "data": {
      "text/plain": [
       "0.20988431417194764"
      ]
     },
     "execution_count": 61,
     "metadata": {},
     "output_type": "execute_result"
    }
   ],
   "source": [
    "# import everything from library\n",
    "from random import *\n",
    "# call function by\n",
    "random()"
   ]
  },
  {
   "attachments": {},
   "cell_type": "markdown",
   "id": "7b1a21d8-87c3-47e7-9437-6776f0e5d52e",
   "metadata": {},
   "source": [
    "Nella cella seguente importiamo `seaborn` con il nome `sns` e usiamo le sue funzionalità per  impostare uno stile e una palette di colori per la visualizzazione dei grafici."
   ]
  },
  {
   "cell_type": "code",
   "execution_count": 62,
   "id": "4ee4d7bc-f5a7-4032-b5dd-54558cb6fce0",
   "metadata": {},
   "outputs": [],
   "source": [
    "import seaborn as sns\n",
    "sns.set_theme()\n",
    "sns.set_palette(\"colorblind\")"
   ]
  },
  {
   "attachments": {},
   "cell_type": "markdown",
   "id": "926d235f-86f0-495f-aec7-e6678c089c48",
   "metadata": {},
   "source": [
    "Nell'esempio seguente calcoliamo la somma degli elementi della lista numerica `primes` usando funzione `sum()` contenuta nella libreria NumPy che abbiamo importato con il nome di `np`:"
   ]
  },
  {
   "cell_type": "code",
   "execution_count": 63,
   "id": "f4fd5ecb-2c15-4143-8a1b-8cb90bad1960",
   "metadata": {},
   "outputs": [
    {
     "data": {
      "text/plain": [
       "42"
      ]
     },
     "execution_count": 63,
     "metadata": {},
     "output_type": "execute_result"
    }
   ],
   "source": [
    "import numpy as np\n",
    "\n",
    "primes = [1, 2, 3, 5, 7, 11, 13]\n",
    "np.sum(primes)"
   ]
  },
  {
   "attachments": {},
   "cell_type": "markdown",
   "id": "84f59b0e-3e23-46d9-941f-e5b5377ac8cf",
   "metadata": {},
   "source": [
    "Calcolo la media di `primes`:"
   ]
  },
  {
   "cell_type": "code",
   "execution_count": 64,
   "id": "ba478d4c-a408-4e08-bcd8-7b9c92b48ecc",
   "metadata": {},
   "outputs": [
    {
     "data": {
      "text/plain": [
       "6.0"
      ]
     },
     "execution_count": 64,
     "metadata": {},
     "output_type": "execute_result"
    }
   ],
   "source": [
    "np.mean(primes)"
   ]
  },
  {
   "attachments": {},
   "cell_type": "markdown",
   "id": "ac8d0f7f-630d-4101-895b-5dc14c3a538b",
   "metadata": {},
   "source": [
    "Scriviamo una nuova funzione per la media, $\\bar{x} = n^{-1}\\sum_{i=1}^n x_i$:"
   ]
  },
  {
   "cell_type": "code",
   "execution_count": 65,
   "id": "0879957e-0842-44b3-a9c7-7cfab7f69b1f",
   "metadata": {},
   "outputs": [],
   "source": [
    "def my_mean(x):\n",
    "    res = np.sum(x) / len(x)\n",
    "    return res"
   ]
  },
  {
   "cell_type": "code",
   "execution_count": 66,
   "id": "03e7bb59-e06f-4948-9137-b43d7bee4ff2",
   "metadata": {},
   "outputs": [
    {
     "data": {
      "text/plain": [
       "6.0"
      ]
     },
     "execution_count": 66,
     "metadata": {},
     "output_type": "execute_result"
    }
   ],
   "source": [
    "my_mean(primes)"
   ]
  },
  {
   "attachments": {},
   "cell_type": "markdown",
   "id": "a66a3b8b-a240-4127-a25a-10854f7e24e5",
   "metadata": {},
   "source": [
    "Si noti che, nel corpo di una funzione, è possibile usare altre funzioni: qui, `np.sum()` e `len()`. \n",
    "\n",
    "È sempre possibile usare la funzione di `help` su una funzione:"
   ]
  },
  {
   "cell_type": "code",
   "execution_count": 67,
   "id": "8d0547f1-c0d9-4abe-ae55-d7909889fb70",
   "metadata": {},
   "outputs": [
    {
     "name": "stdout",
     "output_type": "stream",
     "text": [
      "Help on built-in function sum in module builtins:\n",
      "\n",
      "sum(iterable, /, start=0)\n",
      "    Return the sum of a 'start' value (default: 0) plus an iterable of numbers\n",
      "    \n",
      "    When the iterable is empty, return the start value.\n",
      "    This function is intended specifically for use with numeric values and may\n",
      "    reject non-numeric types.\n",
      "\n"
     ]
    }
   ],
   "source": [
    "help(sum)"
   ]
  },
  {
   "attachments": {},
   "cell_type": "markdown",
   "id": "2da7bae7-6f48-48a3-a706-5df79dd4e4fd",
   "metadata": {},
   "source": [
    "In Visual Studio Code è sufficiente posizionare il cursore sul nome della funzione.\n",
    "\n",
    "## Formattazione del codice\n",
    "\n",
    "<br>\n",
    "\n",
    "```{image} ../images/code_quality_2x.png\n",
    ":align: center\n",
    "```\n",
    "\n",
    "<br>"
   ]
  },
  {
   "cell_type": "markdown",
   "metadata": {},
   "source": [
    "## Informazioni sull'Ambiente di Sviluppo"
   ]
  },
  {
   "cell_type": "code",
   "execution_count": 68,
   "id": "58057fbc-fcc5-403b-a798-f2f06ae15c40",
   "metadata": {},
   "outputs": [
    {
     "name": "stdout",
     "output_type": "stream",
     "text": [
      "Last updated: Mon Jan 29 2024\n",
      "\n",
      "Python implementation: CPython\n",
      "Python version       : 3.11.7\n",
      "IPython version      : 8.19.0\n",
      "\n",
      "Compiler    : Clang 16.0.6 \n",
      "OS          : Darwin\n",
      "Release     : 23.3.0\n",
      "Machine     : x86_64\n",
      "Processor   : i386\n",
      "CPU cores   : 8\n",
      "Architecture: 64bit\n",
      "\n",
      "pandas    : 2.1.4\n",
      "numpy     : 1.26.2\n",
      "seaborn   : 0.13.0\n",
      "arviz     : 0.17.0\n",
      "matplotlib: 3.8.2\n",
      "\n",
      "Watermark: 2.4.3\n",
      "\n"
     ]
    }
   ],
   "source": [
    "%load_ext watermark\n",
    "%watermark -n -u -v -iv -w -m"
   ]
  }
 ],
 "metadata": {
  "kernelspec": {
   "display_name": "pymc51_env",
   "language": "python",
   "name": "python3"
  },
  "language_info": {
   "codemirror_mode": {
    "name": "ipython",
    "version": 3
   },
   "file_extension": ".py",
   "mimetype": "text/x-python",
   "name": "python",
   "nbconvert_exporter": "python",
   "pygments_lexer": "ipython3",
   "version": "3.12.4"
  },
  "latex_envs": {
   "LaTeX_envs_menu_present": false,
   "autoclose": true,
   "autocomplete": true,
   "bibliofile": "biblio.bib",
   "cite_by": "apalike",
   "current_citInitial": 1,
   "eqLabelWithNumbers": true,
   "eqNumInitial": 1,
   "hotkeys": {
    "equation": "Ctrl-E",
    "itemize": "Ctrl-I"
   },
   "labels_anchors": false,
   "latex_user_defs": false,
   "report_style_numbering": true,
   "user_envs_cfg": true
  },
  "toc": {
   "base_numbering": 1,
   "nav_menu": {},
   "number_sections": true,
   "sideBar": false,
   "skip_h1_title": false,
   "title_cell": "Table of Contents",
   "title_sidebar": "Contents",
   "toc_cell": true,
   "toc_position": {},
   "toc_section_display": true,
   "toc_window_display": false
  },
  "vscode": {
   "interpreter": {
    "hash": "c0ccd72f608cbdcdf4551eecf03608f0bf0bb7f40eb4e906e3e1e38ea0443aad"
   }
  }
 },
 "nbformat": 4,
 "nbformat_minor": 2
}
