{
 "cells": [
  {
   "attachments": {},
   "cell_type": "markdown",
   "id": "9f9ded2b-8e69-4a2a-9195-84efe0e35877",
   "metadata": {},
   "source": [
    "# Python (1) {#sec-python-1}"
   ]
  },
  {
   "cell_type": "markdown",
   "metadata": {},
   "source": [
    "## Scrivere Codice con il Supporto dei LLM\n",
    "\n",
    "I *Large Language Models* (LLM), come GPT-4 o Claude, stanno rivoluzionando non solo la generazione di testo in linguaggio naturale, ma anche il campo della programmazione e dell'analisi dei dati. La programmazione, con le sue regole esplicite e la sintassi strutturata, si adatta particolarmente bene alle capacità di riconoscimento dei pattern degli LLM. A differenza dei linguaggi umani, ricchi di ambiguità ed espressioni idiomatiche, i linguaggi di programmazione sono rigorosi e precisi.\n",
    "\n",
    "Nel contesto dell'analisi dei dati, è naturale combinare le capacità degli LLM con la potenza computazionale di linguaggi statistici come R o di programmazione come Python. Sono già stati pubblicati libri su come integrare le capacità degli LLM con l'analisi dei dati [@Matter2025ai], e sta emergendo una nuova branca dell'ingegneria dedicata allo sviluppo dei prompt più efficaci per l'uso con gli LLM. Pertanto, il problema non è se utilizzare gli LLM a supporto della programmazione, ma come farlo nel modo più efficace.\n",
    "\n",
    "Gli LLM possono essere utilizzati per risolvere vari problemi di programmazione in Python o R, basandosi su richieste formulate in linguaggio naturale. Questi modelli sono in grado di generare codice, identificare errori negli script, ottimizzare il codice, generare documentazione e creare casi di test, anche per problemi di programmazione complessi. L'avvento degli LLM ha cambiato radicalmente il modo in cui sia i principianti sia i professionisti si approcciano alla programmazione. Tuttavia, ciò non significa che gli LLM abbiano completamente sostituito la scrittura di codice da parte degli esseri umani. Piuttosto, gli LLM sono strumenti che possono migliorare notevolmente il lavoro di chi ha già una buona conoscenza delle regole sintattiche e dei principi di programmazione.\n",
    "\n",
    "Un principio fondamentale da tenere a mente è che maggiore è la conoscenza delle regole sintattiche di un linguaggio di programmazione, maggiore sarà l'efficacia dell'uso degli LLM per gli scopi dell'analisi dei dati. Anche se i problemi di programmazione trattati in questo corso sono relativamente semplici rispetto alle capacità degli LLM, gli utenti che sfrutteranno questi strumenti trarranno sicuramente vantaggio dalla comprensione delle regole sintattiche del linguaggio di programmazione utilizzato, principalmente Python (con alcuni esempi anche in R).\n",
    "\n",
    "Gli LLM si basano sul concetto di \"predizione del prossimo token\". Questo significa che sono addestrati per prevedere la parola o il carattere successivo in una sequenza, basandosi sui precedenti. Questo principio è alla base della capacità degli LLM di generare codice e di migliorare i flussi di lavoro dell'analisi dei dati in Python o R. Oltre a miliardi di parole provenienti da testi comuni (siti web, libri, articoli di riviste), gli LLM di OpenAI, come GPT-4, sono stati addestrati su un vasto corpus di codice open-source e discussioni sul codice presenti su piattaforme come Stack Overflow. Questo consente loro di generare codice sintatticamente e semanticamente corretto in molte situazioni.\n",
    "\n",
    "Acquisire competenze sull'uso pratico dell'AI/LLM nella programmazione e nell'analisi dei dati è più di una tendenza: è una necessità. I professionisti che sanno utilizzare efficacemente l'AI/LLM per migliorare le loro competenze di programmazione e integrare questi strumenti in Python e R hanno un vantaggio competitivo. Con la crescente diffusione dell'AI e degli LLM nell'industria e nel mondo accademico, la domanda per queste competenze continuerà a crescere.\n",
    "\n",
    "L'obiettivo di questa sezione della dispensa è fornire una panoramica della sintassi di Python e delle principali funzioni di pacchetti come Pandas, Numpy e Matplotlib, utili per la data science. Python è un linguaggio di programmazione versatile e di facile lettura, adatto a numerosi usi. Anche se il suo nome è un omaggio al gruppo comico [Monty Python](https://www.youtube.com/results?search_query=monty+Python), apprendere Python richiede tempo, pratica e impegno.\n",
    "\n",
    "Questa guida (e l'intero corso) si concentra sull'insegnamento dei principi fondamentali della programmazione e dell'analisi dei dati psicologici, piuttosto che sui dettagli tecnici. Facendo riferimento alla distinzione di Marr tra livello <font color='orange'>computazionale</font> e livello <font color='orange'>algoritmico</font> [@marr2010vision], una spiegazione a livello computazionale descrive la logica del problema e i passaggi necessari per trasformare l'input in output, mentre il livello algoritmico specifica come eseguire queste operazioni logiche utilizzando la sintassi di un particolare linguaggio di programmazione.\n",
    "\n",
    "Il focus di questo corso è il livello computazionale, poiché è fondamentale per comprendere i problemi e progettare soluzioni. Con questa conoscenza, gli studenti saranno più capaci di risolvere problemi specifici e di cercare autonomamente la sintassi appropriata per il problema da risolvere.\n",
    "\n",
    "Nell'era dell'intelligenza artificiale, è essenziale sviluppare la capacità di pensare in modo computazionale. Questa competenza va oltre la mera programmazione e offre un approccio strutturato per risolvere problemi complessi. Sebbene i modelli di linguaggio avanzati (LLM) siano in grado di risolvere molti dei problemi di programmazione affrontati in questo corso, una comprensione approfondita dei principi della programmazione rimane cruciale per interpretare, modificare o migliorare le soluzioni proposte da tali sistemi.\n",
    "\n",
    "In conclusione, nonostante i notevoli progressi dell'AI, una solida conoscenza della programmazione rimane indispensabile. Padroneggiare i principi fondamentali della codifica è essenziale per sfruttare al massimo strumenti avanzati come i modelli linguistici di grandi dimensioni (LLM) e per affrontare con efficacia le sfide legate alla programmazione e all'analisi dei dati."
   ]
  },
  {
   "attachments": {},
   "cell_type": "markdown",
   "id": "33bfd333-7618-495d-912d-a8b5a4618a36",
   "metadata": {},
   "source": [
    "## Espressioni e Operatori\n",
    "\n",
    "I programmi sono costituiti da insiemi di espressioni che elaborano dati per fornire istruzioni specifiche al computer. In Python, ad esempio, l'operazione di moltiplicazione viene eseguita utilizzando l'asterisco (`*`) tra due numeri. Quando il programma incontra un'espressione come `3 * 4`, il computer la valuta e restituisce il risultato, che può essere visualizzato, ad esempio, in una cella successiva di un notebook Jupyter.\n",
    "\n",
    "Le regole sintattiche di un linguaggio di programmazione come Python sono rigorose. Per esempio, non è consentito inserire due simboli di moltiplicazione (`*`) consecutivi senza un operando tra di essi. Se un'espressione viola queste regole sintattiche, Python restituirà un \"SyntaxError\", un messaggio che segnala la non conformità alle regole del linguaggio. Ad esempio:\n",
    "\n",
    "```python\n",
    "3 * * 4\n",
    "```\n",
    "\n",
    "restituirà:\n",
    "\n",
    "```bash\n",
    " Cell In[3], line 1\n",
    "    3 * * 4\n",
    "        ^\n",
    "SyntaxError: invalid syntax\n",
    "```\n",
    "\n",
    "Anche piccole variazioni all'interno di un'espressione possono cambiarne completamente il significato. Nell'esempio seguente, lo spazio tra i due asterischi è stato rimosso. Ora, poiché gli asterischi compaiono correttamente tra due numeri, l'espressione diventa sintatticamente valida e indica l'elevamento a potenza: `3 ** 4` equivale a 3 elevato alla quarta potenza ($3 \\times 3 \\times 3 \\times 3$). In programmazione, simboli come `*` e `**` sono chiamati \"operatori\", mentre i valori su cui agiscono sono detti \"operandi\"."
   ]
  },
  {
   "cell_type": "code",
   "execution_count": 4,
   "id": "20cd8977-7f6e-4403-8bc9-b084aa6d0d07",
   "metadata": {},
   "outputs": [
    {
     "data": {
      "text/plain": [
       "81"
      ]
     },
     "execution_count": 4,
     "metadata": {},
     "output_type": "execute_result"
    }
   ],
   "source": [
    "3 ** 4"
   ]
  },
  {
   "attachments": {},
   "cell_type": "markdown",
   "id": "13c4bd11-b8ce-44b2-aa96-60bc03e0d082",
   "metadata": {},
   "source": [
    "La tabella seguente elenca i principali operatori binari utilizzati in Python, chiamati così perché agiscono su due operandi.\n",
    "\n",
    "| Operazione         | Operatore |\n",
    "|--------------------|-----------|\n",
    "|addizione           | `+`       |\n",
    "|sottrazione         | `-`       |\n",
    "|moltiplicazione     | `*`       |\n",
    "|divisione (reale)   | `/`       |\n",
    "|divisione (intera; rimuove il resto)  | `//` |\n",
    "|resto (modulo)      | `%`       |\n",
    "|elevamento a potenza| `**`      |\n",
    "\n",
    "Le due operazioni che potrebbero essere meno familiari sono `%` (trova il resto di una divisione) e `//` (esegui una divisione scartando il resto).  "
   ]
  },
  {
   "cell_type": "markdown",
   "id": "c8103308-a785-4e6b-a4e1-a829fb55ee46",
   "metadata": {},
   "source": [
    "Per esempio, la divisione intera (scartando il resto) di 11/2 produce 5."
   ]
  },
  {
   "cell_type": "code",
   "execution_count": 6,
   "id": "ef2cced1-6bcb-48ed-a60c-d122e5ad8521",
   "metadata": {},
   "outputs": [
    {
     "data": {
      "text/plain": [
       "5"
      ]
     },
     "execution_count": 6,
     "metadata": {},
     "output_type": "execute_result"
    }
   ],
   "source": [
    "11 // 2"
   ]
  },
  {
   "cell_type": "markdown",
   "id": "db1773a0-0697-4652-af13-1bfd0b5b6c53",
   "metadata": {},
   "source": [
    "Il resto di 11/2 è 1. "
   ]
  },
  {
   "cell_type": "code",
   "execution_count": 2,
   "id": "b490bfe1-958a-4857-9c84-32e4044094eb",
   "metadata": {},
   "outputs": [
    {
     "data": {
      "text/plain": [
       "1"
      ]
     },
     "execution_count": 2,
     "metadata": {},
     "output_type": "execute_result"
    }
   ],
   "source": [
    "11 % 2"
   ]
  },
  {
   "cell_type": "markdown",
   "id": "4dea1386-a38e-4d2a-8e6f-562e20e2d983",
   "metadata": {},
   "source": [
    "Usando gli **operatori** che abbiamo elencato in precedenza possiamo usare Python come un calcolatore."
   ]
  },
  {
   "cell_type": "code",
   "execution_count": 1,
   "id": "09e89459-c532-41fd-b989-de0656a0956a",
   "metadata": {},
   "outputs": [
    {
     "name": "stdout",
     "output_type": "stream",
     "text": [
      "4 + 2 è 6\n",
      "4 - 2 è 2\n",
      "4 * 2 è 8\n",
      "4 / 2 è 2.0\n",
      "4 ** 2 è 16\n",
      "9 % 4 è 1\n",
      "9 // 4 è 2\n"
     ]
    }
   ],
   "source": [
    "print(\"4 + 2 è\", 4 + 2)\n",
    "print(\"4 - 2 è\", 4 - 2)\n",
    "print(\"4 * 2 è\", 4 * 2)\n",
    "print(\"4 / 2 è\", 4 / 2)\n",
    "print(\"4 ** 2 è\", 4**2)\n",
    "print(\"9 % 4 è\", 9 % 4)\n",
    "print(\"9 // 4 è\", 9 // 4)"
   ]
  },
  {
   "attachments": {},
   "cell_type": "markdown",
   "id": "5e157f2c-58f8-4adb-844f-a5b64e679973",
   "metadata": {},
   "source": [
    "L'applicazione degli operatori aritmetici in Python dipende dalle seguenti regole di precedenza degli operatori, che sono analoghe a quelle usate in algebra.\n",
    "\n",
    "1. Le espressioni tra parentesi vengono valutate per prime. \n",
    "2. Successivamente si valutano gli elevamenti a potenza. \n",
    "3. In seguito, si valutano moltiplicazioni, divisioni e moduli. \n",
    "4. Per ultime vengono valutate somme e sottrazioni. "
   ]
  },
  {
   "cell_type": "code",
   "execution_count": 2,
   "id": "08816906-1eb2-4e84-981f-72f09f9ee0b7",
   "metadata": {},
   "outputs": [
    {
     "data": {
      "text/plain": [
       "17.555555555555557"
      ]
     },
     "execution_count": 2,
     "metadata": {},
     "output_type": "execute_result"
    }
   ],
   "source": [
    "1 + 2 * 3 * 4 * 5 / 6 ** 3 + 7 + 8 - 9 + 10"
   ]
  },
  {
   "cell_type": "code",
   "execution_count": 3,
   "id": "38aefb02-e0fa-4531-9a8a-4dba208e86c3",
   "metadata": {},
   "outputs": [
    {
     "data": {
      "text/plain": [
       "2017.0"
      ]
     },
     "execution_count": 3,
     "metadata": {},
     "output_type": "execute_result"
    }
   ],
   "source": [
    "1 + 2 * (3 * 4 * 5 / 6) ** 3 + 7 + 8 - 9 + 10"
   ]
  },
  {
   "attachments": {},
   "cell_type": "markdown",
   "id": "ddb05058-e439-4b9c-9852-0fa0ea49fa25",
   "metadata": {},
   "source": [
    "## Variabili\n",
    "\n",
    "Quando un risultato viene generato, viene visualizzato ma non memorizzato da nessuna parte, come visto negli esempi precedenti. Per poter riutilizzare quel risultato in seguito, è necessario salvarlo in un oggetto a cui possiamo dare un nome. Questo oggetto prende il nome di <font color='orange'>variabile</font>.\n",
    "\n",
    "Per creare una variabile, utilizziamo un'<font color='orange'>istruzione di assegnazione</font>. Un'istruzione di assegnazione consiste nel dare un nome alla variabile, seguito dal simbolo di uguale (`=`), e dall'espressione il cui valore vogliamo memorizzare. Il processo di assegnazione associa il valore dell'espressione a destra del simbolo di uguale al nome specificato a sinistra. Da quel momento, ogni volta che utilizziamo quel nome in un'espressione, verrà utilizzato il valore associato a esso durante l'assegnazione."
   ]
  },
  {
   "cell_type": "code",
   "execution_count": 4,
   "id": "d70b117a-e9a4-46cb-af8a-3bd6b005ebc6",
   "metadata": {},
   "outputs": [
    {
     "data": {
      "text/plain": [
       "30"
      ]
     },
     "execution_count": 4,
     "metadata": {},
     "output_type": "execute_result"
    }
   ],
   "source": [
    "a = 10\n",
    "b = 20\n",
    "a + b"
   ]
  },
  {
   "cell_type": "code",
   "execution_count": 5,
   "id": "028cd32b-2084-48cf-a50a-426ae076a7d0",
   "metadata": {},
   "outputs": [
    {
     "data": {
      "text/plain": [
       "0.5"
      ]
     },
     "execution_count": 5,
     "metadata": {},
     "output_type": "execute_result"
    }
   ],
   "source": [
    "a = 1/4\n",
    "b = 2 * a\n",
    "b"
   ]
  },
  {
   "cell_type": "code",
   "execution_count": 3,
   "id": "cf42e29f-9076-4981-bcc6-47c843d940cd",
   "metadata": {},
   "outputs": [
    {
     "data": {
      "text/plain": [
       "300"
      ]
     },
     "execution_count": 3,
     "metadata": {},
     "output_type": "execute_result"
    }
   ],
   "source": [
    "my_var = 100\n",
    "const = 3\n",
    "\n",
    "my_var * const"
   ]
  },
  {
   "cell_type": "markdown",
   "metadata": {},
   "source": [
    "In Python, ogni \"oggetto\" è un'area di memoria nel computer. Una \"variabile\" funge da etichetta che fa riferimento a quest'area. Se un oggetto non ha più etichette (ovvero, non ci sono più variabili che lo referenziano), i dati contenuti nell'oggetto diventano inaccessibili. Il Garbage Collector del linguaggio si occuperà di rilevare questi oggetti non referenziati e liberare la memoria, permettendo che venga riutilizzata per nuovi dati."
   ]
  },
  {
   "attachments": {},
   "cell_type": "markdown",
   "id": "17b4d3ca-8658-4425-bbcd-581808d2c972",
   "metadata": {},
   "source": [
    "## Nomi delle Variabili\n",
    "\n",
    "Quando scriviamo programmi in Python, è importante scegliere nomi significativi per le variabili, poiché queste ci permettono di memorizzare e manipolare dati nel corso dell'esecuzione del programma. I nomi delle variabili devono rispettare alcune regole specifiche per essere validi all'interno del linguaggio.\n",
    "\n",
    "In Python, i nomi delle variabili possono contenere caratteri alfanumerici (da a-z, A-Z, 0-9) e il carattere speciale `_` (underscore). Tuttavia, devono iniziare con una lettera (a-z, A-Z) o con un underscore, ma non con un numero. Gli spazi non sono permessi all'interno dei nomi delle variabili, quindi l'underscore è comunemente usato per separare le parole all'interno di un nome (ad esempio, `nome_variabile`).\n",
    "\n",
    "Per facilitare la leggibilità del codice, è buona pratica seguire alcune convenzioni: i nomi delle variabili iniziano generalmente con una lettera minuscola, mentre i nomi delle classi cominciano con una lettera maiuscola.\n",
    "\n",
    "È importante notare che in Python esiste una serie di parole riservate, chiamate <font color='orange'>parole chiave</font> (*keywords*), che non possono essere utilizzate come nomi di variabili. Queste parole chiave hanno un significato speciale all'interno del linguaggio e sono essenziali per la sintassi di Python. Queste parole chiave sono:"
   ]
  },
  {
   "cell_type": "code",
   "execution_count": 2,
   "id": "914bc20b-2222-4723-867d-077456577292",
   "metadata": {},
   "outputs": [
    {
     "name": "stdout",
     "output_type": "stream",
     "text": [
      "False\n",
      "None\n",
      "True\n",
      "and\n",
      "as\n",
      "assert\n",
      "async\n",
      "await\n",
      "break\n",
      "class\n",
      "continue\n",
      "def\n",
      "del\n",
      "elif\n",
      "else\n",
      "except\n",
      "finally\n",
      "for\n",
      "from\n",
      "global\n",
      "if\n",
      "import\n",
      "in\n",
      "is\n",
      "lambda\n",
      "nonlocal\n",
      "not\n",
      "or\n",
      "pass\n",
      "raise\n",
      "return\n",
      "try\n",
      "while\n",
      "with\n",
      "yield\n"
     ]
    }
   ],
   "source": [
    "import keyword\n",
    "print(*keyword.kwlist, sep=\"\\n\")"
   ]
  },
  {
   "cell_type": "markdown",
   "id": "aa490864-c503-41b5-9684-630d41160ddc",
   "metadata": {},
   "source": [
    "Si presti attenzione alla parola chiave \"lambda\", che potrebbe facilmente essere un nome di variabile naturale in un programma scientifico. Tuttavia, essendo una parola chiave, non può essere utilizzata come nome di variabile.\n",
    "\n",
    "Utilizzare nomi di variabili chiari e appropriati aiuta a rendere il codice più leggibile e comprensibile, sia per il programmatore che per chiunque altro debba interagire con il codice."
   ]
  },
  {
   "cell_type": "markdown",
   "metadata": {},
   "source": [
    "## Tipologie di Dati in Python\n",
    "\n",
    "In Python, le variabili possono appartenere a diverse tipologie di dati, ciascuna con caratteristiche e utilizzi specifici. "
   ]
  },
  {
   "cell_type": "markdown",
   "metadata": {},
   "source": [
    "### Stringhe (String)\n",
    "\n",
    "Le stringhe sono sequenze di caratteri, utilizzate per rappresentare testo. In Python, le stringhe possono essere create utilizzando apici singoli (`' '`), doppi (`\" \"`) o tripli (`''' '''` oppure `\"\"\" \"\"\"`) per delimitare il testo. Esempi di stringhe sono:\n",
    "\n",
    "```\n",
    "\"Hello, world!\"\n",
    "'Beyonce-Lemonade.txt'\n",
    "\"lemonade\"\n",
    "```\n",
    "\n",
    "Si noti il risultato ottenuto quando si applica l'operatore `+` a due stringhe."
   ]
  },
  {
   "cell_type": "code",
   "execution_count": 13,
   "metadata": {},
   "outputs": [
    {
     "data": {
      "text/plain": [
       "'datascience'"
      ]
     },
     "execution_count": 13,
     "metadata": {},
     "output_type": "execute_result"
    }
   ],
   "source": [
    "\"data\" + \"science\""
   ]
  },
  {
   "cell_type": "code",
   "execution_count": 14,
   "metadata": {},
   "outputs": [
    {
     "data": {
      "text/plain": [
       "'data science'"
      ]
     },
     "execution_count": 14,
     "metadata": {},
     "output_type": "execute_result"
    }
   ],
   "source": [
    "\"data\" + \" \" + \"science\""
   ]
  },
  {
   "cell_type": "markdown",
   "metadata": {},
   "source": [
    "Sia le virgolette singole che doppie possono essere utilizzate per creare le stringhe: \"ciao\" e 'ciao' sono espressioni equivalenti. Tuttavia, le virgolette doppie sono spesso preferite poiché consentono di includere virgolette singole all'interno delle stringhe."
   ]
  },
  {
   "cell_type": "code",
   "execution_count": 15,
   "metadata": {},
   "outputs": [
    {
     "data": {
      "text/plain": [
       "\"Che cos'è una parola?\""
      ]
     },
     "execution_count": 15,
     "metadata": {},
     "output_type": "execute_result"
    }
   ],
   "source": [
    "\"Che cos'è una parola?\""
   ]
  },
  {
   "cell_type": "markdown",
   "metadata": {},
   "source": [
    "L'espressione precedente avrebbe prodotto un `SyntaxError` se fosse stata racchiusa da virgolette singole.\n",
    "\n",
    "#### Parsing strings\n",
    "\n",
    "In Python, una stringa è concepita come una sequenza ordinata di caratteri. Grazie all'operatore di indicizzazione, rappresentato dalle parentesi quadre `[]`, è possibile accedere a singoli elementi della stringa. \n",
    "\n",
    "È importante ricordare che l'indicizzazione in Python parte da zero. \n",
    "\n",
    "L'indice del primo carattere è `[0]`, quello del secondo è `[1]`, del terzo `[2]`, e così via. Questa funzionalità consente di manipolare o consultare specifici segmenti della stringa, piuttosto che gestirla come un blocco unico.\n",
    "\n",
    "Consideriamo questo verso di Eugenio Montale:"
   ]
  },
  {
   "cell_type": "code",
   "execution_count": 2,
   "metadata": {},
   "outputs": [
    {
     "name": "stdout",
     "output_type": "stream",
     "text": [
      "Tendono alla chiarità le cose oscure\n"
     ]
    }
   ],
   "source": [
    "my_string = \"Tendono alla chiarità le cose oscure\"\n",
    "print(my_string)"
   ]
  },
  {
   "cell_type": "code",
   "execution_count": 3,
   "metadata": {},
   "outputs": [
    {
     "data": {
      "text/plain": [
       "'T'"
      ]
     },
     "execution_count": 3,
     "metadata": {},
     "output_type": "execute_result"
    }
   ],
   "source": [
    "my_string[0]"
   ]
  },
  {
   "cell_type": "code",
   "execution_count": 4,
   "metadata": {},
   "outputs": [
    {
     "data": {
      "text/plain": [
       "'d'"
      ]
     },
     "execution_count": 4,
     "metadata": {},
     "output_type": "execute_result"
    }
   ],
   "source": [
    "my_string[3]"
   ]
  },
  {
   "cell_type": "code",
   "execution_count": 5,
   "metadata": {},
   "outputs": [
    {
     "data": {
      "text/plain": [
       "36"
      ]
     },
     "execution_count": 5,
     "metadata": {},
     "output_type": "execute_result"
    }
   ],
   "source": [
    "len(my_string)"
   ]
  },
  {
   "cell_type": "markdown",
   "metadata": {},
   "source": [
    "La stringa \"my_string\" conta 36 caratteri. Pertanto, gli indici validi per questa stringa vanno da 0 a 35. Per accedere all'ultimo carattere, è necessario utilizzare l'indice 35, che corrisponde a 36 meno 1. "
   ]
  },
  {
   "cell_type": "code",
   "execution_count": 6,
   "metadata": {},
   "outputs": [
    {
     "data": {
      "text/plain": [
       "'e'"
      ]
     },
     "execution_count": 6,
     "metadata": {},
     "output_type": "execute_result"
    }
   ],
   "source": [
    "my_string[35]"
   ]
  },
  {
   "cell_type": "markdown",
   "metadata": {},
   "source": [
    "Un modo efficiente per ottenere l'ultimo carattere è ricorrere alla funzione `len`, sottraendo 1 al risultato:"
   ]
  },
  {
   "cell_type": "code",
   "execution_count": 7,
   "metadata": {},
   "outputs": [
    {
     "data": {
      "text/plain": [
       "'e'"
      ]
     },
     "execution_count": 7,
     "metadata": {},
     "output_type": "execute_result"
    }
   ],
   "source": [
    "my_string[len(my_string) - 1]"
   ]
  },
  {
   "cell_type": "markdown",
   "metadata": {},
   "source": [
    "Si noti che `len()` è una funzione. Una funzione è un blocco di codice che esegue un'operazione specifica. I programmatori chiamano anche gli input delle funzioni “parametri” o “argomenti”.\n",
    "\n",
    "La funzione `len` prende un input e restituisce un output. L'output è la lunghezza di ciò che è stato passato come input."
   ]
  },
  {
   "cell_type": "markdown",
   "metadata": {},
   "source": [
    "#### Slicing strings\n",
    "\n",
    "Oltre a estrarre caratteri individuali da una stringa, Python offre la possibilità di selezionare segmenti di testo attraverso la tecnica dello \"slicing\". Questo meccanismo è simile all'indicizzazione, ma utilizza due indici separati da un carattere a due punti (:). Il primo indice indica la posizione di partenza dello \"slicing\" nella stringa, mentre il secondo indice segnala il punto in cui terminare l'estrazione del segmento."
   ]
  },
  {
   "cell_type": "code",
   "execution_count": 21,
   "metadata": {},
   "outputs": [
    {
     "data": {
      "text/plain": [
       "'nd'"
      ]
     },
     "execution_count": 21,
     "metadata": {},
     "output_type": "execute_result"
    }
   ],
   "source": [
    "my_string[2:4]"
   ]
  },
  {
   "cell_type": "markdown",
   "metadata": {},
   "source": [
    "Se si omette il primo indice, Python utilizzerà l'inizio della stringa; se si omette il secondo, utilizzerà la fine della stringa."
   ]
  },
  {
   "cell_type": "code",
   "execution_count": 22,
   "metadata": {},
   "outputs": [
    {
     "data": {
      "text/plain": [
       "'Tend'"
      ]
     },
     "execution_count": 22,
     "metadata": {},
     "output_type": "execute_result"
    }
   ],
   "source": [
    "my_string[:4]"
   ]
  },
  {
   "cell_type": "code",
   "execution_count": 23,
   "metadata": {},
   "outputs": [
    {
     "data": {
      "text/plain": [
       "'ono alla chiarità le cose oscure'"
      ]
     },
     "execution_count": 23,
     "metadata": {},
     "output_type": "execute_result"
    }
   ],
   "source": [
    "my_string[4:]"
   ]
  },
  {
   "cell_type": "markdown",
   "metadata": {},
   "source": [
    "#### Metodi\n",
    "\n",
    "A partire da una stringa esistente, si possono generare nuove stringhe mediante l'utilizzo di *metodi* specifici per le stringhe. Questi metodi sono essenzialmente funzioni che agiscono direttamente sull'oggetto stringa. Per invocare un metodo, basta posizionare un punto subito dopo la stringa e seguire con il nome del metodo desiderato. Ad esempio, il metodo successivo converte tutti i caratteri della stringa in maiuscole."
   ]
  },
  {
   "cell_type": "code",
   "execution_count": 24,
   "metadata": {},
   "outputs": [
    {
     "data": {
      "text/plain": [
       "'TENDONO ALLA CHIARITÀ LE COSE OSCURE'"
      ]
     },
     "execution_count": 24,
     "metadata": {},
     "output_type": "execute_result"
    }
   ],
   "source": [
    "my_string.upper()"
   ]
  },
  {
   "cell_type": "markdown",
   "metadata": {},
   "source": [
    "Il metodo `my_string.title()` è utilizzato per convertire la prima lettera di ogni parola nella stringa `my_string` in maiuscolo, mentre rende tutte le altre lettere minuscole. In pratica, trasforma la stringa in una forma \"a titolo\", in cui ogni parola inizia con una lettera maiuscola."
   ]
  },
  {
   "cell_type": "code",
   "execution_count": 25,
   "metadata": {},
   "outputs": [
    {
     "data": {
      "text/plain": [
       "'Tendono Alla Chiarità Le Cose Oscure'"
      ]
     },
     "execution_count": 25,
     "metadata": {},
     "output_type": "execute_result"
    }
   ],
   "source": [
    "my_string.title()"
   ]
  },
  {
   "cell_type": "markdown",
   "metadata": {},
   "source": [
    "### Numeri Interi (Integer)\n",
    "\n",
    "I numeri interi rappresentano numeri senza una componente decimale. In Python, possono essere creati assegnando un valore senza parte decimale a una variabile. Esempio di un numero intero è:"
   ]
  },
  {
   "cell_type": "code",
   "execution_count": 3,
   "metadata": {},
   "outputs": [],
   "source": [
    "age = 20"
   ]
  },
  {
   "cell_type": "markdown",
   "metadata": {},
   "source": [
    "### Numeri in Virgola Mobile (Float)\n",
    "\n",
    "I numeri in virgola mobile, o \"float\", rappresentano numeri che hanno una componente decimale. Sono creati assegnando un valore con una parte decimale a una variabile. Esempio di un numero float è:"
   ]
  },
  {
   "cell_type": "code",
   "execution_count": null,
   "metadata": {},
   "outputs": [],
   "source": [
    "temperature = 36.4"
   ]
  },
  {
   "cell_type": "markdown",
   "metadata": {},
   "source": [
    "I numeri in virgola mobile, o \"float\", hanno una precisione limitata a circa 15-16 cifre decimali; oltre questo limite, la precisione viene persa. Nonostante questa limitazione, sono sufficienti per la maggior parte delle applicazioni.\n",
    "\n",
    "Inoltre, è possibile utilizzare la notazione scientifica per rappresentare numeri molto grandi o molto piccoli. In questa notazione, `m * 10^n` viene comunemente abbreviato come `mEn`, dove \"E\" rappresenta l'esponente dieci. Ad esempio, `1E9` equivale a un miliardo ($1 \\times 10^9$) e `1E-9` rappresenta un miliardesimo ($1 \\times 10^{-9}$)."
   ]
  },
  {
   "cell_type": "markdown",
   "metadata": {},
   "source": [
    "### Valori Booleani (Boolean)\n",
    "\n",
    "I valori booleani possono assumere solo due stati: vero (`True`) o falso (`False`). Sono utilizzati per rappresentare le condizioni logiche e sono ottenuti attraverso espressioni di confronto. Esempio di un valore booleano è:"
   ]
  },
  {
   "cell_type": "code",
   "execution_count": null,
   "metadata": {},
   "outputs": [],
   "source": [
    "is_raining = False"
   ]
  },
  {
   "cell_type": "markdown",
   "metadata": {},
   "source": [
    "Nel contesto delle operazioni aritmetiche, `True` è equivalente al numero intero 1, mentre `False` corrisponde a 0. Questo permette di includere valori booleani in calcoli matematici. Per esempio:"
   ]
  },
  {
   "cell_type": "code",
   "execution_count": 26,
   "metadata": {},
   "outputs": [
    {
     "data": {
      "text/plain": [
       "2"
      ]
     },
     "execution_count": 26,
     "metadata": {},
     "output_type": "execute_result"
    }
   ],
   "source": [
    "True + True + False"
   ]
  },
  {
   "cell_type": "markdown",
   "metadata": {},
   "source": [
    "Un valore booleano viene ritornato quando si valuta un confronto. Per esempio:"
   ]
  },
  {
   "cell_type": "code",
   "execution_count": null,
   "metadata": {},
   "outputs": [],
   "source": [
    "3 > 1 + 1"
   ]
  },
  {
   "cell_type": "markdown",
   "metadata": {},
   "source": [
    "Il valore True indica che il confronto è valido; Python ha confermato questo semplice fatto sulla relazione tra 3 e 1+1. \n",
    "\n",
    "Si noti la regola di precedenza: gli operatori >, <, >=, <=, ==, != hanno la precedenza più bassa (vengono valutati per ultimi), il che significa che nell'espressione precedente viene prima valutato (1 + 1) e poi (3 > 2)."
   ]
  },
  {
   "cell_type": "markdown",
   "metadata": {},
   "source": [
    "### Operatori di confronto \n",
    "\n",
    "Un operatore di confronto è un operatore che esegue un qualche tipo di confronto e restituisce un valore booleano (True oppure False). Per esempio, l'operatore `==` confronta le espressioni su entrambi i lati e restituisce `True` se hanno gli stessi valori e `False` altrimenti. L'opposto di `==` è `!=`, che si può leggere come 'non uguale al valore di'. Gli operatori di confronto sono elencati qui sotto:\n",
    "\n",
    "| Confronto           | Operatore | \n",
    "|---------------------|-----------|\n",
    "| Minore              | <         |\n",
    "| Maggiore            | >         |\n",
    "| Minore o uguale     | <=        |\n",
    "| Maggiore o uguale   | >=        |\n",
    "| Uguale              | ==        |\n",
    "| Non uguale          | !=        |\n",
    "\n",
    "Ad esempio:"
   ]
  },
  {
   "cell_type": "code",
   "execution_count": null,
   "metadata": {},
   "outputs": [],
   "source": [
    "a = 4\n",
    "b = 2\n",
    "\n",
    "print(\"a > b\", \"is\", a > b)\n",
    "print(\"a < b\", \"is\", a < b)\n",
    "print(\"a == b\", \"is\", a == b)\n",
    "print(\"a >= b\", \"is\", a >= b)\n",
    "print(\"a <= b\", \"is\", a <= b)"
   ]
  },
  {
   "cell_type": "markdown",
   "metadata": {},
   "source": [
    "Nella cella seguente si presti attenzione all'uso di `=` e di `==`:"
   ]
  },
  {
   "cell_type": "code",
   "execution_count": null,
   "metadata": {},
   "outputs": [],
   "source": [
    "boolean_condition = 10 == 20\n",
    "print(boolean_condition)"
   ]
  },
  {
   "cell_type": "markdown",
   "metadata": {},
   "source": [
    "L'operatore `=` è un'istruzione di *assegnazione*. Ovvero, crea un nuovo oggetto. L'operatore `==` valuta invece una condizione logica e ritorna un valore booleano. "
   ]
  },
  {
   "cell_type": "markdown",
   "metadata": {},
   "source": [
    "Un'espressione può contenere più confronti e tutti devono essere veri affinché l'intera espressione sia vera. Ad esempio:"
   ]
  },
  {
   "cell_type": "code",
   "execution_count": null,
   "metadata": {},
   "outputs": [],
   "source": [
    "1 < 1 + 1 < 3"
   ]
  },
  {
   "attachments": {},
   "cell_type": "markdown",
   "id": "752ecbc6-4603-44c5-9ad1-5ff1d550d022",
   "metadata": {},
   "source": [
    "### Tipizzazione Dinamica in Python\n",
    "\n",
    "Python è un linguaggio con tipizzazione dinamica, il che significa che il tipo di una variabile è determinato dal valore che le viene assegnato durante l'esecuzione del programma e non necessita di essere dichiarato esplicitamente.\n",
    "\n",
    "Per identificare il tipo di una variabile o del risultato di un'espressione, Python mette a disposizione la funzione `type()`. Questa funzione, quando chiamata con una variabile o un'espressione come argomento, restituisce il tipo di dati corrispondente. \n",
    "\n",
    "Nell'esempio seguente il programma stamperà `<class 'str'>`, indicando che `x` è una variabile di tipo \"stringa\"."
   ]
  },
  {
   "cell_type": "code",
   "execution_count": 8,
   "id": "64244d22-fed4-4be6-8cf5-283a95d93540",
   "metadata": {},
   "outputs": [
    {
     "name": "stdout",
     "output_type": "stream",
     "text": [
      "<class 'str'>\n"
     ]
    }
   ],
   "source": [
    "x = \"hello\"\n",
    "print(type(x))"
   ]
  },
  {
   "cell_type": "markdown",
   "metadata": {},
   "source": [
    "Applichiamo la funzione `type()` alle altre variabili che abbiamo definito in precedenza."
   ]
  },
  {
   "cell_type": "code",
   "execution_count": 9,
   "id": "f63d0a4c-2fe3-4432-9cb2-06ed4b0eb06b",
   "metadata": {},
   "outputs": [
    {
     "name": "stdout",
     "output_type": "stream",
     "text": [
      "<class 'int'>\n"
     ]
    }
   ],
   "source": [
    "age = 20\n",
    "print(type(age))"
   ]
  },
  {
   "cell_type": "code",
   "execution_count": 10,
   "id": "f433f0b4-766f-4be8-a3c5-977e44a2efc0",
   "metadata": {},
   "outputs": [
    {
     "name": "stdout",
     "output_type": "stream",
     "text": [
      "<class 'float'>\n"
     ]
    }
   ],
   "source": [
    "temperature = 36.4\n",
    "print(type(temperature))"
   ]
  },
  {
   "cell_type": "code",
   "execution_count": 11,
   "metadata": {},
   "outputs": [
    {
     "name": "stdout",
     "output_type": "stream",
     "text": [
      "<class 'bool'>\n"
     ]
    }
   ],
   "source": [
    "is_raining = False\n",
    "print(type(is_raining))"
   ]
  },
  {
   "attachments": {},
   "cell_type": "markdown",
   "id": "3250a2d6-7990-4f24-afbd-206af324ee63",
   "metadata": {},
   "source": [
    "### Operatori Booleani \n",
    "\n",
    "Gli operatori booleani (o operatori logici) confrontano *espressioni* (non valori) e ritornano un valore booleano. Python ha tre operatori logici:\n",
    "\n",
    "- `and`  – Ritorna True solo se entrambi le espressioni sono vere, altrimenti ritorna False\n",
    "- `or`  – Ritorna True se almeno una delle due espressioni è vera, altrimenti ritorna False.\n",
    "- `not`  – Ritorna True se l'espressione è falsa, altrimenti ritorna False.\n",
    "\n",
    "Ad esempio:"
   ]
  },
  {
   "cell_type": "code",
   "execution_count": 20,
   "id": "b3d81eed-0cce-4f65-9e68-33ad3740bf47",
   "metadata": {},
   "outputs": [
    {
     "data": {
      "text/plain": [
       "True"
      ]
     },
     "execution_count": 20,
     "metadata": {},
     "output_type": "execute_result"
    }
   ],
   "source": [
    "a = 2\n",
    "b = 3\n",
    "\n",
    "(a + b > a) and (a + b > b)"
   ]
  },
  {
   "attachments": {},
   "cell_type": "markdown",
   "id": "6da560ed-cb16-46cc-bda8-0fee20850d9a",
   "metadata": {},
   "source": [
    "Nella cella sopra le parentesi tonde sono opzionali ma facilitano la lettura.\n",
    "\n",
    "L'operatore `and` restituisce `True` solo se entrambe le condizioni booleane sono vere. Ad esempio, `True and False` restituirà `False` perché una delle condizioni è falsa:"
   ]
  },
  {
   "cell_type": "code",
   "execution_count": 1,
   "id": "ac3ba926-ded3-4156-98a4-91f87664152b",
   "metadata": {},
   "outputs": [
    {
     "data": {
      "text/plain": [
       "False"
      ]
     },
     "execution_count": 1,
     "metadata": {},
     "output_type": "execute_result"
    }
   ],
   "source": [
    "True and False"
   ]
  },
  {
   "cell_type": "markdown",
   "id": "7d6c28c1-09a7-4b70-80db-71f0a02a6531",
   "metadata": {},
   "source": [
    "L'operatore `or` restituisce `True` se almeno una delle due condizioni booleane è vera. Ad esempio, `True or False` restituirà `True` perché almeno una delle condizioni è vera."
   ]
  },
  {
   "cell_type": "code",
   "execution_count": 2,
   "id": "23cd32de-6518-4aa5-8761-90b384938f72",
   "metadata": {},
   "outputs": [
    {
     "data": {
      "text/plain": [
       "True"
      ]
     },
     "execution_count": 2,
     "metadata": {},
     "output_type": "execute_result"
    }
   ],
   "source": [
    "True or False"
   ]
  },
  {
   "cell_type": "markdown",
   "id": "cd4273a9-8ec1-4fd4-8738-5fdebf08987d",
   "metadata": {},
   "source": [
    "L'operatore `not` viene utilizzato per invertire il valore di verità di una condizione booleana. Ad esempio, `not True` restituirà `False` e `not False` restituirà `True`."
   ]
  },
  {
   "cell_type": "code",
   "execution_count": 3,
   "id": "e1b0aa7b-9936-46a4-99dd-42daa53457af",
   "metadata": {},
   "outputs": [
    {
     "data": {
      "text/plain": [
       "False"
      ]
     },
     "execution_count": 3,
     "metadata": {},
     "output_type": "execute_result"
    }
   ],
   "source": [
    "not True"
   ]
  },
  {
   "attachments": {},
   "cell_type": "markdown",
   "id": "0ac47315-2b54-44f8-bfc6-7b4578808aaf",
   "metadata": {},
   "source": [
    "Alcuni esempi sono i seguenti (si noti l'uso della funzione `len()`):"
   ]
  },
  {
   "cell_type": "code",
   "execution_count": 9,
   "id": "b91328a7-370a-4f32-84fa-c226b3b22f4d",
   "metadata": {},
   "outputs": [
    {
     "name": "stdout",
     "output_type": "stream",
     "text": [
      "True\n",
      "True\n",
      "False\n",
      "True\n",
      "True\n",
      "False\n",
      "True\n",
      "False\n",
      "True\n",
      "True\n",
      "False\n",
      "True\n",
      "True\n",
      "False\n"
     ]
    }
   ],
   "source": [
    "print(3 > 2)  # True, because 3 is greater than 2\n",
    "print(3 >= 2)  # True, because 3 is greater than 2\n",
    "print(3 < 2)  # False,  because 3 is greater than 2\n",
    "print(2 < 3)  # True, because 2 is less than 3\n",
    "print(2 <= 3)  # True, because 2 is less than 3\n",
    "print(3 == 2)  # False, because 3 is not equal to 2\n",
    "print(3 != 2)  # True, because 3 is not equal to 2\n",
    "print(len(\"mango\") == len(\"avocado\"))  # False\n",
    "print(len(\"mango\") != len(\"avocado\"))  # True\n",
    "print(len(\"mango\") < len(\"avocado\"))  # True\n",
    "print(len(\"milk\") != len(\"meat\"))  # False\n",
    "print(len(\"milk\") == len(\"meat\"))  # True\n",
    "print(len(\"tomato\") == len(\"potato\"))  # True\n",
    "print(len(\"python\") > len(\"dragon\"))  # False"
   ]
  },
  {
   "attachments": {},
   "cell_type": "markdown",
   "id": "2185cd3d-c945-416a-94ea-4ddc284396e6",
   "metadata": {},
   "source": [
    "Altri esempi di come questi operatori possono essere utilizzati sono i seguenti:"
   ]
  },
  {
   "cell_type": "code",
   "execution_count": 10,
   "id": "e9ce3ea8-e1f6-4e3b-b3e4-783254067444",
   "metadata": {},
   "outputs": [
    {
     "name": "stdout",
     "output_type": "stream",
     "text": [
      "True\n",
      "False\n",
      "False\n",
      "True and True:  True\n",
      "True\n",
      "True\n",
      "False\n",
      "True or False: True\n",
      "False\n",
      "False\n",
      "True\n",
      "True\n",
      "False\n"
     ]
    }
   ],
   "source": [
    "print(3 > 2 and 4 > 3)  # True - because both statements are true\n",
    "print(3 > 2 and 4 < 3)  # False - because the second statement is false\n",
    "print(3 < 2 and 4 < 3)  # False - because both statements are false\n",
    "print(\"True and True: \", True and True)\n",
    "print(3 > 2 or 4 > 3)  # True - because both statements are true\n",
    "print(3 > 2 or 4 < 3)  # True - because one of the statements is true\n",
    "print(3 < 2 or 4 < 3)  # False - because both statements are false\n",
    "print(\"True or False:\", True or False)\n",
    "print(not 3 > 2)  # False - because 3 > 2 is true, then not True gives False\n",
    "print(not True)  # False - Negation, the not operator turns true to false\n",
    "print(not False)  # True\n",
    "print(not not True)  # True\n",
    "print(not not False)  # False"
   ]
  },
  {
   "cell_type": "markdown",
   "id": "a516f7a1-a7be-4f61-bac5-fe7e0ea2ef66",
   "metadata": {},
   "source": [
    "Abbiamo tralasciato alcuni operatori in Python. Due di quelli che abbiamo omesso sono gli operatori di appartenenza, `in` e `not in`. Gli altri operatori che abbiamo tralasciato sono gli operatori bitwise e gli operatori sugli insiemi, che verranno trattati in seguito."
   ]
  },
  {
   "cell_type": "markdown",
   "id": "d4c82de9-4304-411d-9e6f-a1ce42a0e37e",
   "metadata": {},
   "source": [
    "### Valori Numerici di True e False\n",
    "\n",
    "È fondamentale comprendere i valori numerici associati alle parole chiave `True` e `False`. Queste due parole chiave hanno i valori numerici di 1 e 0, rispettivamente."
   ]
  },
  {
   "cell_type": "code",
   "execution_count": 1,
   "id": "bf92ac0f-4972-45d8-b739-6a72556e96cf",
   "metadata": {},
   "outputs": [
    {
     "data": {
      "text/plain": [
       "True"
      ]
     },
     "execution_count": 1,
     "metadata": {},
     "output_type": "execute_result"
    }
   ],
   "source": [
    "True == 1"
   ]
  },
  {
   "cell_type": "code",
   "execution_count": 2,
   "id": "4772b9c9-a7c3-4658-85f5-e9b1b17f1a60",
   "metadata": {},
   "outputs": [
    {
     "data": {
      "text/plain": [
       "True"
      ]
     },
     "execution_count": 2,
     "metadata": {},
     "output_type": "execute_result"
    }
   ],
   "source": [
    "False == 0"
   ]
  },
  {
   "cell_type": "code",
   "execution_count": 3,
   "id": "88789dac-e8eb-4177-a27b-6e64d11febf3",
   "metadata": {},
   "outputs": [
    {
     "data": {
      "text/plain": [
       "1"
      ]
     },
     "execution_count": 3,
     "metadata": {},
     "output_type": "execute_result"
    }
   ],
   "source": [
    "True + False"
   ]
  },
  {
   "cell_type": "code",
   "execution_count": 4,
   "id": "35d9b3e4-9b66-4548-9d37-4f1aff7b21a8",
   "metadata": {},
   "outputs": [
    {
     "data": {
      "text/plain": [
       "int"
      ]
     },
     "execution_count": 4,
     "metadata": {},
     "output_type": "execute_result"
    }
   ],
   "source": [
    "type(True + False)"
   ]
  },
  {
   "attachments": {},
   "cell_type": "markdown",
   "id": "bebea659-856b-43c9-8b48-505fe1d1f7c9",
   "metadata": {},
   "source": [
    "## Sequenze\n",
    "\n",
    "Oltre ai numeri e ai valori booleani, Python supporta anche un insieme di \"contenitori\", ovvero i seguenti tipi strutturati: \n",
    "\n",
    "- le liste, \n",
    "- le tuple, \n",
    "- gli insiemi,\n",
    "- i dizionari. "
   ]
  },
  {
   "cell_type": "markdown",
   "id": "b1873fc3-0933-47c3-a648-54078d4fda2a",
   "metadata": {},
   "source": [
    "### Le tuple\n",
    "\n",
    "Una tupla è una collezione di diversi tipi di dati che è ordinata e immutabile (non modificabile). Le tuple sono scritte tra parentesi tonde, (). Una volta creata una tupla, non è possibile modificarne i contenuti."
   ]
  },
  {
   "cell_type": "code",
   "execution_count": 11,
   "id": "d6f719d0-26a4-421a-84a3-efc67269beaf",
   "metadata": {},
   "outputs": [
    {
     "data": {
      "text/plain": [
       "('Rosso', 'Nero', 'Bianco')"
      ]
     },
     "execution_count": 11,
     "metadata": {},
     "output_type": "execute_result"
    }
   ],
   "source": [
    "colors = (\"Rosso\", \"Nero\", \"Bianco\")\n",
    "colors"
   ]
  },
  {
   "cell_type": "code",
   "execution_count": 4,
   "id": "cec7d61d-7ac7-4f29-8a78-1b88c4e274d7",
   "metadata": {},
   "outputs": [
    {
     "data": {
      "text/plain": [
       "tuple"
      ]
     },
     "execution_count": 4,
     "metadata": {},
     "output_type": "execute_result"
    }
   ],
   "source": [
    "type(colors)"
   ]
  },
  {
   "cell_type": "markdown",
   "id": "7c3fa197-f2f1-4c9d-9408-b45019d8fc15",
   "metadata": {},
   "source": [
    "Le stringhe sono tuple di caratteri. Pertanto non sono modificabili.\n",
    "\n",
    "### Le liste\n",
    "\n",
    "Gli oggetti di tipo lista sono simili alle tuple, ma con alcune differenze. La lista è un oggetto mutabile, il che significa che possiamo aggiungere o rimuovere elementi dalla lista anche dopo la sua creazione. Una lista viene creata separando i suoi elementi tramite virgola e racchiudendo il tutto tra parentesi quadre. \n",
    "\n",
    "Si noti che una lista è una struttura dati *eterogenea* contentente una sequenza di elementi che possono essere di tipo diverso. "
   ]
  },
  {
   "cell_type": "code",
   "execution_count": 5,
   "id": "db02b241-95a7-4327-b363-eff252fec0d2",
   "metadata": {},
   "outputs": [
    {
     "data": {
      "text/plain": [
       "['Pippo', 3, -2.953, [1, 2, 3]]"
      ]
     },
     "execution_count": 5,
     "metadata": {},
     "output_type": "execute_result"
    }
   ],
   "source": [
    "my_list = [\"Pippo\", 3, -2.953, [1, 2, 3]]\n",
    "my_list"
   ]
  },
  {
   "cell_type": "code",
   "execution_count": 6,
   "id": "5a08a36c-bc35-4216-9baf-533a7a6d3007",
   "metadata": {},
   "outputs": [
    {
     "data": {
      "text/plain": [
       "list"
      ]
     },
     "execution_count": 6,
     "metadata": {},
     "output_type": "execute_result"
    }
   ],
   "source": [
    "type(my_list)"
   ]
  },
  {
   "attachments": {},
   "cell_type": "markdown",
   "id": "69c5f12f-331f-43e9-bebe-bc1ec97c9568",
   "metadata": {},
   "source": [
    "La lista `my_list` è composta da diversi elementi: una stringa (\"Pippo\"), un numero intero (3), un numero decimale (-2.953) e un'altra lista ([1, 2, 3]).\n",
    "\n",
    "Gli elementi nella lista sono ordinati in base all'indice, il quale rappresenta la loro posizione all'interno della lista. Gli indici delle liste partono da 0 e aumentano di uno. Per accedere a un elemento della lista tramite il suo indice, si utilizza la notazione delle parentesi quadre: `nome_lista[indice]`. Ad esempio:"
   ]
  },
  {
   "cell_type": "code",
   "execution_count": 7,
   "id": "c46e5bbe-2ef7-4373-817d-12778f2ac9a6",
   "metadata": {},
   "outputs": [
    {
     "data": {
      "text/plain": [
       "3"
      ]
     },
     "execution_count": 7,
     "metadata": {},
     "output_type": "execute_result"
    }
   ],
   "source": [
    "my_list[1]"
   ]
  },
  {
   "cell_type": "code",
   "execution_count": 8,
   "id": "83a405e0-1b89-4cd2-86c3-5a4d9cbb4bb5",
   "metadata": {},
   "outputs": [
    {
     "data": {
      "text/plain": [
       "'Pippo'"
      ]
     },
     "execution_count": 8,
     "metadata": {},
     "output_type": "execute_result"
    }
   ],
   "source": [
    "my_list[0]"
   ]
  },
  {
   "attachments": {},
   "cell_type": "markdown",
   "id": "82508ffb-72cc-4ac0-9554-e3c9546ebedb",
   "metadata": {},
   "source": [
    "Python prevede alcune funzioni che elaborano liste, come per esempio `len` che restituisce il numero di elementi contenuti in una lista:"
   ]
  },
  {
   "cell_type": "code",
   "execution_count": 11,
   "id": "c4906df5-68f9-4b94-9450-2cc7fa1ee32c",
   "metadata": {},
   "outputs": [
    {
     "data": {
      "text/plain": [
       "4"
      ]
     },
     "execution_count": 11,
     "metadata": {},
     "output_type": "execute_result"
    }
   ],
   "source": [
    "len(my_list)"
   ]
  },
  {
   "attachments": {},
   "cell_type": "markdown",
   "id": "f532ed9b-77a6-4be1-991f-8a1f83f72472",
   "metadata": {},
   "source": [
    "Benché questa lista contenga come elemento un'altra lista, tale lista nidificata conta comunque come un singolo elemento. La lunghezza di di `my_list` è quattro.\n",
    "\n",
    "Una lista vuota si crea nel modo seguente:"
   ]
  },
  {
   "cell_type": "code",
   "execution_count": 6,
   "id": "6a55796b-bc39-4478-8ee2-ce4144ac2053",
   "metadata": {},
   "outputs": [
    {
     "data": {
      "text/plain": [
       "0"
      ]
     },
     "execution_count": 6,
     "metadata": {},
     "output_type": "execute_result"
    }
   ],
   "source": [
    "empty_list = []\n",
    "len(empty_list)"
   ]
  },
  {
   "attachments": {},
   "cell_type": "markdown",
   "id": "1f62e54c-da73-47e1-a13d-1e922a593f90",
   "metadata": {},
   "source": [
    "Ecco alcuni esempi."
   ]
  },
  {
   "cell_type": "code",
   "execution_count": 12,
   "id": "7ed4cf0e-5558-4551-aea9-460ea27785b3",
   "metadata": {},
   "outputs": [
    {
     "name": "stdout",
     "output_type": "stream",
     "text": [
      "Fruits: ['banana', 'orange', 'mango', 'lemon']\n",
      "Number of fruits: 4\n",
      "Vegetables: ['Tomato', 'Potato', 'Cabbage', 'Onion', 'Carrot']\n",
      "Number of vegetables: 5\n"
     ]
    }
   ],
   "source": [
    "fruits = [\"banana\", \"orange\", \"mango\", \"lemon\"]  # list of fruits\n",
    "vegetables = [\"Tomato\", \"Potato\", \"Cabbage\", \"Onion\", \"Carrot\"]  # list of vegetables\n",
    "\n",
    "print(\"Fruits:\", fruits)\n",
    "print(\"Number of fruits:\", len(fruits))\n",
    "print(\"Vegetables:\", vegetables)\n",
    "print(\"Number of vegetables:\", len(vegetables))"
   ]
  },
  {
   "attachments": {},
   "cell_type": "markdown",
   "id": "e4b055ab-db17-4995-a30d-e33d1acf6442",
   "metadata": {},
   "source": [
    "Supponiamo di voler ordinare in ordine alfabetico i nomi presenti nella lista. Per fare ciò, è necessario utilizzare il metodo `sort` sulla lista utilizzando la notazione con il punto (dot notation):"
   ]
  },
  {
   "cell_type": "code",
   "execution_count": 13,
   "id": "ae2b0975-5d49-4efa-a9e1-eae69f2ba7c1",
   "metadata": {},
   "outputs": [],
   "source": [
    "names = [\"Carlo\", \"Giovanni\", \"Giacomo\"]\n",
    "names.sort()"
   ]
  },
  {
   "attachments": {},
   "cell_type": "markdown",
   "id": "b079b8e4-1984-4395-a39f-a103c6baa543",
   "metadata": {},
   "source": [
    "Tale metodo però non restituisce alcun valore, in quanto l'ordinamento è eseguito _in place_: dopo l'invocazione, gli elementi della lista saranno stati riposizionati nell'ordine richiesto.  Visualizziamo la listra trasformata:"
   ]
  },
  {
   "cell_type": "code",
   "execution_count": 14,
   "id": "ec4cbe06-64e2-46cd-8995-95a7aead7c88",
   "metadata": {},
   "outputs": [
    {
     "data": {
      "text/plain": [
       "['Carlo', 'Giacomo', 'Giovanni']"
      ]
     },
     "execution_count": 14,
     "metadata": {},
     "output_type": "execute_result"
    }
   ],
   "source": [
    "names"
   ]
  },
  {
   "attachments": {},
   "cell_type": "markdown",
   "id": "c4a4c694-f58f-4126-8d47-9a69a00d6ace",
   "metadata": {},
   "source": [
    "L'invocazione di metodi (e di funzioni) prevede anche la possibilità di specificare degli argomenti _opzionali_. Per esempio:"
   ]
  },
  {
   "cell_type": "code",
   "execution_count": 15,
   "id": "bdfab2ef-a224-4746-8b23-ae63db18dede",
   "metadata": {},
   "outputs": [
    {
     "data": {
      "text/plain": [
       "['Giovanni', 'Giacomo', 'Carlo']"
      ]
     },
     "execution_count": 15,
     "metadata": {},
     "output_type": "execute_result"
    }
   ],
   "source": [
    "names.sort(reverse=True)\n",
    "names"
   ]
  },
  {
   "attachments": {},
   "cell_type": "markdown",
   "id": "5475d110-3d01-4187-8bbb-c5debc10d3e9",
   "metadata": {},
   "source": [
    "Il metodo `remove()` può essere usato per rimuovere elementi da una lista."
   ]
  },
  {
   "cell_type": "code",
   "execution_count": 16,
   "id": "3abc4e0e-4b51-4f9f-af8e-5adb4152fe65",
   "metadata": {},
   "outputs": [
    {
     "name": "stdout",
     "output_type": "stream",
     "text": [
      "['banana', 'orange', 'mango', 'lemon']\n",
      "['orange', 'mango', 'lemon']\n"
     ]
    }
   ],
   "source": [
    "print(fruits)\n",
    "fruits.remove(\"banana\")\n",
    "print(fruits)"
   ]
  },
  {
   "attachments": {},
   "cell_type": "markdown",
   "id": "cdf48185-0466-4981-926f-40cdb34795fb",
   "metadata": {},
   "source": [
    "Il metodo `insert()` può essere usato per aggiungere elementi ad una lista."
   ]
  },
  {
   "cell_type": "code",
   "execution_count": 17,
   "id": "cc66aba6-f38f-49ce-abcb-d27337d496b5",
   "metadata": {},
   "outputs": [
    {
     "name": "stdout",
     "output_type": "stream",
     "text": [
      "['orange', 'mango', 'lemon']\n",
      "['orange', 'mango', 'watermelon', 'lemon']\n"
     ]
    }
   ],
   "source": [
    "print(fruits)\n",
    "fruits.insert(2, \"watermelon\")\n",
    "print(fruits)"
   ]
  },
  {
   "attachments": {},
   "cell_type": "markdown",
   "id": "2bdd2638-794e-45d0-ac33-ff7f9def3cf3",
   "metadata": {},
   "source": [
    "È possibile copiare una lista in una nuova variabile:"
   ]
  },
  {
   "cell_type": "code",
   "execution_count": 23,
   "id": "23080dc6-d803-4e7a-ab50-c5024198674f",
   "metadata": {},
   "outputs": [
    {
     "name": "stdout",
     "output_type": "stream",
     "text": [
      "['orange', 'mango', 'watermelon', 'lemon']\n"
     ]
    }
   ],
   "source": [
    "print(fruits)\n",
    "new_fruits = fruits.copy()"
   ]
  },
  {
   "cell_type": "code",
   "execution_count": 24,
   "id": "bf555827-2ee4-4555-b125-55e058706dd3",
   "metadata": {},
   "outputs": [
    {
     "name": "stdout",
     "output_type": "stream",
     "text": [
      "['orange', 'mango', 'watermelon', 'lemon']\n"
     ]
    }
   ],
   "source": [
    "print(new_fruits)"
   ]
  },
  {
   "attachments": {},
   "cell_type": "markdown",
   "id": "69978d01-0f75-423f-af93-33b31e2e27bd",
   "metadata": {},
   "source": [
    "### Operazioni su liste\n",
    "\n",
    "L'operatore `+` concatena liste:"
   ]
  },
  {
   "cell_type": "code",
   "execution_count": 18,
   "id": "93b9083f-d57c-4993-8b73-e49a87c9d5cd",
   "metadata": {},
   "outputs": [
    {
     "name": "stdout",
     "output_type": "stream",
     "text": [
      "[1, 2, 3, 4, 5, 6]\n"
     ]
    }
   ],
   "source": [
    "a = [1, 2, 3]\n",
    "b = [4, 5, 6]\n",
    "c = a + b\n",
    "print(c)"
   ]
  },
  {
   "attachments": {},
   "cell_type": "markdown",
   "id": "8549b8a3-d234-4d67-9a93-3ca66165a01b",
   "metadata": {},
   "source": [
    "In maniera simile, l'operatore `*` ripete una lista un certo numero di volte:"
   ]
  },
  {
   "cell_type": "code",
   "execution_count": 19,
   "id": "081641fd-b6c6-4436-9b7a-5f8f5a9c577b",
   "metadata": {},
   "outputs": [
    {
     "data": {
      "text/plain": [
       "[0, 0, 0, 0]"
      ]
     },
     "execution_count": 19,
     "metadata": {},
     "output_type": "execute_result"
    }
   ],
   "source": [
    "[0] * 4"
   ]
  },
  {
   "cell_type": "code",
   "execution_count": 20,
   "id": "3ec96e2c-f5cc-4ac9-9fbf-51ef360561ef",
   "metadata": {},
   "outputs": [
    {
     "data": {
      "text/plain": [
       "[1, 2, 3, 1, 2, 3, 1, 2, 3]"
      ]
     },
     "execution_count": 20,
     "metadata": {},
     "output_type": "execute_result"
    }
   ],
   "source": [
    "[1, 2, 3] * 3"
   ]
  },
  {
   "attachments": {},
   "cell_type": "markdown",
   "id": "6ae3f728-89fe-41e2-a87c-ca911ac7be35",
   "metadata": {},
   "source": [
    "L'aspetto importante da considerare è che, essendo una sequenza di elementi *eterogenei*, è difficile eseguire operazioni algebriche sulle liste in Python puro. Ad esempio, consideriamo la seguente lista:"
   ]
  },
  {
   "cell_type": "code",
   "execution_count": 21,
   "id": "7f0dd883-c0e9-49ea-bb8c-189131afe0ca",
   "metadata": {},
   "outputs": [
    {
     "data": {
      "text/plain": [
       "[1, 2, 3]"
      ]
     },
     "execution_count": 21,
     "metadata": {},
     "output_type": "execute_result"
    }
   ],
   "source": [
    "x = [1, 2, 3]\n",
    "x"
   ]
  },
  {
   "attachments": {},
   "cell_type": "markdown",
   "id": "0c51bd39-ae04-4fb3-a54e-fe4f669325bf",
   "metadata": {},
   "source": [
    "Se desideriamo calcolare una semplice operazione, come la media di `x`, è necessario seguire una procedura abbastanza articolata. Ad esempio:"
   ]
  },
  {
   "cell_type": "code",
   "execution_count": 22,
   "id": "f62c44b0-b67b-45c5-a208-932b64ff39e1",
   "metadata": {},
   "outputs": [
    {
     "name": "stdout",
     "output_type": "stream",
     "text": [
      "2.0\n"
     ]
    }
   ],
   "source": [
    "total = 0\n",
    "counter = 0\n",
    "\n",
    "for num in x:\n",
    "    counter += 1\n",
    "    total += num\n",
    "\n",
    "avg = total / counter\n",
    "\n",
    "print(avg)"
   ]
  },
  {
   "attachments": {},
   "cell_type": "markdown",
   "id": "7eba2f8f-0560-401a-9dbf-af45f6e730e1",
   "metadata": {},
   "source": [
    "Indubbiamente, sarebbe preferibile ottenere questo risultato con un approccio più semplice. In seguito, vedremo che se utilizziamo una sequenza di elementi *omogenei*, il problema può essere risolto in modo molto più agevole. Ad esempio,"
   ]
  },
  {
   "cell_type": "code",
   "execution_count": 23,
   "id": "0dc2ee1a-f66e-4eea-9123-831649e057be",
   "metadata": {},
   "outputs": [
    {
     "data": {
      "text/plain": [
       "2.0"
      ]
     },
     "execution_count": 23,
     "metadata": {},
     "output_type": "execute_result"
    }
   ],
   "source": [
    "import numpy as np\n",
    "\n",
    "x = np.array([1, 2, 3])\n",
    "np.mean(x)"
   ]
  },
  {
   "attachments": {},
   "cell_type": "markdown",
   "id": "911d7356-c951-405a-bf91-c798e2288fbc",
   "metadata": {},
   "source": [
    "Possiamo contare il numero degli elementi specificati che sono contenuti in una lista usando `count()`."
   ]
  },
  {
   "cell_type": "code",
   "execution_count": 25,
   "id": "48955833-e753-4f1b-8a12-0fb2f1dbeebf",
   "metadata": {},
   "outputs": [
    {
     "name": "stdout",
     "output_type": "stream",
     "text": [
      "3\n"
     ]
    }
   ],
   "source": [
    "ages = [22, 19, 24, 25, 26, 24, 25, 24]\n",
    "print(ages.count(24))         "
   ]
  },
  {
   "attachments": {},
   "cell_type": "markdown",
   "id": "44f4d066-8baa-4a08-a005-f09fc86410a4",
   "metadata": {},
   "source": [
    "Possiamo trovare l'indice di un elemento in una lista con `index()`."
   ]
  },
  {
   "cell_type": "code",
   "execution_count": 26,
   "id": "50a05ac1-e75d-4e50-a6c6-bce620684def",
   "metadata": {},
   "outputs": [
    {
     "data": {
      "text/plain": [
       "2"
      ]
     },
     "execution_count": 26,
     "metadata": {},
     "output_type": "execute_result"
    }
   ],
   "source": [
    "ages.index(24)  # index of the first occurrence"
   ]
  },
  {
   "attachments": {},
   "cell_type": "markdown",
   "id": "b226a710-d68d-4afa-9111-cc90281cec46",
   "metadata": {},
   "source": [
    "### Operatore slice\n",
    "\n",
    "L'operatore di slice (:) applicato alle liste in Python consente di estrarre una porzione specifica di elementi dalla lista. L'operatore di slice ha la seguente sintassi: `lista[inizio:fine:passo]`.\n",
    "\n",
    "- `inizio` rappresenta l'indice di partenza dell'intervallo (inclusivo).\n",
    "- `fine` rappresenta l'indice di fine dell'intervallo (esclusivo).\n",
    "- `passo` rappresenta il passo o l'incremento tra gli indici degli elementi selezionati (facoltativo).\n",
    "\n",
    "Ecco alcuni esempi per illustrare l'utilizzo dell'operatore di slice:"
   ]
  },
  {
   "cell_type": "code",
   "execution_count": 15,
   "id": "96e90ee8-cebc-4842-9285-7f034009fa5d",
   "metadata": {},
   "outputs": [],
   "source": [
    "lista = [1, 2, 3, 4, 5, 6, 7, 8, 9, 10]\n",
    "\n",
    "# Estrarre una porzione della lista\n",
    "porzione = lista[2:6]  # [3, 4, 5, 6]\n",
    "\n",
    "# Estrarre una porzione con un passo specifico\n",
    "porzione_passo = lista[1:9:2]  # [2, 4, 6, 8]\n",
    "\n",
    "# Estrarre una porzione dalla fine della lista\n",
    "porzione_fine = lista[6:]  # [7, 8, 9, 10]\n",
    "\n",
    "# Estrarre una porzione dall'inizio della lista\n",
    "porzione_inizio = lista[:5]  # [1, 2, 3, 4, 5]"
   ]
  },
  {
   "attachments": {},
   "cell_type": "markdown",
   "id": "01da5ff8-f113-4e88-95ce-f64ac09336f6",
   "metadata": {},
   "source": [
    "### Gli insiemi\n",
    "\n",
    "Gli insiemi sono collezioni finite di elementi distinti e non memorizzati in un ordine specifico. Un insieme non può contenere più di un'istanza dello stesso elemento. Per creare un insieme si utilizzano le parentesi graffe {}. Ad esempio:\n"
   ]
  },
  {
   "cell_type": "code",
   "execution_count": 24,
   "id": "07ab3ddf-4f2a-4836-8286-736552ee79d1",
   "metadata": {},
   "outputs": [
    {
     "data": {
      "text/plain": [
       "{'A', 'B', 'C', 'D', 'E', 'F'}"
      ]
     },
     "execution_count": 24,
     "metadata": {},
     "output_type": "execute_result"
    }
   ],
   "source": [
    "my_set = {\"A\", \"B\", \"C\", \"D\", \"E\", \"F\"}\n",
    "my_set"
   ]
  },
  {
   "cell_type": "code",
   "execution_count": 25,
   "id": "e108fde5-7827-481b-8204-eea6858a3c31",
   "metadata": {},
   "outputs": [
    {
     "data": {
      "text/plain": [
       "set"
      ]
     },
     "execution_count": 25,
     "metadata": {},
     "output_type": "execute_result"
    }
   ],
   "source": [
    "type(my_set)"
   ]
  },
  {
   "attachments": {},
   "cell_type": "markdown",
   "id": "c2b23ae9-e323-4190-8690-601ef7d2e1d9",
   "metadata": {},
   "source": [
    "Gli oggetti di tipo \"set\" sono utili per eseguire operazioni matematiche sugli insiemi.\n",
    "\n",
    "Per verificare se un elemento esiste in un insieme usiamo l'operatore `in`."
   ]
  },
  {
   "cell_type": "code",
   "execution_count": 26,
   "id": "c7def61e-bd86-4eb5-82f8-134259992064",
   "metadata": {},
   "outputs": [
    {
     "name": "stdout",
     "output_type": "stream",
     "text": [
      "Does set my_set contain D?  True\n"
     ]
    }
   ],
   "source": [
    "print(\"Does set my_set contain D? \", \"D\" in my_set)"
   ]
  },
  {
   "attachments": {},
   "cell_type": "markdown",
   "id": "9a0d7fce-fa47-452c-a3e0-f35037f8bcd5",
   "metadata": {},
   "source": [
    "L'unione di due insieme si ottiene con `union()`."
   ]
  },
  {
   "cell_type": "code",
   "execution_count": 27,
   "id": "46988b8f-3f28-423a-bb1b-931420b7b61d",
   "metadata": {},
   "outputs": [
    {
     "name": "stdout",
     "output_type": "stream",
     "text": [
      "{'carrot', 'onion', 'lemon', 'mango', 'tomato', 'potato', 'banana', 'cabbage', 'orange'}\n"
     ]
    }
   ],
   "source": [
    "fruits = {\"banana\", \"orange\", \"mango\", \"lemon\"}\n",
    "vegetables = {\"tomato\", \"potato\", \"cabbage\", \"onion\", \"carrot\"}\n",
    "print(fruits.union(vegetables))"
   ]
  },
  {
   "attachments": {},
   "cell_type": "markdown",
   "id": "219f0c81-16fa-440a-bffd-176dba07d2ef",
   "metadata": {},
   "source": [
    "L'intersezione di due insieme si trova con `intersection()`."
   ]
  },
  {
   "cell_type": "code",
   "execution_count": 34,
   "id": "0c6d5987-32a7-4f7f-8339-2be2dbe5b4ed",
   "metadata": {},
   "outputs": [
    {
     "data": {
      "text/plain": [
       "{'n', 'o'}"
      ]
     },
     "execution_count": 34,
     "metadata": {},
     "output_type": "execute_result"
    }
   ],
   "source": [
    "python = {\"p\", \"y\", \"t\", \"h\", \"o\", \"n\"}\n",
    "dragon = {\"d\", \"r\", \"a\", \"g\", \"o\", \"n\"}\n",
    "python.intersection(dragon)"
   ]
  },
  {
   "attachments": {},
   "cell_type": "markdown",
   "id": "c02f87b0-66e4-47d7-a29a-d4b3263003c5",
   "metadata": {},
   "source": [
    "Un insieme può essere un sottoinsieme o un sovrainsieme di altri insiemi.\n",
    "\n",
    "Per verificare se un insieme è un sottoinsieme di un altro, si utilizza il metodo `issubset()`.\n",
    "Per verificare se un insieme è un sovrainsieme di un altro, si utilizza il metodo `issuperset()`."
   ]
  },
  {
   "cell_type": "code",
   "execution_count": 36,
   "id": "02bd6275-ddeb-4812-b324-601b04d71c56",
   "metadata": {},
   "outputs": [
    {
     "data": {
      "text/plain": [
       "True"
      ]
     },
     "execution_count": 36,
     "metadata": {},
     "output_type": "execute_result"
    }
   ],
   "source": [
    "st1 = {\"item1\", \"item2\", \"item3\", \"item4\"}\n",
    "st2 = {\"item2\", \"item3\"}\n",
    "st2.issubset(st1)"
   ]
  },
  {
   "cell_type": "code",
   "execution_count": 37,
   "id": "6c7009a5-d0bd-4033-a6ad-2db6fb949aca",
   "metadata": {},
   "outputs": [
    {
     "data": {
      "text/plain": [
       "True"
      ]
     },
     "execution_count": 37,
     "metadata": {},
     "output_type": "execute_result"
    }
   ],
   "source": [
    "st1.issuperset(st2) "
   ]
  },
  {
   "attachments": {},
   "cell_type": "markdown",
   "id": "dbf0e6b5-c70b-4550-a0fb-a60e8b92e123",
   "metadata": {},
   "source": [
    "La differenza tra due insiemi si ottiene con `difference()`."
   ]
  },
  {
   "cell_type": "code",
   "execution_count": 38,
   "id": "2be19947-e172-4be2-823c-3d05d1f1274f",
   "metadata": {},
   "outputs": [
    {
     "data": {
      "text/plain": [
       "{1, 3, 5, 7, 9}"
      ]
     },
     "execution_count": 38,
     "metadata": {},
     "output_type": "execute_result"
    }
   ],
   "source": [
    "whole_numbers = {0, 1, 2, 3, 4, 5, 6, 7, 8, 9, 10}\n",
    "even_numbers = {0, 2, 4, 6, 8, 10}\n",
    "whole_numbers.difference(even_numbers)"
   ]
  },
  {
   "attachments": {},
   "cell_type": "markdown",
   "id": "6ae44482-c553-4e4d-8c4b-6974fd43b8b6",
   "metadata": {},
   "source": [
    "Possiamo verificare se due insiemi sono disgiunti, ovvero non hanno elementi in comune, utilizzando il metodo `isdisjoint()`."
   ]
  },
  {
   "cell_type": "code",
   "execution_count": 39,
   "id": "d974c2d1-8966-4c66-a5df-e7d6d0cfb7e1",
   "metadata": {},
   "outputs": [
    {
     "data": {
      "text/plain": [
       "False"
      ]
     },
     "execution_count": 39,
     "metadata": {},
     "output_type": "execute_result"
    }
   ],
   "source": [
    "st1 = {\"item1\", \"item2\", \"item3\", \"item4\"}\n",
    "st2 = {\"item2\", \"item3\"}\n",
    "st2.isdisjoint(st1)"
   ]
  },
  {
   "attachments": {},
   "cell_type": "markdown",
   "id": "eb49a9fa-9085-471d-9ad8-3b0465299f36",
   "metadata": {},
   "source": [
    "###  I dizionari\n",
    "\n",
    "Gli oggetti di tipo \"dizionario\" vengono utilizzati per creare coppie chiave-valore, dove ogni chiave è unica. Un dizionario viene creato specificando ogni coppia come `chiave : valore`, separando le diverse coppie con una virgola e racchiudendo il tutto tra parentesi graffe. Ad esempio:"
   ]
  },
  {
   "cell_type": "code",
   "execution_count": 29,
   "id": "eb82500f-8b51-4063-87b0-2d33f583adce",
   "metadata": {},
   "outputs": [],
   "source": [
    "music = {\n",
    "    \"blues\": \"Betty Smith\",\n",
    "    \"classical\": \"Gustav Mahler\",\n",
    "    \"pop\": \"David Bowie\",\n",
    "    \"jazz\": \"John Coltrane\",\n",
    "}"
   ]
  },
  {
   "attachments": {},
   "cell_type": "markdown",
   "id": "f291082e-0798-4cbb-944d-4d61c8624b29",
   "metadata": {},
   "source": [
    "L'accesso agli elementi di un dizionario viene fatto specificando all'interno di parentesi quadre la chiave per ottenere o modificare il valore corrispondente:"
   ]
  },
  {
   "cell_type": "code",
   "execution_count": 30,
   "id": "ffe2d61e-6776-45ce-865e-c994ec1c76e2",
   "metadata": {},
   "outputs": [
    {
     "data": {
      "text/plain": [
       "'David Bowie'"
      ]
     },
     "execution_count": 30,
     "metadata": {},
     "output_type": "execute_result"
    }
   ],
   "source": [
    "music[\"pop\"]"
   ]
  },
  {
   "attachments": {},
   "cell_type": "markdown",
   "id": "35ff50c5-7445-4ae3-a0bc-d3db86854ae6",
   "metadata": {},
   "source": [
    "Per trovare il numero di coppie `key: value` nel dizionario usiamo `len()`."
   ]
  },
  {
   "cell_type": "code",
   "execution_count": 45,
   "id": "4bae4fdf-0848-4a56-ac61-70ec65bd1563",
   "metadata": {},
   "outputs": [
    {
     "name": "stdout",
     "output_type": "stream",
     "text": [
      "4\n"
     ]
    }
   ],
   "source": [
    "print(len(music))"
   ]
  },
  {
   "cell_type": "code",
   "execution_count": 31,
   "id": "acd1d3db-ca5d-4fc5-b3f1-e2fda9c89161",
   "metadata": {},
   "outputs": [
    {
     "name": "stdout",
     "output_type": "stream",
     "text": [
      "{'blues': 'Betty Smith', 'classical': 'Gustav Mahler', 'pop': 'David Bowie', 'jazz': 'John Coltrane', 'new music': 'Missy Mazzoli'}\n"
     ]
    }
   ],
   "source": [
    "music[\"new music\"] = \"Missy Mazzoli\"\n",
    "print(music)"
   ]
  },
  {
   "attachments": {},
   "cell_type": "markdown",
   "id": "fda2958a-7e1e-407b-b833-f6f06188e394",
   "metadata": {},
   "source": [
    "### Contenitori vuoti\n",
    "\n",
    "A volte è utile creare dei contenitori vuoti. I comandi per creare liste vuote, tuple vuote, dizionari vuoti e insiemi vuoti sono rispettivamente `lst = []`, `tup=()`, `dic={}` e `st = set()`."
   ]
  },
  {
   "cell_type": "markdown",
   "id": "60abe1ce-066f-46f2-bfbf-35ee9a6f714f",
   "metadata": {},
   "source": [
    "## Informazioni sull'Ambiente di Sviluppo\n",
    "\n",
    "Alla fine di ogni capitolo e, in effetti, alla fine (o all'inizio) di qualsiasi notebook che creiamo, è utile includere informazioni sull'ambiente di calcolo, compresi i numeri di versione di tutti i pacchetti che utilizziamo. Il pacchetto `watermark` può essere usato per questo scopo. Il pacchetto `watermark` contiene comandi speciali ed è un'estensione di IPython. In generale, per utilizzare tali comandi speciali, li precediamo con il segno % o %% in una cella. Utilizziamo la funzione speciale built-in `%load_ext` per caricare `watermark`, e quindi utilizziamo `%watermark` per invocarlo."
   ]
  },
  {
   "cell_type": "code",
   "execution_count": 1,
   "id": "9b419b82-9c58-4fc6-adc0-b79ce36af72c",
   "metadata": {},
   "outputs": [
    {
     "name": "stdout",
     "output_type": "stream",
     "text": [
      "Last updated: Wed Jul 24 2024\n",
      "\n",
      "Python implementation: CPython\n",
      "Python version       : 3.12.4\n",
      "IPython version      : 8.26.0\n",
      "\n",
      "Compiler    : Clang 16.0.6 \n",
      "OS          : Darwin\n",
      "Release     : 23.5.0\n",
      "Machine     : arm64\n",
      "Processor   : arm\n",
      "CPU cores   : 8\n",
      "Architecture: 64bit\n",
      "\n",
      "Watermark: 2.4.3\n",
      "\n"
     ]
    }
   ],
   "source": [
    "%load_ext watermark\n",
    "%watermark -n -u -v -iv -w -m "
   ]
  },
  {
   "cell_type": "markdown",
   "id": "27fda84f-9a8c-4473-9966-bbf478beeeed",
   "metadata": {},
   "source": [
    "::: {.callout-note}\n",
    "\n",
    "Ecco una spiegazione dettagliata delle opzioni che sono state utilizzate nell'istruzione `watermark`.\n",
    "\n",
    "1. `-n` o `--datename`: Aggiunge la data e l'ora correnti al watermark. Questo può essere utile per mantenere una cronologia delle modifiche o delle esecuzioni del notebook.\n",
    "\n",
    "2. `-u` o `--updated`: Mostra l'ultima volta in cui il notebook è stato salvato. È utile per tenere traccia delle modifiche recenti apportate al notebook.\n",
    "\n",
    "3. `-v` o `--python`: Mostra la versione di Python utilizzata nel kernel del notebook. Questo è importante per garantire la compatibilità del codice e replicare gli ambienti di lavoro.\n",
    "\n",
    "4. `-iv` o `--iversions`: Visualizza le versioni delle librerie importate nel notebook. È fondamentale per la replicabilità degli esperimenti e degli analisi, dato che diverse versioni delle librerie possono comportare risultati diversi.\n",
    "\n",
    "5. `-w` o `--watermark`: Aggiunge il watermark stesso, che è semplicemente il logo \"watermark\". È più una questione estetica che funzionale.\n",
    "\n",
    "6. `-m` o `--machine`: Fornisce informazioni sulla macchina su cui viene eseguito il Jupyter Notebook, come il tipo di sistema operativo e l'architettura della macchina (ad esempio, x86_64). Questo può essere utile per documentare l'ambiente hardware in cui vengono eseguiti gli esperimenti.\n",
    "\n",
    "Queste opzioni forniscono un modo semplice e immediato per documentare e tracciare importanti metadati nei notebook Jupyter.\n",
    "\n",
    ":::"
   ]
  }
 ],
 "metadata": {
  "kernelspec": {
   "display_name": "cmdstan_env",
   "language": "python",
   "name": "python3"
  },
  "language_info": {
   "codemirror_mode": {
    "name": "ipython",
    "version": 3
   },
   "file_extension": ".py",
   "mimetype": "text/x-python",
   "name": "python",
   "nbconvert_exporter": "python",
   "pygments_lexer": "ipython3",
   "version": "3.12.4"
  },
  "latex_envs": {
   "LaTeX_envs_menu_present": false,
   "autoclose": true,
   "autocomplete": true,
   "bibliofile": "biblio.bib",
   "cite_by": "apalike",
   "current_citInitial": 1,
   "eqLabelWithNumbers": true,
   "eqNumInitial": 1,
   "hotkeys": {
    "equation": "Ctrl-E",
    "itemize": "Ctrl-I"
   },
   "labels_anchors": false,
   "latex_user_defs": false,
   "report_style_numbering": true,
   "user_envs_cfg": true
  },
  "toc": {
   "base_numbering": 1,
   "nav_menu": {},
   "number_sections": true,
   "sideBar": false,
   "skip_h1_title": false,
   "title_cell": "Table of Contents",
   "title_sidebar": "Contents",
   "toc_cell": true,
   "toc_position": {},
   "toc_section_display": true,
   "toc_window_display": false
  }
 },
 "nbformat": 4,
 "nbformat_minor": 2
}
