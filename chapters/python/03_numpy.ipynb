{
 "cells": [
  {
   "attachments": {},
   "cell_type": "markdown",
   "id": "453024a3-792c-4bac-b206-6cf5adaddbc3",
   "metadata": {},
   "source": [
    "# NumPy {#sec-numpy}\n",
    "![](../../figures/art_80.png){ width=40% } "
   ]
  },
  {
   "cell_type": "markdown",
   "id": "954ccd29-285d-41c8-b422-c570763efb3b",
   "metadata": {},
   "source": [
    "La Standard Library di Python mette a disposizione un'ampia gamma di funzioni utili per l'analisi dei dati. Tuttavia, per un'analisi più approfondita ed efficiente, è raccomandato avvalersi di funzioni specifiche disponibili in altri moduli esterni. Tra questi, i più rilevanti per l'analisi dei dati includono NumPy, Pandas, Matplotlib e Seaborn.\n",
    "\n",
    "NumPy, abbreviazione di Numerical Python, rappresenta un'estensione del linguaggio Python focalizzata sul calcolo algebrico e matriciale. Questo modulo è essenziale per la maggior parte delle operazioni di calcolo numerico in Python, poiché introduce strutture dati avanzate progettate per l'elaborazione efficiente di vettori, matrici e insiemi di dati di grandi dimensioni. Beneficiando dell'implementazione in linguaggi ad alte prestazioni come C e Fortran, NumPy offre un'elevata efficienza, specialmente in operazioni vettorializzate che sfruttano vettori e matrici per formulare calcoli. Parallelamente, Pandas si afferma come strumento fondamentale per l'importazione e la manipolazione dei dati, mentre Matplotlib e Seaborn si distinguono per le loro capacità di visualizzazione, facilitando notevolmente la creazione di rappresentazioni grafiche dei dati. Questi moduli, combinati insieme, costituiscono un ecosistema robusto e versatile per l'analisi e l'elaborazione dei dati in Python.\n",
    "\n",
    "In questo capitolo, introdurremo NumPy, che è ampiamente utilizzato in quasi tutti i calcoli numerici in Python. NumPy consente di lavorare con vettori e matrici in modo più efficiente e veloce rispetto alle liste e alle liste di liste (utilizzate come matrici) di Python. Oltre a ciò, NumPy fornisce una vasta gamma di funzioni matematiche di base, nonché strumenti avanzati per la generazione di numeri casuali -- si veda @sec-rng."
   ]
  },
  {
   "cell_type": "markdown",
   "id": "e58f31e8-7c35-4647-987f-039cabf62ae8",
   "metadata": {},
   "source": [
    "## Preparazione del Notebook"
   ]
  },
  {
   "cell_type": "code",
   "execution_count": 1,
   "id": "da1bf650-3fc1-4209-a493-0f3b0488110f",
   "metadata": {},
   "outputs": [],
   "source": [
    "import numpy as np"
   ]
  },
  {
   "attachments": {},
   "cell_type": "markdown",
   "id": "4545e08d-3626-4050-9206-828a82063068",
   "metadata": {},
   "source": [
    "## Utilizzo degli Array nel Modulo NumPy\n",
    "\n",
    "In Python standard, abbiamo a disposizione tipi di dati numerici (come numeri interi e decimali) e strutture come liste, dizionari e insiemi. NumPy, d'altro canto, introduce un nuovo tipo di struttura dati: l'array N-dimensionale, noto come `ndarray`. Questi array hanno alcune caratteristiche distintive:\n",
    "\n",
    "- **Dimensioni**: Gli `ndarray` possono variare nel numero di dimensioni, definite come \"assi\". Ad esempio, un array può essere unidimensionale (simile a un vettore lineare), bidimensionale (come una matrice o una tabella), tridimensionale (simile a un cubo), e così via.\n",
    "- **Tipo di Dato**: A differenza delle liste in Python standard che possono contenere diversi tipi di dati, ogni elemento all'interno di un `ndarray` deve essere dello stesso tipo, come numeri interi, decimali, booleani o stringhe.\n",
    "- **Forma**: La \"forma\" di un `ndarray` si riferisce alle sue dimensioni, ovvero quante righe, colonne o altri livelli di profondità ha. Per esempio, la forma (3, 4) indica un array con 3 righe e 4 colonne.\n",
    "- **Indicizzazione**: Gli `ndarray` possono essere indicizzati in modo simile agli array standard di Python, ma offrono anche opzioni più avanzate per l'indicizzazione.\n",
    "\n",
    "Gli `ndarray` sono potenti per manipolare e analizzare i dati, grazie alle loro funzioni e metodi che includono operazioni matematiche e statistiche, trasformazioni e altre manipolazioni dei dati.\n",
    "\n",
    "**Terminologia Importante:**\n",
    "- **Size**: Indica il numero totale di elementi in un array.\n",
    "- **Rank**: Si riferisce al numero di dimensioni, o assi, di un array.\n",
    "- **Shape**: Denota le dimensioni specifiche dell'array, ovvero una sequenza di numeri che rappresentano il conteggio degli elementi in ogni dimensione.\n",
    "\n",
    "**Come Creare un `ndarray`:**\n",
    "Il modo più diretto per creare un `ndarray` è attraverso la conversione di una lista Python. Ad esempio, è possibile creare un array unidimensionale (1-D) a partire da una lista standard di Python."
   ]
  },
  {
   "cell_type": "code",
   "execution_count": 2,
   "id": "9e33c32c-3bde-4ec9-bc3c-f6f8de1681cc",
   "metadata": {},
   "outputs": [],
   "source": [
    "x = np.array([1, 2, 3, 4, 5, 6])"
   ]
  },
  {
   "attachments": {},
   "cell_type": "markdown",
   "id": "c0226138-c08f-4336-b8b8-f11fe48fe244",
   "metadata": {},
   "source": [
    "L'istruzione precedente crea un array in NumPy, assegnandolo alla variabile `x`. Questo array è un vettore unidimensionale contenente sei elementi, che sono i numeri interi specificati all'interno delle parentesi quadre."
   ]
  },
  {
   "cell_type": "code",
   "execution_count": 4,
   "id": "4a0c1adf-f432-45f1-adaa-82764853ef80",
   "metadata": {},
   "outputs": [
    {
     "name": "stdout",
     "output_type": "stream",
     "text": [
      "[1 2 3 4 5 6]\n"
     ]
    }
   ],
   "source": [
    "print(x)"
   ]
  },
  {
   "attachments": {},
   "cell_type": "markdown",
   "id": "0ef24866-dec5-4791-a92d-25c2f42a5a99",
   "metadata": {},
   "source": [
    "**Indicizzazione**\n",
    "\n",
    "Se vogliamo estrarre un singolo elemento del vettore lo indicizziamo con la sua posizione (si ricordi che l'indice inizia da 0): "
   ]
  },
  {
   "cell_type": "code",
   "execution_count": 4,
   "id": "98cd0f02-86ee-43a9-bd4f-61d1133aab36",
   "metadata": {},
   "outputs": [
    {
     "data": {
      "text/plain": [
       "1"
      ]
     },
     "execution_count": 4,
     "metadata": {},
     "output_type": "execute_result"
    }
   ],
   "source": [
    "x[0]"
   ]
  },
  {
   "cell_type": "code",
   "execution_count": 5,
   "id": "7fb54269-af83-4934-803c-61727c1c4333",
   "metadata": {},
   "outputs": [
    {
     "data": {
      "text/plain": [
       "3"
      ]
     },
     "execution_count": 5,
     "metadata": {},
     "output_type": "execute_result"
    }
   ],
   "source": [
    "x[2]"
   ]
  },
  {
   "attachments": {},
   "cell_type": "markdown",
   "id": "da6dbe5c-3c9d-420e-8505-e32bb737114e",
   "metadata": {},
   "source": [
    "Un array 2-D si crea nel modo seguente:"
   ]
  },
  {
   "cell_type": "code",
   "execution_count": 5,
   "id": "a18e9fc0-310c-458e-8c2b-86a34fbb0645",
   "metadata": {},
   "outputs": [
    {
     "name": "stdout",
     "output_type": "stream",
     "text": [
      "[[ 1  2  3  4]\n",
      " [ 5  6  7  8]\n",
      " [ 9 10 11 12]]\n"
     ]
    }
   ],
   "source": [
    "y = np.array([[1, 2, 3, 4], [5, 6, 7, 8], [9, 10, 11, 12]])\n",
    "print(y)"
   ]
  },
  {
   "attachments": {},
   "cell_type": "markdown",
   "id": "47384db1-9de9-4ab4-8dcb-e9492f39eb66",
   "metadata": {},
   "source": [
    "Estraiamo un singolo elemento dall'array:"
   ]
  },
  {
   "cell_type": "code",
   "execution_count": 8,
   "id": "465a2810-d728-46b4-8f83-28a393cd3b80",
   "metadata": {},
   "outputs": [
    {
     "data": {
      "text/plain": [
       "3"
      ]
     },
     "execution_count": 8,
     "metadata": {},
     "output_type": "execute_result"
    }
   ],
   "source": [
    "y[0, 2]"
   ]
  },
  {
   "attachments": {},
   "cell_type": "markdown",
   "id": "7fc254f1-daf6-465a-9d02-772da61d75df",
   "metadata": {},
   "source": [
    "Estraiamo la seconda riga dall'array:"
   ]
  },
  {
   "cell_type": "code",
   "execution_count": 9,
   "id": "20e0d470-ab91-43f8-9c49-d5a579f5497c",
   "metadata": {},
   "outputs": [
    {
     "data": {
      "text/plain": [
       "array([5, 6, 7, 8])"
      ]
     },
     "execution_count": 9,
     "metadata": {},
     "output_type": "execute_result"
    }
   ],
   "source": [
    "y[1]"
   ]
  },
  {
   "attachments": {},
   "cell_type": "markdown",
   "id": "41098a90-cb2f-430e-817c-b7a4fc9545f8",
   "metadata": {},
   "source": [
    "Estraiamo la seconda colonna dall'array:"
   ]
  },
  {
   "cell_type": "code",
   "execution_count": 10,
   "id": "8e16978d-2391-4b03-baed-38fe42d0c30a",
   "metadata": {},
   "outputs": [
    {
     "data": {
      "text/plain": [
       "array([ 2,  6, 10])"
      ]
     },
     "execution_count": 10,
     "metadata": {},
     "output_type": "execute_result"
    }
   ],
   "source": [
    "y[:, 1] "
   ]
  },
  {
   "attachments": {},
   "cell_type": "markdown",
   "id": "54076bce-6dcf-41db-bf9d-67beeddd4aec",
   "metadata": {},
   "source": [
    "La sintassi con i due punti è chiamata \"slicing\" dell'array. "
   ]
  },
  {
   "cell_type": "code",
   "execution_count": 6,
   "id": "603ed4d1-99a2-414c-b490-280e9c0dc2b9",
   "metadata": {},
   "outputs": [
    {
     "name": "stdout",
     "output_type": "stream",
     "text": [
      "Displaying the first row:\n",
      "[1 2 3 4]\n"
     ]
    }
   ],
   "source": [
    "# Display the first row of the array\n",
    "print(\"Displaying the first row:\")\n",
    "print(y[0, :])"
   ]
  },
  {
   "cell_type": "code",
   "execution_count": 7,
   "id": "485a2b56-a9aa-4b73-a3df-d292ab34c904",
   "metadata": {},
   "outputs": [
    {
     "name": "stdout",
     "output_type": "stream",
     "text": [
      "Showing the last two elements in the first row:\n",
      "[3 4]\n"
     ]
    }
   ],
   "source": [
    "# Show the last two elements in the first row\n",
    "print(\"Showing the last two elements in the first row:\")\n",
    "print(y[0, -2:])"
   ]
  },
  {
   "cell_type": "code",
   "execution_count": 8,
   "id": "9ec80a86-0964-44d4-ab99-141abc9770f9",
   "metadata": {},
   "outputs": [
    {
     "name": "stdout",
     "output_type": "stream",
     "text": [
      "Retrieving every second element in the first row:\n",
      "[1 3]\n"
     ]
    }
   ],
   "source": [
    "# Retrieve every second element in the first row\n",
    "print(\"Retrieving every second element in the first row:\")\n",
    "print(y[0, ::2])"
   ]
  },
  {
   "cell_type": "code",
   "execution_count": 9,
   "id": "5b945d8c-7d14-4cc7-b693-fe55d810c239",
   "metadata": {},
   "outputs": [
    {
     "name": "stdout",
     "output_type": "stream",
     "text": [
      "Extracting a submatrix:\n",
      "[[2 3]\n",
      " [6 7]]\n"
     ]
    }
   ],
   "source": [
    "# Extract a submatrix from the original array\n",
    "print(\"Extracting a submatrix:\")\n",
    "print(y[:2, 1:3])"
   ]
  },
  {
   "attachments": {},
   "cell_type": "markdown",
   "id": "d202f913-b7e6-4ba5-9b62-422ae8b0ace2",
   "metadata": {},
   "source": [
    "### Funzioni per `ndarray`\n",
    "\n",
    "Numpy offre varie funzioni per creare `ndarray`. Per esempio, è possibile creare un array 1-D con la funzione `.arange(start, stop, incr, dtype=..)` che fornisce l'intervallo di numeri compreso fra `start`, `stop`, al passo `incr`:"
   ]
  },
  {
   "cell_type": "code",
   "execution_count": 10,
   "id": "6ea2e3f9-09e9-45c4-b4e5-1a4f1e47971a",
   "metadata": {},
   "outputs": [
    {
     "name": "stdout",
     "output_type": "stream",
     "text": [
      "[2 4 6 8]\n"
     ]
    }
   ],
   "source": [
    "z = np.arange(2, 9, 2)\n",
    "print(z)"
   ]
  },
  {
   "attachments": {},
   "cell_type": "markdown",
   "id": "b0a4436f-f2bf-4a29-9985-2be9da05d3f3",
   "metadata": {},
   "source": [
    "Si usa spesso `.arange` per creare sequenze a incrementi unitari:"
   ]
  },
  {
   "cell_type": "code",
   "execution_count": 11,
   "id": "c82eb798-ae2f-4c9d-8151-9c83cdb87f5b",
   "metadata": {},
   "outputs": [
    {
     "name": "stdout",
     "output_type": "stream",
     "text": [
      "[ 0  1  2  3  4  5  6  7  8  9 10]\n"
     ]
    }
   ],
   "source": [
    "w = np.arange(11)\n",
    "print(w)"
   ]
  },
  {
   "attachments": {},
   "cell_type": "markdown",
   "id": "8cc92f67-da2b-4e7e-8584-5318ca5cd08d",
   "metadata": {},
   "source": [
    "Un'altra funzione molto utile è `.linspace`:"
   ]
  },
  {
   "cell_type": "code",
   "execution_count": 12,
   "id": "d23ea5bc-89a2-4cb6-8f79-6f529973d12d",
   "metadata": {},
   "outputs": [
    {
     "name": "stdout",
     "output_type": "stream",
     "text": [
      "[ 0.          0.52631579  1.05263158  1.57894737  2.10526316  2.63157895\n",
      "  3.15789474  3.68421053  4.21052632  4.73684211  5.26315789  5.78947368\n",
      "  6.31578947  6.84210526  7.36842105  7.89473684  8.42105263  8.94736842\n",
      "  9.47368421 10.        ]\n"
     ]
    }
   ],
   "source": [
    "x = np.linspace(0, 10, num=20)\n",
    "print(x)"
   ]
  },
  {
   "attachments": {},
   "cell_type": "markdown",
   "id": "4c0a5872-efb0-4acb-9ab5-d7aef28818fb",
   "metadata": {},
   "source": [
    "Fissati gli estremi (qui 0, 10) e il numero di elementi desiderati, `.linspace` determina in maniera automatica l'incremento.\n",
    "\n",
    "Una proprietà molto utile dei `ndarray` è la possibilità di filtrare gli elementi di un array che rispondono come `True` ad un criterio. Per esempio: "
   ]
  },
  {
   "cell_type": "code",
   "execution_count": 13,
   "id": "8c038319-f4b6-4bcd-99bf-99da4a7dc548",
   "metadata": {},
   "outputs": [
    {
     "name": "stdout",
     "output_type": "stream",
     "text": [
      "[ 7.36842105  7.89473684  8.42105263  8.94736842  9.47368421 10.        ]\n"
     ]
    }
   ],
   "source": [
    "print(x[x > 7])"
   ]
  },
  {
   "attachments": {},
   "cell_type": "markdown",
   "id": "370c44ee-59ef-404d-a894-beb2c58e4c9c",
   "metadata": {},
   "source": [
    "perché solo gli ultimi sei elementi di `x` rispondono `True` al criterio $x > 7$. "
   ]
  },
  {
   "attachments": {},
   "cell_type": "markdown",
   "id": "1cadee0f-0702-4281-9bf0-500afeffa480",
   "metadata": {},
   "source": [
    "Le dimensioni (\"assi\") di un `ndarray` vengono ritornate dal metodo `.dim`. Per esempio:"
   ]
  },
  {
   "cell_type": "code",
   "execution_count": 14,
   "id": "ac3b1dcf-2b6d-4079-9f20-960605cb6c00",
   "metadata": {},
   "outputs": [
    {
     "name": "stdout",
     "output_type": "stream",
     "text": [
      "[[ 1  2  3  4]\n",
      " [ 5  6  7  8]\n",
      " [ 9 10 11 12]]\n"
     ]
    }
   ],
   "source": [
    "print(y)"
   ]
  },
  {
   "cell_type": "code",
   "execution_count": 15,
   "id": "5a4644c2-7c02-42ec-a32a-7d140deac377",
   "metadata": {},
   "outputs": [
    {
     "data": {
      "text/plain": [
       "2"
      ]
     },
     "execution_count": 15,
     "metadata": {},
     "output_type": "execute_result"
    }
   ],
   "source": [
    "y.ndim"
   ]
  },
  {
   "cell_type": "code",
   "execution_count": 16,
   "id": "408a98cb-b9dd-40b7-9d93-4c8131f67503",
   "metadata": {},
   "outputs": [
    {
     "name": "stdout",
     "output_type": "stream",
     "text": [
      "[ 4  8 12]\n"
     ]
    }
   ],
   "source": [
    "print(y.max(axis=1))"
   ]
  },
  {
   "cell_type": "code",
   "execution_count": 17,
   "id": "d808f34c-8acc-4429-b0b7-1de521414efc",
   "metadata": {},
   "outputs": [
    {
     "name": "stdout",
     "output_type": "stream",
     "text": [
      "[ 9 10 11 12]\n"
     ]
    }
   ],
   "source": [
    "print(y.max(axis=0))"
   ]
  },
  {
   "attachments": {},
   "cell_type": "markdown",
   "id": "4e511c05-fa47-4423-b5e9-32c61388b99f",
   "metadata": {},
   "source": [
    "Il numero di elementi per ciascun asse viene ritornato dal metodo `.shape`: "
   ]
  },
  {
   "cell_type": "code",
   "execution_count": 18,
   "id": "d215d0f2-7360-48f1-99a7-624fb1a4c202",
   "metadata": {},
   "outputs": [
    {
     "data": {
      "text/plain": [
       "(3, 4)"
      ]
     },
     "execution_count": 18,
     "metadata": {},
     "output_type": "execute_result"
    }
   ],
   "source": [
    "y.shape"
   ]
  },
  {
   "attachments": {},
   "cell_type": "markdown",
   "id": "5e565015-fd52-4d71-84c6-9e4090a826aa",
   "metadata": {},
   "source": [
    "## Manipolazione di Array con NumPy\n",
    "\n",
    "NumPy rende più agevole lavorare con grandi quantità di dati. Un concetto fondamentale in NumPy sono gli array monodimensionali, spesso utilizzati per rappresentare vettori, ovvero sequenze di numeri che possono rappresentare, ad esempio, le misurazioni di una variabile specifica. Grazie a NumPy, possiamo eseguire operazioni aritmetiche su questi vettori in modo semplice, applicando la stessa operazione a tutti gli elementi dell'array contemporaneamente.\n",
    "\n",
    "### Cosa Significa Vettorizzare un'Operazione\n",
    "\n",
    "La vettorizzazione è una delle funzionalità più efficaci di NumPy. Quando diciamo che un'operazione è vettorizzata, significa che questa operazione viene applicata in un colpo solo a tutti gli elementi dell'array, invece di dover agire su ciascun elemento individualmente. Questo approccio rende la manipolazione di grandi insiemi di dati non solo più veloce ma anche più intuitiva, poiché consente di trattare l'intero insieme di dati come un'unica entità anziché come una serie di punti dati individuali.\n",
    "\n",
    "Supponiamo di avere raccolto i dati di 4 individui "
   ]
  },
  {
   "cell_type": "code",
   "execution_count": 19,
   "id": "c684fac9-2343-4b30-a396-6e622bc969d8",
   "metadata": {},
   "outputs": [
    {
     "name": "stdout",
     "output_type": "stream",
     "text": [
      "[1.62 1.75 1.55 1.74]\n",
      "[55.4 73.6 57.1 59.5]\n"
     ]
    }
   ],
   "source": [
    "m = np.array([1.62, 1.75, 1.55, 1.74])\n",
    "kg = np.array([55.4, 73.6, 57.1, 59.5])\n",
    "\n",
    "print(m)\n",
    "print(kg)"
   ]
  },
  {
   "cell_type": "markdown",
   "id": "b6bc0a15-11da-4bfa-b075-ba43ecb4b117",
   "metadata": {},
   "source": [
    "dove `m` è l'array che contiene i dati relativi all'altezza in metri dei quattro individui e `kg` è l'array che contiene i dati relativi al peso in kg. I dati sono organizzati in modo tale che il primo elemento di entrambi i vettori si riferisce alle misure del primo individuo, il secondo elemento dei due vettori si riferisce alle misure del secondo individuo, ecc. "
   ]
  },
  {
   "cell_type": "markdown",
   "id": "a6410c7e-e421-4836-9bb5-16650fce87fb",
   "metadata": {},
   "source": [
    "Supponiamo di volere calcolare l'indice BMI: \n",
    "\n",
    "$$\n",
    "BMI = \\frac{kg}{m^2}.\n",
    "$$"
   ]
  },
  {
   "attachments": {},
   "cell_type": "markdown",
   "id": "7e6bc30c-7347-4637-9925-38e57fba89cb",
   "metadata": {},
   "source": [
    "Per il primo individuo del campione, l'indice di massa corporea è"
   ]
  },
  {
   "cell_type": "code",
   "execution_count": 33,
   "id": "467d6b0c-dc3d-4b7a-bcb1-47ba57ed220f",
   "metadata": {},
   "outputs": [
    {
     "data": {
      "text/plain": [
       "21.109586953208346"
      ]
     },
     "execution_count": 33,
     "metadata": {},
     "output_type": "execute_result"
    }
   ],
   "source": [
    "55.4 / 1.62**2"
   ]
  },
  {
   "attachments": {},
   "cell_type": "markdown",
   "id": "da9f6006-d8a8-43cf-a8f0-097e5767ebbc",
   "metadata": {},
   "source": [
    "Si noti che non abbiamo bisogno di scrivere `55.4 / (1.62**2)` in quanto, in Python, l'elevazione a potenza viene eseguita prima della somma e della divisione (come in tutti i linguaggi). Usando i dati immagazzinati nei due vettori, lo stesso risultato si ottiene nel modo seguente:"
   ]
  },
  {
   "cell_type": "code",
   "execution_count": 38,
   "id": "84e5f9a0-1197-43c8-861c-d7e1de654b74",
   "metadata": {},
   "outputs": [
    {
     "data": {
      "text/plain": [
       "21.109586953208346"
      ]
     },
     "execution_count": 38,
     "metadata": {},
     "output_type": "execute_result"
    }
   ],
   "source": [
    "kg[0] / m[0]**2"
   ]
  },
  {
   "attachments": {},
   "cell_type": "markdown",
   "id": "5293ae63-f0d6-4e29-99a7-2509bd71c673",
   "metadata": {},
   "source": [
    "Se ora non specifichiamo l'indice (per esempio, `[0]`), le operazioni aritmetiche indicate verranno eseguite *per ciascuna coppia* di elementi corrispondenti nei due vettori:"
   ]
  },
  {
   "cell_type": "code",
   "execution_count": 6,
   "id": "cec41877-1d19-45a3-aa7f-154c73adcb1a",
   "metadata": {},
   "outputs": [],
   "source": [
    "bmi = kg / m**2"
   ]
  },
  {
   "attachments": {},
   "cell_type": "markdown",
   "id": "dca39bb2-8b29-44d8-aba0-89df72ff0a5e",
   "metadata": {},
   "source": [
    "Otteniamo così, con una sola istruzione, l'indice BMI dei quattro individui:"
   ]
  },
  {
   "cell_type": "code",
   "execution_count": 8,
   "id": "96dc74b4-cad7-4d6e-9994-ced6afe9a4de",
   "metadata": {},
   "outputs": [
    {
     "data": {
      "text/plain": [
       "array([21.1, 24. , 23.8, 19.7])"
      ]
     },
     "execution_count": 8,
     "metadata": {},
     "output_type": "execute_result"
    }
   ],
   "source": [
    "bmi.round(1)"
   ]
  },
  {
   "attachments": {},
   "cell_type": "markdown",
   "id": "1693084e-4b6a-458a-a319-b883e05116a6",
   "metadata": {},
   "source": [
    "Questo esempio illustra come le operazioni aritmetiche standard vengano eseguite elemento per elemento negli array, grazie al processo di vettorizzazione."
   ]
  },
  {
   "attachments": {},
   "cell_type": "markdown",
   "id": "a775b68a-5e2a-4a11-a119-1f04a2f920ff",
   "metadata": {},
   "source": [
    "## Broadcasting\n",
    "\n",
    "Il broadcasting è una caratteristica distintiva di NumPy che facilita l'esecuzione di operazioni tra array di dimensioni diverse o tra un array e uno scalare, anche se le loro dimensioni non sono direttamente compatibili. Grazie al broadcasting, NumPy è in grado di \"espandere\" automaticamente le dimensioni di uno degli operandi per rendere possibile l'operazione.\n",
    "\n",
    "Questo significa che possiamo, per esempio, eseguire un'operazione tra un array e un numero singolo (un vettore e uno scalare) o tra due array di dimensioni differenti, senza la necessità di modificare manualmente le dimensioni di questi array. Il broadcasting si occupa di adattare le dimensioni in modo coerente per consentire l'operazione desiderata. Ciò rende il codice più snello e leggibile, eliminando la necessità di espandere gli array manualmente.\n",
    "\n",
    "In breve, il broadcasting in NumPy è un potente strumento che semplifica l'esecuzione di operazioni su array di dimensioni diverse o tra array e scalari, automatizzando l'allineamento delle dimensioni.\n",
    "\n",
    "### Esempio di Broadcasting\n",
    "\n",
    "Immaginiamo di avere un array `A` con dimensioni 3x3 e un numero scalare `B`. Senza broadcasting, dovremmo espandere `B` in un array 3x3 riempiendo ogni cella con il valore di `B` per eseguire un'operazione come l'addizione su ciascun elemento di `A`. Grazie al broadcasting, possiamo semplicemente scrivere `A + B`, e NumPy si occuperà automaticamente di \"espandere\" `B` durante l'operazione, applicando il valore scalare a ogni elemento di `A`."
   ]
  },
  {
   "cell_type": "code",
   "execution_count": 20,
   "id": "bce77494-004a-4f9e-9d48-e4dc6a37889f",
   "metadata": {},
   "outputs": [
    {
     "name": "stdout",
     "output_type": "stream",
     "text": [
      "[[ 6  7  8]\n",
      " [ 9 10 11]\n",
      " [12 13 14]]\n"
     ]
    }
   ],
   "source": [
    "# Creiamo un array 3x3\n",
    "A = np.array([[1, 2, 3], [4, 5, 6], [7, 8, 9]])\n",
    "\n",
    "# Definiamo uno scalare\n",
    "B = 5\n",
    "\n",
    "# Applichiamo il broadcasting per aggiungere lo scalare a ogni elemento dell'array\n",
    "C = A + B\n",
    "\n",
    "print(C)"
   ]
  },
  {
   "cell_type": "markdown",
   "id": "48fe7064-ec3f-4806-83cf-250fb2ef52fc",
   "metadata": {},
   "source": [
    "In questo esempio, `C` conterrà l'array originale `A` con ogni elemento incrementato di 5, dimostrando come il broadcasting semplifichi operazioni che altrimenti richiederebbero passaggi aggiuntivi."
   ]
  },
  {
   "attachments": {},
   "cell_type": "markdown",
   "id": "5a8a951c-19b4-4e95-bf7e-a3c01a568f0f",
   "metadata": {},
   "source": [
    "## Altre operazioni sugli array \n",
    "\n",
    "C'è un numero enorme di funzioni predefinite in NumPy che calcolano automaticamente diverse quantità sugli `ndarray`. Ad esempio:\n",
    "\n",
    "- `mean()`: calcola la media di un vettore o matrice;\n",
    "- `sum()`: calcola la somma di un vettore o matrice;\n",
    "- `std()`: calcola la deviazione standard;\n",
    "- `min()`: trova il minimo nel vettore o matrice;\n",
    "- `max()`: trova il massimo;\n",
    "- `ndim`: dimensione del vettore o matrice;\n",
    "- `shape`: restituisce una tupla con la \"forma\" del vettore o matrice;\n",
    "- `size`: restituisce la dimensione totale del vettore (=ndim) o della matrice;\n",
    "- `dtype`: scrive il tipo numpy del dato;\n",
    "- `zeros(num)`: scrive un vettore di num elementi inizializzati a zero;\n",
    "- `arange(start,stop,step)`: genera un intervallo di valori (interi o reali, a seconda dei valori di start, ecc.) intervallati di step. Nota che i dati vengono generati nell'intervallo aperto [start,stop)!\n",
    "- `linstep(start,stop,num)`: genera un intervallo di num valori interi o reali a partire da start fino a stop (incluso!);\n",
    "- `astype(tipo)`: converte l'ndarray nel tipo specificato\n",
    "\n",
    "Per esempio:"
   ]
  },
  {
   "cell_type": "code",
   "execution_count": 31,
   "id": "33e55dcd-a32c-49a0-a5d2-bc8e28e0ceda",
   "metadata": {},
   "outputs": [
    {
     "name": "stdout",
     "output_type": "stream",
     "text": [
      "[1 2 3]\n"
     ]
    }
   ],
   "source": [
    "x = np.array([1, 2, 3])\n",
    "print(x)"
   ]
  },
  {
   "cell_type": "code",
   "execution_count": 32,
   "id": "697afda4-44f1-48ad-a58d-495628a8dcbf",
   "metadata": {},
   "outputs": [
    {
     "data": {
      "text/plain": [
       "[1, 3, 6, 2.0, 0.816496580927726]"
      ]
     },
     "execution_count": 32,
     "metadata": {},
     "output_type": "execute_result"
    }
   ],
   "source": [
    "[x.min(), x.max(), x.sum(), x.mean(), x.std()]"
   ]
  },
  {
   "attachments": {},
   "cell_type": "markdown",
   "id": "ffeba313-0ef7-4b31-8ded-bdd4e10803eb",
   "metadata": {},
   "source": [
    "## Lavorare con formule matematiche\n",
    "\n",
    "L'implementazione delle formule matematiche sugli array è un processo molto semplice con Numpy. Possiamo prendere ad esempio la formula della deviazione standard che discuteremo nel capitolo {ref}`loc-scale-notebook`:\n",
    "\n",
    "$$\n",
    "s = \\sqrt{\\sum_{i=1}^n\\frac{(x_i - \\bar{x})^2}{n}}\n",
    "$$\n",
    "\n",
    "L'implementazione su un array NumPy è la seguente:"
   ]
  },
  {
   "cell_type": "code",
   "execution_count": 34,
   "id": "489953ff-b444-4d73-95d6-bad64c57fcd9",
   "metadata": {},
   "outputs": [
    {
     "name": "stdout",
     "output_type": "stream",
     "text": [
      "[1 2 3]\n"
     ]
    }
   ],
   "source": [
    "print(x)"
   ]
  },
  {
   "cell_type": "code",
   "execution_count": 33,
   "id": "e0bba5bd-1404-43bf-96c9-64f0c59c6fca",
   "metadata": {},
   "outputs": [
    {
     "data": {
      "text/plain": [
       "0.816496580927726"
      ]
     },
     "execution_count": 33,
     "metadata": {},
     "output_type": "execute_result"
    }
   ],
   "source": [
    "np.sqrt(np.sum((x - np.mean(x)) ** 2) / np.size(x))"
   ]
  },
  {
   "attachments": {},
   "cell_type": "markdown",
   "id": "12f3e727-d71d-4162-b46d-a6d09a911ce6",
   "metadata": {},
   "source": [
    "Questa implementazione funziona nello stesso modo sia che `x` contenga 3 elementi (come nel caso presente) sia che `x` contenga migliaia di elementi. È importante notare l'utilizzo delle parentesi tonde per specificare l'ordine di esecuzione delle operazioni. In particolare, nel codice fornito, si inizia calcolando la media degli elementi del vettore `x` per mezzo della funzione `np.mean(x)`. Questa operazione produce uno scalare, ovvero un singolo valore numerico che rappresenta la media degli elementi del vettore. L'utilizzo delle parentesi tonde è fondamentale per garantire l'ordine corretto delle operazioni. In questo caso, la funzione `np.mean()` viene applicata al vettore `x` prima di qualsiasi altra operazione matematica. Senza le parentesi tonde, le operazioni verrebbero eseguite in un ordine diverso e il risultato potrebbe essere errato."
   ]
  },
  {
   "cell_type": "code",
   "execution_count": 43,
   "id": "7b51c9a5-a1bf-40a3-ade7-a2f223457e51",
   "metadata": {},
   "outputs": [
    {
     "data": {
      "text/plain": [
       "2.0"
      ]
     },
     "execution_count": 43,
     "metadata": {},
     "output_type": "execute_result"
    }
   ],
   "source": [
    "np.mean(x)"
   ]
  },
  {
   "attachments": {},
   "cell_type": "markdown",
   "id": "158f9f2d-4714-4819-add5-719ffd608475",
   "metadata": {},
   "source": [
    "Successivamente, eseguiamo la sottrazione dei singoli elementi del vettore `x` per la media del vettore stesso, ovvero $x_i - \\bar{x}$, utilizzando il meccanismo del broadcasting."
   ]
  },
  {
   "cell_type": "code",
   "execution_count": 44,
   "id": "890bda3c-de03-4f99-8ee9-cec786ed3d64",
   "metadata": {},
   "outputs": [
    {
     "data": {
      "text/plain": [
       "array([-1.,  0.,  1.])"
      ]
     },
     "execution_count": 44,
     "metadata": {},
     "output_type": "execute_result"
    }
   ],
   "source": [
    "x - np.mean(x)"
   ]
  },
  {
   "attachments": {},
   "cell_type": "markdown",
   "id": "884af318-33ad-4528-9bc3-e0e94ec27dd5",
   "metadata": {},
   "source": [
    "Eleviamo poi al quadrato gli elementi del vettore che abbiamo ottenuto:"
   ]
  },
  {
   "cell_type": "code",
   "execution_count": 45,
   "id": "930b711a-30bb-4986-a456-2848f1233b3a",
   "metadata": {},
   "outputs": [
    {
     "data": {
      "text/plain": [
       "array([1., 0., 1.])"
      ]
     },
     "execution_count": 45,
     "metadata": {},
     "output_type": "execute_result"
    }
   ],
   "source": [
    "(x - np.mean(x)) ** 2"
   ]
  },
  {
   "attachments": {},
   "cell_type": "markdown",
   "id": "ccd78472-6105-44c0-9b47-1285fe79ac69",
   "metadata": {},
   "source": [
    "Sommiamo gli elementi del vettore:"
   ]
  },
  {
   "cell_type": "code",
   "execution_count": 46,
   "id": "2c61dea9-365c-4f94-a8c4-141d75eb3cd0",
   "metadata": {},
   "outputs": [
    {
     "data": {
      "text/plain": [
       "2.0"
      ]
     },
     "execution_count": 46,
     "metadata": {},
     "output_type": "execute_result"
    }
   ],
   "source": [
    "np.sum((x - np.mean(x)) ** 2)"
   ]
  },
  {
   "attachments": {},
   "cell_type": "markdown",
   "id": "7d6a00e9-71b7-40c7-b2c7-a1d25841f6fa",
   "metadata": {},
   "source": [
    "Dividiamo il numero ottenuto per $n$. Questa è la varianza di $x$:"
   ]
  },
  {
   "cell_type": "code",
   "execution_count": 49,
   "id": "3243c47c-35a3-4599-8d8a-e730c5966ef8",
   "metadata": {},
   "outputs": [
    {
     "data": {
      "text/plain": [
       "0.6666666666666666"
      ]
     },
     "execution_count": 49,
     "metadata": {},
     "output_type": "execute_result"
    }
   ],
   "source": [
    "res = np.sum((x - np.mean(x)) ** 2) / np.size(x)\n",
    "res"
   ]
  },
  {
   "attachments": {},
   "cell_type": "markdown",
   "id": "bdfcc68c-2d91-4f81-b5ff-9c1b40e380b3",
   "metadata": {},
   "source": [
    "Infine, per ottenere la deviazione standard, prendiamo la radice quadrata:"
   ]
  },
  {
   "cell_type": "code",
   "execution_count": 50,
   "id": "a09b7f04-c2a0-4958-988a-2795d9d8329f",
   "metadata": {},
   "outputs": [
    {
     "data": {
      "text/plain": [
       "0.816496580927726"
      ]
     },
     "execution_count": 50,
     "metadata": {},
     "output_type": "execute_result"
    }
   ],
   "source": [
    "np.sqrt(res)"
   ]
  },
  {
   "attachments": {},
   "cell_type": "markdown",
   "id": "41f0dd2d-9227-4d45-86fc-7a2fb5c42de8",
   "metadata": {},
   "source": [
    "Il risultato ottenuto coincide con quello che si trova applicando la funzione `np.std()`:"
   ]
  },
  {
   "cell_type": "code",
   "execution_count": 51,
   "id": "191a4e95-44cb-4a47-9d05-45e8d9859bd4",
   "metadata": {},
   "outputs": [
    {
     "data": {
      "text/plain": [
       "0.816496580927726"
      ]
     },
     "execution_count": 51,
     "metadata": {},
     "output_type": "execute_result"
    }
   ],
   "source": [
    "np.std(x)"
   ]
  },
  {
   "attachments": {},
   "cell_type": "markdown",
   "id": "6c489e19-44cb-4c6d-b27d-3a5337da3ed3",
   "metadata": {},
   "source": [
    "## Slicing\n",
    "\n",
    "Per concludere, spendiamo ancora alcune parole sull'indicizzazione degli `ndarray`.\n",
    "\n",
    "Slicing in Numpy è un meccanismo che consente di selezionare una porzione di un array multidimensionale, ovvero una sotto-matrice o un sotto-vettore. Per selezionare una porzione di un array, si utilizza la sintassi `[start:stop:step]`, dove `start` indica l'indice di partenza della porzione, `stop` indica l'indice di fine e `step` indica il passo da utilizzare per la selezione. Se uno o più di questi valori vengono omessi, vengono utilizzati dei valori di default.\n",
    "\n",
    "Ad esempio, se abbiamo un array `arr` di dimensione (3, 4) e vogliamo selezionare la seconda colonna, possiamo usare la sintassi  `arr[:, 1]`. In questo caso, il simbolo `:` indica che vogliamo selezionare tutte le righe, mentre il numero `1` indica che vogliamo selezionare la seconda colonna.\n",
    "\n",
    "Inoltre, possiamo utilizzare il meccanismo di slicing anche per selezionare porzioni di array multidimensionali. Ad esempio, se abbiamo un array `arr` di dimensione (3, 4, 5) e vogliamo selezionare la prima riga di ciascuna matrice 4x5, possiamo usare la sintassi `arr[:, 0, :]`."
   ]
  },
  {
   "attachments": {},
   "cell_type": "markdown",
   "id": "21a49acc-be54-443e-9948-88db98dccfd8",
   "metadata": {},
   "source": [
    "Per esempio, creiamo l'array `x`  di rango 2 con shape (3, 4):"
   ]
  },
  {
   "cell_type": "code",
   "execution_count": 44,
   "id": "852bb4ca-5114-4d69-9bd7-ee5087e7a366",
   "metadata": {},
   "outputs": [
    {
     "name": "stdout",
     "output_type": "stream",
     "text": [
      "[[ 1  2  3  4]\n",
      " [ 5  6  7  8]\n",
      " [ 9 10 11 12]]\n"
     ]
    }
   ],
   "source": [
    "x = np.array([[1, 2, 3, 4], [5, 6, 7, 8], [9, 10, 11, 12]])\n",
    "print(x)"
   ]
  },
  {
   "attachments": {},
   "cell_type": "markdown",
   "id": "d42f3ae5-fd69-495f-a31b-1b1fcbb06ae6",
   "metadata": {},
   "source": [
    "Utilizziamo il meccanismo di slicing per estrarre la sottomatrice composta dalle prime 2 righe e dalle colonne 1 e 2. `y` è l'array risultante di dimensione (2, 2):"
   ]
  },
  {
   "cell_type": "code",
   "execution_count": 45,
   "id": "9457e99f-f767-481b-8918-9fa91757d39d",
   "metadata": {},
   "outputs": [
    {
     "name": "stdout",
     "output_type": "stream",
     "text": [
      "[[2 3]\n",
      " [6 7]]\n"
     ]
    }
   ],
   "source": [
    "y = x[:2, 1:3]\n",
    "print(y)"
   ]
  },
  {
   "attachments": {},
   "cell_type": "markdown",
   "id": "86dfd23f-ec26-4651-9639-a52214408b39",
   "metadata": {},
   "source": [
    "È importante sapere che uno slice di un array in Numpy è una vista degli stessi dati, il che significa che modificarlo implica la modifica dell'array originale. In pratica, quando si modifica uno slice di un array, si sta modificando direttamente l'array originale e tutte le altre visualizzazioni dell'array vedranno la stessa modifica. Questo avviene perché Numpy è progettato per gestire enormi quantità di dati, pertanto cerca di evitare il più possibile di effettuare copie dei dati.\n",
    "\n",
    "Questo comportamento deve essere preso in considerazione durante la modifica degli array in Numpy, al fine di evitare modifiche accidentali o indesiderate. In alcuni casi, è possibile utilizzare il metodo `copy()` per creare una copia indipendente di un array e lavorare sulla copia senza modificare l'originale. Vediamo un esempio."
   ]
  },
  {
   "cell_type": "code",
   "execution_count": 38,
   "id": "972f650b-a524-4a95-992d-7dbd6422b40b",
   "metadata": {},
   "outputs": [
    {
     "name": "stdout",
     "output_type": "stream",
     "text": [
      "2\n"
     ]
    }
   ],
   "source": [
    "print(x[0, 1])   "
   ]
  },
  {
   "cell_type": "code",
   "execution_count": 46,
   "id": "e6c0fdda-1778-49d2-8d53-d01171d5b126",
   "metadata": {},
   "outputs": [],
   "source": [
    "y[0, 0] = 77     \n"
   ]
  },
  {
   "cell_type": "code",
   "execution_count": 47,
   "id": "c4fd99e7-68c7-471a-8807-6fad5f0d28e0",
   "metadata": {},
   "outputs": [
    {
     "name": "stdout",
     "output_type": "stream",
     "text": [
      "[[ 1 77  3  4]\n",
      " [ 5  6  7  8]\n",
      " [ 9 10 11 12]]\n"
     ]
    }
   ],
   "source": [
    "print(x)"
   ]
  },
  {
   "cell_type": "code",
   "execution_count": 48,
   "id": "19e9a438-f73e-4b0e-8fbd-49653b408524",
   "metadata": {},
   "outputs": [
    {
     "name": "stdout",
     "output_type": "stream",
     "text": [
      "[[ 1  2  3  4]\n",
      " [ 5  6  7  8]\n",
      " [ 9 10 11 12]]\n"
     ]
    }
   ],
   "source": [
    "x = np.array([[1, 2, 3, 4], [5, 6, 7, 8], [9, 10, 11, 12]])\n",
    "\n",
    "z = x.copy()\n",
    "print(z)"
   ]
  },
  {
   "cell_type": "code",
   "execution_count": 49,
   "id": "afa86357-ceec-4f90-a3b6-5f9f267d4661",
   "metadata": {},
   "outputs": [
    {
     "name": "stdout",
     "output_type": "stream",
     "text": [
      "[[ 1 33  3  4]\n",
      " [ 5  6  7  8]\n",
      " [ 9 10 11 12]]\n"
     ]
    }
   ],
   "source": [
    "z[0, 1] = 33\n",
    "print(z)"
   ]
  },
  {
   "cell_type": "code",
   "execution_count": 50,
   "id": "29d85501-fdfe-4a37-b7c8-aa1ff25febba",
   "metadata": {},
   "outputs": [
    {
     "name": "stdout",
     "output_type": "stream",
     "text": [
      "[[ 1  2  3  4]\n",
      " [ 5  6  7  8]\n",
      " [ 9 10 11 12]]\n"
     ]
    }
   ],
   "source": [
    "print(x)"
   ]
  },
  {
   "cell_type": "markdown",
   "id": "d331b6c6-2550-4adb-a54c-86584a9354b9",
   "metadata": {},
   "source": [
    "## Copia e \"Copia Profonda\" in Python\n",
    "\n",
    "In Python, per ottimizzare le prestazioni, le assegnazioni di solito non copiano gli oggetti sottostanti. Questo è particolarmente importante, ad esempio, quando gli oggetti vengono passati tra funzioni, per evitare una quantità eccessiva di copie in memoria quando non sono necessarie (questo approccio è noto tecnicamente come \"passaggio per riferimento\").\n",
    "\n",
    "Consideriamo il seguente esempio con un array `A`:"
   ]
  },
  {
   "cell_type": "code",
   "execution_count": 23,
   "id": "c330ed53-c100-4154-9490-3b15da6536e9",
   "metadata": {},
   "outputs": [],
   "source": [
    "A = np.array([[1, 2], [3, 4]])"
   ]
  },
  {
   "cell_type": "markdown",
   "id": "6ce48b72-1dc4-4a5c-8d99-0d36bc2d3ed2",
   "metadata": {},
   "source": [
    "Se creiamo un nuovo riferimento `B` a `A`:"
   ]
  },
  {
   "cell_type": "code",
   "execution_count": 24,
   "id": "f452acd6-79e9-4450-9115-25652588cafb",
   "metadata": {},
   "outputs": [],
   "source": [
    "B = A"
   ]
  },
  {
   "cell_type": "markdown",
   "id": "e0b3fd45-8496-49b0-9c89-cb5bb761ef42",
   "metadata": {},
   "source": [
    "Ora `B` si riferisce allo stesso insieme di dati di `A`. Se modifichiamo `B`, anche `A` viene modificato di conseguenza:"
   ]
  },
  {
   "cell_type": "code",
   "execution_count": 25,
   "id": "0b174a8a-6161-43b4-9984-488e26878133",
   "metadata": {},
   "outputs": [],
   "source": [
    "B[0,0] = 10"
   ]
  },
  {
   "cell_type": "markdown",
   "id": "4a967c96-5dd0-4f00-bd8a-0cff083af06d",
   "metadata": {},
   "source": [
    "Dopo questa modifica, sia `B` che `A` saranno:"
   ]
  },
  {
   "cell_type": "code",
   "execution_count": 26,
   "id": "783fdc97-96da-4f7e-9aab-e3ba0c3534fa",
   "metadata": {},
   "outputs": [
    {
     "name": "stdout",
     "output_type": "stream",
     "text": [
      "[[10  2]\n",
      " [ 3  4]]\n"
     ]
    }
   ],
   "source": [
    "print(A)"
   ]
  },
  {
   "cell_type": "markdown",
   "id": "62594bd4-4df8-49ee-b474-c3171517f2b0",
   "metadata": {},
   "source": [
    "Se desideriamo evitare questo comportamento, in modo tale che `B` diventi un oggetto completamente indipendente da `A`, dobbiamo effettuare una cosiddetta \"copia profonda\" utilizzando la funzione `copy`:"
   ]
  },
  {
   "cell_type": "code",
   "execution_count": 28,
   "id": "cf99b402-0b99-4cda-b6a1-70975643192c",
   "metadata": {},
   "outputs": [],
   "source": [
    "B = np.copy(A)"
   ]
  },
  {
   "cell_type": "markdown",
   "id": "41e81dde-f37b-484a-8465-6d7c80fa73a1",
   "metadata": {},
   "source": [
    "Ora, se modificassimo `B`, `A` non subirebbe alcuna modifica. Ad esempio:"
   ]
  },
  {
   "cell_type": "code",
   "execution_count": 29,
   "id": "0d92ea47-7bd0-4bca-a8f1-8b3b1469e73b",
   "metadata": {},
   "outputs": [],
   "source": [
    "B[0,0] = -5"
   ]
  },
  {
   "cell_type": "markdown",
   "id": "db7d2d63-ad1d-40c8-a438-a90454594efd",
   "metadata": {},
   "source": [
    "A questo punto, `B` sarà:"
   ]
  },
  {
   "cell_type": "code",
   "execution_count": 30,
   "id": "2e41d4e4-b689-489d-8924-64c08af115a0",
   "metadata": {},
   "outputs": [
    {
     "name": "stdout",
     "output_type": "stream",
     "text": [
      "[[-5  2]\n",
      " [ 3  4]]\n"
     ]
    }
   ],
   "source": [
    "print(B)"
   ]
  },
  {
   "cell_type": "markdown",
   "id": "aa17f09f-1cab-46b1-b3bb-70aad687862e",
   "metadata": {},
   "source": [
    "Ma `A` rimarrà invariato:"
   ]
  },
  {
   "cell_type": "code",
   "execution_count": 31,
   "id": "d170294e-a542-4260-8cc6-0e5c3e10eae1",
   "metadata": {},
   "outputs": [
    {
     "name": "stdout",
     "output_type": "stream",
     "text": [
      "[[10  2]\n",
      " [ 3  4]]\n"
     ]
    }
   ],
   "source": [
    "print(A)"
   ]
  },
  {
   "cell_type": "markdown",
   "id": "a121c8f4-1eb6-436b-b8fa-9ccdd535be5c",
   "metadata": {},
   "source": [
    "Questo esempio mostra chiaramente la differenza tra una semplice assegnazione, che crea un riferimento all'oggetto originale, e una \"copia profonda\", che crea un nuovo oggetto indipendente."
   ]
  },
  {
   "cell_type": "markdown",
   "metadata": {},
   "source": [
    "## Informazioni sull'Ambiente di Sviluppo"
   ]
  },
  {
   "cell_type": "code",
   "execution_count": 21,
   "id": "bcb9842e-1760-47b2-802c-30881f8f7c5b",
   "metadata": {},
   "outputs": [
    {
     "name": "stdout",
     "output_type": "stream",
     "text": [
      "Last updated: Mon Jan 29 2024\n",
      "\n",
      "Python implementation: CPython\n",
      "Python version       : 3.11.7\n",
      "IPython version      : 8.19.0\n",
      "\n",
      "Compiler    : Clang 16.0.6 \n",
      "OS          : Darwin\n",
      "Release     : 23.3.0\n",
      "Machine     : x86_64\n",
      "Processor   : i386\n",
      "CPU cores   : 8\n",
      "Architecture: 64bit\n",
      "\n",
      "numpy: 1.26.2\n",
      "\n",
      "Watermark: 2.4.3\n",
      "\n"
     ]
    }
   ],
   "source": [
    "%load_ext watermark\n",
    "%watermark -n -u -v -iv -w -m"
   ]
  }
 ],
 "metadata": {
  "kernelspec": {
   "display_name": "pymc",
   "language": "python",
   "name": "python3"
  },
  "language_info": {
   "codemirror_mode": {
    "name": "ipython",
    "version": 3
   },
   "file_extension": ".py",
   "mimetype": "text/x-python",
   "name": "python",
   "nbconvert_exporter": "python",
   "pygments_lexer": "ipython3",
   "version": "3.12.4"
  },
  "vscode": {
   "interpreter": {
    "hash": "cbb367cc0128e23b7454d788d5a4229ca1f9848fd2e857f4797fbd26ab3b0776"
   }
  }
 },
 "nbformat": 4,
 "nbformat_minor": 2
}
