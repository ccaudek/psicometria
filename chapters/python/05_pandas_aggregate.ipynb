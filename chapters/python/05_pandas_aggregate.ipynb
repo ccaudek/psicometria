{
 "cells": [
  {
   "attachments": {},
   "cell_type": "markdown",
   "id": "2f89ccab-05de-4049-9348-556ec063c198",
   "metadata": {},
   "source": [
    "# Pandas (2) {#sec-pandas-2}\n",
    "![](../../figures/art_82.png){ width=40% } "
   ]
  },
  {
   "cell_type": "markdown",
   "id": "be051e96-0149-4f38-a0a0-8a45afc9fe02",
   "metadata": {},
   "source": [
    "Il riepilogo dei dati in Pandas è un'attività fondamentale nell'analisi dei dati e consiste nel calcolare statistiche descrittive di un insieme di dati. In questo capitolo esamineremo come calcolare le statistiche descrittive di base usando Pandas (si veda il capitolo {ref}`loc-scale-notebook`)."
   ]
  },
  {
   "cell_type": "markdown",
   "id": "8bb1ef07-16eb-4859-a7b6-d76ceec6b4f7",
   "metadata": {},
   "source": [
    "## Preparazione del Notebook"
   ]
  },
  {
   "cell_type": "code",
   "execution_count": 1,
   "id": "c1fe899a-92c2-4d21-bcb1-714fb12d4deb",
   "metadata": {},
   "outputs": [],
   "source": [
    "import pandas as pd\n",
    "import numpy as np\n",
    "import matplotlib.pyplot as plt\n",
    "from scipy import stats\n",
    "import arviz as az\n",
    "import seaborn as sns"
   ]
  },
  {
   "cell_type": "code",
   "execution_count": 2,
   "id": "1c5df5af-7235-4bae-b1bd-2c319bebcfd6",
   "metadata": {},
   "outputs": [],
   "source": [
    "RANDOM_SEED = 42\n",
    "rng = np.random.default_rng(RANDOM_SEED)\n",
    "sns.set_theme(palette=\"colorblind\")\n",
    "az.style.use(\"arviz-darkgrid\")\n",
    "%config InlineBackend.figure_format = 'retina'"
   ]
  },
  {
   "attachments": {},
   "cell_type": "markdown",
   "id": "014d4131-39d3-489b-b54c-d98626c9a03a",
   "metadata": {},
   "source": [
    "## Calcolo delle statistiche descrittive\n",
    "\n",
    "Agli oggetti Pandas possono essere applicati vari metodi matematici e statistici. La maggior parte di questi rientra nella categoria della riduzione di dati o delle statistiche descrittive. Rispetto ai metodi degli array NumPy, i metodi Pandas consentono la gestione dei dati mancanti. Alcuni dei metodi disponibili per gli oggetti Pandas sono elencati di seguito.\n",
    "\n",
    "| Method |\tDescription |\n",
    "| --- | --- |\n",
    "| count\t| Number of non-NA values |\n",
    "| describe\t|Compute set of summary statistics|\n",
    "| min, max\t|Compute minimum and maximum values|\n",
    "| argmin, argmax|\tCompute index locations (integers) at which minimum or maximum value is obtained, respectively; not available on DataFrame objects|\n",
    "| idxmin, idxmax|\tCompute index labels at which minimum or maximum value is obtained, respectively|\n",
    "| quantile|\tCompute sample quantile ranging from 0 to 1 (default: 0.5)|\n",
    "| sum\t|Sum of values|\n",
    "| mean\t|Mean of values|\n",
    "| median | Arithmetic median (50% quantile) of values|\n",
    "| mad |\tMean absolute deviation from mean value|\n",
    "| prod\t|Product of all values|\n",
    "| var\t|Sample variance of values|\n",
    "| std\t|Sample standard deviation of values|\n",
    "| skew|\tSample skewness (third moment) of values|\n",
    "| kurt\t|Sample kurtosis (fourth moment) of values|\n",
    "| cumsum|\tCumulative sum of values|\n",
    "| cummin, cummax\t|Cumulative minimum or maximum of values, respectively|\n",
    "| cumprod|\tCumulative product of values|\n",
    "| diff\t|Compute first arithmetic difference (useful for time series)|\n",
    "| pct_change\t|Compute percent changes|\n",
    "\n",
    "Tali metodi possono essere applicati a tutto il DataFrame, oppure soltanto ad una o più colonne. "
   ]
  },
  {
   "attachments": {},
   "cell_type": "markdown",
   "id": "8e3a3fa8-98e8-4a4c-95f4-5f2fec391cbf",
   "metadata": {},
   "source": [
    "Per fare un esempio, esamineremo nuovamente i dati `penguins.csv`. Come in precedenza, dopo avere caricato i dati, rimuoviamo i dati mancanti."
   ]
  },
  {
   "cell_type": "code",
   "execution_count": 3,
   "id": "64607eaf-37f1-4e14-871a-f18eae70bee8",
   "metadata": {},
   "outputs": [],
   "source": [
    "df = pd.read_csv(\"../../data/penguins.csv\")\n",
    "df.dropna(inplace=True)"
   ]
  },
  {
   "attachments": {},
   "cell_type": "markdown",
   "id": "51753dce-36bb-4b6e-a238-1923cea674c2",
   "metadata": {},
   "source": [
    "Usiamo il metodo `describe()` su tutto il DataFrame:"
   ]
  },
  {
   "cell_type": "code",
   "execution_count": 4,
   "id": "ce11e9ef-1350-4f20-bfa7-205bfec17cbe",
   "metadata": {},
   "outputs": [
    {
     "data": {
      "text/html": [
       "<div>\n",
       "<style scoped>\n",
       "    .dataframe tbody tr th:only-of-type {\n",
       "        vertical-align: middle;\n",
       "    }\n",
       "\n",
       "    .dataframe tbody tr th {\n",
       "        vertical-align: top;\n",
       "    }\n",
       "\n",
       "    .dataframe thead th {\n",
       "        text-align: right;\n",
       "    }\n",
       "</style>\n",
       "<table border=\"1\" class=\"dataframe\">\n",
       "  <thead>\n",
       "    <tr style=\"text-align: right;\">\n",
       "      <th></th>\n",
       "      <th>species</th>\n",
       "      <th>island</th>\n",
       "      <th>bill_length_mm</th>\n",
       "      <th>bill_depth_mm</th>\n",
       "      <th>flipper_length_mm</th>\n",
       "      <th>body_mass_g</th>\n",
       "      <th>sex</th>\n",
       "      <th>year</th>\n",
       "    </tr>\n",
       "  </thead>\n",
       "  <tbody>\n",
       "    <tr>\n",
       "      <th>count</th>\n",
       "      <td>333</td>\n",
       "      <td>333</td>\n",
       "      <td>333.000000</td>\n",
       "      <td>333.000000</td>\n",
       "      <td>333.000000</td>\n",
       "      <td>333.000000</td>\n",
       "      <td>333</td>\n",
       "      <td>333.000000</td>\n",
       "    </tr>\n",
       "    <tr>\n",
       "      <th>unique</th>\n",
       "      <td>3</td>\n",
       "      <td>3</td>\n",
       "      <td>NaN</td>\n",
       "      <td>NaN</td>\n",
       "      <td>NaN</td>\n",
       "      <td>NaN</td>\n",
       "      <td>2</td>\n",
       "      <td>NaN</td>\n",
       "    </tr>\n",
       "    <tr>\n",
       "      <th>top</th>\n",
       "      <td>Adelie</td>\n",
       "      <td>Biscoe</td>\n",
       "      <td>NaN</td>\n",
       "      <td>NaN</td>\n",
       "      <td>NaN</td>\n",
       "      <td>NaN</td>\n",
       "      <td>male</td>\n",
       "      <td>NaN</td>\n",
       "    </tr>\n",
       "    <tr>\n",
       "      <th>freq</th>\n",
       "      <td>146</td>\n",
       "      <td>163</td>\n",
       "      <td>NaN</td>\n",
       "      <td>NaN</td>\n",
       "      <td>NaN</td>\n",
       "      <td>NaN</td>\n",
       "      <td>168</td>\n",
       "      <td>NaN</td>\n",
       "    </tr>\n",
       "    <tr>\n",
       "      <th>mean</th>\n",
       "      <td>NaN</td>\n",
       "      <td>NaN</td>\n",
       "      <td>43.992793</td>\n",
       "      <td>17.164865</td>\n",
       "      <td>200.966967</td>\n",
       "      <td>4207.057057</td>\n",
       "      <td>NaN</td>\n",
       "      <td>2008.042042</td>\n",
       "    </tr>\n",
       "    <tr>\n",
       "      <th>std</th>\n",
       "      <td>NaN</td>\n",
       "      <td>NaN</td>\n",
       "      <td>5.468668</td>\n",
       "      <td>1.969235</td>\n",
       "      <td>14.015765</td>\n",
       "      <td>805.215802</td>\n",
       "      <td>NaN</td>\n",
       "      <td>0.812944</td>\n",
       "    </tr>\n",
       "    <tr>\n",
       "      <th>min</th>\n",
       "      <td>NaN</td>\n",
       "      <td>NaN</td>\n",
       "      <td>32.100000</td>\n",
       "      <td>13.100000</td>\n",
       "      <td>172.000000</td>\n",
       "      <td>2700.000000</td>\n",
       "      <td>NaN</td>\n",
       "      <td>2007.000000</td>\n",
       "    </tr>\n",
       "    <tr>\n",
       "      <th>25%</th>\n",
       "      <td>NaN</td>\n",
       "      <td>NaN</td>\n",
       "      <td>39.500000</td>\n",
       "      <td>15.600000</td>\n",
       "      <td>190.000000</td>\n",
       "      <td>3550.000000</td>\n",
       "      <td>NaN</td>\n",
       "      <td>2007.000000</td>\n",
       "    </tr>\n",
       "    <tr>\n",
       "      <th>50%</th>\n",
       "      <td>NaN</td>\n",
       "      <td>NaN</td>\n",
       "      <td>44.500000</td>\n",
       "      <td>17.300000</td>\n",
       "      <td>197.000000</td>\n",
       "      <td>4050.000000</td>\n",
       "      <td>NaN</td>\n",
       "      <td>2008.000000</td>\n",
       "    </tr>\n",
       "    <tr>\n",
       "      <th>75%</th>\n",
       "      <td>NaN</td>\n",
       "      <td>NaN</td>\n",
       "      <td>48.600000</td>\n",
       "      <td>18.700000</td>\n",
       "      <td>213.000000</td>\n",
       "      <td>4775.000000</td>\n",
       "      <td>NaN</td>\n",
       "      <td>2009.000000</td>\n",
       "    </tr>\n",
       "    <tr>\n",
       "      <th>max</th>\n",
       "      <td>NaN</td>\n",
       "      <td>NaN</td>\n",
       "      <td>59.600000</td>\n",
       "      <td>21.500000</td>\n",
       "      <td>231.000000</td>\n",
       "      <td>6300.000000</td>\n",
       "      <td>NaN</td>\n",
       "      <td>2009.000000</td>\n",
       "    </tr>\n",
       "  </tbody>\n",
       "</table>\n",
       "</div>"
      ],
      "text/plain": [
       "       species  island  bill_length_mm  bill_depth_mm  flipper_length_mm  \\\n",
       "count      333     333      333.000000     333.000000         333.000000   \n",
       "unique       3       3             NaN            NaN                NaN   \n",
       "top     Adelie  Biscoe             NaN            NaN                NaN   \n",
       "freq       146     163             NaN            NaN                NaN   \n",
       "mean       NaN     NaN       43.992793      17.164865         200.966967   \n",
       "std        NaN     NaN        5.468668       1.969235          14.015765   \n",
       "min        NaN     NaN       32.100000      13.100000         172.000000   \n",
       "25%        NaN     NaN       39.500000      15.600000         190.000000   \n",
       "50%        NaN     NaN       44.500000      17.300000         197.000000   \n",
       "75%        NaN     NaN       48.600000      18.700000         213.000000   \n",
       "max        NaN     NaN       59.600000      21.500000         231.000000   \n",
       "\n",
       "        body_mass_g   sex         year  \n",
       "count    333.000000   333   333.000000  \n",
       "unique          NaN     2          NaN  \n",
       "top             NaN  male          NaN  \n",
       "freq            NaN   168          NaN  \n",
       "mean    4207.057057   NaN  2008.042042  \n",
       "std      805.215802   NaN     0.812944  \n",
       "min     2700.000000   NaN  2007.000000  \n",
       "25%     3550.000000   NaN  2007.000000  \n",
       "50%     4050.000000   NaN  2008.000000  \n",
       "75%     4775.000000   NaN  2009.000000  \n",
       "max     6300.000000   NaN  2009.000000  "
      ]
     },
     "execution_count": 4,
     "metadata": {},
     "output_type": "execute_result"
    }
   ],
   "source": [
    "df.describe(include=\"all\")"
   ]
  },
  {
   "attachments": {},
   "cell_type": "markdown",
   "id": "6ce7c423-0414-48bb-acfe-b2c92c3e8bdb",
   "metadata": {},
   "source": [
    "Se desideriamo solo le informazioni relative alle variabili qualitative, usiamo l'argomento `include='object'`."
   ]
  },
  {
   "cell_type": "code",
   "execution_count": 5,
   "id": "9080b35e-a57f-4706-ba37-94207080a131",
   "metadata": {},
   "outputs": [
    {
     "data": {
      "text/html": [
       "<div>\n",
       "<style scoped>\n",
       "    .dataframe tbody tr th:only-of-type {\n",
       "        vertical-align: middle;\n",
       "    }\n",
       "\n",
       "    .dataframe tbody tr th {\n",
       "        vertical-align: top;\n",
       "    }\n",
       "\n",
       "    .dataframe thead th {\n",
       "        text-align: right;\n",
       "    }\n",
       "</style>\n",
       "<table border=\"1\" class=\"dataframe\">\n",
       "  <thead>\n",
       "    <tr style=\"text-align: right;\">\n",
       "      <th></th>\n",
       "      <th>species</th>\n",
       "      <th>island</th>\n",
       "      <th>sex</th>\n",
       "    </tr>\n",
       "  </thead>\n",
       "  <tbody>\n",
       "    <tr>\n",
       "      <th>count</th>\n",
       "      <td>333</td>\n",
       "      <td>333</td>\n",
       "      <td>333</td>\n",
       "    </tr>\n",
       "    <tr>\n",
       "      <th>unique</th>\n",
       "      <td>3</td>\n",
       "      <td>3</td>\n",
       "      <td>2</td>\n",
       "    </tr>\n",
       "    <tr>\n",
       "      <th>top</th>\n",
       "      <td>Adelie</td>\n",
       "      <td>Biscoe</td>\n",
       "      <td>male</td>\n",
       "    </tr>\n",
       "    <tr>\n",
       "      <th>freq</th>\n",
       "      <td>146</td>\n",
       "      <td>163</td>\n",
       "      <td>168</td>\n",
       "    </tr>\n",
       "  </tbody>\n",
       "</table>\n",
       "</div>"
      ],
      "text/plain": [
       "       species  island   sex\n",
       "count      333     333   333\n",
       "unique       3       3     2\n",
       "top     Adelie  Biscoe  male\n",
       "freq       146     163   168"
      ]
     },
     "execution_count": 5,
     "metadata": {},
     "output_type": "execute_result"
    }
   ],
   "source": [
    "df.describe(include=\"object\")"
   ]
  },
  {
   "attachments": {},
   "cell_type": "markdown",
   "id": "b9bb51d0-d724-4fda-8ff8-1210afad83da",
   "metadata": {},
   "source": [
    "I valori NaN indicano dati mancanti. Ad esempio, la colonna `species` contiene stringhe, quindi non esiste alcun valore per `mean`; allo stesso modo, `bill_length_mm` è una variabile numerica, quindi non vengono calcolate le statistiche riassuntive per le variabili categoriali (`unique`, `top`, `freq`).\n",
    "\n",
    "Esaminimiamo le colonne singolarmente. Ad esempio, troviamo la media della colonna `bill_depth_mm`."
   ]
  },
  {
   "cell_type": "code",
   "execution_count": 6,
   "id": "01d5f46d-c2c4-478d-9589-02aa5369f0b6",
   "metadata": {},
   "outputs": [
    {
     "data": {
      "text/plain": [
       "17.164864864864867"
      ]
     },
     "execution_count": 6,
     "metadata": {},
     "output_type": "execute_result"
    }
   ],
   "source": [
    "df[\"bill_depth_mm\"].mean()"
   ]
  },
  {
   "attachments": {},
   "cell_type": "markdown",
   "id": "e4c4dc3c-92cb-4098-8426-8304e5471821",
   "metadata": {},
   "source": [
    "Per la deviazione standard usiamo il metodo `std()`. Si noti l'argomento opzionale `ddof`:"
   ]
  },
  {
   "cell_type": "code",
   "execution_count": 7,
   "id": "5796de87-3f28-49c9-ba61-39cea01a1853",
   "metadata": {},
   "outputs": [
    {
     "data": {
      "text/plain": [
       "5.46866834264756"
      ]
     },
     "execution_count": 7,
     "metadata": {},
     "output_type": "execute_result"
    }
   ],
   "source": [
    "df[\"bill_length_mm\"].std(ddof=1)"
   ]
  },
  {
   "attachments": {},
   "cell_type": "markdown",
   "id": "0f9bba70-cdbb-4e3d-8cbb-3e5b4ae3a046",
   "metadata": {},
   "source": [
    "La cella seguente fornisce l'indice della riga nella quale la colonna `bill_length_mm` assume il suo valore massimo:"
   ]
  },
  {
   "cell_type": "code",
   "execution_count": 8,
   "id": "e21c13ab-e656-4ef4-9a7b-b4b71399941c",
   "metadata": {},
   "outputs": [
    {
     "data": {
      "text/plain": [
       "185"
      ]
     },
     "execution_count": 8,
     "metadata": {},
     "output_type": "execute_result"
    }
   ],
   "source": [
    "df[\"bill_length_mm\"].idxmax()"
   ]
  },
  {
   "attachments": {},
   "cell_type": "markdown",
   "id": "b2cd30aa-e463-4085-a7ec-7657c6cc996d",
   "metadata": {},
   "source": [
    "La colonna `species` nel DataFrame `df` è una variabile a livello nominale. Elenchiamo le modalità di tale variabile."
   ]
  },
  {
   "cell_type": "code",
   "execution_count": 9,
   "id": "19c2dd67-755a-4287-a7a1-baf50cff9538",
   "metadata": {},
   "outputs": [
    {
     "data": {
      "text/plain": [
       "array(['Adelie', 'Gentoo', 'Chinstrap'], dtype=object)"
      ]
     },
     "execution_count": 9,
     "metadata": {},
     "output_type": "execute_result"
    }
   ],
   "source": [
    "df[\"species\"].unique()"
   ]
  },
  {
   "attachments": {},
   "cell_type": "markdown",
   "id": "83f835ab-105f-462d-a767-e70d6f91c0ff",
   "metadata": {},
   "source": [
    "Il metodo `value_counts` ritorna la distribuzione di frequenza assoluta:"
   ]
  },
  {
   "cell_type": "code",
   "execution_count": 10,
   "id": "a57d3dab-4925-42c2-90c1-0c6e36e00a57",
   "metadata": {},
   "outputs": [
    {
     "data": {
      "text/plain": [
       "species\n",
       "Adelie       146\n",
       "Gentoo       119\n",
       "Chinstrap     68\n",
       "Name: count, dtype: int64"
      ]
     },
     "execution_count": 10,
     "metadata": {},
     "output_type": "execute_result"
    }
   ],
   "source": [
    "df[\"species\"].value_counts()"
   ]
  },
  {
   "attachments": {},
   "cell_type": "markdown",
   "id": "657fcfce-f2d5-4d59-85d9-4f7559f745ce",
   "metadata": {},
   "source": [
    "Per le frequenze relative si imposta l'argomento `normalize=True`:"
   ]
  },
  {
   "cell_type": "code",
   "execution_count": 11,
   "id": "fc5d3c4b-4154-49ee-bcaa-aee43605ae2e",
   "metadata": {},
   "outputs": [
    {
     "name": "stdout",
     "output_type": "stream",
     "text": [
      "species\n",
      "Adelie       0.438438\n",
      "Gentoo       0.357357\n",
      "Chinstrap    0.204204\n",
      "Name: proportion, dtype: float64\n"
     ]
    }
   ],
   "source": [
    "print(df[\"species\"].value_counts(normalize=True))"
   ]
  },
  {
   "cell_type": "markdown",
   "id": "7199824e-9eb1-4bec-b89e-114d035f712a",
   "metadata": {},
   "source": [
    "Consideriamo la lunghezza del becco dei pinguini suddivisa per ciascuna specie. Con l'istruzione seguente, possiamo generare gli istogrammi corrispondenti che rappresentano la distribuzione della lunghezza del becco in ciascun gruppo."
   ]
  },
  {
   "cell_type": "code",
   "execution_count": 15,
   "id": "d71462f0-6a7e-4874-842b-4f59706b5322",
   "metadata": {},
   "outputs": [
    {
     "data": {
      "image/png": "[encoded data removed]",
      "text/plain": [
       "<Figure size 1200x400 with 3 Axes>"
      ]
     },
     "metadata": {
      "image/png": {
       "height": 411,
       "width": 1211
      }
     },
     "output_type": "display_data"
    }
   ],
   "source": [
    "color_fill = \"#b97c7c\"\n",
    "_ = df.hist(\n",
    "    column=\"bill_length_mm\",\n",
    "    by=[\"species\"],\n",
    "    bins=20,\n",
    "    figsize=(12, 4),\n",
    "    layout=(1, 3),\n",
    "    rwidth=0.9,\n",
    "    color=color_fill\n",
    ")"
   ]
  },
  {
   "cell_type": "code",
   "execution_count": 13,
   "id": "4a55d5ae-da84-4577-9ec3-7cd898497aa5",
   "metadata": {},
   "outputs": [
    {
     "data": {
      "text/html": [
       "<div>\n",
       "<style scoped>\n",
       "    .dataframe tbody tr th:only-of-type {\n",
       "        vertical-align: middle;\n",
       "    }\n",
       "\n",
       "    .dataframe tbody tr th {\n",
       "        vertical-align: top;\n",
       "    }\n",
       "\n",
       "    .dataframe thead th {\n",
       "        text-align: right;\n",
       "    }\n",
       "</style>\n",
       "<table border=\"1\" class=\"dataframe\">\n",
       "  <thead>\n",
       "    <tr style=\"text-align: right;\">\n",
       "      <th></th>\n",
       "      <th>species</th>\n",
       "      <th>island</th>\n",
       "      <th>bill_length_mm</th>\n",
       "      <th>bill_depth_mm</th>\n",
       "      <th>flipper_length_mm</th>\n",
       "      <th>body_mass_g</th>\n",
       "      <th>sex</th>\n",
       "      <th>year</th>\n",
       "    </tr>\n",
       "  </thead>\n",
       "  <tbody>\n",
       "    <tr>\n",
       "      <th>0</th>\n",
       "      <td>Adelie</td>\n",
       "      <td>Torgersen</td>\n",
       "      <td>39.1</td>\n",
       "      <td>18.7</td>\n",
       "      <td>181.0</td>\n",
       "      <td>3750.0</td>\n",
       "      <td>male</td>\n",
       "      <td>2007</td>\n",
       "    </tr>\n",
       "    <tr>\n",
       "      <th>1</th>\n",
       "      <td>Adelie</td>\n",
       "      <td>Torgersen</td>\n",
       "      <td>39.5</td>\n",
       "      <td>17.4</td>\n",
       "      <td>186.0</td>\n",
       "      <td>3800.0</td>\n",
       "      <td>female</td>\n",
       "      <td>2007</td>\n",
       "    </tr>\n",
       "    <tr>\n",
       "      <th>2</th>\n",
       "      <td>Adelie</td>\n",
       "      <td>Torgersen</td>\n",
       "      <td>40.3</td>\n",
       "      <td>18.0</td>\n",
       "      <td>195.0</td>\n",
       "      <td>3250.0</td>\n",
       "      <td>female</td>\n",
       "      <td>2007</td>\n",
       "    </tr>\n",
       "    <tr>\n",
       "      <th>4</th>\n",
       "      <td>Adelie</td>\n",
       "      <td>Torgersen</td>\n",
       "      <td>36.7</td>\n",
       "      <td>19.3</td>\n",
       "      <td>193.0</td>\n",
       "      <td>3450.0</td>\n",
       "      <td>female</td>\n",
       "      <td>2007</td>\n",
       "    </tr>\n",
       "    <tr>\n",
       "      <th>5</th>\n",
       "      <td>Adelie</td>\n",
       "      <td>Torgersen</td>\n",
       "      <td>39.3</td>\n",
       "      <td>20.6</td>\n",
       "      <td>190.0</td>\n",
       "      <td>3650.0</td>\n",
       "      <td>male</td>\n",
       "      <td>2007</td>\n",
       "    </tr>\n",
       "    <tr>\n",
       "      <th>...</th>\n",
       "      <td>...</td>\n",
       "      <td>...</td>\n",
       "      <td>...</td>\n",
       "      <td>...</td>\n",
       "      <td>...</td>\n",
       "      <td>...</td>\n",
       "      <td>...</td>\n",
       "      <td>...</td>\n",
       "    </tr>\n",
       "    <tr>\n",
       "      <th>339</th>\n",
       "      <td>Chinstrap</td>\n",
       "      <td>Dream</td>\n",
       "      <td>55.8</td>\n",
       "      <td>19.8</td>\n",
       "      <td>207.0</td>\n",
       "      <td>4000.0</td>\n",
       "      <td>male</td>\n",
       "      <td>2009</td>\n",
       "    </tr>\n",
       "    <tr>\n",
       "      <th>340</th>\n",
       "      <td>Chinstrap</td>\n",
       "      <td>Dream</td>\n",
       "      <td>43.5</td>\n",
       "      <td>18.1</td>\n",
       "      <td>202.0</td>\n",
       "      <td>3400.0</td>\n",
       "      <td>female</td>\n",
       "      <td>2009</td>\n",
       "    </tr>\n",
       "    <tr>\n",
       "      <th>341</th>\n",
       "      <td>Chinstrap</td>\n",
       "      <td>Dream</td>\n",
       "      <td>49.6</td>\n",
       "      <td>18.2</td>\n",
       "      <td>193.0</td>\n",
       "      <td>3775.0</td>\n",
       "      <td>male</td>\n",
       "      <td>2009</td>\n",
       "    </tr>\n",
       "    <tr>\n",
       "      <th>342</th>\n",
       "      <td>Chinstrap</td>\n",
       "      <td>Dream</td>\n",
       "      <td>50.8</td>\n",
       "      <td>19.0</td>\n",
       "      <td>210.0</td>\n",
       "      <td>4100.0</td>\n",
       "      <td>male</td>\n",
       "      <td>2009</td>\n",
       "    </tr>\n",
       "    <tr>\n",
       "      <th>343</th>\n",
       "      <td>Chinstrap</td>\n",
       "      <td>Dream</td>\n",
       "      <td>50.2</td>\n",
       "      <td>18.7</td>\n",
       "      <td>198.0</td>\n",
       "      <td>3775.0</td>\n",
       "      <td>female</td>\n",
       "      <td>2009</td>\n",
       "    </tr>\n",
       "  </tbody>\n",
       "</table>\n",
       "<p>333 rows × 8 columns</p>\n",
       "</div>"
      ],
      "text/plain": [
       "       species     island  bill_length_mm  bill_depth_mm  flipper_length_mm  \\\n",
       "0       Adelie  Torgersen            39.1           18.7              181.0   \n",
       "1       Adelie  Torgersen            39.5           17.4              186.0   \n",
       "2       Adelie  Torgersen            40.3           18.0              195.0   \n",
       "4       Adelie  Torgersen            36.7           19.3              193.0   \n",
       "5       Adelie  Torgersen            39.3           20.6              190.0   \n",
       "..         ...        ...             ...            ...                ...   \n",
       "339  Chinstrap      Dream            55.8           19.8              207.0   \n",
       "340  Chinstrap      Dream            43.5           18.1              202.0   \n",
       "341  Chinstrap      Dream            49.6           18.2              193.0   \n",
       "342  Chinstrap      Dream            50.8           19.0              210.0   \n",
       "343  Chinstrap      Dream            50.2           18.7              198.0   \n",
       "\n",
       "     body_mass_g     sex  year  \n",
       "0         3750.0    male  2007  \n",
       "1         3800.0  female  2007  \n",
       "2         3250.0  female  2007  \n",
       "4         3450.0  female  2007  \n",
       "5         3650.0    male  2007  \n",
       "..           ...     ...   ...  \n",
       "339       4000.0    male  2009  \n",
       "340       3400.0  female  2009  \n",
       "341       3775.0    male  2009  \n",
       "342       4100.0    male  2009  \n",
       "343       3775.0  female  2009  \n",
       "\n",
       "[333 rows x 8 columns]"
      ]
     },
     "execution_count": 13,
     "metadata": {},
     "output_type": "execute_result"
    }
   ],
   "source": [
    "df"
   ]
  },
  {
   "attachments": {},
   "cell_type": "markdown",
   "id": "2c6eddf8-aadd-44a3-b600-f1bccfe181b6",
   "metadata": {},
   "source": [
    "### Aggregazione dei dati\n",
    "\n",
    "Il riepilogo di più valori in un unico indice va sotto il nome di \"aggregazione\" dei dati. Il metodo `aggregate()` può essere applicato ai DataFrame e restituisce un nuovo DataFrame più breve contenente solo i valori aggregati. Il primo argomento di `aggregate()` specifica quale funzione o quali funzioni devono essere utilizzate per aggregare i dati. Molte comuni funzioni di aggregazione sono disponibili nel modulo `statistics`. Ad esempio:\n",
    "\n",
    "- `median()`: la mediana;\n",
    "- `mean()`: la media;\n",
    "- `stdev()`: la deviazione standard;\n",
    "\n",
    "Se vogliamo applicare più funzioni di aggregazione, allora possiamo raccogliere prima le funzioni in una lista e poi passare la lista ad `aggregate()`. "
   ]
  },
  {
   "cell_type": "code",
   "execution_count": 21,
   "id": "b62a50c3-36e3-4514-9adc-d29e276aba32",
   "metadata": {},
   "outputs": [
    {
     "name": "stdout",
     "output_type": "stream",
     "text": [
      "        bill_length_mm  bill_depth_mm  flipper_length_mm  body_mass_g\n",
      "min          32.100000      13.100000         172.000000  2700.000000\n",
      "median       44.500000      17.300000         197.000000  4050.000000\n",
      "mean         43.992793      17.164865         200.966967  4207.057057\n",
      "std           5.468668       1.969235          14.015765   805.215802\n",
      "max          59.600000      21.500000         231.000000  6300.000000\n"
     ]
    }
   ],
   "source": [
    "# Lista delle funzioni statistiche di riepilogo come stringhe\n",
    "summary_stats = [\"min\", \"median\", \"mean\", \"std\", \"max\"]\n",
    "\n",
    "# Calcola le statistiche di riepilogo per le colonne numeriche usando aggregate\n",
    "result = df[\n",
    "    [\"bill_length_mm\", \"bill_depth_mm\", \"flipper_length_mm\", \"body_mass_g\"]\n",
    "].aggregate(summary_stats)\n",
    "\n",
    "print(result)"
   ]
  },
  {
   "attachments": {},
   "cell_type": "markdown",
   "id": "d8773d0e-ef1d-4597-b344-836624bd743a",
   "metadata": {},
   "source": [
    "Si noti che Pandas ha applicato le funzioni di riepilogo a ogni colonna, ma, per alcune colonne, le statistiche riassuntive non si possono calcolare, ovvero tutte le colonne che contengono stringhe anziché numeri. Di conseguenza, vediamo che alcuni dei risultati per tali colonne sono contrassegnati con \"NaN\". Questa è un'abbreviazione di \"Not a Number\", talvolta utilizzata nell'analisi dei dati per rappresentare valori mancanti o non definiti.\n",
    "\n",
    "Molto spesso vogliamo calcolare le statistiche descrittive separatamente per ciascun gruppo di osservazioni -- per esempio, nel caso presente, potremmo volere distinguere le statistiche descrittive in base alla specie dei pinguini. Questo risultato si ottiene con il metodo `.groupby()`. \n",
    "\n",
    "Il nome \"group by\" deriva da un comando nel linguaggio del database SQL, ma forse è più semplice pensarlo nei termini coniati da Hadley Wickham: split, apply, combine. Un esempio canonico di questa operazione di split-apply-combine, in cui \"apply\" è un'aggregazione di sommatoria, è illustrato nella figura seguente:\n",
    "\n",
    "::: {#fig-pandas}\n",
    "![](../../figures/split_apply_combine.png){width=\"70%\"}\n",
    "\n",
    "Split, apply, combine.\n",
    ":::\n",
    "\n",
    "La figura rende chiaro ciò che si ottiene con `groupby`:\n",
    "\n",
    "- la fase \"split\" prevede la suddivisione e il raggruppamento di un DataFrame in base al valore della chiave specificata;\n",
    "- la fase \"apply\" implica il calcolo di alcune funzioni, solitamente un'aggregazione, una trasformazione o un filtro, all'interno dei singoli gruppi;\n",
    "- la fase \"combine\" unisce i risultati di queste operazioni in una matrice di output.\n",
    "\n",
    "Per esempio, ragruppiamo le osservazioni `body_mass_g` in funzione delle modalità della variabile `species`."
   ]
  },
  {
   "cell_type": "code",
   "execution_count": 17,
   "id": "16a05d8a-d1c7-4bd7-ab04-8c2832c7a374",
   "metadata": {},
   "outputs": [],
   "source": [
    "grouped = df[\"body_mass_g\"].groupby(df[\"species\"])"
   ]
  },
  {
   "attachments": {},
   "cell_type": "markdown",
   "id": "bc3c466e-f440-4602-91f3-dae14b94e5b5",
   "metadata": {},
   "source": [
    "Calcoliamo ora la media della variabile `body_mass_g` separatamente per ciascun gruppo di osservazioni. "
   ]
  },
  {
   "cell_type": "code",
   "execution_count": 18,
   "id": "6085e89e-4ff0-4399-bb48-478c480bca5f",
   "metadata": {},
   "outputs": [
    {
     "data": {
      "text/plain": [
       "species\n",
       "Adelie       3706.164384\n",
       "Chinstrap    3733.088235\n",
       "Gentoo       5092.436975\n",
       "Name: body_mass_g, dtype: float64"
      ]
     },
     "execution_count": 18,
     "metadata": {},
     "output_type": "execute_result"
    }
   ],
   "source": [
    "grouped.mean()"
   ]
  },
  {
   "attachments": {},
   "cell_type": "markdown",
   "id": "8f9a14f7-8183-4766-a667-bdc8f3720d36",
   "metadata": {},
   "source": [
    "È possibile applicare criteri di classificazione multipli. Per fare un altro esempio, contiamo il numero di pinguini presenti sulle tre isole, distinguendoli per specie e genere."
   ]
  },
  {
   "cell_type": "code",
   "execution_count": 19,
   "id": "39390a87-123f-4d66-b563-8f3bf5432d59",
   "metadata": {},
   "outputs": [
    {
     "data": {
      "text/plain": [
       "island     species    sex   \n",
       "Biscoe     Adelie     female    22\n",
       "                      male      22\n",
       "           Gentoo     female    58\n",
       "                      male      61\n",
       "Dream      Adelie     female    27\n",
       "                      male      28\n",
       "           Chinstrap  female    34\n",
       "                      male      34\n",
       "Torgersen  Adelie     female    24\n",
       "                      male      23\n",
       "dtype: int64"
      ]
     },
     "execution_count": 19,
     "metadata": {},
     "output_type": "execute_result"
    }
   ],
   "source": [
    "df.groupby([\"island\", \"species\", \"sex\"]).size()"
   ]
  },
  {
   "attachments": {},
   "cell_type": "markdown",
   "id": "e8c96d3d-1d8b-4db6-b62d-7d3801009fb2",
   "metadata": {},
   "source": [
    "Con il metodo `aggregate()` possiamo applicare diverse funzioni di aggregazione alle osservazioni ragruppate. Ad esempio"
   ]
  },
  {
   "cell_type": "code",
   "execution_count": 34,
   "id": "3015c1ab-97bb-4879-86bd-881784c05a82",
   "metadata": {},
   "outputs": [
    {
     "name": "stdout",
     "output_type": "stream",
     "text": [
      "          bill_length_mm           bill_depth_mm           flipper_length_mm  \\\n",
      "                    mean       std          mean       std              mean   \n",
      "species                                                                        \n",
      "Adelie         38.823973  2.662597     18.347260  1.219338        190.102740   \n",
      "Chinstrap      48.833824  3.339256     18.420588  1.135395        195.823529   \n",
      "Gentoo         47.568067  3.106116     14.996639  0.985998        217.235294   \n",
      "\n",
      "                     body_mass_g                     year            \n",
      "                std         mean         std         mean       std  \n",
      "species                                                              \n",
      "Adelie     6.521825  3706.164384  458.620135  2008.054795  0.811816  \n",
      "Chinstrap  7.131894  3733.088235  384.335081  2007.970588  0.863360  \n",
      "Gentoo     6.585431  5092.436975  501.476154  2008.067227  0.789025  \n"
     ]
    }
   ],
   "source": [
    "summary_stats = [np.mean, np.std]\n",
    "# Group by \"species\" and calculate summary statistics for numeric columns\n",
    "result = df.groupby(\"species\").agg(\n",
    "    {col: summary_stats for col in df.columns if pd.api.types.is_numeric_dtype(df[col])}\n",
    ")\n",
    "\n",
    "print(result)"
   ]
  },
  {
   "attachments": {},
   "cell_type": "markdown",
   "id": "46f013da-1b5c-4141-943c-ca85dcc98453",
   "metadata": {},
   "source": [
    "Nella cella seguente troviamo la media di `body_mass_g` e `flipper_length_mm` separatamente per ciascuna isola e ciascuna specie:"
   ]
  },
  {
   "cell_type": "code",
   "execution_count": 35,
   "id": "8f58ccb0-b79f-405d-8684-bd1ade1476ee",
   "metadata": {},
   "outputs": [
    {
     "data": {
      "text/html": [
       "<div>\n",
       "<style scoped>\n",
       "    .dataframe tbody tr th:only-of-type {\n",
       "        vertical-align: middle;\n",
       "    }\n",
       "\n",
       "    .dataframe tbody tr th {\n",
       "        vertical-align: top;\n",
       "    }\n",
       "\n",
       "    .dataframe thead th {\n",
       "        text-align: right;\n",
       "    }\n",
       "</style>\n",
       "<table border=\"1\" class=\"dataframe\">\n",
       "  <thead>\n",
       "    <tr style=\"text-align: right;\">\n",
       "      <th></th>\n",
       "      <th></th>\n",
       "      <th>body_mass_g</th>\n",
       "      <th>flipper_length_mm</th>\n",
       "    </tr>\n",
       "    <tr>\n",
       "      <th>island</th>\n",
       "      <th>species</th>\n",
       "      <th></th>\n",
       "      <th></th>\n",
       "    </tr>\n",
       "  </thead>\n",
       "  <tbody>\n",
       "    <tr>\n",
       "      <th rowspan=\"2\" valign=\"top\">Biscoe</th>\n",
       "      <th>Adelie</th>\n",
       "      <td>3709.659091</td>\n",
       "      <td>188.795455</td>\n",
       "    </tr>\n",
       "    <tr>\n",
       "      <th>Gentoo</th>\n",
       "      <td>5092.436975</td>\n",
       "      <td>217.235294</td>\n",
       "    </tr>\n",
       "    <tr>\n",
       "      <th rowspan=\"2\" valign=\"top\">Dream</th>\n",
       "      <th>Adelie</th>\n",
       "      <td>3701.363636</td>\n",
       "      <td>189.927273</td>\n",
       "    </tr>\n",
       "    <tr>\n",
       "      <th>Chinstrap</th>\n",
       "      <td>3733.088235</td>\n",
       "      <td>195.823529</td>\n",
       "    </tr>\n",
       "    <tr>\n",
       "      <th>Torgersen</th>\n",
       "      <th>Adelie</th>\n",
       "      <td>3708.510638</td>\n",
       "      <td>191.531915</td>\n",
       "    </tr>\n",
       "  </tbody>\n",
       "</table>\n",
       "</div>"
      ],
      "text/plain": [
       "                     body_mass_g  flipper_length_mm\n",
       "island    species                                  \n",
       "Biscoe    Adelie     3709.659091         188.795455\n",
       "          Gentoo     5092.436975         217.235294\n",
       "Dream     Adelie     3701.363636         189.927273\n",
       "          Chinstrap  3733.088235         195.823529\n",
       "Torgersen Adelie     3708.510638         191.531915"
      ]
     },
     "execution_count": 35,
     "metadata": {},
     "output_type": "execute_result"
    }
   ],
   "source": [
    "df.groupby([\"island\", \"species\"])[[\"body_mass_g\", \"flipper_length_mm\"]].mean()"
   ]
  },
  {
   "attachments": {},
   "cell_type": "markdown",
   "id": "2548691d-ea69-418a-a1f2-6e29788a32ad",
   "metadata": {},
   "source": [
    "Facciamo la stessa cosa per la deviazione standard."
   ]
  },
  {
   "cell_type": "code",
   "execution_count": 36,
   "id": "e08b641c-ba90-4bed-b68b-8b926e098408",
   "metadata": {},
   "outputs": [
    {
     "data": {
      "text/html": [
       "<div>\n",
       "<style scoped>\n",
       "    .dataframe tbody tr th:only-of-type {\n",
       "        vertical-align: middle;\n",
       "    }\n",
       "\n",
       "    .dataframe tbody tr th {\n",
       "        vertical-align: top;\n",
       "    }\n",
       "\n",
       "    .dataframe thead th {\n",
       "        text-align: right;\n",
       "    }\n",
       "</style>\n",
       "<table border=\"1\" class=\"dataframe\">\n",
       "  <thead>\n",
       "    <tr style=\"text-align: right;\">\n",
       "      <th></th>\n",
       "      <th></th>\n",
       "      <th>body_mass_g</th>\n",
       "      <th>flipper_length_mm</th>\n",
       "    </tr>\n",
       "    <tr>\n",
       "      <th>island</th>\n",
       "      <th>species</th>\n",
       "      <th></th>\n",
       "      <th></th>\n",
       "    </tr>\n",
       "  </thead>\n",
       "  <tbody>\n",
       "    <tr>\n",
       "      <th rowspan=\"2\" valign=\"top\">Biscoe</th>\n",
       "      <th>Adelie</th>\n",
       "      <td>487.733722</td>\n",
       "      <td>6.729247</td>\n",
       "    </tr>\n",
       "    <tr>\n",
       "      <th>Gentoo</th>\n",
       "      <td>501.476154</td>\n",
       "      <td>6.585431</td>\n",
       "    </tr>\n",
       "    <tr>\n",
       "      <th rowspan=\"2\" valign=\"top\">Dream</th>\n",
       "      <th>Adelie</th>\n",
       "      <td>448.774519</td>\n",
       "      <td>6.480325</td>\n",
       "    </tr>\n",
       "    <tr>\n",
       "      <th>Chinstrap</th>\n",
       "      <td>384.335081</td>\n",
       "      <td>7.131894</td>\n",
       "    </tr>\n",
       "    <tr>\n",
       "      <th>Torgersen</th>\n",
       "      <th>Adelie</th>\n",
       "      <td>451.846351</td>\n",
       "      <td>6.220062</td>\n",
       "    </tr>\n",
       "  </tbody>\n",
       "</table>\n",
       "</div>"
      ],
      "text/plain": [
       "                     body_mass_g  flipper_length_mm\n",
       "island    species                                  \n",
       "Biscoe    Adelie      487.733722           6.729247\n",
       "          Gentoo      501.476154           6.585431\n",
       "Dream     Adelie      448.774519           6.480325\n",
       "          Chinstrap   384.335081           7.131894\n",
       "Torgersen Adelie      451.846351           6.220062"
      ]
     },
     "execution_count": 36,
     "metadata": {},
     "output_type": "execute_result"
    }
   ],
   "source": [
    "df.groupby([\"island\", \"species\"])[[\"body_mass_g\", \"flipper_length_mm\"]].std(ddof=1)"
   ]
  },
  {
   "attachments": {},
   "cell_type": "markdown",
   "id": "ee4060b2-bc0b-4f8f-b778-3d55271d064b",
   "metadata": {},
   "source": [
    "Prestiamo attenzione alla seguente sintassi:"
   ]
  },
  {
   "cell_type": "code",
   "execution_count": 37,
   "id": "cb5570a0-6b14-4251-85be-f0b74e0b0f54",
   "metadata": {},
   "outputs": [
    {
     "data": {
      "text/html": [
       "<div>\n",
       "<style scoped>\n",
       "    .dataframe tbody tr th:only-of-type {\n",
       "        vertical-align: middle;\n",
       "    }\n",
       "\n",
       "    .dataframe tbody tr th {\n",
       "        vertical-align: top;\n",
       "    }\n",
       "\n",
       "    .dataframe thead tr th {\n",
       "        text-align: left;\n",
       "    }\n",
       "\n",
       "    .dataframe thead tr:last-of-type th {\n",
       "        text-align: right;\n",
       "    }\n",
       "</style>\n",
       "<table border=\"1\" class=\"dataframe\">\n",
       "  <thead>\n",
       "    <tr>\n",
       "      <th></th>\n",
       "      <th></th>\n",
       "      <th colspan=\"3\" halign=\"left\">body_mass_g</th>\n",
       "      <th colspan=\"3\" halign=\"left\">flipper_length_mm</th>\n",
       "    </tr>\n",
       "    <tr>\n",
       "      <th></th>\n",
       "      <th></th>\n",
       "      <th>mean</th>\n",
       "      <th>std</th>\n",
       "      <th>count</th>\n",
       "      <th>mean</th>\n",
       "      <th>std</th>\n",
       "      <th>count</th>\n",
       "    </tr>\n",
       "    <tr>\n",
       "      <th>island</th>\n",
       "      <th>species</th>\n",
       "      <th></th>\n",
       "      <th></th>\n",
       "      <th></th>\n",
       "      <th></th>\n",
       "      <th></th>\n",
       "      <th></th>\n",
       "    </tr>\n",
       "  </thead>\n",
       "  <tbody>\n",
       "    <tr>\n",
       "      <th rowspan=\"2\" valign=\"top\">Biscoe</th>\n",
       "      <th>Adelie</th>\n",
       "      <td>3709.659091</td>\n",
       "      <td>487.733722</td>\n",
       "      <td>44</td>\n",
       "      <td>188.795455</td>\n",
       "      <td>6.729247</td>\n",
       "      <td>44</td>\n",
       "    </tr>\n",
       "    <tr>\n",
       "      <th>Gentoo</th>\n",
       "      <td>5092.436975</td>\n",
       "      <td>501.476154</td>\n",
       "      <td>119</td>\n",
       "      <td>217.235294</td>\n",
       "      <td>6.585431</td>\n",
       "      <td>119</td>\n",
       "    </tr>\n",
       "    <tr>\n",
       "      <th rowspan=\"2\" valign=\"top\">Dream</th>\n",
       "      <th>Adelie</th>\n",
       "      <td>3701.363636</td>\n",
       "      <td>448.774519</td>\n",
       "      <td>55</td>\n",
       "      <td>189.927273</td>\n",
       "      <td>6.480325</td>\n",
       "      <td>55</td>\n",
       "    </tr>\n",
       "    <tr>\n",
       "      <th>Chinstrap</th>\n",
       "      <td>3733.088235</td>\n",
       "      <td>384.335081</td>\n",
       "      <td>68</td>\n",
       "      <td>195.823529</td>\n",
       "      <td>7.131894</td>\n",
       "      <td>68</td>\n",
       "    </tr>\n",
       "    <tr>\n",
       "      <th>Torgersen</th>\n",
       "      <th>Adelie</th>\n",
       "      <td>3708.510638</td>\n",
       "      <td>451.846351</td>\n",
       "      <td>47</td>\n",
       "      <td>191.531915</td>\n",
       "      <td>6.220062</td>\n",
       "      <td>47</td>\n",
       "    </tr>\n",
       "  </tbody>\n",
       "</table>\n",
       "</div>"
      ],
      "text/plain": [
       "                     body_mass_g                   flipper_length_mm  \\\n",
       "                            mean         std count              mean   \n",
       "island    species                                                      \n",
       "Biscoe    Adelie     3709.659091  487.733722    44        188.795455   \n",
       "          Gentoo     5092.436975  501.476154   119        217.235294   \n",
       "Dream     Adelie     3701.363636  448.774519    55        189.927273   \n",
       "          Chinstrap  3733.088235  384.335081    68        195.823529   \n",
       "Torgersen Adelie     3708.510638  451.846351    47        191.531915   \n",
       "\n",
       "                                     \n",
       "                          std count  \n",
       "island    species                    \n",
       "Biscoe    Adelie     6.729247    44  \n",
       "          Gentoo     6.585431   119  \n",
       "Dream     Adelie     6.480325    55  \n",
       "          Chinstrap  7.131894    68  \n",
       "Torgersen Adelie     6.220062    47  "
      ]
     },
     "execution_count": 37,
     "metadata": {},
     "output_type": "execute_result"
    }
   ],
   "source": [
    "summary_stats = (\n",
    "    df.loc[:, [\"island\", \"species\", \"body_mass_g\", \"flipper_length_mm\"]]\n",
    "    .groupby([\"island\", \"species\"])\n",
    "    .aggregate([\"mean\", \"std\", \"count\"])\n",
    ")\n",
    "summary_stats"
   ]
  },
  {
   "attachments": {},
   "cell_type": "markdown",
   "id": "50d4e752-ed70-4b88-b6fa-7d754e8327d2",
   "metadata": {},
   "source": [
    "Nell'istruzione precedente selezioniamo tutte le righe (`:`) di tre colonne di interesse: `df.loc[:, [\"island\", \"species\", \"body_mass_g\", \"flipper_length_mm\"]]`. L'istruzione `.groupby([\"island\", \"species\"])` ragruppa le osservazioni (righe) secondo le modalità delle variabili `island` e `species`. Infine `.aggregate([\"mean\", \"std\", \"count\"])` applica i metodi statistici specificati a ciascun gruppo di osservazioni. Con questa sintassi la sequenza delle operazioni da eseguire diventa molto intuitiva.\n",
    "\n",
    "È possibile approfondire questo argomento consultanto il [capitolo 10](https://wesmckinney.com/book/data-aggregation.html) del testo *Python for Data Analysis* di @mckinney2022python."
   ]
  },
  {
   "cell_type": "markdown",
   "metadata": {},
   "source": [
    "## Informazioni sull'Ambiente di Sviluppo"
   ]
  },
  {
   "cell_type": "code",
   "execution_count": 8,
   "id": "b64bb9cd-6742-42f9-8965-737f3424e329",
   "metadata": {},
   "outputs": [
    {
     "name": "stdout",
     "output_type": "stream",
     "text": [
      "Last updated: Mon Jan 29 2024\n",
      "\n",
      "Python implementation: CPython\n",
      "Python version       : 3.11.7\n",
      "IPython version      : 8.19.0\n",
      "\n",
      "Compiler    : Clang 16.0.6 \n",
      "OS          : Darwin\n",
      "Release     : 23.3.0\n",
      "Machine     : x86_64\n",
      "Processor   : i386\n",
      "CPU cores   : 8\n",
      "Architecture: 64bit\n",
      "\n",
      "scipy     : 1.11.4\n",
      "seaborn   : 0.13.0\n",
      "numpy     : 1.26.2\n",
      "pandas    : 2.1.4\n",
      "arviz     : 0.17.0\n",
      "matplotlib: 3.8.2\n",
      "\n",
      "Watermark: 2.4.3\n",
      "\n"
     ]
    }
   ],
   "source": [
    "%load_ext watermark\n",
    "%watermark -n -u -v -iv -w -m"
   ]
  }
 ],
 "metadata": {
  "kernelspec": {
   "display_name": "pymc",
   "language": "python",
   "name": "python3"
  },
  "language_info": {
   "codemirror_mode": {
    "name": "ipython",
    "version": 3
   },
   "file_extension": ".py",
   "mimetype": "text/x-python",
   "name": "python",
   "nbconvert_exporter": "python",
   "pygments_lexer": "ipython3",
   "version": "3.12.4"
  },
  "vscode": {
   "interpreter": {
    "hash": "cbb367cc0128e23b7454d788d5a4229ca1f9848fd2e857f4797fbd26ab3b0776"
   }
  }
 },
 "nbformat": 4,
 "nbformat_minor": 2
}
