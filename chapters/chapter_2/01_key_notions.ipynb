{
 "cells": [
  {
   "attachments": {},
   "cell_type": "markdown",
   "id": "868c86c6-e8ae-49af-b7e6-d91a7aba30ca",
   "metadata": {},
   "source": [
    "# Concetti chiave {#sec-key-notions}"
   ]
  },
  {
   "cell_type": "markdown",
   "id": "2683c953-4f79-474d-b668-0f8d98575d67",
   "metadata": {},
   "source": [
    "**Prerequisiti**\n",
    "\n",
    "**Concetti e competenze chiave**\n",
    "\n",
    "In questo capitolo, esploreremo i concetti fondamentali dell'analisi dei dati. Inizieremo con la definizione di popolazione e campione, e distingueremo tra variabili indipendenti e dipendenti. Introdurremo la matrice dei dati e considereremo l'effetto delle variabili all'interno dell'analisi statistica. Successivamente, affronteremo i concetti di stima e inferenza. Infine, discuteremo il concetto di modello psicologico, fondamentale per comprendere i processi mentali e comportamentali degli individui.\n",
    "\n",
    "**Preparazione del Notebook**"
   ]
  },
  {
   "cell_type": "code",
   "execution_count": 2,
   "id": "70ea5fd0-ac5e-4870-bc27-46d3ceb8a8b6",
   "metadata": {},
   "outputs": [],
   "source": [
    "import numpy as np\n",
    "import pandas as pd"
   ]
  },
  {
   "cell_type": "markdown",
   "metadata": {},
   "source": [
    "## Introduzione {.unnumbered}\n",
    "\n",
    "L’analisi dei dati si colloca all’intersezione tra statistica, teoria della probabilità e informatica. Questa disciplina multidisciplinare richiede una solida comprensione dei concetti fondamentali provenienti da ciascuna di queste tre aree.\n",
    "\n",
    "La **statistica** fornisce gli strumenti e le tecniche per raccogliere, analizzare e interpretare i dati. Attraverso metodi descrittivi e inferenziali, la statistica permette di trarre conclusioni dai dati e di prendere decisioni informate.\n",
    "\n",
    "::: {.callout-note title=\"Statistica\"}\n",
    "Il termine “statistica” può assumere diversi significati, a seconda del contesto in cui viene utilizzato. \n",
    "\n",
    "- Nel primo senso, la statistica è una scienza e una disciplina che si occupa dello studio e dell’applicazione di metodi e tecniche per la raccolta, l’organizzazione, l’analisi, l’interpretazione e la presentazione di dati. \n",
    "- Nel secondo senso, il termine “statistica” si riferisce a una singola misura o un valore numerico che è stato calcolato a partire da un campione di dati. Questo tipo di statistica rappresenta una caratteristica specifica del campione. Esempi comuni di statistiche in questo senso includono la media campionaria, la deviazione standard campionaria o il coefficiente di correlazione campionario. \n",
    ":::\n",
    "\n",
    "La **teoria della probabilità** costituisce la base matematica della statistica. Essa consente di modellare l’incertezza e di comprendere i fenomeni aleatori, fornendo i fondamenti per sviluppare metodi statistici rigorosi.\n",
    "\n",
    "L’**informatica** gioca un ruolo cruciale nell’analisi dei dati, offrendo gli strumenti necessari per la gestione, l’elaborazione e la visualizzazione dei dati su larga scala. Conoscere i principi dell’informatica è essenziale per sfruttare appieno le tecnologie moderne, come il machine learning e l’intelligenza artificiale, nell’analisi dei dati. Ad esempio, l'uso di linguaggi di programmazione come Python e R, insieme a librerie specializzate, permette di eseguire analisi complesse e di visualizzare i dati in modo efficace.\n",
    "\n",
    "## Popolazioni e Campioni\n",
    "\n",
    "Per iniziare l’analisi dei dati, è fondamentale individuare le unità che contengono le informazioni rilevanti per il fenomeno di interesse. Questo insieme di unità costituisce la popolazione o universo, che rappresenta l’insieme completo di entità capaci di fornire informazioni per l’indagine statistica in questione. Possiamo rappresentare la popolazione come $ N $ o $ \\infty $ nel caso di popolazioni finite o infinite, rispettivamente. Le singole unità dell’insieme sono chiamate unità statistiche.\n",
    "\n",
    "Nella ricerca psicologica, sia nelle ricerche sperimentali che in quelle osservazionali, l’obiettivo principale è studiare i fenomeni psicologici all’interno di una specifica popolazione. Pertanto, è essenziale definire con chiarezza la popolazione di interesse, ovvero l’insieme di individui ai quali verranno applicati i risultati della ricerca. Tale popolazione può essere reale, come ad esempio tutte le persone sopravvissute per un anno dopo il bombardamento atomico di Hiroshima, o ipotetica, come ad esempio tutte le persone depresse che potrebbero beneficiare di un intervento psicologico. Il ricercatore deve sempre essere in grado di identificare se un individuo specifico appartiene o meno alla popolazione in questione.\n",
    "\n",
    "### Sotto-popolazioni e Campioni\n",
    "\n",
    "Una sotto-popolazione è un sottoinsieme di individui che possiedono proprietà specifiche ben definite. Ad esempio, potremmo essere interessati alla sotto-popolazione degli uomini di età inferiore ai 30 anni o alla sotto-popolazione dei pazienti depressi che hanno ricevuto uno specifico intervento psicologico. Molte questioni scientifiche cercano di descrivere le differenze tra sotto-popolazioni, come ad esempio il confronto tra un gruppo di pazienti sottoposti a psicoterapia e un gruppo di controllo per valutare l’efficacia di un trattamento.\n",
    "\n",
    "Il campione è un sottoinsieme della popolazione composto da un insieme di elementi, ognuno dei quali rappresenta un’unità statistica (abbreviata con u.s.) portatrice delle informazioni che verranno rilevate tramite un’operazione di misurazione. Il campione viene utilizzato per ottenere informazioni sulla popolazione di riferimento.\n",
    "\n",
    "### Metodi di Campionamento\n",
    "\n",
    "Il campionamento può avvenire in diversi modi. Il campionamento casuale consente al ricercatore di trarre conclusioni sulla popolazione e di quantificare l’incertezza dei risultati. Un esempio di campione casuale è quello utilizzato in un sondaggio. Tuttavia, esistono anche altre forme di campionamento, come il campione di convenienza, in cui si seleziona una coorte di studenti da un unico istituto, o il campionamento stratificato, dove la popolazione viene divisa in gruppi o strati, e vengono selezionati campioni proporzionali da ciascuno strato.\n",
    "\n",
    "Il ricercatore, indipendentemente dal metodo di acquisizione dei dati, deve sempre considerare la questione della rappresentatività statistica del campione, ovvero se il campione scelto è in grado di riflettere in modo accurato e privo di distorsioni le caratteristiche di interesse della popolazione. Selezionare le unità statistiche in modo casuale rappresenta il metodo più semplice per garantire la rappresentatività del campione. Tuttavia, in molti casi, soprattutto in psicologia, i ricercatori possono non avere a disposizione le risorse necessarie, inclusi i fondi, per utilizzare la tecnica del campionamento casuale nelle loro ricerche. In tali situazioni, possono ricorrere ad altri metodi di campionamento, come il campionamento di convenienza, a seconda delle esigenze e delle risorse disponibili.\n",
    "\n",
    "## Variabili e Costanti\n",
    "\n",
    "Nell’ambito dell’analisi statistica, le variabili rappresentano concetti centrali, denotando le caratteristiche o gli attributi che possono assumere una varietà di valori, numerici o categoriali. Essi incarnano gli elementi quantificabili o osservabili ai quali le unità statistiche danno riscontro. Ad esempio, ponendo la domanda “Qual è l’età di questo partecipante?” e ottenendo come risposta “19 anni”, si identifica “età” come la variabile, e “19” come il valore corrispondente.\n",
    "\n",
    "### Tipi di Variabili\n",
    "\n",
    "In pratica, nel contesto della ricerca empirica, una variabile rappresenta un insieme di osservazioni relative alla stessa misurazione, come ad esempio il punteggio di “nevrosismo” ottenuto da interviste condotte su 744 bambini. Descrivere una variabile significa essere in grado di prendere tali osservazioni e comunicare chiaramente il loro significato, senza obbligare chi legge a dover esaminare ciascuno dei 744 punteggi di nevrosismo separatamente. Questo compito non è affatto semplice.\n",
    "\n",
    "Possiamo distinguere varie classi di variabili:\n",
    "\n",
    "- **Variabili continue**: Possono assumere valori in un intervallo potenzialmente infinito.\n",
    "- **Variabili di conteggio**: Rappresentano la frequenza con cui si verificano eventi o la quantità di oggetti in una categoria specifica.\n",
    "- **Variabili ordinali**: Caratterizzate da un ordine intrinseco tra i loro valori, ma non esiste una scala standard per quantificare la differenza tra essi.\n",
    "- **Variabili categoriche**: Utilizzate per assegnare categorie o classi a un’osservazione, indicando a quale categoria appartiene.\n",
    "- **Variabili binarie**: Una sottocategoria di variabili categoriche che possono assumere solo due valori distinti.\n",
    "\n",
    "Le modalità descrivono le diverse forme che una variabile statistica può assumere. L’insieme delle modalità di una variabile è rappresentato dall’insieme $ \\mathcal{X} $, che include tutte le possibili manifestazioni della variabile. Le modalità presenti nel campione vengono etichettate come dati.\n",
    "\n",
    "In statistica, la nozione di “variabile” si distingue da quella di “costante”, che rimane immutabile attraverso tutte le unità statistiche.\n",
    "\n",
    "- **Esempio 1**: In uno studio relativo all’intelligenza degli adulti italiani, la variabile di interesse è il punteggio nel test WAIS-IV, con modalità quali 112, 92, 121 ecc. Questa variabile è classificata come quantitativa discreta.\n",
    "- **Esempio 2**: Nell’analisi del compito Stroop, focalizzata su bambini di età 6-8 anni, la variabile in esame è l’inverso dei tempi di reazione, misurati in secondi, con modalità come 1.93, 2.35, 1.32 ecc. Questa variabile è classificata come quantitativa continua.\n",
    "- **Esempio 3**: In uno studio del disturbo di personalità condotto tra i detenuti nelle carceri italiane, la variabile scrutinata è l’assessment del disturbo di personalità, valutato attraverso interviste cliniche strutturate. Le modalità sono i Cluster A, Cluster B, Cluster C, secondo la classificazione del DSM-V, e questa variabile è classificata come qualitativa.\n",
    "\n",
    "## La Distribuzione delle Variabili\n",
    "\n",
    "Una volta compreso il tipo di variabile con cui lavoriamo, è fondamentale esaminare la distribuzione di tale variabile. La distribuzione di una variabile rappresenta la frequenza con cui si verificano i diversi valori. Nel caso delle variabili discrete, la distribuzione è semplicemente un elenco delle modalità (valori distinti) e delle relative frequenze. Ad esempio, se consideriamo la variabile “genere” all’interno di un campione di studenti, possiamo affermare che l’82% sono donne e il 18% sono uomini.\n",
    "\n",
    "Le distribuzioni delle variabili sono descritte in termini di probabilità. Le frequenze relative possono essere interpretate come “probabilità empiriche”. Nell’esempio precedente, la probabilità di “essere una donna” nel campione specifico è 0.82, mentre la probabilità di “essere un uomo” è 0.18. La probabilità che una variabile $ X $ (come il genere) assuma un valore specifico $ x $ (ad esempio, “donna”) viene indicata come $ P(X = x) $, o più semplicemente $ P(x) $.\n",
    "\n",
    "Le distribuzioni delle variabili continue sono più complesse da descrivere. Per le variabili continue, non descriviamo la probabilità che la variabile assuma un valore specifico, ma la probabilità che essa cada in un intervallo vicino a quel valore specifico. In futuro, esploreremo come rappresentare graficamente la distribuzione di una variabile continua utilizzando un istogramma o un grafico della densità di probabilità chiamato “Kernel Density Plot”.\n",
    "\n",
    "## La Matrice dei Dati\n",
    "\n",
    "Nell’ambito dell’analisi statistica, la matrice dei dati svolge un ruolo fondamentale nell’organizzazione delle informazioni relative alle variabili. Si tratta di una tabella strutturata con righe e colonne, dove ogni riga individua un’unità statistica specifica e ogni colonna rappresenta una diversa variabile statistica in esame.\n",
    "\n",
    "Va enfatizzato che, all’interno della matrice dei dati, le unità statistiche non seguono generalmente un ordine progressivo o gerarchico. L’indice attribuito a ciascuna unità statistica indica semplicemente la posizione che essa occupa all’interno della tabella, senza implicare un valore intrinseco o una relazione ordinale. Tale strutturazione metodica offre un mezzo efficace per raccogliere, visualizzare e analizzare le informazioni ottenute durante lo studio statistico, permettendo una gestione chiara e sistematica dei dati raccolti."
   ]
  },
  {
   "cell_type": "markdown",
   "id": "5e56b1a6-94d8-4b44-99ce-bd637a8eef40",
   "metadata": {},
   "source": [
    "## Capire i dati\n",
    "\n",
    "A scopo illustrativo, prendiamo in considerazione il dataset contenuto nel file `STAR.csv`. Questi dati sono parte integrante del progetto STAR (Student-Teacher Achievement Ratio), un esperimento pedagogico sviluppato negli Stati Uniti nel periodo tra il 1985 e il 1990. La finalità centrale di questo studio era indagare l'impatto delle dimensioni delle classi sulle performance accademiche degli studenti. In questo contesto, gli studenti venivano distribuiti casualmente in classi di dimensioni ridotte (13-17 studenti) o più ampie (22-25 studenti).\n",
    "\n",
    "Dopo aver preparato l'ambiente di lavoro caricando i pacchetti necessari, è possibile procedere all'importazione dei dati in Python. Si può fare ciò utilizzando il seguente codice, prestando attenzione al fatto che l'argomento di `read_csv()` deve specificare il percorso relativo del file rispetto alla directory in cui è situato lo script `.ipynb`:"
   ]
  },
  {
   "cell_type": "code",
   "execution_count": 2,
   "id": "66f778de-239a-4b20-adba-395be43d02fc",
   "metadata": {},
   "outputs": [],
   "source": [
    "df_star = pd.read_csv(\"../data/STAR.csv\")"
   ]
  },
  {
   "cell_type": "markdown",
   "id": "8ecfdf9e-415c-4a3b-8618-98fcd18821c6",
   "metadata": {},
   "source": [
    "Questo codice importa i dati dal file `STAR.csv` e li memorizza in un DataFrame di pandas. Questo passo è fondamentale per consentire un'analisi e una manipolazione efficiente delle informazioni relative all'esperimento STAR. In Python, il DataFrame rappresenta la struttura dati principale per la gestione e l'elaborazione dei dati. Il DataFrame attualizza il concetto di \"matrice di dati\" che abbiamo introdotto in precedenza."
   ]
  },
  {
   "cell_type": "code",
   "execution_count": 3,
   "id": "0e649f9b-d87a-4254-9216-a13ac387da9a",
   "metadata": {},
   "outputs": [
    {
     "data": {
      "text/plain": [
       "(1274, 4)"
      ]
     },
     "execution_count": 3,
     "metadata": {},
     "output_type": "execute_result"
    }
   ],
   "source": [
    "df_star.shape"
   ]
  },
  {
   "cell_type": "markdown",
   "id": "f4b550fa-ab92-4091-8c35-0f77befa0ede",
   "metadata": {},
   "source": [
    "Dato che il DataFrame è troppo grande (1274 righe e 4 colonne), stampiamo sullo schermo le prime 5 righe."
   ]
  },
  {
   "cell_type": "code",
   "execution_count": 3,
   "id": "ba4e8d21-b361-4d7f-9111-c26c8fd21a9c",
   "metadata": {},
   "outputs": [
    {
     "data": {
      "text/html": [
       "<div>\n",
       "<style scoped>\n",
       "    .dataframe tbody tr th:only-of-type {\n",
       "        vertical-align: middle;\n",
       "    }\n",
       "\n",
       "    .dataframe tbody tr th {\n",
       "        vertical-align: top;\n",
       "    }\n",
       "\n",
       "    .dataframe thead th {\n",
       "        text-align: right;\n",
       "    }\n",
       "</style>\n",
       "<table border=\"1\" class=\"dataframe\">\n",
       "  <thead>\n",
       "    <tr style=\"text-align: right;\">\n",
       "      <th></th>\n",
       "      <th>classtype</th>\n",
       "      <th>reading</th>\n",
       "      <th>math</th>\n",
       "      <th>graduated</th>\n",
       "    </tr>\n",
       "  </thead>\n",
       "  <tbody>\n",
       "    <tr>\n",
       "      <th>0</th>\n",
       "      <td>small</td>\n",
       "      <td>578</td>\n",
       "      <td>610</td>\n",
       "      <td>1</td>\n",
       "    </tr>\n",
       "    <tr>\n",
       "      <th>1</th>\n",
       "      <td>regular</td>\n",
       "      <td>612</td>\n",
       "      <td>612</td>\n",
       "      <td>1</td>\n",
       "    </tr>\n",
       "    <tr>\n",
       "      <th>2</th>\n",
       "      <td>regular</td>\n",
       "      <td>583</td>\n",
       "      <td>606</td>\n",
       "      <td>1</td>\n",
       "    </tr>\n",
       "    <tr>\n",
       "      <th>3</th>\n",
       "      <td>small</td>\n",
       "      <td>661</td>\n",
       "      <td>648</td>\n",
       "      <td>1</td>\n",
       "    </tr>\n",
       "    <tr>\n",
       "      <th>4</th>\n",
       "      <td>small</td>\n",
       "      <td>614</td>\n",
       "      <td>636</td>\n",
       "      <td>1</td>\n",
       "    </tr>\n",
       "  </tbody>\n",
       "</table>\n",
       "</div>"
      ],
      "text/plain": [
       "  classtype  reading  math  graduated\n",
       "0     small      578   610          1\n",
       "1   regular      612   612          1\n",
       "2   regular      583   606          1\n",
       "3     small      661   648          1\n",
       "4     small      614   636          1"
      ]
     },
     "execution_count": 3,
     "metadata": {},
     "output_type": "execute_result"
    }
   ],
   "source": [
    "df_star.head()"
   ]
  },
  {
   "cell_type": "markdown",
   "id": "d14bf97a-ae18-40b0-991e-955a20fe7d9b",
   "metadata": {},
   "source": [
    "Nella terminologia statistica, l'osservazione è l'informazione raccolta da un individuo o un'entità specifica che partecipa allo studio. Considerando il dataset STAR, l'unità di osservazione è costituita dagli studenti. Pertanto, nel DataFrame denominato `df_star`, ogni riga simboleggia uno studente distinto coinvolto nell'indagine.\n",
    "\n",
    "Le variabili, d'altro canto, sono espressioni delle diverse caratteristiche degli individui o delle entità analizzate. Nel contesto del progetto STAR, questo concetto si traduce in:\n",
    "\n",
    "- Ogni colonna di `df_star` rappresenta una variabile che incarna una particolare proprietà condivisa da tutti gli studenti partecipanti.\n",
    "- Le variabili sono identificate attraverso etichette collegate alle colonne, come `classtype` (il tipo di classe assegnata, con modalità `small` e `regular`), `reading` (il punteggio nel test di lettura standardizzato), `math` (il punteggio nel test di matematica standardizzato) e `graduated` (indicazione se lo studente ha conseguito o meno il diploma di scuola superiore, con \"1\" o \"0\" rispettivamente).\n",
    "\n",
    "Per rappresentare un'osservazione singola della variabile generica $X$, si utilizza la notazione $X_i$, dove $i$ rappresenta l'indice dell'osservazione. Questo indice significa che abbiamo un valore differente di $X$ per ogni valore distinto di $i$. Ad esempio, nel caso di 1274 osservazioni, $i$ può variare da 1 a 1274. Pertanto, per simboleggiare la seconda osservazione (quella con $i=2$), useremo la notazione $X_2$. È fondamentale tener presente che, mentre in Python gli indici iniziano da 0, nella notazione matematica tradizionale, come quella rappresentata da $X_i$, l'indice ha inizio da 1. Questa differenza tra le convenzioni di indicizzazione può essere un aspetto cruciale da considerare durante l'analisi dei dati."
   ]
  },
  {
   "cell_type": "code",
   "execution_count": 5,
   "id": "64ade3b9-abba-4e52-9a5c-f51413924ed6",
   "metadata": {},
   "outputs": [
    {
     "data": {
      "text/plain": [
       "612"
      ]
     },
     "execution_count": 5,
     "metadata": {},
     "output_type": "execute_result"
    }
   ],
   "source": [
    "df_star[\"reading\"][1]"
   ]
  },
  {
   "cell_type": "markdown",
   "id": "62c93bd4-961e-4fa3-8de5-e413c23b39c7",
   "metadata": {},
   "source": [
    "Una delle prime cose da fare, quando esaminiamo un dataset, è capire che tipo di variabili sono incluse."
   ]
  },
  {
   "cell_type": "code",
   "execution_count": 6,
   "id": "43a3bb13-d44f-4408-97e4-7dfb9ce938c5",
   "metadata": {},
   "outputs": [
    {
     "data": {
      "text/plain": [
       "classtype    object\n",
       "reading       int64\n",
       "math          int64\n",
       "graduated     int64\n",
       "dtype: object"
      ]
     },
     "execution_count": 6,
     "metadata": {},
     "output_type": "execute_result"
    }
   ],
   "source": [
    "df_star.dtypes"
   ]
  },
  {
   "cell_type": "markdown",
   "id": "3b7b5657-17b3-4355-995f-dd46697f2cb0",
   "metadata": {},
   "source": [
    "Nel caso specifico, notiamo che la variabile `classtype` è di tipo `object`, quindi è una variabile qualitativa, mentre le altre variabili sono numeriche, rappresentate come numeri interi (`int64`). Se elenchiamo le modalità presenti in `classtype` utilizzando il metodo `unique()`, scopriamo che corrispondono a \"small\" e \"regular\"."
   ]
  },
  {
   "cell_type": "code",
   "execution_count": 9,
   "id": "bb8d9e74-5ecf-45c2-a52a-b22556632b54",
   "metadata": {},
   "outputs": [
    {
     "data": {
      "text/plain": [
       "array(['small', 'regular'], dtype=object)"
      ]
     },
     "execution_count": 9,
     "metadata": {},
     "output_type": "execute_result"
    }
   ],
   "source": [
    "df_star[\"classtype\"].unique()"
   ]
  },
  {
   "cell_type": "markdown",
   "id": "087b5831-7208-4ee7-8cb1-cc30ee5f30f2",
   "metadata": {},
   "source": [
    "Con l'istruzione seguente verifichiamo che la variabile `graduated` sia una variabile binaria. "
   ]
  },
  {
   "cell_type": "code",
   "execution_count": 10,
   "id": "5528ac66-984c-4609-83bd-1b6958b4b9fc",
   "metadata": {},
   "outputs": [
    {
     "data": {
      "text/plain": [
       "array([1, 0])"
      ]
     },
     "execution_count": 10,
     "metadata": {},
     "output_type": "execute_result"
    }
   ],
   "source": [
    "df_star[\"graduated\"].unique()"
   ]
  },
  {
   "attachments": {},
   "cell_type": "markdown",
   "id": "3a1cebaa-ba9e-4512-ad91-b963da0115a0",
   "metadata": {},
   "source": [
    "## Variabili Indipendenti e Variabili Dipendenti\n",
    "\n",
    "Nell’ambito della ricerca statistica, è fondamentale distinguere tra variabili indipendenti e dipendenti. Questa distinzione si basa sulla domanda di ricerca e sulla comprensione del fenomeno che si sta studiando.\n",
    "\n",
    "### Variabili Indipendenti\n",
    "Le variabili indipendenti, a volte chiamate variabili predittive, rappresentano i fattori che si ipotizza influenzino l’esito di interesse. Esse sono spesso manipolate o controllate dal ricercatore.\n",
    "\n",
    "### Variabili Dipendenti\n",
    "Le variabili dipendenti, d’altra parte, rappresentano l’esito o il risultato che si sta cercando di spiegare o prevedere. Esse sono ciò che il ricercatore sta cercando di capire e sono influenzate dalle variabili indipendenti.\n",
    "\n",
    "In molti studi, è abbastanza chiaro quali sono le variabili indipendenti e dipendenti. Tuttavia, in alcuni casi, la relazione può essere più sfumata o complessa. Ad esempio, nell’analizzare la correlazione tra l’esercizio fisico e l’insonnia, può non essere immediatamente evidente quale sia la causa e quale l’effetto. In tali circostanze, una comprensione delle relazioni causali inerenti il fenomeno considerato è necessaria per una corretta distinzione tra variabili indipendenti (cause) e dipendenti (effetti).\n",
    "\n",
    "**Esempio 5** Prendiamo in considerazione un esperimento in cui uno psicologo ha chiamato 120 studenti universitari per un test di memoria. Prima di iniziare, metà dei partecipanti è stata informata che il compito era particolarmente difficile, mentre all’altra metà non è stata fornita alcuna indicazione sulla difficoltà. Successivamente, è stato misurato il punteggio ottenuto nella prova di memoria da ciascun partecipante.\n",
    "\n",
    "In questo esperimento:\n",
    "- La variabile indipendente è l’informazione sulla difficoltà del compito, che è stata manipolata dallo sperimentatore attraverso l’assegnazione casuale dei soggetti alle due diverse condizioni (“informazione fornita” e “informazione non fornita”).\n",
    "- La variabile dipendente è il punteggio ottenuto nella prova di memoria, ovvero l’outcome che lo sperimentatore sta cercando di capire e che potrebbe essere influenzato dalla variabile indipendente.\n",
    "\n",
    "## Effetto\n",
    "\n",
    "Il concetto di “effetto” è fondamentale nell’analisi dei dati e nella statistica, poiché rappresenta una misura del cambiamento o dell’influenza tra le variabili. Ad esempio, consideriamo uno studio sulla memoria che indaga l’effetto delle mnemotecniche sul miglioramento della memoria. In questo studio, un gruppo riceve un intervento relativo al rilassamento, mentre un altro partecipa a un workshop di riorganizzazione mnemonica. Alla fine, i partecipanti vengono sottoposti a test di memoria e l’effetto delle mnemotecniche è determinato dalla differenza tra i punteggi medi dei due gruppi. Se il gruppo che ha seguito il workshop mostra un punteggio medio superiore, si può affermare che le mnemotecniche hanno un effetto positivo sulla memoria.\n",
    "\n",
    "L’effetto viene misurato attraverso diverse statistiche, come la differenza di medie, il rapporto di probabilità, ecc. Quando si analizzano i dati con metodi statistici, l’obiettivo è determinare se l’effetto osservato è credibile, ovvero se ci sono evidenze che l’effetto sia generalizzabile alla popolazione nel suo insieme. Questo aiuta a valutare l’importanza dell’effetto e a trarre conclusioni sulle relazioni tra le variabili nello studio.\n",
    "\n",
    "## Variabili Casuali\n",
    "\n",
    "Il concetto di variabile nella statistica trova un corrispondente nella teoria delle probabilità, dove è chiamato variabile casuale. Quando ci occupiamo di studi come quelli sugli interventi psicologici, le variabili casuali vengono utilizzate per rappresentare e misurare i risultati di tali interventi. In sostanza, una variabile casuale descrive una caratteristica specifica degli individui all’interno di una popolazione, e i suoi valori possono variare tra gli individui. Teoricamente, una variabile casuale può assumere una gamma di valori possibili, ma in pratica si osserva un valore specifico per ogni individuo.\n",
    "\n",
    "Utilizziamo notazioni particolari per riferirci alle variabili casuali e ai loro valori specifici. Ad esempio, le lettere maiuscole come $ X $ e $ Y $ denotano le variabili casuali, mentre le lettere minuscole come $ x $ e $ y $ si riferiscono ai valori che queste variabili possono assumere in circostanze specifiche.\n",
    "\n",
    "### Differenza tra Variabili Casuali e Variabili Statistiche\n",
    "\n",
    "La chiave per comprendere la differenza tra questi due concetti risiede nell’incertezza epistemica che il ricercatore affronta. Immaginiamo un esperimento casuale, come il lancio di un dado. Supponiamo che la variabile di interesse $ X $ rappresenti l’esito del lancio. Prima del lancio, $ X $ è una variabile casuale, poiché conosciamo i possibili valori che può assumere (da 1 a 6), ma non sappiamo quale valore specifico si manifesterà. In questo stadio, $ X $ rappresenta una quantità incognita, suscettibile di variazione casuale.\n",
    "\n",
    "Dopo il lancio, supponiamo che l’esito sia 5. A questo punto, la variabile $ X $ diventa una variabile statistica, poiché rappresenta un dato osservato e concreto all’interno del campione di osservazioni. L’incertezza è risolta, e il valore di $ X $ è ora noto e fisso.\n",
    "\n",
    "In sintesi, una variabile casuale rappresenta una quantità che può assumere diversi valori con una certa probabilità, mentre una variabile statistica è una realizzazione specifica di quella quantità incognita. La transizione da una variabile casuale a una variabile statistica avviene attraverso l’osservazione e la misurazione, che trasformano un’incertezza teorica in una certezza empirica.\n",
    "\n",
    "## Stima e Inferenza\n",
    "\n",
    "### Stima\n",
    "\n",
    "La stima è un concetto centrale in statistica che si riferisce al processo attraverso il quale si ottengono informazioni sulle caratteristiche di una popolazione intera basandosi sui dati di un campione estratto da essa. Ad esempio, calcolando la media o la mediana dei dati all’interno del campione, possiamo derivare stime per la media o la mediana della popolazione complessiva. Le caratteristiche che vogliamo conoscere della popolazione sono spesso chiamate “parametri”, e la stima può riguardare sia questi parametri sia la distribuzione di una variabile casuale nella popolazione.\n",
    "\n",
    "### Inferenza Statistica\n",
    "\n",
    "Dopo aver ottenuto queste stime, si passa al passaggio successivo: l’inferenza statistica. Questo processo va oltre la semplice stima e ci permette di trarre conclusioni più ampie sulla popolazione. L’inferenza statistica riguarda la valutazione di specifiche ipotesi o risposte a domande di ricerca relative alla popolazione, utilizzando le stime ottenute dal campione.\n",
    "\n",
    "Ad esempio, se abbiamo stimato la media dei redditi in un campione di famiglie, possiamo utilizzare l’inferenza statistica per testare se c’è una differenza significativa nei redditi tra diverse regioni o gruppi demografici all’interno della popolazione. In questo modo, l’inferenza statistica ci fornisce gli strumenti per fare previsioni e trarre conclusioni riguardanti la popolazione intera.\n",
    "\n",
    "### Approcci all'Inferenza Statistica\n",
    "\n",
    "Esistono vari approcci e metodologie per condurre l’inferenza statistica, tra cui due dei più comuni sono l’inferenza bayesiana e l’approccio frequentista. L’inferenza bayesiana si basa sull’uso di probabilità a priori e a posteriori, mentre l’approccio frequentista si basa su tecniche come i test d’ipotesi e gli intervalli di confidenza.\n",
    "\n",
    "In sintesi, la stima e l’inferenza statistica sono due fasi cruciali nell’analisi statistica. La stima ci permette di utilizzare i dati del campione per ottenere informazioni su specifiche caratteristiche della popolazione, mentre l’inferenza statistica ci consente di utilizzare quelle stime per fare affermazioni più generali e valutare ipotesi sulla popolazione nel suo insieme. Entrambi questi processi sono fondamentali per comprendere e interpretare i fenomeni che stiamo studiando.\n",
    "\n",
    "## Modelli Psicologici\n",
    "\n",
    "### Concetto di Modello\n",
    "\n",
    "In ambito statistico e nel campo della data science, un “modello” rappresenta una formulazione matematica semplificata di un fenomeno reale che si desidera studiare. Si tratta di un insieme di equazioni e ipotesi che delineano la struttura probabilistica e le relazioni tra le variabili, cercando di catturare gli aspetti essenziali del fenomeno senza rappresentarlo in ogni dettaglio. La scelta del modello specifico può dipendere dai dati disponibili, dalla domanda di ricerca e dall’obiettivo dell’analisi. Poiché spesso esistono diversi modelli che possono essere applicati allo stesso problema, la data science si pone il problema dell’identificazione del modello che meglio si adatta ai dati e che soddisfa certi criteri di validità e bontà.\n",
    "\n",
    "### Modelli in Psicologia\n",
    "\n",
    "Nel contesto della psicologia, la modellazione assume un ruolo fondamentale e particolarmente delicato. I modelli psicologici sono strumenti concettuali utilizzati per descrivere, spiegare e prevedere il comportamento umano e i processi mentali. Data la complessità e la variabilità dei fenomeni psicologici, la costruzione di modelli efficaci richiede un approccio rigoroso e multidimensionale. Un modello psicologico robusto e valido deve soddisfare diverse caratteristiche essenziali:\n",
    "\n",
    "1. **Coerenza descrittiva**: Il modello deve fornire una rappresentazione logica e internamente coerente del fenomeno studiato. Deve catturare gli elementi essenziali del processo psicologico in esame, offrendo una struttura concettuale che organizzi le osservazioni in modo significativo e comprensibile.\n",
    "2. **Capacità predittiva**: Un aspetto cruciale di un modello psicologico efficace è la sua abilità di formulare predizioni accurate sulle manifestazioni future del fenomeno. Questa caratteristica non solo aumenta l'utilità pratica del modello, ma fornisce anche un mezzo per testarne la validità.\n",
    "3. **Supporto empirico**: Il modello deve essere ancorato a solide prove empiriche. Ciò implica che le sue assunzioni e previsioni devono essere confermate da dati osservabili raccolti attraverso ricerche sistematiche e metodologicamente rigorose.\n",
    "4. **Falsificabilità**: Forse la caratteristica più critica, la falsificabilità, richiede che il modello sia costruito in modo da poter essere sottoposto a verifica o confutazione attraverso l'osservazione e l'esperimento. Questo principio, fondamentale per il metodo scientifico, assicura che il modello rimanga aperto al scrutinio critico e alla revisione basata su nuove evidenze.\n",
    "5. **Parsimonia**: Un buon modello psicologico dovrebbe essere parsimonioso. Dovrebbe spiegare il fenomeno nel modo più semplice possibile, evitando complessità non necessarie.\n",
    "6. **Generalizzabilità**: Il modello dovrebbe essere applicabile a una vasta gamma di situazioni e contesti, non solo a specifici casi o condizioni sperimentali.\n",
    "7. **Utilità pratica**: Infine, un modello psicologico efficace dovrebbe avere implicazioni pratiche, fornendo insights utili per interventi, terapie o applicazioni nel mondo reale.\n",
    "\n",
    "La modellazione in psicologia si trova spesso di fronte a sfide uniche dovute alla natura soggettiva e variabile dell'esperienza umana. I ricercatori devono bilanciare la necessità di precisione scientifica con la flessibilità richiesta per catturare la ricchezza e la complessità dei fenomeni psicologici. Inoltre, devono essere consapevoli dei limiti etici nella sperimentazione e delle potenziali implicazioni sociali dei loro modelli.\n",
    "\n",
    "La creazione e l'utilizzo di modelli in psicologia è un processo dinamico e iterativo. I modelli sono costantemente raffinati, testati e, se necessario, rivisti o sostituiti man mano che emergono nuove evidenze. Questo approccio assicura che la comprensione dei processi psicologici continui a evolvere e migliorare nel tempo.\n",
    "\n",
    "L’analisi dei dati, attraverso l’applicazione di tecniche statistiche, è il mezzo attraverso il quale un modello psicologico viene valutato. Oltre a determinare se il modello è in grado di spiegare i dati osservati, l’analisi può anche verificare la capacità del modello di fare previsioni accurate su dati non ancora osservati. In questo modo, la modellazione diventa uno strumento potente non solo per comprendere i fenomeni psicologici ma anche per prevedere e, in alcuni casi, influenzare il comportamento e le dinamiche mentali.\n",
    "\n",
    "In sintesi, un modello, sia in statistica che in psicologia, è uno strumento teorico che cerca di rappresentare un fenomeno complesso in una forma semplificata ma informativa, guidando la comprensione, la previsione e, in ultima analisi, l’intervento efficace su quel fenomeno. La scelta e la valutazione del modello giusto sono fondamentali per garantire che le conclusioni derivanti dall’analisi siano valide e utili nel contesto specifico."
   ]
  },
  {
   "cell_type": "markdown",
   "metadata": {},
   "source": [
    "## Informazioni sull'Ambiente di Sviluppo"
   ]
  },
  {
   "cell_type": "code",
   "execution_count": 3,
   "id": "b83e543c-cea5-458b-8942-d8e8d817920d",
   "metadata": {},
   "outputs": [
    {
     "name": "stdout",
     "output_type": "stream",
     "text": [
      "The watermark extension is already loaded. To reload it, use:\n",
      "  %reload_ext watermark\n",
      "Last updated: Tue Jul 23 2024\n",
      "\n",
      "Python implementation: CPython\n",
      "Python version       : 3.12.4\n",
      "IPython version      : 8.26.0\n",
      "\n",
      "Compiler    : Clang 16.0.6 \n",
      "OS          : Darwin\n",
      "Release     : 23.5.0\n",
      "Machine     : arm64\n",
      "Processor   : arm\n",
      "CPU cores   : 8\n",
      "Architecture: 64bit\n",
      "\n",
      "numpy : 1.26.4\n",
      "pandas: 2.2.2\n",
      "\n",
      "Watermark: 2.4.3\n",
      "\n"
     ]
    }
   ],
   "source": [
    "%load_ext watermark\n",
    "%watermark -n -u -v -iv -w -m"
   ]
  }
 ],
 "metadata": {
  "kernelspec": {
   "display_name": "Python 3",
   "language": "python",
   "name": "python3"
  },
  "language_info": {
   "codemirror_mode": {
    "name": "ipython",
    "version": 3
   },
   "file_extension": ".py",
   "mimetype": "text/x-python",
   "name": "python",
   "nbconvert_exporter": "python",
   "pygments_lexer": "ipython3",
   "version": "3.12.4"
  },
  "vscode": {
   "interpreter": {
    "hash": "aee8b7b246df8f9039afb4144a1f6fd8d2ca17a180786b69acc140d282b71a49"
   }
  }
 },
 "nbformat": 4,
 "nbformat_minor": 2
}
