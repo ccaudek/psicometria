{
 "cells": [
  {
   "cell_type": "markdown",
   "id": "4e70ad4a-7886-4dc6-800d-5ebcbc03e479",
   "metadata": {},
   "source": [
    "# Introduzione alla Data Analysis in Psicologia {#sec-scientific-method}"
   ]
  },
  {
   "cell_type": "markdown",
   "metadata": {},
   "source": [
    "**Prerequisiti**\n",
    "\n",
    "- Leggi *Statistical Rethinking* [@McElreath_rethinking]. Focalizzati sui primi capitoli dove si discute della dicotomia tra \"small world\" e \"big world\".\n",
    "- Leggi [What has happened down here is the winds have changed (Gelman 2016)](https://statmodeling.stat.columbia.edu/2016/09/21/what-has-happened-down-here-is-the-winds-have-changed/). Un post sul blog di Andrew Gelman che fornisce una panoramica sulla crisi di replicazione e su come le scienze sociali sono cambiate di conseguenza.\n",
    "- Leggi [Productive Explanation: A Framework for Evaluating Explanations in Psychological Science](https://psycnet.apa.org/fulltext/2025-04988-001.html). L'adozione di teorie formali è essenziale per affrontare la crisi di riproducibilità dei risultati nella ricerca psicologica.\n",
    "- Per chi è interessato a un romanzo su questi temi, sorprendentemente avvincente, consiglio *Quando abbiamo smesso di capire il mondo* di Benjamín Labatut [@labatut2021abbiamo].\n",
    "\n",
    "**Concetti e competenze chiave**\n",
    "\n",
    "- Emergere di \"Credibility Revolution\", \"Causal Revolution\" e \"Replication Crisis\" come cambiamento paradigmatico.\n",
    "- Proliferazione di falsi positivi, p-hacking, campioni sottodimensionati e mancanza di trasparenza.\n",
    "- Paradigma statistico che enfatizza l'aggiornamento delle priors e fornisce un framework flessibile per l'inferenza causale.\n",
    "- Interesse rinnovato nella verifica e sviluppo di modelli che superano la mera descrizione delle associazioni tra variabili.\n",
    "- Precisione, robustezza e rilevanza empirica come standard per le spiegazioni teoriche in psicologia.\n"
   ]
  },
  {
   "cell_type": "markdown",
   "metadata": {},
   "source": [
    "## Introduzione {.unnumbered}\n",
    "\n",
    "In questo breve capitolo introdurremo le idee che motivano questo corso: la \"Replication Crisis\" che ha reso necessaria una Riforma, la quale ha assunto le forme della \"Credibility Revolution\" e della \"Causal Revolution\". Questi movimenti hanno posto l'approccio Bayesiano al centro della riforma metodologica della psicologia e delle scienze sociali contemporanee.\n",
    "\n",
    "## La Riforma delle Scienze Sociali e della Psicologia\n",
    "\n",
    "Nel panorama contemporaneo delle scienze sociali e della psicologia, gli ultimi due decenni hanno visto l'emergere di una profonda trasformazione metodologica ed epistemologica, comunemente denominata \"Riforma\". Questo movimento, caratterizzato da concetti chiave quali \"Credibility Revolution\", \"Causal Revolution\" e \"Replication Crisis\", ha determinato un cambiamento paradigmatico nelle pratiche della scienza sociale quantitativa e, in particolare, della psicologia sperimentale. Questa transizione verso quella che @munger2023temporal definisce \"Science versione 2\" ha evidenziato le lacune metodologiche precedenti e ha catalizzato l'adozione di approcci più rigorosi e replicabili.\n",
    "\n",
    "La genesi di questa Riforma è radicata nella constatazione di problematiche metodologiche pervasive, tra cui la proliferazione di falsi positivi, l'abuso dei \"gradi di libertà dei ricercatori\" [@gelman2013garden], e l'inadeguatezza delle pratiche statistiche tradizionali. Fenomeni come il p-hacking, l'uso di campioni sottodimensionati, e la mancanza di trasparenza nei metodi di ricerca hanno contribuito a minare la credibilità delle scoperte psicologiche, portando alla cosiddetta \"Replication Crisis\" [@baker20161; @ioannidis2005most; @meehl1967theory; @open2015estimating].\n",
    "\n",
    "## L'Approccio Bayesiano come Risposta alla Crisi\n",
    "\n",
    "In risposta a queste sfide, l'approccio bayesiano è emerso come un paradigma statistico fondamentale nella \"Credibility Revolution\". Contrariamente all'inferenza frequentista basata sul Test dell'Ipotesi Nulla, la statistica bayesiana offre un framework più flessibile e intuitivo per l'analisi dei dati e l'inferenza causale. Il principio cardine dell'approccio bayesiano, l'aggiornamento delle distribuzioni di probabilità a priori (priors) alla luce di nuove evidenze, si allinea perfettamente con l'obiettivo di una scienza cumulativa e auto-correttiva.\n",
    "\n",
    "L'adozione di metodi bayesiani in psicologia comporta diversi vantaggi significativi:\n",
    "\n",
    "1. Quantificazione dell'incertezza: L'inferenza bayesiana fornisce distribuzioni di probabilità posteriori complete per i parametri di interesse, offrendo una rappresentazione più ricca e sfumata dell'incertezza rispetto agli intervalli di confidenza frequentisti.\n",
    "\n",
    "2. Incorporazione di conoscenze pregresse: Le priors bayesiane consentono l'integrazione formale di conoscenze precedenti nel processo inferenziale, promuovendo un approccio cumulativo alla ricerca.\n",
    "\n",
    "3. Robustezza alle pratiche di ricerca discutibili: I metodi bayesiani sono meno suscettibili a pratiche come il p-hacking, poiché l'inferenza si basa sull'intera distribuzione posteriore piuttosto che su soglie arbitrarie di significatività.\n",
    "\n",
    "4. Flessibilità nella modellazione: Il framework bayesiano si adatta naturalmente a modelli gerarchici e complessi, permettendo una rappresentazione più accurata dei fenomeni psicologici.\n",
    "\n",
    "## Data Science e Modellazione Formale in Psicologia\n",
    "\n",
    "La \"Credibility Revolution\" ha catalizzato l'integrazione della data science nelle pratiche di ricerca psicologica. L'adozione di pipeline di analisi dei dati riproducibili, l'uso di controllo di versione, e la condivisione aperta di dati e codice sono diventati standard de facto nella comunità scientifica. Questi strumenti non solo migliorano la trasparenza e la replicabilità della ricerca, ma facilitano anche la collaborazione e l'accumulo di conoscenze nel campo.\n",
    "\n",
    "Parallelamente, si è osservato un rinnovato interesse per la modellazione formale in psicologia, che consente non solo la verifica ma anche lo sviluppo di modelli dei meccanismi sottostanti ai fenomeni psicologici. Questo approccio supera la mera descrizione delle associazioni tra variabili, che era tipica della pratica dominante dell'ANOVA nel contesto pre-riforma. @van2024productive propone tre criteri fondamentali per la valutazione delle spiegazioni teoriche: precisione, robustezza e rilevanza empirica. \n",
    "\n",
    "- La precisione si riferisce alla specificità con cui una teoria è formulata. Una teoria precisa specifica chiaramente i suoi componenti e le relazioni tra di essi, riducendo le decisioni arbitrarie nella costruzione di modelli formali coerenti.\n",
    "- La robustezza misura la capacità dei modelli formali, coerenti con una teoria, di produrre il fenomeno di interesse in diverse condizioni. Una spiegazione robusta rimane valida sotto diverse condizioni e parametri, dimostrando la sua generalizzabilità.\n",
    "- La rilevanza empirica valuta quanto i componenti specifici di una teoria siano necessari per produrre il modello statistico del fenomeno osservato. Una teoria con alta rilevanza empirica richiede elementi teorici specifici per spiegare il fenomeno, non solo assunzioni di base.\n",
    "\n",
    "Questi criteri enfatizzano la necessità di teorie ben specificate, capaci di produrre predizioni consistenti in diverse condizioni, e le cui componenti siano empiricamente giustificate.\n",
    "\n",
    "La modellazione bayesiana si presta particolarmente bene a questo approccio, offrendo un framework unificato per la specificazione di modelli formali, l'incorporazione di incertezza parametrica, e la valutazione dell'evidenza empirica. Attraverso tecniche come il confronto tra modelli bayesiano e l'analisi di sensibilità, i ricercatori possono valutare rigorosamente la plausibilità relativa di diverse teorie psicologiche.\n",
    "\n",
    "## Riflessioni Epistemologiche\n",
    "\n",
    "L'adozione di metodi bayesiani e di data science in psicologia deve essere accompagnata da una profonda riflessione epistemologica. Come sottolineato da George Box\n",
    "\n",
    "> tutti i modelli sono sbagliati, ma alcuni sono utili. \n",
    "\n",
    "Questa massima risuona particolarmente nel contesto della ricerca psicologica, dove i fenomeni di interesse sono spesso complessi e multifattoriali.\n",
    "\n",
    "L'approccio bayesiano, con la sua enfasi sull'aggiornamento iterativo delle credenze alla luce di nuove evidenze, si allinea naturalmente con una visione della scienza come processo di apprendimento continuo piuttosto che come ricerca di verità assolute. Questa prospettiva riconosce i limiti intrinseci dei nostri modelli e delle nostre teorie, pur valorizzandone l'utilità euristica e predittiva.\n",
    "\n",
    "@McElreath_rethinking sottolinea l'importanza di riconoscere la dualità tra il \"mondo del modello\" e il mondo reale più ampio che cerchiamo di comprendere. Questa consapevolezza è cruciale per evitare la reificazione dei nostri modelli statistici e per mantenere una prospettiva critica sulle nostre inferenze.\n",
    "\n",
    "## Conclusione\n",
    "\n",
    "L'integrazione dell'approccio bayesiano e della data science nella ricerca psicologica rappresenta una risposta promettente alle sfide poste dalla \"Replication Crisis\". Offrendo un framework coerente per la modellazione formale, l'inferenza statistica e l'incorporazione di conoscenze pregresse, questi approcci promettono di elevare il rigore e la credibilità della ricerca psicologica.\n",
    "\n",
    "Tuttavia, è fondamentale che l'adozione di questi metodi sia accompagnata da una profonda consapevolezza metodologica ed epistemologica. Solo attraverso una riflessione critica continua sui nostri strumenti e sulle nostre pratiche possiamo sperare di costruire una scienza psicologica più robusta, replicabile e, in ultima analisi, più illuminante sulla natura della mente e del comportamento umano."
   ]
  }
 ],
 "metadata": {
  "language_info": {
   "name": "python"
  }
 },
 "nbformat": 4,
 "nbformat_minor": 2
}
