{
 "cells": [
  {
   "cell_type": "markdown",
   "id": "4e70ad4a-7886-4dc6-800d-5ebcbc03e479",
   "metadata": {},
   "source": [
    "# Il Ruolo della Data Science nella Psicologia {#sec-scientific-method}"
   ]
  },
  {
   "cell_type": "markdown",
   "metadata": {},
   "source": [
    "**Prerequisiti**\n",
    "\n",
    "- Leggi *Statistical Rethinking* [@McElreath_rethinking]. Focalizzati sui primi capitoli dove si discute della dicotomia tra \"small world\" e \"big world\".\n",
    "- Leggi [What has happened down here is the winds have changed (Gelman 2016)](https://statmodeling.stat.columbia.edu/2016/09/21/what-has-happened-down-here-is-the-winds-have-changed/). Un post sul blog di Andrew Gelman che fornisce una panoramica sulla crisi di replicazione e su come le scienze sociali sono cambiate di conseguenza.\n",
    "- Leggi [Productive Explanation: A Framework for Evaluating Explanations in Psychological Science](https://psycnet.apa.org/fulltext/2025-04988-001.html). L'adozione di teorie formali è essenziale per affrontare la crisi di riproducibilità dei risultati nella ricerca psicologica.\n",
    "- Per chi è interessato a un romanzo su questi temi, sorprendentemente avvincente, consiglio *Quando abbiamo smesso di capire il mondo* di Benjamín Labatut [@labatut2021abbiamo].\n",
    "\n",
    "**Concetti e competenze chiave**\n",
    "\n",
    "- Modelli come strumenti per esplorare e approfondire la comprensione del mondo.\n",
    "- Costruzione, test e revisione dei modelli per migliorare la conoscenza.\n",
    "- Importanza di considerare il contesto del modello e la realtà effettiva.\n",
    "- Valutare quanto i modelli insegnano sui dati e quanto i dati riflettono la realtà.\n"
   ]
  },
  {
   "cell_type": "markdown",
   "metadata": {},
   "source": [
    "## Introduzione {.unnumbered}\n",
    "\n",
    "La psicologia, come molte altre discipline scientifiche, ha affrontato sfide significative negli ultimi anni, in particolare per quanto riguarda la cosiddetta crisi della replicabilità [@baker20161; @open2015estimating; @ioannidis2005most]. Questa crisi ha messo in luce la necessità di pratiche di ricerca più robuste, trasparenti e riproducibili. In risposta a queste sfide, molti psicologi hanno adottato nuove metodologie e strumenti, e la data science è emersa come una componente cruciale per affrontare questi problemi e far progredire il campo.\n",
    "\n",
    "## La Crisi della Replicabilità in Psicologia\n",
    "\n",
    "La crisi della replicabilità si riferisce alla difficoltà di riprodurre o replicare i risultati di molti studi psicologici. Questo problema ha sollevato preoccupazioni sulla affidabilità e validità della ricerca psicologica, portando a una rivalutazione delle pratiche e delle metodologie di ricerca.\n",
    "\n",
    "Diversi fattori hanno contribuito a questa crisi. Tra questi, possiamo annoverare la tendenza a pubblicare prevalentemente risultati positivi, l'uso di campioni troppo piccoli che portano a studi con potenza statistica insufficiente, la mancanza di trasparenza nei metodi di ricerca e nella condivisione dei dati, e l'uso di pratiche di ricerca discutibili come il p-hacking. Inoltre, molti studi empirici si basavano su fondamenti teorici insufficienti, rendendo difficile l'interpretazione e la generalizzazione dei risultati [@nuzzo2014scientific].\n",
    "\n",
    "Per affrontare questi problemi, gli psicologi hanno implementato varie misure. Tra queste, la pre-registrazione degli studi è diventata una pratica sempre più comune. Questo approccio richiede ai ricercatori di specificare in anticipo i loro metodi e ipotesi, riducendo il rischio di bias nella segnalazione dei risultati. Inoltre, la condivisione aperta dei dati e del codice utilizzato nelle analisi è diventata una pratica incoraggiata, se non richiesta, da molte riviste scientifiche. Questa trasparenza permette ad altri ricercatori di verificare e replicare i risultati, aumentando la fiducia nelle scoperte pubblicate.\n",
    "\n",
    "Un'altra iniziativa importante è stata l'avvio di sforzi di replicazione su larga scala. Questi progetti coinvolgono numerosi laboratori che lavorano insieme per replicare studi importanti, fornendo una valutazione più robusta della validità dei risultati originali [@mcshane2019large]. Parallelamente, c'è stata una maggiore enfasi sull'uso di pratiche statistiche migliorate, come l'attenzione alle dimensioni dell'effetto e agli intervalli di credibilità, piuttosto che concentrarsi esclusivamente sulla significatività statistica.\n",
    "\n",
    "## La Necessità della Data Science in Psicologia\n",
    "\n",
    "In questo contesto di crisi e rinnovamento, la data science è emersa come uno strumento critico per affrontare la crisi della replicabilità e far progredire la ricerca psicologica. L'integrazione della data science nella ricerca psicologica offre numerosi vantaggi che vanno oltre le pratiche statistiche tradizionali.\n",
    "\n",
    "In primo luogo, le tecniche di data science forniscono metodi più sofisticati per l'analisi di dataset complessi. Questo permette ai ricercatori di estrarre insight significativi e pattern che potrebbero essere sfuggiti agli approcci statistici tradizionali. Ad esempio, l'uso di tecniche di machine learning può rivelare relazioni non lineari tra variabili o identificare sottogruppi all'interno di campioni più ampi, portando a una comprensione più sfumata dei fenomeni psicologici.\n",
    "\n",
    "Un altro vantaggio significativo dell'adozione delle pratiche di data science è il miglioramento della riproducibilità della ricerca. L'uso di strumenti come il controllo di versione, l'elaborazione automatizzata dei dati e pipeline di analisi riproducibili permette ai ricercatori di garantire che il loro lavoro sia più facilmente verificabile e replicabile da altri. Questo non solo aumenta la fiducia nei risultati pubblicati, ma facilita anche la collaborazione e l'accumulo di conoscenze nel campo.\n",
    "\n",
    "La capacità della data science di gestire e analizzare dataset su larga scala apre anche nuove strade per la ricerca psicologica. Con l'aumento della disponibilità di dati provenienti da fonti diverse come social media, dispositivi indossabili e registrazioni comportamentali in tempo reale, i ricercatori possono studiare pattern comportamentali complessi e integrare fonti di dati diverse in modi precedentemente impossibili. Questo permette di affrontare questioni di ricerca su scala più ampia e con maggiore granularità.\n",
    "\n",
    "Infine, le tecniche di data science permettono lo sviluppo di modelli predittivi, che possono aiutare a validare teorie e generare nuove ipotesi nella ricerca psicologica. Questi modelli non solo forniscono insight sui meccanismi sottostanti i fenomeni psicologici, ma possono anche avere applicazioni pratiche in settori come la psicologia clinica e delle organizzazioni.\n",
    "\n",
    "## Teorie e Modelli Formali in Psicologia\n",
    "\n",
    "Mentre l'affrontare le questioni empiriche è cruciale, c'è anche la necessità di basi teoriche più solide in psicologia. Le teorie e i modelli formali giocano un ruolo vitale in questo contesto. Le teorie formali forniscono un quadro preciso per descrivere le relazioni tra variabili, riducendo l'ambiguità e l'arbitrarietà nell'interpretazione dei risultati. Permettono di formulare previsioni chiare e verificabili, e consentono una valutazione rigorosa delle spiegazioni teoriche.\n",
    "\n",
    "La valutazione delle spiegazioni teoriche in psicologia può basarsi su criteri chiave come la precisione, la robustezza e la rilevanza empirica [@van2024productive]. La precisione si riferisce alla specificità con cui una teoria è formulata. Una teoria precisa specifica chiaramente i suoi componenti e le relazioni tra di essi, riducendo le decisioni arbitrarie nella costruzione di modelli formali coerenti.\n",
    "\n",
    "La robustezza misura la capacità dei modelli formali, coerenti con una teoria, di produrre il fenomeno di interesse in diverse condizioni. Una spiegazione robusta rimane valida sotto diverse condizioni e parametri, dimostrando la sua generalizzabilità.\n",
    "\n",
    "La rilevanza empirica valuta quanto i componenti specifici di una teoria siano necessari per produrre il modello statistico del fenomeno osservato. Una teoria con alta rilevanza empirica richiede elementi teorici specifici per spiegare il fenomeno, non solo assunzioni di base.\n",
    "\n",
    "## I Modelli come Strumenti per Comprendere la Realtà\n",
    "\n",
    "È importante riconoscere che i modelli scientifici, inclusi quelli in psicologia, sono strumenti essenziali per comprendere il mondo che ci circonda, ma non sono descrizioni \"vere\" della realtà. Sono piuttosto rappresentazioni che ci permettono di esplorare, testare e approfondire la nostra conoscenza dei fenomeni naturali.\n",
    "\n",
    "Il processo di costruzione, test e revisione dei modelli è spesso più prezioso del risultato finale. Questo processo iterativo ci permette di affinare progressivamente la nostra comprensione, mettendo alla prova le nostre ipotesi e scoprendo i limiti delle nostre teorie. È attraverso questo ciclo di ipotesi, test e revisione che la scienza progredisce.\n",
    "\n",
    "È anche fondamentale riconoscere la dualità tra il \"mondo del modello\" - il contesto specifico in cui il modello opera - e il mondo reale più ampio di cui vogliamo parlare [@McElreath_rethinking]. I dataset su cui addestriamo i modelli spesso non sono completamente rappresentativi delle popolazioni reali in certi aspetti. Questo non significa che i modelli addestrati su tali dati siano privi di valore, ma richiede una consapevolezza critica dei loro limiti e delle loro applicazioni.\n",
    "\n",
    "## Il Ruolo della Statistica nel Processo Scientifico\n",
    "\n",
    "La statistica e la data science giocano un ruolo fondamentale nel processo scientifico moderno, particolarmente in psicologia. Tuttavia, è importante considerare alcune sfumature. La validità statistica si basa su determinate assunzioni che potrebbero non essere sempre soddisfatte nei contesti di ricerca specifici. Mentre ciò che viene insegnato nella teoria statistica è corretto, le circostanze specifiche della ricerca potrebbero non soddisfare i criteri di partenza.\n",
    "\n",
    "Inoltre, il processo scientifico reale è spesso più complesso del percorso lineare presentato in teoria. Gli scienziati reagiscono agli incentivi, fanno tentativi, formulano ipotesi e seguono la loro intuizione, spesso superando le metodologie convenzionali per giungere a scoperte innovative. Mentre è fondamentale una comprensione approfondita dei concetti statistici e metodologici, è altrettanto importante sviluppare la capacità di riconoscere quando è necessario andare oltre le metodologie convenzionali per perseguire nuove intuizioni o approcci.\n",
    "\n",
    "## Implicazioni Epistemologiche\n",
    "\n",
    "L'uso della data science e dei modelli in psicologia ha diverse implicazioni epistemologiche. In primo luogo, è importante riconoscere che i modelli sono strumenti di apprendimento piuttosto che rappresentazioni definitive della realtà. Il loro valore risiede nella loro capacità di generare intuizioni, testare ipotesi e guidare ulteriori indagini.\n",
    "\n",
    "In secondo luogo, il processo scientifico, attraverso l'uso di modelli e tecniche di data science, è caratterizzato da un ciclo continuo di ipotesi, test e revisione. Questo approccio iterativo permette un raffinamento progressivo della nostra comprensione, ma richiede anche una costante vigilanza contro la tendenza a reificare i nostri modelli o a confonderli con la realtà che cercano di rappresentare.\n",
    "\n",
    "Infine, una comprensione critica dei modelli richiede una costante consapevolezza dei loro limiti, delle assunzioni sottostanti e del contesto in cui sono stati sviluppati. Questa consapevolezza non diminuisce il valore dei modelli, ma ci permette di utilizzarli in modo più efficace e responsabile.\n",
    "\n",
    "## Conclusione\n",
    "\n",
    "La data science gioca un ruolo cruciale nell'affrontare la crisi della replicabilità in psicologia e nel far progredire il rigore scientifico del campo. Fornendo strumenti per un'analisi dei dati migliorata, una maggiore riproducibilità e lo sviluppo di teorie formali, la data science contribuisce a una scienza psicologica più robusta e affidabile.\n",
    "\n",
    "Tuttavia, è essenziale mantenere una prospettiva critica sui limiti e le assunzioni sottostanti ai nostri modelli e alle nostre analisi. Mentre la psicologia continua a evolversi, l'integrazione delle metodologie di data science sarà vitale per garantire la validità scientifica e la rilevanza del campo. Allo stesso tempo, questa integrazione deve essere guidata da una solida base teorica e da una comprensione profonda dei fenomeni psicologici che cerchiamo di studiare.\n",
    "\n",
    "In definitiva, la combinazione di robusti metodi di data science con una solida teoria psicologica offre la promessa di una comprensione più profonda e affidabile del comportamento umano e dei processi mentali. "
   ]
  }
 ],
 "metadata": {
  "language_info": {
   "name": "python"
  }
 },
 "nbformat": 4,
 "nbformat_minor": 2
}
