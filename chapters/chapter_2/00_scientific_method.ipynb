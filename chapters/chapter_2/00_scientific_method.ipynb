{
 "cells": [
  {
   "cell_type": "markdown",
   "id": "4e70ad4a-7886-4dc6-800d-5ebcbc03e479",
   "metadata": {},
   "source": [
    "# La scienza dei dati e il metodo scientifico {#sec-scientific-method}"
   ]
  },
  {
   "cell_type": "markdown",
   "id": "ee0d810e-df5a-4bab-aadf-8b7f863090f7",
   "metadata": {},
   "source": [
    "## Strumenti per Comprendere il Reale\n",
    "\n",
    "I modelli scientifici sono strumenti essenziali per la comprensione del mondo che ci circonda. Essi non sono delle descrizioni \"vere\" della realtà, ma piuttosto rappresentazioni che ci permettono di esplorare, testare e approfondire la nostra conoscenza dei fenomeni naturali.\n",
    "\n",
    "1. **Natura esplorativa dei modelli**: Utilizziamo i modelli per sondare, valutare e testare i limiti della nostra comprensione. Li costruiamo, ammiriamo la loro bellezza, ma anche cerchiamo di comprenderne i limiti e, in ultima analisi, di superarli. È questo processo di costruzione, test e revisione che ci permette di migliorare la nostra comprensione del mondo, non necessariamente il risultato finale, anche se talvolta possono coincidere [@vasishth2021embrace].\n",
    "\n",
    "2. **Dualità tra mondo del modello e mondo reale**: Nella costruzione dei modelli, è fondamentale tenere presente sia il \"mondo del modello\" - cioè il contesto specifico in cui il modello opera - sia il mondo reale più ampio di cui vogliamo parlare [@McElreath_rethinking]. I dataset su cui addestriamo i modelli spesso non sono rappresentativi delle popolazioni reali in certi aspetti. I modelli addestrati su tali dati non sono privi di valore, ma non sono nemmeno infallibili.\n",
    "\n",
    "3. **Questioni critiche da considerare**:\n",
    "   - In che misura il modello ci insegna qualcosa sui dati che abbiamo?\n",
    "   - In che misura i dati che abbiamo riflettono il mondo su cui vorremmo trarre conclusioni?\n",
    "\n",
    "Queste domande devono essere sempre in primo piano nella nostra mente quando lavoriamo con i modelli scientifici [@Johnson2022bayesrules].\n",
    "\n",
    "## Il Ruolo della Statistica e della Data Science\n",
    "\n",
    "La statistica e la data science giocano un ruolo fondamentale nel processo scientifico moderno. Tuttavia, è importante comprendere alcune sfumature:\n",
    "\n",
    "1. **Validità statistica e assunzioni**: La validità statistica si basa su determinate assunzioni. Mentre ciò che viene insegnato nella teoria statistica è corretto, le nostre circostanze specifiche potrebbero non soddisfare i criteri di partenza. È essenziale essere consapevoli di queste limitazioni quando applichiamo metodi statistici.\n",
    "\n",
    "2. **Processo scientifico reale vs. ideale**: Un ulteriore aspetto da considerare riguarda la discrepanza tra l'insegnamento teorico della statistica e la sua applicazione pratica nella ricerca. L'approccio didattico tradizionale presenta spesso un processo lineare e ordinato: formulazione dell'ipotesi, raccolta dati, analisi statistica e conclusione. La realtà della ricerca, tuttavia, si rivela notevolmente più complessa e dinamica. Gli scienziati reagiscono a incentivi, fanno tentativi, formulano ipotesi e seguono la loro intuizione, colmando le lacune quando necessario. Questo approccio euristico, sebbene possa sembrare caotico, è spesso il terreno fertile per scoperte innovative. Questa metodologia più flessibile, tuttavia, pone sfide significative all'applicazione rigorosa dei concetti statistici tradizionali. Anche se è fondamentale una comprensione approfondita di questi concetti, è altrettanto importante sviluppare la capacità di riconoscere quando è necessario andare oltre le metodologie convenzionali.\n",
    "\n",
    "## Implicazioni Epistemologiche\n",
    "\n",
    "1. **Modelli come strumenti di apprendimento**: I modelli non sono rappresentazioni definitive della realtà, ma strumenti che ci permettono di apprendere le caratteristiche del reale. Il loro valore risiede nel processo di costruzione, test e revisione, piuttosto che nel risultato finale.\n",
    "\n",
    "2. **Limiti della rappresentazione**: È fondamentale riconoscere che i modelli, per quanto sofisticati, sono sempre approssimazioni della realtà. La loro utilità non sta nella perfezione della rappresentazione, ma nella capacità di generare intuizioni e previsioni utili.\n",
    "\n",
    "3. **Iterazione e miglioramento continuo**: Il processo scientifico, attraverso l'uso di modelli, è caratterizzato da un ciclo continuo di ipotesi, test e revisione. Questo approccio iterativo permette un raffinamento progressivo della nostra comprensione.\n",
    "\n",
    "4. **Consapevolezza dei limiti**: Una comprensione critica dei modelli richiede una costante consapevolezza dei loro limiti, delle assunzioni sottostanti e del contesto in cui sono stati sviluppati.\n",
    "\n",
    "In conclusione, i modelli scientifici sono strumenti potenti per esplorare e comprendere la realtà, ma la loro vera forza risiede nel processo di indagine che stimolano, piuttosto che nelle singole rappresentazioni che producono. La data science e la statistica forniscono il quadro metodologico per questo processo, ma è fondamentale mantenere una prospettiva critica e consapevole dei limiti e delle assunzioni su cui si basano i nostri modelli e le nostre analisi."
   ]
  }
 ],
 "metadata": {
  "language_info": {
   "name": "python"
  }
 },
 "nbformat": 4,
 "nbformat_minor": 2
}
