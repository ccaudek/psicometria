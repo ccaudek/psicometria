{
 "cells": [
  {
   "attachments": {},
   "cell_type": "markdown",
   "id": "a3cb7587-2a6e-471e-bf3e-87b9f8e4ce87",
   "metadata": {},
   "source": [
    "# Variabili casuali {#sec-intro_random_var}\n",
    "\n",
    "![](../../figures/art_11.png){ width=40% } "
   ]
  },
  {
   "cell_type": "markdown",
   "metadata": {},
   "source": [
    "**Prerequisiti**\n",
    "\n",
    "Prima di procedere con il presente capitolo, è essenziale leggere l'@sec-calculus.\n",
    "\n",
    "**Concetti e competenze chiave**\n",
    "\n",
    "- Definizione e comprensione delle variabili casuali discrete e continue, e delle loro distribuzioni di probabilità.\n",
    "- Calcolo e interpretazione del valore atteso per variabili casuali discrete e continue.\n",
    "- Calcolo e comprensione della varianza e della deviazione standard per variabili casuali discrete e continue.\n",
    "\n",
    "**Preparazione del Notebook**"
   ]
  },
  {
   "cell_type": "code",
   "execution_count": 1,
   "id": "f9062952-fd0c-42b2-89d7-a846b5df20e1",
   "metadata": {},
   "outputs": [],
   "source": [
    "import pandas as pd\n",
    "import numpy as np\n",
    "from matplotlib import pyplot as plt\n",
    "import matplotlib.patches as patches\n",
    "import itertools as it\n",
    "import math\n",
    "import random\n",
    "import scipy.stats as stats\n",
    "import arviz as az\n",
    "import seaborn as sns\n",
    "from collections import Counter"
   ]
  },
  {
   "cell_type": "code",
   "execution_count": 2,
   "id": "411ea339-b042-4413-8c2a-db100ba0d0fb",
   "metadata": {},
   "outputs": [],
   "source": [
    "seed: int = sum(map(ord, \"random_variables\"))\n",
    "rng: np.random.Generator = np.random.default_rng(seed=seed)\n",
    "sns.set_theme(palette=\"colorblind\")\n",
    "az.style.use(\"arviz-darkgrid\")\n",
    "%config InlineBackend.figure_format = \"retina\""
   ]
  },
  {
   "cell_type": "markdown",
   "metadata": {},
   "source": [
    "## Introduzione {.unnumbered}\n",
    "\n",
    "In questo capitolo, introdurremo il concetto di variabili casuali e delle loro distribuzioni di probabilità, ampliando ulteriormente l'ambito delle analisi matematiche degli eventi considerati finora.\n",
    "\n",
    "## Variabili Aleatorie e Spazi di Probabilità\n",
    "\n",
    "Le variabili aleatorie sono uno strumento fondamentale nella teoria della probabilità. Esse ci permettono di passare da risultati qualitativi (come $X = \\{\\Box, \\clubsuit, \\diamondsuit, \\heartsuit, \\spadesuit\\}$) a valori numerici, facilitando l'analisi matematica.\n",
    "\n",
    "::: {#def-}\n",
    "Una variabile aleatoria reale $V$ è definita come una funzione misurabile che mappa uno spazio di probabilità $(\\Omega, \\mathcal{F}_\\Omega, {\\Pr}_V)$ nell'insieme dei numeri reali $\\mathbb{R}$, dotato di una $\\sigma$-algebra $\\mathcal{A}$. In formula:\n",
    "\n",
    "$$\n",
    "V: (\\Omega, \\mathcal{F}_\\Omega, {\\Pr}_V) \\rightarrow (\\mathbb{R}, \\mathcal{A}),\n",
    "$$\n",
    "\n",
    "dove\n",
    "\n",
    "- $\\Omega$ è lo spazio campionario, ovvero l'insieme di tutti i possibili risultati dell'esperimento.\n",
    "- $\\mathcal{F}_\\Omega$ è una $\\sigma$-algebra su $\\Omega$, cioè una collezione di sottoinsiemi di $\\Omega$ che rispetta certe proprietà matematiche.\n",
    "- ${\\Pr}_V$ è la misura di probabilità, che assegna una probabilità a ciascun evento in $\\mathcal{F}_\\Omega$.\n",
    "- $\\mathbb{R}$ è l'insieme dei numeri reali.\n",
    "- $\\mathcal{A}$ è una $\\sigma$-algebra su $\\mathbb{R}$, che include tutti gli insiemi aperti.\n",
    ":::\n",
    "\n",
    "## Misurabilità\n",
    "\n",
    "La misurabilità è una proprietà fondamentale delle variabili aleatorie. Una variabile aleatoria $V$ è detta $(\\mathcal{F}_\\Omega, \\mathcal{A})$-misurabile se soddisfa la seguente condizione:\n",
    "\n",
    "- Per ogni insieme $B$ in $\\mathcal{A}$, l'insieme $\\{\\omega \\in \\Omega : V(\\omega) \\in B\\}$ appartiene a $\\mathcal{F}_\\Omega$.\n",
    "\n",
    "In termini più semplici, questo significa che possiamo calcolare la probabilità di qualsiasi evento definito in termini della variabile aleatoria $V$.\n",
    "\n",
    "![Variabile aleatoria. Tre elementi di $\\Omega$ etichettati come $\\omega_a$, $\\omega_b$ e $\\omega_c$ sono assegnati a quantità numeriche reali sotto la variabile aleatoria $V$.](../../figures/rv.png){ width=80% }\n",
    "\n",
    "Questa figura illustra come una variabile aleatoria $V$ associa valori numerici reali a elementi dello spazio campionario $\\Omega$.\n",
    "\n",
    "Le variabili aleatorie forniscono un ponte tra il mondo degli eventi casuali e quello dei numeri. Questo processo di assegnazione di numeri a stati semplifica notevolmente l'analisi dei dati, permettendoci di applicare concetti matematici e statistici agli eventi del mondo reale. In generale, le variabili aleatorie vengono utilizzate principalmente in due modi:\n",
    "\n",
    "1. **Modellazione delle conoscenze (osservazioni)**: Le variabili aleatorie aiutano a quantificare e strutturare le informazioni raccolte da esperimenti o studi.\n",
    "2. **Modellazione delle incognite (variabili latenti, parametri, predizioni)**: Le variabili aleatorie rappresentano ciò che non sappiamo o che vogliamo prevedere, come i parametri nascosti di un modello o i futuri esiti di un esperimento.\n",
    "\n",
    "::: {#exm-1}\n",
    "Consideriamo l'esperimento casuale del lancio di una moneta. Ogni volta che lanciamo la moneta, otteniamo un risultato specifico: testa o croce. Questi risultati sono gli esiti reali che possiamo osservare. In matematica e statistica, ci interessa analizzare tutti i possibili risultati in modo strutturato. Le variabili aleatorie ci permettono di trasformare questi esiti in valori numerici utilizzabili nei calcoli; per esempio, possiamo assegnare il numero 1 a testa e il numero 0 a croce.\n",
    ":::\n",
    "\n",
    "::: {#exm-2}\n",
    "Un altro esempio è la variabile aleatoria $Y$ che rappresenta il risultato di un lancio di dado. Se definiamo $Y = 1$ per indicare che il risultato del lancio è un numero dispari (1, 3 o 5) e $Y = 0$ per indicare che il risultato del lancio è un numero pari (2, 4 o 6), abbiamo trasformato un'osservazione fisica (il lancio del dado) in un valore numerico che rappresenta un certo tipo di evento.\n",
    ":::\n",
    "\n",
    "## Tipologie di Variabili Aleatorie\n",
    "\n",
    "Le variabili aleatorie si dividono in due categorie principali:\n",
    "\n",
    "- **Discrete**: Queste variabili possono assumere solo un numero limitato di valori distinti e contabili. Un esempio è il numero di libri letti in un mese.\n",
    "- **Continue**: Queste variabili possono assumere qualsiasi valore in un intervallo. Un esempio è la temperatura di un giorno, che può variare continuamente e assumere un numero infinito di valori all'interno di un dato range.\n",
    "\n",
    "In sintesi, le variabili aleatorie ci permettono di modellare e analizzare matematicamente la complessità e l'incertezza del mondo reale, fornendo un ponte tra le osservazioni empiriche e la teoria statistica.\n",
    "\n",
    "## Convenzioni Notazionali\n",
    "\n",
    "Nella teoria della probabilità, è usuale adottare una specifica convenzione di notazione per le variabili casuali e i loro esiti. Comunemente, si utilizzano le lettere maiuscole, come 'X', per indicare una variabile casuale, ovvero un concetto che rappresenta una serie di possibili esiti di un fenomeno aleatorio. D'altro canto, la corrispondente lettera minuscola, 'x' nel nostro esempio, è impiegata per denotare una specifica realizzazione o un esito particolare che la variabile casuale può assumere. Questa distinzione aiuta a chiarire se si sta parlando della variabile casuale nel suo insieme (X) o di un suo specifico valore (x).\n",
    "\n",
    "Ulteriori convenzioni di notazione includono:\n",
    "\n",
    "- 'X' è spesso usata per rappresentare variabili casuali non osservate, come parametri sconosciuti o variabili latenti di un modello.\n",
    "- 'Y', al contrario, è generalmente riservata a variabili casuali osservate, ovvero dati che sono stati effettivamente raccolti o misurati in un esperimento"
   ]
  },
  {
   "cell_type": "markdown",
   "id": "9f20f387-db6d-4d01-962c-ff6c9449b173",
   "metadata": {},
   "source": [
    "## Variabili casuali multiple\n",
    "\n",
    "Nella teoria della probabilità, le variabili casuali spesso non operano in isolamento ma in contesti dove interagiscono o si combinano tra loro. Per esemplificare, immaginiamo di avere una moneta perfettamente bilanciata e di decidere di lanciarla tre volte. Ogni lancio di questa moneta può essere descritto da una variabile casuale separata: $Y_1$, $Y_2$, e $Y_3$. Queste variabili rappresentano i risultati dei lanci individuali, e ogni lancio è considerato indipendente dagli altri. Ciò significa che l'esito di un lancio non influisce sugli esiti degli altri. Poiché la moneta è bilanciata, la probabilità di ottenere testa (che possiamo rappresentare come 1) o croce (rappresentata come 0) in ogni lancio è del 50%, dunque abbiamo $P(Y_n = 1) = 0.5$ e $P(Y_n = 0) = 0.5$, per $n$ uguale a 1, 2 o 3.\n",
    "\n",
    "Quando combiniamo variabili casuali attraverso operazioni aritmetiche, possiamo creare nuove variabili che offrono ulteriori insight. Prendiamo, per esempio, i tre lanci della moneta bilanciata menzionati prima. Se definiamo $Y_1$, $Y_2$, e $Y_3$ come i risultati di questi lanci, possiamo introdurre una nuova variabile casuale $Z$ che rappresenta la somma dei risultati:\n",
    "\n",
    "$$\n",
    "Z = Y_1 + Y_2 + Y_3.\n",
    "$$\n",
    "\n",
    "La variabile $Z$ è un esempio di variabile casuale discreta, il che significa che può assumere solo valori interi specifici. A differenza delle variabili continue che possono assumere qualsiasi valore in un intervallo, $Z$ può solo risultare in una serie limitata di numeri interi, che nel contesto dei nostri lanci di moneta sono i possibili totali di testa ottenuti nei tre tentativi. La notazione $\\mathbb{Z}$ qui è un po' fuorviante poiché sembra riferirsi all'insieme di tutti i numeri interi, ma nel contesto specifico di $Z$ come somma dei risultati di tre lanci di moneta, i valori possibili di $Z$ vanno da 0 (nessun testa in tre lanci) a 3 (testa in tutti e tre i lanci), rendendo $Z$ una variabile che riflette il numero totale di testa ottenuti."
   ]
  },
  {
   "attachments": {},
   "cell_type": "markdown",
   "id": "855d1f39-ee47-4c89-9770-f40e5736f28f",
   "metadata": {},
   "source": [
    "## Distribuzione di Probabilità {#sec-fun-mass-prob}\n",
    "\n",
    "Il concetto di distribuzione di probabilità è fondamentale per analizzare come le probabilità si distribuiscono tra i vari esiti possibili di una variabile casuale. Questo concetto varia a seconda che stiamo considerando variabili casuali discrete o continue.\n",
    "\n",
    "### Variabili Casuali Discrete\n",
    "\n",
    "Per le variabili casuali discrete, che assumono valori specifici e contabili (come il lancio di un dado), la distribuzione di probabilità è rappresentata dalla cosiddetta funzione di massa di probabilità, spesso abbreviata come $P(\\cdot)$. Questa funzione attribuisce una probabilità precisa a ciascun esito possibile della variabile.\n",
    "\n",
    "Mentre nel @sec-prob-spaces abbiamo discusso la distribuzione di probabilità in relazione agli eventi di uno spazio campionario, nel caso delle variabili casuali discrete l'intera probabilità (pari a 1) viene distribuita tra i valori numerici che la variabile casuale discreta può assumere.\n",
    "\n",
    "Prendendo come esempio il lancio di un dado equilibrato, se ci concentriamo sul risultato \"1\", la funzione di massa di probabilità potrebbe essere espressa come $P(Y = 1) = \\frac{1}{6}$. Questo indica che, in una serie di lanci indipendenti, il risultato \"1\" si verificherebbe circa una volta su sei.\n",
    "\n",
    "#### Istogrammi\n",
    "\n",
    "La visualizzazione dell'allocazione delle probabilità tra i valori di una variabile casuale discreta viene realizzata mediante un istogramma. Gli istogrammi sono estremamente utili per comunicare rapidamente alcune delle caratteristiche chiave di una distribuzione di probabilità. Ad esempio, gli istogrammi ci permettono di differenziare tra allocazioni che si concentrano attorno a un punto, chiamate misure *unimodali*, o allocazioni che si concentrano attorno a più punti, chiamate misure *multimodali*. Allo stesso tempo, possiamo vedere come una misura si concentra attorno a un punto, ad esempio se la concentrazione è simmetrica o asimmetrica verso valori più piccoli o più grandi.\n",
    "\n",
    "::: {#fig-hist-examples layout=\"[ [-10, 40, 40, -10], [-10, 40, 40, -10] ]\"}\n",
    "![](../../figures/histograms/varying_behaviors/diffuse/diffuse){#fig-hist-diffuse}\n",
    "\n",
    "![](../../figures/histograms/varying_behaviors/unimodal/unimodal){#fig-hist-unimodal}\n",
    "\n",
    "![](../../figures/histograms/varying_behaviors/unimodal_skewed/unimodal_skewed){#fig-hist-unimodal}\n",
    "\n",
    "![](../../figures/histograms/varying_behaviors/multimodal/multimodal){#fig-hist-multimodal}\n",
    "\n",
    "Gli istogrammi sono estremamente efficaci nel comunicare le caratteristiche di base di una misura. La misura in (a) è diffusa ma decrescente, allocando più probabilità ai punti più piccoli rispetto ai punti più grandi. Al contrario, la misura in (b) si concentra attorno a un singolo punto mentre la misura in (c) si concentra attorno a più punti distinti. Infine, la misura in (d) si concentra attorno a un singolo punto, ma quella concentrazione è fortemente asimmetrica, a differenza della concentrazione in (b).\n",
    ":::\n",
    "\n",
    "Per le variabili casuali discrete possiamo sempre regolare i bin di un istogramma in modo che ciascun bin copra un singolo valore della variabile casuale. In questo caso, l'altezza di ciascun bin corrisponde a $\\mu(\\{ x \\})$ e l'istogramma risultante è una rappresentazione visiva della funzione di massa di probabilità.\n",
    "\n",
    "### Variabili Casuali Continue\n",
    "\n",
    "Nel caso delle variabili casuali continue, che possono assumere un'infinità di valori all'interno di un intervallo, si utilizza la funzione di densità di probabilità, indicata con $p(\\cdot)$. Questa funzione non assegna probabilità a valori puntuali (poiché la probabilità di un singolo valore esatto è zero), ma determina la probabilità che la variabile si collochi entro un certo intervallo di valori.\n",
    "\n",
    "Anche per una variabile casuale continua possiamo rappresentare visivamente la distribuzione di probabilità con un istogramma. In questo caso, però, i bin dell'istogramma devono sempre contenere intervalli di valori della variabile casuale. Un istogramma con bin più piccoli comunica maggiori dettagli sulla funzione di densità di probabilità. Se rendiamo i bin infinitamente piccoli, il profilo dell'istogramma tende a coincidere con la funzione di densità di probabilità della variabile casuale.\n",
    "\n",
    "![Istogrammi di una variabile casuale continua con bin di dimensioni progressivamente ridotte. Al limite, il profilo dell'istogramma tende a diventare una linea continua.](../../figures/histograms/varying_binning/varying_binning){width=90% #fig-hist-binning}\n",
    "\n",
    "### Supporto della Variabile Casuale\n",
    "\n",
    "Il concetto di supporto di una variabile casuale si riferisce all'insieme di tutti i valori che la variabile può effettivamente assumere. Per esempio, il supporto di un dado standard a sei facce è l'insieme $\\{1, 2, 3, 4, 5, 6\\}$, mentre per una variabile casuale che segue una distribuzione continua, come quella gaussiana, il supporto potrebbe essere l'intero insieme dei numeri reali.\n",
    "\n",
    "### Assegnazione di Probabilità\n",
    "\n",
    "Per le variabili casuali discrete, è essenziale specificare la probabilità di ogni valore possibile per definire la loro distribuzione di probabilità in modo completo. Per le variabili continue, invece, ci affidiamo alla densità di probabilità per capire la probabilità che la variabile rientri in specifici intervalli di valori.\n",
    "\n",
    "In conclusione, la distribuzione di probabilità, rappresentata attraverso la funzione di massa di probabilità per le variabili discrete o la densità di probabilità per quelle continue, è cruciale per descrivere il modo in cui le probabilità si distribuiscono tra i diversi esiti possibili di una variabile casuale, offrendo una visione completa del suo comportamento.\n",
    "\n",
    "::: {#exm-}\n",
    "Supponiamo che la variabile casuale discreta $X$ per il tipo di sangue sia definita esplicitamente come segue:\n",
    "\n",
    "$$ \n",
    "X = \n",
    "\\begin{cases} \n",
    "1 & \\text{se la persona ha il tipo di sangue A} \\\\\n",
    "2 & \\text{se la persona ha il tipo di sangue B} \\\\\n",
    "3 & \\text{se la persona ha il tipo di sangue AB} \\\\\n",
    "4 & \\text{se la persona ha il tipo di sangue O}\n",
    "\\end{cases}\n",
    "$$\n",
    "\n",
    "Pertanto, $X$ è una variabile casuale discreta con quattro possibili esiti. Possiamo anche trovare la distribuzione di probabilità che descrive la probabilità dei diversi valori possibili della variabile casuale $X$. Notiamo che gli assiomi e le proprietà delle probabilità che abbiamo discusso in precedenza si applicano anche alle variabili casuali (ad esempio, la probabilità totale per tutti i valori possibili di una variabile casuale è pari a uno).\n",
    "\n",
    "Le distribuzioni di probabilità sono spesso presentate utilizzando tabelle di probabilità o grafici. Ad esempio, supponiamo che le probabilità individuali per i diversi tipi di sangue in una popolazione siano $P(A) = 0.41$, $P(B) = 0.10$, $P(AB) = 0.04$, e $P(O) = 0.45$. Notiamo che: \n",
    "\n",
    "$$ P(A) + P(B) + P(AB) + P(O) = 0.41 + 0.10 + 0.04 + 0.45 = 1. $$\n",
    "\n",
    "| Tipo di sangue | A   | B   | AB  | O   |\n",
    "|----------------|-----|-----|-----|-----|\n",
    "| $X$            | 1   | 2   | 3   | 4   |\n",
    "| $P(X)$         | 0.41| 0.10| 0.04| 0.45|\n",
    "\n",
    "Qui, $x$ denota un valore specifico (cioè 1, 2, 3 o 4) della variabile casuale $X$. Quindi, invece di dire $P(A) = 0.41$, cioè il tipo di sangue è A con probabilità 0.41, possiamo dire che $P(X = 1) = 0.41$, cioè $X$ è uguale a 1 con probabilità 0.41.\n",
    "\n",
    "Possiamo usare la distribuzione di probabilità per rispondere a domande di probabilità. Ad esempio, qual è la probabilità che una persona selezionata a caso dalla popolazione possa donare sangue a qualcuno con tipo di sangue B?\n",
    "\n",
    "Sappiamo che le persone con tipo di sangue B o O possono donare a una persona con tipo di sangue B.\n",
    "\n",
    "Pertanto, dobbiamo trovare la probabilità $P(\\text{tipo di sangue B} \\cup \\text{tipo di sangue O})$. Poiché gli eventi tipo di sangue B e tipo di sangue O sono mutuamente esclusivi, possiamo usare la regola dell'addizione per eventi mutuamente esclusivi per ottenere:\n",
    "\n",
    "$$ P(\\text{B} \\cup \\text{O}) = P(B) + P(O) = 0.10 + 0.45 = 0.55 $$\n",
    "\n",
    "Quindi, c'è una probabilità del 55% che una persona selezionata a caso nella nostra popolazione possa donare sangue a qualcuno con tipo di sangue B.\n",
    ":::\n",
    "\n",
    "::: {#exm-}\n",
    "Immaginiamo di lanciare due dadi equilibrati, ciascuno con sei facce. Definiamo una variabile casuale discreta $Z$, che rappresenta la somma dei valori ottenuti in ciascun lancio dei dadi. Indichiamo con $D_1$ il risultato del primo dado e con $D_2$ quello del secondo dado, quindi $Z = D_1 + D_2$.\n",
    "\n",
    "Per analizzare questa variabile casuale, dobbiamo prima costruire lo spazio campionario associato all'esperimento. Lo spazio campionario in questo caso è l'insieme di tutte le possibili combinazioni dei risultati dei due lanci di dado. Dato che ogni dado ha sei facce, ci sono in totale $6 \\times 6 = 36$ possibili esiti.\n",
    "\n",
    "Ogni esito può essere rappresentato come una coppia ordinata (i, j), dove i e j sono i risultati dei dadi $D_1$ e $D_2$, rispettivamente. Quindi, lo spazio campionario può essere descritto come ${(1,1), (1,2), (1,3), \\dots, (6,4), (6,5), (6,6)}$."
   ]
  },
  {
   "cell_type": "code",
   "execution_count": 21,
   "id": "a26771e0-28f1-4427-8de9-c735ec979258",
   "metadata": {},
   "outputs": [
    {
     "name": "stdout",
     "output_type": "stream",
     "text": [
      "[(1, 1), (1, 2), (1, 3), (1, 4), (1, 5), (1, 6), (2, 1), (2, 2), (2, 3), (2, 4), (2, 5), (2, 6), (3, 1), (3, 2), (3, 3), (3, 4), (3, 5), (3, 6), (4, 1), (4, 2), (4, 3), (4, 4), (4, 5), (4, 6), (5, 1), (5, 2), (5, 3), (5, 4), (5, 5), (5, 6), (6, 1), (6, 2), (6, 3), (6, 4), (6, 5), (6, 6)]\n"
     ]
    }
   ],
   "source": [
    "r = range(1, 7)\n",
    "sample = [(i, j) for i in r for j in r]\n",
    "print(sample)"
   ]
  },
  {
   "cell_type": "code",
   "execution_count": 22,
   "id": "fad242d4-6a9b-47d7-8f91-c5ce453f6f08",
   "metadata": {},
   "outputs": [
    {
     "name": "stdout",
     "output_type": "stream",
     "text": [
      "[(1, 1), (1, 2), (1, 3), (1, 4), (1, 5), (1, 6)]\n",
      "[(2, 1), (2, 2), (2, 3), (2, 4), (2, 5), (2, 6)]\n",
      "[(3, 1), (3, 2), (3, 3), (3, 4), (3, 5), (3, 6)]\n",
      "[(4, 1), (4, 2), (4, 3), (4, 4), (4, 5), (4, 6)]\n",
      "[(5, 1), (5, 2), (5, 3), (5, 4), (5, 5), (5, 6)]\n",
      "[(6, 1), (6, 2), (6, 3), (6, 4), (6, 5), (6, 6)]\n"
     ]
    }
   ],
   "source": [
    "elements_per_row = 6\n",
    "\n",
    "for i in range(0, len(sample), elements_per_row):\n",
    "    print(sample[i:i+elements_per_row])\n"
   ]
  },
  {
   "cell_type": "markdown",
   "id": "49ecb75c-1f28-44b0-abd7-c53fb603625b",
   "metadata": {},
   "source": [
    "Le sequenze come (1, 1), (1, 2), ecc. sono gli eventi elementari di questo esperimento casuale. Lo spazio campione di questo esperimento casuale è costituito da 36 eventi elementari:"
   ]
  },
  {
   "cell_type": "code",
   "execution_count": 23,
   "id": "475841be-a982-4b69-973e-bd25c95afaad",
   "metadata": {},
   "outputs": [
    {
     "data": {
      "text/plain": [
       "36"
      ]
     },
     "execution_count": 23,
     "metadata": {},
     "output_type": "execute_result"
    }
   ],
   "source": [
    "len(sample)"
   ]
  },
  {
   "attachments": {},
   "cell_type": "markdown",
   "id": "80eef464-efe0-4884-ac4c-772e6ccbe445",
   "metadata": {},
   "source": [
    "Per ogni possibile combinazione (i, j) risultante dal lancio dei due dadi, la variabile casuale $Z$ assume un valore che corrisponde alla somma dei numeri i e j. Ad esempio, se i risultati dei dadi sono 3 e 4, allora $Z = 3 + 4 = 7$. Pertanto, il valore di $Z$ può variare da un minimo di 2 (ottenuto dal lancio di due 1) fino a un massimo di 12 (ottenuto dal lancio di due 6), coprendo così tutti i possibili risultati della somma dei due dadi. La distribuzione di $Z$ ci offre una panoramica sulle probabilità associate a ogni possibile somma risultante.\n",
    "\n",
    "È importante sottolineare che l'evento $Z = u$, dove $u$ è un valore compreso tra 2 e 12, rappresenta un \"evento composto\". Ciò significa che può essere formato da più di un \"evento elementare\". Ad esempio, l'evento $Z = 2$ corrisponde esclusivamente all'evento elementare (1, 1), mentre l'evento $Z = 3$ è il risultato di due eventi elementari differenti: (1, 2) e (2, 1). La stessa logica si applica agli altri valori di $Z$, dove il numero di eventi elementari che contribuiscono a un dato evento composto $Z = u$ aumenta all'aumentare del valore di $u$. Questa caratteristica della distribuzione di $Z$ è fondamentale per comprendere e calcolare le probabilità associate ai diversi totali possibili nella somma dei due dadi."
   ]
  },
  {
   "attachments": {},
   "cell_type": "markdown",
   "id": "25172957-94d4-476d-8fcc-df707c386502",
   "metadata": {},
   "source": [
    "Nel nostro esempio costruito usando Python, ogni elemento della lista `sample` è una lista di due elementi. Per trovare il valore della variabile casuale $Z$, quindi, dobbiamo sommare i due elementi di ciascuna lista. Nel primo punto campione (1, 1), il valore di $Z$ è 2:"
   ]
  },
  {
   "cell_type": "code",
   "execution_count": 6,
   "id": "8eccf97d-2d91-4f9f-93d7-f454116b5163",
   "metadata": {},
   "outputs": [
    {
     "data": {
      "text/plain": [
       "2"
      ]
     },
     "execution_count": 6,
     "metadata": {},
     "output_type": "execute_result"
    }
   ],
   "source": [
    "sum(sample[0])"
   ]
  },
  {
   "attachments": {},
   "cell_type": "markdown",
   "id": "9eb45c4d-4d0e-4cbc-8322-61d6e1ef62d9",
   "metadata": {},
   "source": [
    "In corrispondenza dell'ultimo punto dello spazio campione (6, 6), il valore di $Z$ è 12:"
   ]
  },
  {
   "cell_type": "code",
   "execution_count": 24,
   "id": "b522756c-85fe-498e-bb92-5534c466335b",
   "metadata": {},
   "outputs": [
    {
     "data": {
      "text/plain": [
       "12"
      ]
     },
     "execution_count": 24,
     "metadata": {},
     "output_type": "execute_result"
    }
   ],
   "source": [
    "sum(sample[35])"
   ]
  },
  {
   "attachments": {},
   "cell_type": "markdown",
   "id": "88afe8fb-cb75-4e37-ad05-4f951792ca52",
   "metadata": {},
   "source": [
    "Creiamo ora la lista `z` che memorizza il valore assunto dalla variabile casuale $Z$ in corrispondenza di ciascun punto dello spazio campione:"
   ]
  },
  {
   "cell_type": "code",
   "execution_count": 25,
   "id": "326fb729-b030-4454-a64e-39074eafb1fb",
   "metadata": {},
   "outputs": [
    {
     "data": {
      "text/plain": [
       "[[2, 3, 4, 5, 6, 7],\n",
       " [3, 4, 5, 6, 7, 8],\n",
       " [4, 5, 6, 7, 8, 9],\n",
       " [5, 6, 7, 8, 9, 10],\n",
       " [6, 7, 8, 9, 10, 11],\n",
       " [7, 8, 9, 10, 11, 12]]"
      ]
     },
     "execution_count": 25,
     "metadata": {},
     "output_type": "execute_result"
    }
   ],
   "source": [
    "r = range(1, 7)\n",
    "sample = [(i, j) for i in r for j in r]\n",
    "z = [sum(point) for point in sample]\n",
    "\n",
    "# Arrange and print `z` in a format with 6 elements per row to reflect a 6x6 sample space\n",
    "elements_per_row = 6\n",
    "formatted_output = [z[i:i+elements_per_row] for i in range(0, len(z), elements_per_row)]\n",
    "\n",
    "formatted_output"
   ]
  },
  {
   "attachments": {},
   "cell_type": "markdown",
   "id": "afc52332-bb2a-4bf5-a251-789a69276df7",
   "metadata": {},
   "source": [
    "Contiamo dunque quante volte si presenta ciascun possibile valore $Z$ nello spazio campione. "
   ]
  },
  {
   "cell_type": "code",
   "execution_count": 26,
   "id": "86a1589e-a4b4-4da3-8f7c-3e817397bc8c",
   "metadata": {},
   "outputs": [
    {
     "data": {
      "text/plain": [
       "{2: 1, 3: 2, 4: 3, 5: 4, 6: 5, 7: 6, 8: 5, 9: 4, 10: 3, 11: 2, 12: 1}"
      ]
     },
     "execution_count": 26,
     "metadata": {},
     "output_type": "execute_result"
    }
   ],
   "source": [
    "# Inizializzo un dizionario per memorizzare le frequenze di ciascun valore di Z\n",
    "frequenze_z = {}\n",
    "\n",
    "# Calcolo le frequenze per ciascun valore di Z\n",
    "for valore in z:\n",
    "    if valore in frequenze_z:\n",
    "        frequenze_z[valore] += 1\n",
    "    else:\n",
    "        frequenze_z[valore] = 1\n",
    "\n",
    "frequenze_z"
   ]
  },
  {
   "cell_type": "markdown",
   "id": "293ede53-013f-4fad-b59e-306e326b877f",
   "metadata": {},
   "source": [
    "I valori di probabilità per ciascun valore di $z$ sono calcolati in base alla frequenza con cui quel particolare valore di $z$ emerge all'interno dell'intero insieme dei risultati. In altre parole, per ogni valore $z$, la probabilità corrispondente è determinata dalla proporzione di occorrenze di quel valore $z$ nell'elenco dei risultati prodotti dall'esperimento casuale. Questo elenco rappresenta tutti i possibili valori che la variabile casuale $Z$ può assumere, calcolati per ogni combinazione di punti nello spazio campionario dell'esperimento."
   ]
  },
  {
   "cell_type": "markdown",
   "id": "9406200e-041c-4a1c-b587-b0cd77dc0903",
   "metadata": {},
   "source": [
    "Costruiamo ora la distribuzione di massa di probabilità per la variabile casuale $Z$. La probabilità di ciascun valore di $Z$ si trova dividendo la sua frequenza per il numero totale di esiti nello spazio campione."
   ]
  },
  {
   "cell_type": "code",
   "execution_count": 27,
   "id": "4d5c1baa-2951-4406-b681-e5385e8dc489",
   "metadata": {},
   "outputs": [
    {
     "data": {
      "text/plain": [
       "{2: 0.027777777777777776,\n",
       " 3: 0.05555555555555555,\n",
       " 4: 0.08333333333333333,\n",
       " 5: 0.1111111111111111,\n",
       " 6: 0.1388888888888889,\n",
       " 7: 0.16666666666666666,\n",
       " 8: 0.1388888888888889,\n",
       " 9: 0.1111111111111111,\n",
       " 10: 0.08333333333333333,\n",
       " 11: 0.05555555555555555,\n",
       " 12: 0.027777777777777776}"
      ]
     },
     "execution_count": 27,
     "metadata": {},
     "output_type": "execute_result"
    }
   ],
   "source": [
    "# Calcoliamo il numero totale di esiti nello spazio campione\n",
    "numero_totale_esiti = len(z)\n",
    "\n",
    "# Inizializzo un dizionario per memorizzare la distribuzione di massa di probabilità di Z\n",
    "distribuzione_massa_probabilita = {}\n",
    "\n",
    "# Calcolo della distribuzione di massa di probabilità per ciascun valore di Z\n",
    "for valore, frequenza in frequenze_z.items():\n",
    "    distribuzione_massa_probabilita[valore] = frequenza / numero_totale_esiti\n",
    "\n",
    "distribuzione_massa_probabilita"
   ]
  },
  {
   "cell_type": "markdown",
   "id": "4f1932b3-351d-4498-93d0-c327ebf90893",
   "metadata": {},
   "source": [
    "Creiamo un DataFrame con due colonne: i valori di Z e le associate probabilità."
   ]
  },
  {
   "cell_type": "code",
   "execution_count": 28,
   "id": "910cdf19-c1d6-4f92-a5a8-f399ba4f14be",
   "metadata": {},
   "outputs": [
    {
     "data": {
      "text/html": [
       "<div>\n",
       "<style scoped>\n",
       "    .dataframe tbody tr th:only-of-type {\n",
       "        vertical-align: middle;\n",
       "    }\n",
       "\n",
       "    .dataframe tbody tr th {\n",
       "        vertical-align: top;\n",
       "    }\n",
       "\n",
       "    .dataframe thead th {\n",
       "        text-align: right;\n",
       "    }\n",
       "</style>\n",
       "<table border=\"1\" class=\"dataframe\">\n",
       "  <thead>\n",
       "    <tr style=\"text-align: right;\">\n",
       "      <th></th>\n",
       "      <th>Valore di Z</th>\n",
       "      <th>Probabilità</th>\n",
       "    </tr>\n",
       "  </thead>\n",
       "  <tbody>\n",
       "    <tr>\n",
       "      <th>0</th>\n",
       "      <td>2</td>\n",
       "      <td>0.027778</td>\n",
       "    </tr>\n",
       "    <tr>\n",
       "      <th>1</th>\n",
       "      <td>3</td>\n",
       "      <td>0.055556</td>\n",
       "    </tr>\n",
       "    <tr>\n",
       "      <th>2</th>\n",
       "      <td>4</td>\n",
       "      <td>0.083333</td>\n",
       "    </tr>\n",
       "    <tr>\n",
       "      <th>3</th>\n",
       "      <td>5</td>\n",
       "      <td>0.111111</td>\n",
       "    </tr>\n",
       "    <tr>\n",
       "      <th>4</th>\n",
       "      <td>6</td>\n",
       "      <td>0.138889</td>\n",
       "    </tr>\n",
       "    <tr>\n",
       "      <th>5</th>\n",
       "      <td>7</td>\n",
       "      <td>0.166667</td>\n",
       "    </tr>\n",
       "    <tr>\n",
       "      <th>6</th>\n",
       "      <td>8</td>\n",
       "      <td>0.138889</td>\n",
       "    </tr>\n",
       "    <tr>\n",
       "      <th>7</th>\n",
       "      <td>9</td>\n",
       "      <td>0.111111</td>\n",
       "    </tr>\n",
       "    <tr>\n",
       "      <th>8</th>\n",
       "      <td>10</td>\n",
       "      <td>0.083333</td>\n",
       "    </tr>\n",
       "    <tr>\n",
       "      <th>9</th>\n",
       "      <td>11</td>\n",
       "      <td>0.055556</td>\n",
       "    </tr>\n",
       "    <tr>\n",
       "      <th>10</th>\n",
       "      <td>12</td>\n",
       "      <td>0.027778</td>\n",
       "    </tr>\n",
       "  </tbody>\n",
       "</table>\n",
       "</div>"
      ],
      "text/plain": [
       "    Valore di Z  Probabilità\n",
       "0             2     0.027778\n",
       "1             3     0.055556\n",
       "2             4     0.083333\n",
       "3             5     0.111111\n",
       "4             6     0.138889\n",
       "5             7     0.166667\n",
       "6             8     0.138889\n",
       "7             9     0.111111\n",
       "8            10     0.083333\n",
       "9            11     0.055556\n",
       "10           12     0.027778"
      ]
     },
     "execution_count": 28,
     "metadata": {},
     "output_type": "execute_result"
    }
   ],
   "source": [
    "df_distribuzione = pd.DataFrame(list(distribuzione_massa_probabilita.items()), columns=['Valore di Z', 'Probabilità'])\n",
    "df_distribuzione"
   ]
  },
  {
   "cell_type": "markdown",
   "id": "d8665886-83e5-4556-86da-d6f80e67947c",
   "metadata": {},
   "source": [
    "Possiamo usare un un grafico a barre per rappresentare la distribuzione di probabilità di $Z$."
   ]
  },
  {
   "cell_type": "code",
   "execution_count": 32,
   "id": "9756e81f-20fd-4b89-8b21-a13d27a54118",
   "metadata": {},
   "outputs": [
    {
     "data": {
      "image/png": "[encoded data removed]",
      "text/plain": [
       "<Figure size 720x480 with 1 Axes>"
      ]
     },
     "metadata": {
      "image/png": {
       "height": 491,
       "width": 731
      }
     },
     "output_type": "display_data"
    }
   ],
   "source": [
    "color_fill = \"#b97c7c\"\n",
    "color_edge = \"#8f2727\"\n",
    "plt.bar(\n",
    "    df_distribuzione[\"Valore di Z\"],\n",
    "    df_distribuzione[\"Probabilità\"],\n",
    "    color=color_fill,\n",
    "    edgecolor=color_edge,\n",
    ")\n",
    "plt.xlabel('Valore Z')\n",
    "plt.ylabel('Probabilità')\n",
    "plt.title('Distribuzione di Probabilità di Z')\n",
    "plt.xticks(range(2, 13))  # Per mostrare tutte le etichette sull'asse x\n",
    "plt.show()"
   ]
  },
  {
   "attachments": {},
   "cell_type": "markdown",
   "id": "3bc7d4df-3c31-4a88-93fc-b62713173c99",
   "metadata": {},
   "source": [
    "Nel corso di questo esercizio, abbiamo calcolato le probabilità determinando il numero di casi favorevoli, cioè le occorrenze di ogni possibile somma $D_1 + D_2$, all'interno dello spazio campionario dell'esperimento di lancio di due dadi. Queste probabilità si ottengono dividendo il numero di tali occorrenze per il numero totale di combinazioni possibili nello spazio campionario. In termini formali, la probabilità di ogni valore specifico di $ Z $ è indicata come $P_Z(z) = P(Z = z)$, dove $P_Z(z)$ rappresenta \"la probabilità che la variabile casuale $Z$ assuma il valore $z$\". La funzione che associa a ogni valore $ u $ di $Z$ la probabilità dell'evento $Z = u$ è nota come *funzione di massa di probabilità* della variabile casuale $Z$.\n",
    "\n",
    "Questa funzione, $ p_Z $, è definita per ciascun valore possibile di $ Z $ come segue:\n",
    "\n",
    "$$\n",
    "\\begin{array}{rclll}\n",
    "p_Z(2) & = & 1/36, \\\\\n",
    "p_Z(3) & = & 2/36, \\\\\n",
    "p_Z(4) & = & 3/36, \\\\\n",
    "p_Z(5) & = & 4/36, \\\\\n",
    "p_Z(6) & = & 5/36, \\\\\n",
    "p_Z(7) & = & 6/36, \\\\\n",
    "p_Z(8) & = & 5/36, \\\\\n",
    "p_Z(9) & = & 4/36, \\\\\n",
    "p_Z(10) & = & 3/36, \\\\\n",
    "p_Z(11) & = & 2/36, \\\\\n",
    "p_Z(12) & = & 1/36. \\\\\n",
    "\\end{array}\n",
    "$$\n",
    ":::\n",
    "\n",
    "### Proprietà della funzione di massa di probabilità\n",
    "Ogni variabile casuale discreta possiede una funzione di massa di probabilità unica che rispetta le seguenti proprietà:\n",
    "\n",
    "1. La probabilità di ogni evento singolo è compresa tra 0 e 1, ovvero $0 \\leq P(Z=z) \\leq 1$.\n",
    "2. La somma delle probabilità di tutti gli eventi possibili è pari a 1, cioè $\\sum_{z \\in Z} P(Z=z) = 1$.\n",
    "\n",
    "Se consideriamo un sottoinsieme $A$ della variabile casuale $Z$, la probabilità associata a $A$ dalla distribuzione $P_Z$ è data da:\n",
    "\n",
    "$$\n",
    "P_Z(A) = \\sum_{z \\in A} P(Z = z).\n",
    "$$\n",
    "\n",
    "Per esempio, per la variabile casuale $Z$ relativa al lancio di due dadi, la probabilità che $Z$ sia un numero dispari si calcola sommando le probabilità dei valori dispari:\n",
    "\n",
    "$$\n",
    "\\begin{align}\n",
    "P(\\text{\"Z è un numero dispari\"}) &= P_Z(3) + P_Z(5) + P_Z(7) + P_Z(9) + P_Z(11) \\\\\n",
    "&= \\frac{2}{36} + \\frac{4}{36} + \\frac{6}{36} + \\frac{4}{36} + \\frac{2}{36} \\\\\n",
    "&= \\frac{18}{36} \\\\\n",
    "&= \\frac{1}{2}.\n",
    "\\end{align}\n",
    "$$\n",
    "\n",
    "Questa formula ci permette di calcolare la probabilità di qualsiasi sottoinsieme di $ Z $ utilizzando la distribuzione di probabilità $P_Z$."
   ]
  },
  {
   "cell_type": "markdown",
   "metadata": {},
   "source": [
    "## Funzioni di Distribuzione Cumulativa (CDF)\n",
    "\n",
    "In uno spazio ordinato, possiamo utilizzare sottoinsiemi intervallari per analizzare come la misura totale si distribuisce da valori inferiori a valori superiori. Definiamo il sottoinsieme intervallare costituito da tutti i punti minori o uguali a un dato punto $x$:\n",
    "\n",
    "$$\n",
    "\\mathsf{I}_{x} = \\{ x' \\in X \\mid x' \\le x \\}\n",
    "$$\n",
    "\n",
    "La misura assegnata a questi sottoinsiemi intervallari quantifica l'accumulo della misura attraverso lo spazio. Formalizziamo questo concetto definendo la funzione di distribuzione cumulativa $F$:\n",
    "\n",
    "$$\n",
    "F(x) = P(X \\le x),\n",
    "$$\n",
    "\n",
    "dove:\n",
    "\n",
    "- $X$ è lo spazio ordinato.\n",
    "- $P$ rappresenta la misura di probabilità assegnata agli intervalli.\n",
    "- $P(X \\le x)$ indica la probabilità che la variabile casuale $X$ assuma un valore minore o uguale a $x$.\n",
    "\n",
    "### Proprietà della Funzione di Distribuzione Cumulativa\n",
    "\n",
    "La funzione $F$, denominata **funzione di distribuzione cumulativa** (CDF), ha le seguenti proprietà:\n",
    "\n",
    "1. **Monotonia non decrescente**: Se $x_1 < x_2$, allora $F(x_1) \\leq F(x_2)$. Ciò significa che la probabilità cumulativa non diminuisce mai mentre ci si sposta lungo la linea dei numeri reali.\n",
    "2. **Normalizzazione**: La CDF deve partire da 0 all'estremo inferiore dello spazio e arrivare a 1 all'estremo superiore:\n",
    "   $$\n",
    "   \\lim_{x \\to -\\infty} F(x) = 0 \\quad \\text{e} \\quad \\lim_{x \\to \\infty} F(x) = 1.\n",
    "   $$\n",
    "3. **Continuità a destra**: La CDF è continua da destra in ogni punto $x$. Matematicamente, $F(x) = \\lim_{y \\to x^+} F(y)$, il che significa che non ci sono salti improvvisi nella funzione.\n",
    "\n",
    "![Una funzione di distribuzione cumulativa quantifica come la misura viene allocata agli intervalli crescenti in uno spazio ordinato. Al limite inferiore dello spazio, l'intervallo non contiene punti e la funzione di distribuzione cumulativa restituisce zero. Man mano che ci spostiamo verso valori più grandi, l'intervallo si espande accumulando sempre più misura. Infine, al limite superiore dello spazio, l'intervallo tende alla misura totale.](../../figures/cdfs/cdf/cdf){width=50% #fig-cdf-basics}\n",
    "\n",
    "### Funzione di Distribuzione Cumulativa per Variabili Casuali Discrete\n",
    "\n",
    "Nel contesto delle variabili casuali discrete, la funzione di distribuzione cumulativa viene spesso chiamata **funzione di ripartizione**. Per una variabile casuale discreta $ X $, la funzione di ripartizione, denotata $F(x)$, è definita come:\n",
    "\n",
    "$$\n",
    "F(x) = P(X \\leq x) = \\sum_{x_i \\leq x} P(x_i).\n",
    "$$\n",
    "\n",
    "In questa formula, $F(x)$ rappresenta la probabilità che la variabile casuale $X$ assuma un valore minore o uguale a $x$. La funzione di ripartizione cumula le probabilità dei singoli valori fino a $x$.\n",
    "\n",
    "### Importanza della Funzione di Distribuzione Cumulativa\n",
    "\n",
    "La CDF è uno strumento fondamentale per comprendere come le probabilità si accumulano lungo uno spazio ordinato. Essa permette di visualizzare la distribuzione delle probabilità in modo cumulativo e fornisce informazioni essenziali sulla probabilità totale associata a un intervallo di valori."
   ]
  },
  {
   "cell_type": "markdown",
   "metadata": {},
   "source": [
    "::: {#exm-4}\n",
    "\n",
    "Per il caso del lancio di due dadi e la variabile casuale $Z$ definita come la loro somma, la funzione di ripartizione di $Z$ può essere illustrata come segue:\n",
    "\n",
    "| z   | p(z)   | F(z)     |\n",
    "| --- | ------ | -------- |\n",
    "| 2   | 1/36   | 1/36     |\n",
    "| 3   | 2/36   | 3/36     |\n",
    "| 4   | 3/36   | 6/36     |\n",
    "| 5   | 4/36   | 10/36    |\n",
    "| 6   | 5/36   | 15/36    |\n",
    "| 7   | 6/36   | 21/36    |\n",
    "| 8   | 5/36   | 26/36    |\n",
    "| 9   | 4/36   | 30/36    |\n",
    "| 10  | 3/36   | 33/36    |\n",
    "| 11  | 2/36   | 35/36    |\n",
    "| 12  | 1/36   | 36/36    |\n",
    "\n",
    "In questa tabella, $F(z)$ rappresenta la funzione di ripartizione cumulativa per ciascun valore $z$. Questo aiuta a comprendere la distribuzione cumulativa delle probabilità per la variabile casuale $Z$ nel contesto del lancio dei due dadi.\n",
    ":::"
   ]
  },
  {
   "attachments": {},
   "cell_type": "markdown",
   "id": "9d88a58f-962c-4298-b074-8028607be049",
   "metadata": {},
   "source": [
    "#### Trovare la distribuzione di probabilità con una simulazione \n",
    "\n",
    "La distribuzione di probabilità che abbiamo precedentemente calcolato per il lancio dei due dadi è corretta, ma esiste un altro metodo per ottenere un risultato molto simile attraverso la simulazione. Questo metodo implica la generazione di un elevato numero di ripetizioni dell'esperimento casuale e l'analisi delle frequenze relative dei risultati ottenuti. In altre parole, simulando l'esperimento numerose volte, possiamo approssimare la distribuzione di probabilità empirica, che si avvicina sempre di più alla distribuzione teorica man mano che il numero di ripetizioni aumenta. Questo approccio è comune in statistica ed è particolarmente utile quando la distribuzione di probabilità teorica non è facilmente calcolabile o è troppo complessa per essere gestita in modo analitico."
   ]
  },
  {
   "cell_type": "markdown",
   "metadata": {},
   "source": [
    "::: {#exm-5}\n",
    "\n",
    "Nel @sec-python-1 abbiamo visto come creare una funzione che ritorna il risultato del lancio di un dado:"
   ]
  },
  {
   "cell_type": "code",
   "execution_count": 17,
   "id": "7d3db4b2-0af8-4aba-acf6-e6532bfd6b95",
   "metadata": {},
   "outputs": [],
   "source": [
    "def roll_die():\n",
    "    \"\"\"\n",
    "    returns a random int between 1 and 6\n",
    "    \"\"\"\n",
    "    return rng.choice([1, 2, 3, 4, 5, 6])"
   ]
  },
  {
   "attachments": {},
   "cell_type": "markdown",
   "id": "effcf071-16ce-4333-abcb-b2fafadb5d4f",
   "metadata": {},
   "source": [
    "Possiamo ora definire una funzione che ritorna la somma dei punti prodotti dal lancio di due dadi. La funzione ha come argomento il numero di ripetizioni di questo esperimento casuale."
   ]
  },
  {
   "cell_type": "code",
   "execution_count": 18,
   "id": "db718e12-c50b-486a-b314-f0aba213fdca",
   "metadata": {},
   "outputs": [],
   "source": [
    "def roll_two_dice(n):\n",
    "    \"\"\"\n",
    "    returns a random int between 2 and 12\n",
    "    \"\"\"\n",
    "    rolls = []\n",
    "    for i in range(n):\n",
    "        two_dice = roll_die() + roll_die()\n",
    "        rolls.append(two_dice)\n",
    "    \n",
    "    return rolls"
   ]
  },
  {
   "attachments": {},
   "cell_type": "markdown",
   "id": "edb701c8-fca4-484f-a14a-e2f5330d8c9b",
   "metadata": {},
   "source": [
    "Eseguiamo 100,000 ripetizioni dell'esperimento casuale e memorizzo i risultati ottenuti."
   ]
  },
  {
   "cell_type": "code",
   "execution_count": 20,
   "id": "acfc7d6e-efdb-4979-be96-6b810e8904b7",
   "metadata": {},
   "outputs": [
    {
     "name": "stdout",
     "output_type": "stream",
     "text": [
      "12 10 7 10 7 9 8 7 5 9 8 7 4 9 7 2 10 10 5\n"
     ]
    }
   ],
   "source": [
    "nrolls = 100000\n",
    "res = roll_two_dice(nrolls)\n",
    "print(*res[1:20])"
   ]
  },
  {
   "attachments": {},
   "cell_type": "markdown",
   "id": "181bbefa-5adc-444c-8298-973134a8cf54",
   "metadata": {},
   "source": [
    "Creiamo un DataFrame che contiene la variabile `y` corrispondente ai risultati delle 10,000 ripetizioni dell'esperimento casuale."
   ]
  },
  {
   "cell_type": "code",
   "execution_count": 21,
   "id": "ab599e70-654c-46b8-a0ce-4a425040528f",
   "metadata": {},
   "outputs": [],
   "source": [
    "df = pd.DataFrame()\n",
    "df[\"y\"] = res "
   ]
  },
  {
   "attachments": {},
   "cell_type": "markdown",
   "id": "fbeafc54-3ca8-4d29-ac3f-9c6138462992",
   "metadata": {},
   "source": [
    "Utilizziamo dunque il metodo `value_counts()`, che può essere applicato a un DataFrame, come abbiamo visto nel @sec-freq-distribution, per trovare le frequenze assolute di ciascuno dei possibili risultati dell'esperimento casuale (cioè, 2, 3, ..., 12). Dividendo per il numero totale delle ripetizioni, otterremo una stima empirica della probabilità. Si noti che i risultati saranno simili a quelli teorici ottenuti in precedenza."
   ]
  },
  {
   "cell_type": "code",
   "execution_count": 22,
   "id": "7aea1d8a-3905-4e1f-a6f5-822dc04db329",
   "metadata": {},
   "outputs": [
    {
     "data": {
      "text/plain": [
       "[(2, 0.02775),\n",
       " (3, 0.05625),\n",
       " (4, 0.08331),\n",
       " (5, 0.11109),\n",
       " (6, 0.13915),\n",
       " (7, 0.16824),\n",
       " (8, 0.13751),\n",
       " (9, 0.11167),\n",
       " (10, 0.08238),\n",
       " (11, 0.05567),\n",
       " (12, 0.02698)]"
      ]
     },
     "execution_count": 22,
     "metadata": {},
     "output_type": "execute_result"
    }
   ],
   "source": [
    "abs_freqs = df[\"y\"].value_counts().sort_index()\n",
    "px = abs_freqs / nrolls\n",
    "list(zip(list(range(2, 13)), px))"
   ]
  },
  {
   "cell_type": "markdown",
   "metadata": {},
   "source": [
    ":::"
   ]
  },
  {
   "cell_type": "markdown",
   "id": "32e37352-37a5-4163-826d-386c4e5f2d16",
   "metadata": {},
   "source": [
    "## Informazioni sull'Ambiente di Sviluppo"
   ]
  },
  {
   "cell_type": "code",
   "execution_count": 19,
   "id": "f5329bab-eb86-4ae4-811d-3e0d8b125ed0",
   "metadata": {
    "tags": [
     "hide-input"
    ]
   },
   "outputs": [
    {
     "name": "stdout",
     "output_type": "stream",
     "text": [
      "Last updated: Tue May 21 2024\n",
      "\n",
      "Python implementation: CPython\n",
      "Python version       : 3.12.3\n",
      "IPython version      : 8.22.2\n",
      "\n",
      "Compiler    : Clang 16.0.6 \n",
      "OS          : Darwin\n",
      "Release     : 23.4.0\n",
      "Machine     : arm64\n",
      "Processor   : arm\n",
      "CPU cores   : 8\n",
      "Architecture: 64bit\n",
      "\n",
      "scipy     : 1.13.0\n",
      "arviz     : 0.18.0\n",
      "matplotlib: 3.8.4\n",
      "pandas    : 2.2.2\n",
      "seaborn   : 0.13.2\n",
      "numpy     : 1.26.4\n",
      "\n",
      "Watermark: 2.4.3\n",
      "\n"
     ]
    }
   ],
   "source": [
    "%load_ext watermark\n",
    "%watermark -n -u -v -iv -w -m"
   ]
  }
 ],
 "metadata": {
  "kernelspec": {
   "display_name": "pymc",
   "language": "python",
   "name": "python3"
  },
  "language_info": {
   "codemirror_mode": {
    "name": "ipython",
    "version": 3
   },
   "file_extension": ".py",
   "mimetype": "text/x-python",
   "name": "python",
   "nbconvert_exporter": "python",
   "pygments_lexer": "ipython3",
   "version": "3.12.4"
  },
  "vscode": {
   "interpreter": {
    "hash": "cbb367cc0128e23b7454d788d5a4229ca1f9848fd2e857f4797fbd26ab3b0776"
   }
  }
 },
 "nbformat": 4,
 "nbformat_minor": 2
}
