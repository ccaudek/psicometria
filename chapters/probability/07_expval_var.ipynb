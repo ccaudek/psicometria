{
 "cells": [
  {
   "attachments": {},
   "cell_type": "markdown",
   "id": "d9394e23-ff49-4e99-9f6f-7f0a90e6dd81",
   "metadata": {},
   "source": [
    "# Proprietà delle variabili casuali {#sec-random-variables}"
   ]
  },
  {
   "cell_type": "markdown",
   "metadata": {},
   "source": [
    "**Prerequisiti**\n",
    "\n",
    "Prima di affrontare il presente capitolo, è essenziale leggere la sezione @sec-calculus.\n",
    "\n",
    "**Concetti e Competenze Chiave**\n",
    "\n",
    "- Approfondire i concetti di valore atteso e varianza per variabili casuali discrete.\n",
    "- Acquisire familiarità con le principali proprietà associate al valore atteso e alla varianza.\n",
    "- Estendere la comprensione di valore atteso e varianza alle variabili casuali continue.\n",
    "- Utilizzare Python per calcolare effettivamente queste metriche.\n",
    "- Interpretare criticamente i risultati ottenuti dalle analisi.\n",
    "\n",
    "**Preparazione del Notebook**"
   ]
  },
  {
   "cell_type": "code",
   "execution_count": 1,
   "id": "05f4ac5e-c9b1-4717-be42-f8981db9788e",
   "metadata": {},
   "outputs": [],
   "source": [
    "import numpy as np\n",
    "from scipy import stats as stats\n",
    "import matplotlib.pyplot as plt\n",
    "import arviz as az\n",
    "import seaborn as sns"
   ]
  },
  {
   "cell_type": "code",
   "execution_count": 2,
   "id": "9513e544-b773-46cb-808c-94d1f00a3df7",
   "metadata": {},
   "outputs": [],
   "source": [
    "seed: int = sum(map(ord, \"expval_var\"))\n",
    "rng: np.random.Generator = np.random.default_rng(seed=seed)\n",
    "sns.set_theme(palette=\"colorblind\")\n",
    "az.style.use(\"arviz-darkgrid\")\n",
    "%config InlineBackend.figure_format = \"retina\""
   ]
  },
  {
   "cell_type": "markdown",
   "id": "f5ff53c8-9758-444d-b502-67aee32f8a63",
   "metadata": {},
   "source": [
    "## Introduzione {.unnumbered}\n",
    "\n",
    "Sintetizzare la distribuzione di una variabile casuale attraverso indicatori caratteristici è spesso molto utile. Questi indicatori consentono di cogliere le principali proprietà della distribuzione, come la posizione centrale (ovvero il \"baricentro\") e la variabilità (ossia la dispersione attorno al centro). In questo modo, è possibile ottenere una descrizione sintetica e significativa della distribuzione di probabilità della variabile casuale. \n",
    "\n",
    "In questo capitolo, introdurremo i concetti fondamentali di valore atteso e varianza di una variabile casuale, che sono strumenti essenziali per comprendere e riassumere le proprietà di una distribuzione probabilistica."
   ]
  },
  {
   "attachments": {},
   "cell_type": "markdown",
   "id": "c8488aff-ec29-40bd-8d6f-ce2f277bc492",
   "metadata": {},
   "source": [
    "## Valore Atteso\n",
    "\n",
    "Quando vogliamo comprendere il comportamento tipico di una variabile casuale, ci interessa spesso determinare il suo \"valore tipico\". Tuttavia, questa nozione può essere interpretata in diversi modi:\n",
    "\n",
    "- **Media**: La somma dei valori divisa per il numero dei valori.\n",
    "- **Mediana**: Il valore centrale della distribuzione, quando i dati sono ordinati in senso crescente o decrescente.\n",
    "- **Moda**: Il valore che si verifica con maggiore frequenza.\n",
    "\n",
    "Ad esempio, per il set di valori $\\{3, 1, 4, 1, 5\\}$, la media è $\\frac{3+1+4+1+5}{5} = 2.8$, la mediana è 3, e la moda è 1. Tuttavia, quando ci occupiamo di variabili casuali, anziché di semplici sequenze di numeri, diventa necessario chiarire cosa intendiamo per \"valore tipico\" in questo contesto. Questo ci porta alla definizione formale del valore atteso.\n",
    "\n",
    "::: {#def-}\n",
    "\n",
    "Sia $X$ una variabile casuale discreta che assume i valori $x_1, \\dots, x_n$ con probabilità $P(X = x_i) = p(x_i)$. Il *valore atteso* di $X$, denotato con $\\mathbb{E}(X)$, è definito come:\n",
    "\n",
    "$$\n",
    "\\mathbb{E}(X) = \\sum_{i=1}^n x_i \\cdot p(x_i).\n",
    "$$\n",
    "\n",
    ":::\n",
    "\n",
    "In altre parole, il valore atteso (noto anche come speranza matematica o aspettazione) di una variabile casuale è la somma di tutti i valori che la variabile può assumere, ciascuno ponderato dalla probabilità con cui esso si verifica.\n",
    "\n",
    "::: {#exm-}\n",
    "Calcoliamo il valore atteso della variabile casuale $X$ corrispondente al lancio di una moneta equilibrata, dove *testa* corrisponde a $X = 1$ e *croce* corrisponde a $X = 0$:\n",
    "\n",
    "$$\n",
    "\\mathbb{E}(X) = \\sum_{i=1}^{2} x_i \\cdot P(x_i) = 0 \\cdot \\frac{1}{2} + 1 \\cdot \\frac{1}{2} = 0.5.\n",
    "$$\n",
    ":::\n",
    "\n",
    "::: {#exm-}\n",
    "Calcoliamo il valore atteso della variabile casuale $X$ che rappresenta la somma dei punti ottenuti dal lancio di due dadi equilibrati a sei facce.\n",
    "\n",
    "Come abbiamo visto nel @sec-intro_random_var, $X$ può assumere i valori [2, 3, 4, 5, 6, 7, 8, 9, 10, 11, 12] con una distribuzione di massa di probabilità pari a [1/36, 2/36, 3/36, 4/36, 5/36, 6/36, 5/36, 4/36, 3/36, 2/36, 1/36]. Applicando la formula del valore atteso, otteniamo:\n",
    "\n",
    "$$\n",
    "\\mathbb{E}(X) = \\sum_{i=1}^{11} x_i \\cdot P(x_i) = 2 \\cdot \\frac{1}{36} + 3 \\cdot \\frac{2}{36} + \\dots + 12 \\cdot \\frac{1}{36} = 7.0.\n",
    "$$\n",
    "\n",
    ":::\n"
   ]
  },
  {
   "attachments": {},
   "cell_type": "markdown",
   "id": "50a6696b-1f41-4ccb-8e8c-9b1bc021eb79",
   "metadata": {},
   "source": [
    "::: {#exm-}\n",
    "\n",
    "Vediamo ora come eseguire i calcoli del valore atteso utilizzando Python. Per prima cosa, definiamo i valori della variabile casuale e li trasformiamo in un array NumPy:"
   ]
  },
  {
   "cell_type": "code",
   "execution_count": 3,
   "id": "c57c3730-64d8-484c-a74c-2bb40ddddd56",
   "metadata": {},
   "outputs": [
    {
     "data": {
      "text/plain": [
       "array([ 2,  3,  4,  5,  6,  7,  8,  9, 10, 11, 12])"
      ]
     },
     "execution_count": 3,
     "metadata": {},
     "output_type": "execute_result"
    }
   ],
   "source": [
    "x = np.array(list(range(2, 13)))\n",
    "x"
   ]
  },
  {
   "attachments": {},
   "cell_type": "markdown",
   "id": "cce94403-a7a6-4074-91f1-13911eac39ef",
   "metadata": {},
   "source": [
    "Successivamente, calcoliamo la distribuzione di massa della variabile casuale $X$, come visto nel @sec-intro-prob."
   ]
  },
  {
   "cell_type": "code",
   "execution_count": 6,
   "id": "897ac085-ad88-471e-aa1a-3640d93b7d63",
   "metadata": {},
   "outputs": [
    {
     "data": {
      "text/plain": [
       "array([0.02777778, 0.05555556, 0.08333333, 0.11111111, 0.13888889,\n",
       "       0.16666667, 0.13888889, 0.11111111, 0.08333333, 0.05555556,\n",
       "       0.02777778])"
      ]
     },
     "execution_count": 6,
     "metadata": {},
     "output_type": "execute_result"
    }
   ],
   "source": [
    "r = range(1, 7)\n",
    "sample = [(i, j) for i in r for j in r]\n",
    "\n",
    "px = []\n",
    "\n",
    "for i in range(2, 13):\n",
    "    event = [roll for roll in sample if sum(roll) == i]\n",
    "    px.append(len(event) / len(sample))\n",
    "\n",
    "px = np.array(px)\n",
    "px"
   ]
  },
  {
   "attachments": {},
   "cell_type": "markdown",
   "id": "e1b12de2-144c-4afd-9037-1217d3516c97",
   "metadata": {},
   "source": [
    "Ora, possiamo calcolare il valore atteso di $X$ utilizzando la formula del valore atteso per variabili casuali discrete:"
   ]
  },
  {
   "cell_type": "code",
   "execution_count": 7,
   "id": "bfa473a9-766a-4673-9b99-c8687c075ebd",
   "metadata": {},
   "outputs": [
    {
     "data": {
      "text/plain": [
       "7.0"
      ]
     },
     "execution_count": 7,
     "metadata": {},
     "output_type": "execute_result"
    }
   ],
   "source": [
    "ex = np.sum(x * px)\n",
    "ex.round(3)"
   ]
  },
  {
   "attachments": {},
   "cell_type": "markdown",
   "id": "d8c55f51-61c7-431d-886d-9eb0d24e02ac",
   "metadata": {},
   "source": [
    "In alternativa, possiamo utilizzare le funzioni del modulo `rv_discrete` della libreria `scipy.stats` per ottenere il valore atteso:"
   ]
  },
  {
   "cell_type": "code",
   "execution_count": 8,
   "id": "383ac5f2-a633-4f4f-afea-4be83bb8ecc7",
   "metadata": {},
   "outputs": [],
   "source": [
    "x = np.arange(2, 13)\n",
    "px = np.array([1/36, 2/36, 3/36, 4/36, 5/36, 6/36, 5/36, 4/36, 3/36, 2/36, 1/36])\n",
    "X = stats.rv_discrete(values=(x, px))"
   ]
  },
  {
   "attachments": {},
   "cell_type": "markdown",
   "id": "bf14190b-a546-4085-9e9e-0ab419de04bc",
   "metadata": {},
   "source": [
    "Una volta definito l'oggetto $X$ con `rv_discrete()`, possiamo calcolare il valore atteso utilizzando la funzione `expect()`:"
   ]
  },
  {
   "cell_type": "code",
   "execution_count": 9,
   "id": "aee82d07-b562-43da-b653-91b8ede0f41a",
   "metadata": {},
   "outputs": [
    {
     "data": {
      "text/plain": [
       "7.0"
      ]
     },
     "execution_count": 9,
     "metadata": {},
     "output_type": "execute_result"
    }
   ],
   "source": [
    "x_ev = X.expect()\n",
    "round(x_ev, 3)"
   ]
  },
  {
   "cell_type": "markdown",
   "metadata": {},
   "source": [
    "Questi metodi dimostrano come sia possibile calcolare il valore atteso di una variabile casuale sia attraverso un approccio diretto con NumPy, sia utilizzando gli strumenti avanzati di `scipy.stats`.\n",
    "\n",
    ":::"
   ]
  },
  {
   "attachments": {},
   "cell_type": "markdown",
   "id": "92de4cd9-d515-4ddb-8e6f-234f2bba451b",
   "metadata": {},
   "source": [
    "### Interpretazione\n",
    "\n",
    "Il valore atteso di una variabile casuale corrisponde alla media aritmetica di un ampio numero di realizzazioni indipendenti della variabile stessa.\n",
    "\n",
    "Per chiarire questo concetto, consideriamo nuovamente l'esempio del lancio di due dadi bilanciati a sei facce, dove la variabile casuale $X$ rappresenta la \"somma dei due dadi\". Per interpretare il valore atteso, possiamo simulare un grande numero di realizzazioni indipendenti di $X$ utilizzando la funzione `np.random.choice()` della libreria NumPy. Questa funzione permette di generare campioni casuali basati sui valori della variabile casuale, sul numero di ripetizioni indipendenti (qui 1.000.000) e sulla distribuzione di massa di probabilità associata:\n",
    "\n",
    "```python\n",
    "x_samples = np.random.choice(x, size=1000000, p=px)\n",
    "```\n",
    "\n",
    "L'istruzione `np.random.choice(x, size=1000000, p=px)` utilizza NumPy per generare un array di 1.000.000 di elementi (specificato dal parametro `size`), selezionati casualmente dall'array `x` secondo le probabilità specificate nell'array `px`. In questo contesto, `x` è l'array contenente i possibili valori di $X$, mentre `px` è un array che rappresenta le probabilità associate a ciascun valore di $x$.\n",
    "\n",
    "Come ci si aspetterebbe, quando il numero di realizzazioni indipendenti è sufficientemente grande, la media aritmetica dei campioni generati si avvicina al valore atteso della variabile casuale:"
   ]
  },
  {
   "cell_type": "code",
   "execution_count": 11,
   "id": "d6e8c811-e9a1-476b-a85c-7d4a94465547",
   "metadata": {},
   "outputs": [
    {
     "data": {
      "text/plain": [
       "7.002"
      ]
     },
     "execution_count": 11,
     "metadata": {},
     "output_type": "execute_result"
    }
   ],
   "source": [
    "np.mean(x_samples).round(3)"
   ]
  },
  {
   "cell_type": "markdown",
   "metadata": {},
   "source": [
    "Questo risultato conferma che, con un numero elevato di simulazioni, la media aritmetica dei valori ottenuti fornisce una buona approssimazione del valore atteso teorico di $X$."
   ]
  },
  {
   "attachments": {},
   "cell_type": "markdown",
   "id": "acdcfcc2-9eb2-4ce8-b719-6b72027a2cf4",
   "metadata": {},
   "source": [
    "### Proprietà del Valore Atteso\n",
    "\n",
    "Una delle proprietà più importanti del valore atteso è la sua **linearità**: il valore atteso della somma di due variabili casuali è uguale alla somma dei loro rispettivi valori attesi:\n",
    "\n",
    "$$\n",
    "\\mathbb{E}(X + Y) = \\mathbb{E}(X) + \\mathbb{E}(Y).\n",
    "$$ {#eq-prop-expval-linearity}\n",
    "\n",
    "Questa proprietà, espressa dalla formula sopra, è intuitiva quando $X$ e $Y$ sono variabili casuali indipendenti, ma è valida anche nel caso in cui $X$ e $Y$ siano correlate.\n",
    "\n",
    "Inoltre, se moltiplichiamo una variabile casuale per una costante $c$, il valore atteso del prodotto è uguale alla costante moltiplicata per il valore atteso della variabile casuale:\n",
    "\n",
    "$$\n",
    "\\mathbb{E}(cY) = c \\mathbb{E}(Y).\n",
    "$$  {#eq-prop-expval-const}\n",
    "\n",
    "Questa proprietà ci dice che una costante può essere \"estratta\" dall'operatore di valore atteso, e si applica a qualunque numero di variabili casuali.\n",
    "\n",
    "Un'altra proprietà significativa riguarda il prodotto di variabili casuali indipendenti. Se $X$ e $Y$ sono indipendenti, allora il valore atteso del loro prodotto è uguale al prodotto dei loro valori attesi:\n",
    "\n",
    "$$\n",
    "\\mathbb{E}(XY) = \\mathbb{E}(X) \\mathbb{E}(Y).\n",
    "$$ {#eq-expval-prod-ind-rv}\n",
    "\n",
    "Infine, consideriamo la media aritmetica $\\bar{X} = \\frac{X_1 + \\ldots + X_n}{n}$ di $n$ variabili casuali indipendenti con la stessa distribuzione e con valore atteso $\\mu$. Il valore atteso della media aritmetica è:\n",
    "\n",
    "$$\n",
    "\\mathbb{E}(\\bar{X}) = \\frac{1}{n} \\left(\\mathbb{E}(X_1) + \\dots + \\mathbb{E}(X_n)\\right) = \\frac{1}{n} \\cdot n \\cdot \\mathbb{E}(X) = \\mu.\n",
    "$$\n",
    "\n",
    "Questo risultato conferma che la media aritmetica di un campione di variabili casuali indipendenti ha lo stesso valore atteso della distribuzione originaria, rendendo il valore atteso uno strumento cruciale per l'analisi statistica e probabilistica.\n",
    "\n",
    "::: {#exm-}\n",
    "\n",
    "Consideriamo il seguente esperimento casuale. Sia $Y$ il numero che si ottiene dal lancio di un dado equilibrato a sei facce e $Y$ il numero di teste prodotto dal lancio di una moneta equilibrata (0 oppure 1). Troviamo il valore atteso di $X+Y$.\n",
    "\n",
    "Per risolvere il problema iniziamo a costruire lo spazio campione dell'esperimento casuale.\n",
    "\n",
    "| $x /\\ y$ |   1    |   2    |   3    |   4    |   5    |   6    |\n",
    "|:--------------------:|:------:|:------:|:------:|:------:|:------:|:------:|\n",
    "|          0           | (0, 1) | (0, 2) | (0, 3) | (0, 4) | (0, 5) | (0, 6) |\n",
    "|          1           | (1, 1) | (1, 2) | (1, 3) | (1, 4) | (1, 5) | (1, 6) |\n",
    "\n",
    "ovvero\n",
    "\n",
    "| $x /\\ y$ |  1  |  2  |  3  |  4  |  5  |  6  |\n",
    "|:--------------------:|:---:|:---:|:---:|:---:|:---:|:---:|\n",
    "|          0           |  1  |  2  |  3  |  4  |  5  |  6  |\n",
    "|          1           |  2  |  3  |  4  |  5  |  6  |  7  |\n",
    "\n",
    "Il risultato del lancio del dado è indipendente dal risultato del lancio della moneta. Pertanto, ciascun evento elementare dello spazio campione avrà la stessa probabilità di verificarsi, ovvero $P(\\omega) = \\frac{1}{12}$. Il valore atteso di $X+Y$ è dunque uguale a:\n",
    "\n",
    "$$\n",
    "\\mathbb{E}(X+Y) = 1 \\cdot \\frac{1}{12} + 2 \\cdot \\frac{1}{12} + \\dots + 7 \\cdot \\frac{1}{12} = 4.0.\n",
    "$$\n",
    "\n",
    "Si ottiene lo stesso risultato usando l'@eq-prop-expval-linearity:\n",
    "\n",
    "$$\n",
    "\\mathbb{E}(X+Y) = \\mathbb{E}(X) + E(Y) = 3.5 + 0.5 = 4.0.\n",
    "$$\n",
    "\n",
    ":::"
   ]
  },
  {
   "attachments": {},
   "cell_type": "markdown",
   "id": "0746a61d-02d2-4349-b5ba-46869b797275",
   "metadata": {},
   "source": [
    "::: {#exm-}\n",
    "\n",
    "Svolgiamo ora l'esercizio in Python."
   ]
  },
  {
   "cell_type": "code",
   "execution_count": 12,
   "id": "2fc42fa6-cb22-4200-aacc-7fed6b186f3e",
   "metadata": {},
   "outputs": [
    {
     "data": {
      "text/plain": [
       "[(0, 1),\n",
       " (0, 2),\n",
       " (0, 3),\n",
       " (0, 4),\n",
       " (0, 5),\n",
       " (0, 6),\n",
       " (1, 1),\n",
       " (1, 2),\n",
       " (1, 3),\n",
       " (1, 4),\n",
       " (1, 5),\n",
       " (1, 6)]"
      ]
     },
     "execution_count": 12,
     "metadata": {},
     "output_type": "execute_result"
    }
   ],
   "source": [
    "coin = range(0, 2)\n",
    "die = range(1, 7)\n",
    "\n",
    "sample = [(c, d) for c in coin for d in die]\n",
    "list(sample)"
   ]
  },
  {
   "cell_type": "code",
   "execution_count": 13,
   "id": "1b74a8f3-d5dd-4d7b-96e8-a952274b76f3",
   "metadata": {},
   "outputs": [
    {
     "name": "stdout",
     "output_type": "stream",
     "text": [
      "P(X + Y = 1) = 1 / 12\n",
      "P(X + Y = 2) = 2 / 12\n",
      "P(X + Y = 3) = 2 / 12\n",
      "P(X + Y = 4) = 2 / 12\n",
      "P(X + Y = 5) = 2 / 12\n",
      "P(X + Y = 6) = 2 / 12\n",
      "P(X + Y = 7) = 1 / 12\n"
     ]
    }
   ],
   "source": [
    "px = []\n",
    "for i in range(1, 8):\n",
    "    event = [roll for roll in sample if sum(roll) == i]\n",
    "    px.append(len(event) / len(sample))\n",
    "    print(f\"P(X + Y = {i}) = {len(event)} / {len(sample)}\")\n"
   ]
  },
  {
   "cell_type": "code",
   "execution_count": 14,
   "id": "628af16b-7847-414d-b183-dcd2dc8ed509",
   "metadata": {},
   "outputs": [
    {
     "data": {
      "text/plain": [
       "4.0"
      ]
     },
     "execution_count": 14,
     "metadata": {},
     "output_type": "execute_result"
    }
   ],
   "source": [
    "x = np.arange(1, 8)\n",
    "sum(x * px)"
   ]
  },
  {
   "cell_type": "markdown",
   "metadata": {},
   "source": [
    ":::"
   ]
  },
  {
   "attachments": {},
   "cell_type": "markdown",
   "id": "32e2deea-44c9-46e7-8cef-39cb73fceb59",
   "metadata": {},
   "source": [
    "::: {#exm-}\n",
    "Consideriamo le variabili casuali $X$ e $Y$ definite nel caso del lancio di tre monete equilibrate, dove $X$ conta il numero delle teste nei tre lanci e $Y$ conta il numero delle teste al primo lancio. Si calcoli il valore atteso di $Z = X \\cdot Y$.\n",
    "\n",
    "La distribuzione di probabilità congiunta $P(X, Y)$ è fornita nella tabella seguente.\n",
    "\n",
    "| $x /\\ y$ |  0  |  1  | $p(Y)$ |\n",
    "|:--------------------:|:---:|:---:|:------:|\n",
    "|          0           | 1/8 |  0  |  1/8   |\n",
    "|          1           | 2/8 | 1/8 |  3/8   |\n",
    "|          2           | 1/8 | 2/8 |  3/8   |\n",
    "|          3           |  0  | 1/8 |  1/8   |\n",
    "|        $p(y)$        | 4/8 | 4/8 |  1.0   |\n",
    "\n",
    "Il calcolo del valore atteso di $XY$ si riduce a\n",
    "\n",
    "$$\n",
    "\\mathbb{E}(Z) = 1 \\cdot \\frac{1}{8} + 2 \\cdot \\frac{2}{8} + 3 \\cdot \\frac{1}{8} = 1.0.\n",
    "$$\n",
    "\n",
    "Si noti che le variabili casuali $Y$ e $Y$ non sono indipendenti. Dunque non possiamo usare l'@eq-expval-prod-ind-rv. Infatti, il valore atteso di $X$ è\n",
    "\n",
    "$$\n",
    "\\mathbb{E}(X) = 1 \\cdot \\frac{3}{8} + 2 \\cdot \\frac{3}{8} + 3 \\cdot \\frac{1}{8} = 1.5\n",
    "$$\n",
    "\n",
    "e il valore atteso di $Y$ è\n",
    "\n",
    "$$\n",
    "\\mathbb{E}(Y) = 0 \\cdot \\frac{4}{8} + 1 \\cdot \\frac{4}{8} = 0.5.\n",
    "$$\n",
    "\n",
    "Perciò\n",
    "\n",
    "$$\n",
    "1.5 \\cdot 0.5 \\neq 1.0.\n",
    "$$\n",
    "\n",
    ":::"
   ]
  },
  {
   "attachments": {},
   "cell_type": "markdown",
   "id": "d006dbbf-3395-4e12-983c-a48737d48852",
   "metadata": {},
   "source": [
    "### Variabili casuali continue\n",
    "\n",
    "Nel caso di una variabile casuale continua $X$, il valore atteso è definito come:\n",
    "\n",
    "$$\n",
    "\\mathbb{E}(X) = \\int_{-\\infty}^{+\\infty} x \\cdot p(x) \\, \\mathrm{d}x.\n",
    "$$\n",
    "\n",
    "Anche in questo contesto, il valore atteso rappresenta una media ponderata dei valori di $x$, dove ogni possibile valore di $x$ è ponderato in base alla densità di probabilità $p(x)$. \n",
    "\n",
    "L'integrale può essere interpretato analogamente a una somma continua, in cui $x$ rappresenta la posizione delle barre infinitamente strette di un istogramma, e $p(x)$ rappresenta l'altezza di tali barre. La notazione $\\int_{-\\infty}^{+\\infty}$ indica che si sta sommando il contributo di ogni valore possibile di $x$ lungo l'intero asse reale.\n",
    "\n",
    "Questa interpretazione rende chiaro come l'integrale calcoli una somma ponderata che si estende su tutti i possibili valori di $x$, fornendo una misura centrale della distribuzione della variabile casuale continua. Per ulteriori dettagli sulla notazione dell'integrale, si veda l'@sec-calculus.\n",
    "\n",
    "#### Moda\n",
    "\n",
    "Un'altra misura di tendenza centrale delle variabili casuali continue è la moda. La moda di $Y$ individua il valore $y$ più plausibile, ovvero il valore $y$ che massimizza la funzione di densità $p(y)$:\n",
    "\n",
    "$$\n",
    "Mo(Y) = \\text{argmax}_y p(y).\n",
    "$$ {#eq-def-mode}\n",
    "\n",
    "::: {.callout-note}\n",
    "La notazione $\\text{argmax}_y p(y)$ significa: il valore $y$ tale per cui la funzione $p(y)$ assume il suo valore massimo.\n",
    ":::"
   ]
  },
  {
   "attachments": {},
   "cell_type": "markdown",
   "id": "9d7119ea-1918-44e8-889a-2e07b7dcd367",
   "metadata": {},
   "source": [
    "## Varianza\n",
    "\n",
    "Dopo il valore atteso, la seconda proprietà più importante di una variabile casuale è la *varianza*.\n",
    "\n",
    "::: {#def-}\n",
    "Se $X$ è una variabile casuale discreta con distribuzione $p(x)$, la varianza di $X$, denotata con $\\mathbb{V}(X)$, è definita come:\n",
    "\n",
    "$$\n",
    "\\mathbb{V}(X) = \\mathbb{E}\\Big[\\big(X - \\mathbb{E}(X)\\big)^2\\Big].\n",
    "$$ {#eq-def-var-rv}\n",
    ":::\n",
    "\n",
    "In altre parole, la varianza misura la deviazione media quadratica dei valori della variabile rispetto alla sua media. Se denotiamo il valore atteso di $X$ con $\\mu = \\mathbb{E}(X)$, la varianza $\\mathbb{V}(X)$ diventa il valore atteso di $(X - \\mu)^2$.\n",
    "\n",
    "### Interpretazione della Varianza\n",
    "\n",
    "La varianza rappresenta una misura della \"dispersione\" dei valori di $X$ intorno al suo valore atteso. Quando calcoliamo la varianza, stiamo effettivamente misurando quanto i valori di $X$ tendono a differire dalla media $\\mu$. \n",
    "\n",
    "Per capire meglio, consideriamo la variabile casuale $X - \\mathbb{E}(X)$, detta *scarto* o *deviazione* dalla media. Questa variabile rappresenta le \"distanze\" tra i valori di $X$ e il valore atteso $\\mathbb{E}(X)$. Tuttavia, poiché lo scarto può essere positivo o negativo, la media dello scarto è sempre zero, il che lo rende inadatto a quantificare la dispersione. \n",
    "\n",
    "Per risolvere questo problema, eleviamo al quadrato gli scarti, ottenendo $(X - \\mathbb{E}(X))^2$, che rende tutte le deviazioni positive. La varianza è quindi la media di questi scarti al quadrato, fornendo una misura efficace della dispersione complessiva dei valori di $X$ rispetto alla sua media. \n",
    "\n",
    "Questo concetto è fondamentale per comprendere la variabilità di una distribuzione e per applicare strumenti statistici che richiedono una conoscenza approfondita della distribuzione dei dati.\n"
   ]
  },
  {
   "attachments": {},
   "cell_type": "markdown",
   "id": "ff012817-7d09-4b8b-9a20-902b86abeb9f",
   "metadata": {},
   "source": [
    "::: {#exm-}\n",
    "\n",
    "Posta $S$ uguale alla somma dei punti ottenuti nel lancio di due dadi equilibrati, si calcoli la varianza di $S$.\n",
    "\n",
    "La variabile casuale $S$ ha la seguente distribuzione di probabilità:\n",
    "\n",
    "|    $s$     |       2        |       3        |       4        |       5        |       6        |       7        |       8        |       9        |       10       |       11       |       12       |\n",
    "|:----------:|:--------------:|:--------------:|:--------------:|:--------------:|:--------------:|:--------------:|:--------------:|:--------------:|:--------------:|:--------------:|:--------------:|\n",
    "| $P(S = s)$ | $\\frac{1}{36}$ | $\\frac{2}{36}$ | $\\frac{3}{36}$ | $\\frac{4}{36}$ | $\\frac{5}{36}$ | $\\frac{6}{36}$ | $\\frac{5}{36}$ | $\\frac{4}{36}$ | $\\frac{3}{36}$ | $\\frac{2}{36}$ | $\\frac{1}{36}$ |\n",
    "\n",
    "Essendo $\\mathbb{E}(S) = 7$, la varianza diventa\n",
    "\n",
    "$$\n",
    "\\begin{align}\n",
    "\\mathbb{V}(S) &= \\sum \\left(s - \\mathbb{E}(S)\\right)^2 \\cdot P(s) \\notag\\\\\n",
    "&= (2 - 7)^2 \\cdot \\frac{1}{36} + (3-7)^2 \\cdot \\frac{3}{36} + \\dots + (12 - 7)^2 \\cdot \\frac{1}{36} \\notag\\\\\n",
    "&= 5.8333.\\notag\n",
    "\\end{align}\n",
    "$$\n",
    "\n",
    ":::\n",
    "\n",
    "::: {#exm-}\n",
    "\n",
    "Svolgiamo l'esercizio in Python."
   ]
  },
  {
   "cell_type": "code",
   "execution_count": 17,
   "id": "59ce11c9-0eca-403a-9b37-b53ffba76c2c",
   "metadata": {},
   "outputs": [
    {
     "data": {
      "text/plain": [
       "6.999999999999998"
      ]
     },
     "execution_count": 17,
     "metadata": {},
     "output_type": "execute_result"
    }
   ],
   "source": [
    "x = np.arange(2, 13)\n",
    "px = np.array(\n",
    "    [\n",
    "        1 / 36,\n",
    "        2 / 36,\n",
    "        3 / 36,\n",
    "        4 / 36,\n",
    "        5 / 36,\n",
    "        6 / 36,\n",
    "        5 / 36,\n",
    "        4 / 36,\n",
    "        3 / 36,\n",
    "        2 / 36,\n",
    "        1 / 36,\n",
    "    ]\n",
    ")\n",
    "X = stats.rv_discrete(values=(x, px))\n",
    "ex = X.expect()\n",
    "ex"
   ]
  },
  {
   "attachments": {},
   "cell_type": "markdown",
   "id": "1bdc2fe3-a088-487c-9632-0ab01f2ebc19",
   "metadata": {},
   "source": [
    "Applichiamo l'@eq-def-var-rv:"
   ]
  },
  {
   "cell_type": "code",
   "execution_count": 5,
   "id": "5721fb4b-9f37-4a64-8fcb-1aa466c493db",
   "metadata": {},
   "outputs": [
    {
     "data": {
      "text/plain": [
       "5.833333333333333"
      ]
     },
     "execution_count": 5,
     "metadata": {},
     "output_type": "execute_result"
    }
   ],
   "source": [
    "((x - ex) ** 2 * px).sum()"
   ]
  },
  {
   "attachments": {},
   "cell_type": "markdown",
   "id": "fde81655-42e7-43a4-a169-9379801e0c35",
   "metadata": {},
   "source": [
    "Usiamo la funzione `var()` di `rv_discrete`:"
   ]
  },
  {
   "cell_type": "code",
   "execution_count": 6,
   "id": "1b523332-b0ff-434f-aedb-146b90b2e84e",
   "metadata": {},
   "outputs": [
    {
     "data": {
      "text/plain": [
       "5.833333333333364"
      ]
     },
     "execution_count": 6,
     "metadata": {},
     "output_type": "execute_result"
    }
   ],
   "source": [
    "X.var()"
   ]
  },
  {
   "cell_type": "markdown",
   "metadata": {},
   "source": [
    ":::"
   ]
  },
  {
   "attachments": {},
   "cell_type": "markdown",
   "id": "76b84f9e-fe40-4287-bafc-93842057e933",
   "metadata": {},
   "source": [
    "### Formula Alternativa per la Varianza\n",
    "\n",
    "Esiste un metodo più semplice e diretto per calcolare la varianza di una variabile casuale $X$:\n",
    "\n",
    "$$\n",
    "\\begin{align}\n",
    "\\mathbb{E}\\Big[\\big(X - \\mathbb{E}(X)\\big)^2\\Big] &= \\mathbb{E}\\big(X^2 - 2Y\\mathbb{E}(X) + \\mathbb{E}(X)^2\\big) \\notag\\\\\n",
    "&= \\mathbb{E}(X^2) - 2\\mathbb{E}(Y)\\mathbb{E}(X) + \\mathbb{E}(X)^2,\n",
    "\\end{align}\n",
    "$$\n",
    "\n",
    "dove $\\mathbb{E}(X)$ è una costante. Semplificando ulteriormente, otteniamo:\n",
    "\n",
    "$$\n",
    "\\mathbb{V}(X) = \\mathbb{E}(X^2) - \\big(\\mathbb{E}(X)\\big)^2.\n",
    "$$ {#eq-def-alt-var-rv}\n",
    "\n",
    "In altre parole, la varianza è data dalla differenza tra la media dei quadrati dei valori di $X$ e il quadrato della media di $X$.\n",
    "\n",
    "Questa formula è utile perché permette di calcolare la varianza senza dover prima determinare lo scarto quadratico medio per ciascun valore di $X$. Invece, si può calcolare direttamente la media dei quadrati e sottrarre il quadrato della media, il che spesso semplifica i calcoli e riduce il rischio di errori."
   ]
  },
  {
   "attachments": {},
   "cell_type": "markdown",
   "id": "d1c9edcb-6cb2-4f61-a2df-cef49fb8b47a",
   "metadata": {},
   "source": [
    "::: {#exm-}\n",
    "\n",
    "Consideriamo la variabile casuale $X$ che corrisponde al numero di teste che si osservano nel lancio di una moneta truccata con probabilità di testa uguale a 0.8. Si trovi la varianza di $Y$.\n",
    "\n",
    "Il valore atteso di $X$ è\n",
    "\n",
    "$$\n",
    "\\mathbb{E}(X) = 0 \\cdot 0.2 + 1 \\cdot 0.8 = 0.8.\n",
    "$$\n",
    "\n",
    "Usando la formula tradizionale della varianza otteniamo:\n",
    "\n",
    "$$\n",
    "\\mathbb{V}(X) = (0 - 0.8)^2 \\cdot 0.2 + (1 - 0.8)^2 \\cdot 0.8 = 0.16.\n",
    "$$\n",
    "\n",
    "Lo stesso risultato si trova con la formula alternativa della varianza. Il valore atteso di $X^2$ è\n",
    "\n",
    "$$\n",
    "\\mathbb{E}(X^2) = 0^2 \\cdot 0.2 + 1^2 \\cdot 0.8 = 0.8.\n",
    "$$\n",
    "\n",
    "e la varianza diventa\n",
    "\n",
    "$$\n",
    "\\mathbb{V}(X) = \\mathbb{E}(X^2) - \\big(\\mathbb{E}(Y) \\big)^2 = 0.8 - 0.8^2 = 0.16.\n",
    "$$\n",
    "\n",
    ":::\n",
    "\n",
    "::: {#exm-}\n",
    "\n",
    "Svolgiamo l'esercizio in Python:"
   ]
  },
  {
   "cell_type": "code",
   "execution_count": 21,
   "id": "cea35fa4-7f22-47d8-9fbd-4ac1f9ad0528",
   "metadata": {},
   "outputs": [
    {
     "data": {
      "text/plain": [
       "0.15999999999999992"
      ]
     },
     "execution_count": 21,
     "metadata": {},
     "output_type": "execute_result"
    }
   ],
   "source": [
    "x = np.array([0, 1])\n",
    "px = np.array([0.2, 0.8])\n",
    "\n",
    "sum(x**2 * px) - (sum(x * px)) ** 2"
   ]
  },
  {
   "cell_type": "markdown",
   "metadata": {},
   "source": [
    ":::"
   ]
  },
  {
   "attachments": {},
   "cell_type": "markdown",
   "id": "f25ddbc1-0ab7-457c-8b83-1ceb70ac1875",
   "metadata": {},
   "source": [
    "### Proprietà\n",
    "\n",
    "**Segno della varianza.** La varianza di una variabile aleatoria non è mai negativa, ed è zero solamente quando la variabile assume  un solo valore.\n",
    "\n",
    "**Invarianza per traslazione.** La varianza è invariante per traslazione, che lascia fisse le distanze dalla media, e cambia quadraticamente per riscalamento:\n",
    "  \n",
    "$$\n",
    "\\mathbb{V}(a + bX) = b^2\\mathbb{V}(X).\n",
    "$$\n",
    "\n",
    "*Dimostrazione.* Iniziamo a scrivere\n",
    "\n",
    "$$\n",
    "(aX+b)-{\\mathbb{E}}[aX+b]=aX+b-a{\\mathbb{E}}[X]-b=a(X-{\\mathbb  {E}}[X]).\n",
    "$$\n",
    "\n",
    "Quindi\n",
    "\n",
    "$$\n",
    "\\sigma _{{aX+b}}^{2}={\\mathbb{E}}[a^{2}(X-{\\mathbb  {E}}[X])^{2}]=a^{2}\\sigma _{X}^{2}.\n",
    "$$\n"
   ]
  },
  {
   "attachments": {},
   "cell_type": "markdown",
   "id": "383b900c-e750-4a42-ae25-0ab936efbce9",
   "metadata": {},
   "source": [
    "Esaminiamo una dimostrazione numerica."
   ]
  },
  {
   "cell_type": "code",
   "execution_count": 22,
   "id": "952f5f2e-15f3-420a-9385-2b1a194cfb93",
   "metadata": {},
   "outputs": [
    {
     "data": {
      "text/plain": [
       "True"
      ]
     },
     "execution_count": 22,
     "metadata": {},
     "output_type": "execute_result"
    }
   ],
   "source": [
    "x = np.array([2, 1, 4, 7])\n",
    "y = 100 + 2 * x\n",
    "\n",
    "np.var(y) == 2**2 * np.var(x)"
   ]
  },
  {
   "attachments": {},
   "cell_type": "markdown",
   "id": "784ac8b4-b800-4c06-8fb3-cd3611d20014",
   "metadata": {},
   "source": [
    "**Varianza della somma di due variabili indipendenti.** La varianza della somma di due variabili indipendenti o anche solo incorrelate è pari alla somma delle loro varianze:\n",
    "\n",
    "$$\n",
    "\\mathbb{V}(X+Y) = \\mathbb{V}(X) + \\mathbb{V}(Y).\n",
    "$$\n",
    "\n",
    "*Dimostrazione.* Se $\\mathbb{E}(X) = \\mathbb{E}(Y) = 0$, allora $\\mathbb{E}(X+Y) = 0$ e \n",
    "\n",
    "$$\\mathbb{V}(X+Y) = \\mathbb{E}((X+Y)^2) = \\mathbb{E}(X^2) + 2 \\mathbb{E}(XY) + \\mathbb{E}(Y^2).$$ \n",
    "\n",
    "Siccome le variabili sono indipendenti risulta $\\mathbb{E}(XY) = \\mathbb{E}(X)\\mathbb{E}(Y) = 0$. "
   ]
  },
  {
   "attachments": {},
   "cell_type": "markdown",
   "id": "f6e45424-463d-4d49-bc59-3e86471f680e",
   "metadata": {},
   "source": [
    "**Varianza della differenza di due variabili indipendenti.** La varianza della differenza di due variabili indipendenti è pari alla somma delle loro varianze:\n",
    "\n",
    "$$\n",
    "\\mathbb{V}(X-Y) = \\mathbb{V}(X) + \\mathbb{V}(Y).\n",
    "$$\n",
    "\n",
    "*Dimostrazione.*\n",
    "\n",
    "$$\n",
    "\\mathbb{V}(X-Y) = \\mathbb{V}(X +(-Y)) = \\mathbb{V}(X) + \\mathbb{V}(-Y) = \\mathbb{V}(X) + \\mathbb{V}(Y).\n",
    "$$"
   ]
  },
  {
   "attachments": {},
   "cell_type": "markdown",
   "id": "96ac87d2-735c-434a-9cd4-2f95c0ea1e76",
   "metadata": {},
   "source": [
    "**Varianza della somma di due variabili non indipendenti.** Se $X$ e $Y$ non sono indipendenti, la formula viene corretta dalla loro covarianza:\n",
    "\n",
    "$$\n",
    "\\mathbb{V}(X+Y) = \\mathbb{V}(X) + \\mathbb{V}(Y) + 2 Cov(X,Y),\n",
    "$$\n",
    "\n",
    "dove $Cov(X,Y) = \\mathbb{E}(XY) - \\mathbb{E}(X)\\mathbb{E}(Y)$.\n",
    "\n",
    "Una dimostrazione numerica di questo principio è fornita sotto."
   ]
  },
  {
   "cell_type": "code",
   "execution_count": 23,
   "id": "f96ed007-d0d5-45ba-8997-c726f3946551",
   "metadata": {},
   "outputs": [
    {
     "data": {
      "text/plain": [
       "35.25"
      ]
     },
     "execution_count": 23,
     "metadata": {},
     "output_type": "execute_result"
    }
   ],
   "source": [
    "x = np.array([2, 1, 4, 7])\n",
    "y = np.array([1, 3, 5, 11])\n",
    "\n",
    "np.var(x + y, ddof=0)"
   ]
  },
  {
   "cell_type": "code",
   "execution_count": 24,
   "id": "4dd94309-6591-45ff-849f-849707a10b1d",
   "metadata": {},
   "outputs": [
    {
     "data": {
      "text/plain": [
       "35.25"
      ]
     },
     "execution_count": 24,
     "metadata": {},
     "output_type": "execute_result"
    }
   ],
   "source": [
    "np.var(x, ddof=0) + np.var(y, ddof=0) + 2 * np.cov(x, y, ddof=0)[0, 1]"
   ]
  },
  {
   "attachments": {},
   "cell_type": "markdown",
   "id": "9d4744b8-611a-4b17-96c6-5603aa5b424c",
   "metadata": {},
   "source": [
    "**Varianza della media di variabili indipendenti.** La media aritmetica \n",
    "$\\textstyle {\\bar  {X}}={\\frac  {X_{1}+\\ldots +X_{n}}{n}}$ di $n$ variabili casuali indipendenti aventi la medesima distribuzione, ha varianza \n",
    "\n",
    "$$\n",
    "\\mathbb{V}(\\bar{X}) = \\frac{1}{n^2} \\mathbb{V}(X_1)+ \\dots \\mathbb{V}(X_n) = \\frac{1}{n^2} n \\mathbb{V}(X) = \\frac{1}{n} \\mathbb{V}(X).\n",
    "$$"
   ]
  },
  {
   "attachments": {},
   "cell_type": "markdown",
   "id": "c4999ade-cd40-47be-b8a0-0c5af18c224a",
   "metadata": {},
   "source": [
    "Il principio precedente è illustrato dalla seguente simulazione."
   ]
  },
  {
   "cell_type": "code",
   "execution_count": 27,
   "id": "fcfcb107-5de7-43e4-a757-4b531565590a",
   "metadata": {},
   "outputs": [
    {
     "data": {
      "text/plain": [
       "3.4103710835201433"
      ]
     },
     "execution_count": 27,
     "metadata": {},
     "output_type": "execute_result"
    }
   ],
   "source": [
    "# Set up the population distribution\n",
    "population = np.random.normal(loc=50, scale=10, size=10000)\n",
    "\n",
    "# Set up the sample size and number of samples\n",
    "sample_size = 30\n",
    "num_samples = 100000\n",
    "\n",
    "# Create an array to hold the sample means\n",
    "sample_means = np.zeros(num_samples)\n",
    "\n",
    "# Generate the samples and compute their means\n",
    "for i in range(num_samples):\n",
    "    sample = np.random.choice(population, size=sample_size)\n",
    "    sample_means[i] = np.mean(sample)\n",
    "\n",
    "# Calculate the variance of the sample means\n",
    "sampling_dist_mean_var = np.var(sample_means)\n",
    "sampling_dist_mean_var"
   ]
  },
  {
   "attachments": {},
   "cell_type": "markdown",
   "id": "6d58f60b-9b1c-4b45-83ab-34574fe7e4c3",
   "metadata": {},
   "source": [
    "Il valore teorico della varianza della distribuzione campionaria della media è"
   ]
  },
  {
   "cell_type": "code",
   "execution_count": 28,
   "id": "2c66745e-752e-4274-b70b-1005cfc6b962",
   "metadata": {},
   "outputs": [
    {
     "data": {
      "text/plain": [
       "3.3333333333333335"
      ]
     },
     "execution_count": 28,
     "metadata": {},
     "output_type": "execute_result"
    }
   ],
   "source": [
    "10**2 / 30"
   ]
  },
  {
   "attachments": {},
   "cell_type": "markdown",
   "id": "af22b509-e559-42fd-9b26-41a8a2321194",
   "metadata": {},
   "source": [
    "### Variabili casuali continue\n",
    "\n",
    "Per una variabile casuale continua $X$, la varianza è definita come:\n",
    "\n",
    "$$\n",
    "\\mathbb{V}(X) = \\int_{-\\infty}^{+\\infty} \\large[x - \\mathbb{E}(X)\\large]^2 p(x) \\,\\operatorname {d}\\!x.\n",
    "$$ {#eq-def-var-rv-cont}\n",
    "\n",
    "Analogamente al caso discreto, la varianza di una variabile casuale continua $X$ una misura della dispersione, ovvero la \"distanza\" media quadratica attesa dei valori $x$ rispetto alla loro media \n",
    "$\\mathbb{E}(X)$. In altre parole, la varianza quantifica quanto i valori della variabile casuale si discostano tipicamente dal loro valore medio.\n",
    "\n",
    "## Deviazione Standard\n",
    "\n",
    "Quando si lavora con le varianze, i valori sono elevati al quadrato, il che può rendere i numeri significativamente più grandi (o più piccoli) rispetto ai dati originali. Per riportare questi valori all'unità di misura della scala originale, si prende la radice quadrata della varianza. Il risultato ottenuto è chiamato *deviazione standard* ed è comunemente indicato con la lettera greca $\\sigma$.\n",
    "\n",
    "::: {#def-}\n",
    "La deviazione standard, o scarto quadratico medio, è definita come la radice quadrata della varianza:\n",
    "\n",
    "$$\n",
    "\\sigma_X = \\sqrt{\\mathbb{V}(X)}.\n",
    "$$\n",
    ":::\n",
    "\n",
    "Come nella statistica descrittiva, la deviazione standard di una variabile casuale fornisce una misura della dispersione, ossia la \"distanza\" tipica o prevista dei valori $x$ rispetto alla loro media.\n",
    "\n",
    "::: {#exm-}\n",
    "\n",
    "Per i dadi equilibrati dell'esempio precedente, la deviazione standard della variabile casuale $S$ è pari a $\\sqrt{5.833} = 2.415$. Questo valore indica quanto i risultati della somma dei due dadi tendono a variare attorno alla loro media.\n",
    "\n",
    ":::"
   ]
  },
  {
   "attachments": {},
   "cell_type": "markdown",
   "id": "7e8f524c-7dfc-4a3a-b180-d2472c2834c0",
   "metadata": {},
   "source": [
    "## Standardizzazione\n",
    "\n",
    "::: {#def-}\n",
    "Data una variabile casuale $X$, si dice *variabile standardizzata* di $X$ l'espressione\n",
    "\n",
    "$$\n",
    "Z = \\frac{X - \\mathbb{E}(X)}{\\sigma_X}.\n",
    "$$ {#eq-standardization}\n",
    ":::\n",
    "\n",
    "Solitamente, una variabile standardizzata viene denotata con la lettera $Z$."
   ]
  },
  {
   "attachments": {},
   "cell_type": "markdown",
   "id": "e4e1146b-7d54-4f87-9d34-47cf0da7dbaf",
   "metadata": {},
   "source": [
    "## Momenti di variabili casuali\n",
    "\n",
    "::: {#def-}\n",
    "Si chiama *momento* di ordine $q$ di una v.c. $X$, dotata di densità $p(x)$, la quantità\n",
    "\n",
    "$$\n",
    "\\mathbb{E}(X^q) = \\int_{-\\infty}^{+\\infty} x^q p(x) \\; dx.\n",
    "$$ {#eq-moments-cont}\n",
    "\n",
    "Se $X$ è una v.c. discreta, i suoi momenti valgono:\n",
    "\n",
    "$$\n",
    "\\mathbb{E}(X^q) = \\sum_i x_i^q P(x_i).\n",
    "$$ {#eq-moments-discr}\n",
    ":::\n",
    "\n",
    "I momenti sono importanti parametri indicatori di certe proprietà di $X$. I più noti sono senza dubbio quelli per $q = 1$ e $q = 2$. Il momento del primo ordine corrisponde al valore atteso di $X$. Spesso i momenti di ordine superiore al primo vengono calcolati rispetto al valor medio di $X$, operando una traslazione $x_0 = x − \\mathbb{E}(X)$ che individua lo scarto dalla media. Ne deriva che il momento centrale di ordine 2 corrisponde alla varianza.\n",
    "\n",
    "## Alcuni esempi in Python\n",
    "\n",
    "Utilizzando il modulo `stats` di `scipy`, è possibile semplificare i calcoli del valore atteso e della varianza di variabili casuali discrete.\n",
    "\n",
    "Consideriamo ad esempio una variabile casuale $X$ che rappresenta i valori ottenuti dal lancio di un dado non equilibrato, con valori possibili da 0 a 6, e con la seguente distribuzione di massa di probabilità: 0.1, 0.2, 0.3, 0.1, 0.1, 0.0, 0.2.\n",
    "\n",
    "Iniziamo a definire un vettore che contiene i valori della v.c.:"
   ]
  },
  {
   "cell_type": "code",
   "execution_count": 3,
   "id": "8ac273d8-cb18-4873-9f3d-f8378081789e",
   "metadata": {},
   "outputs": [
    {
     "name": "stdout",
     "output_type": "stream",
     "text": [
      "[0 1 2 3 4 5 6]\n"
     ]
    }
   ],
   "source": [
    "x = np.arange(7)\n",
    "print(x)"
   ]
  },
  {
   "attachments": {},
   "cell_type": "markdown",
   "id": "9a408306-878e-4dfc-aea0-a1bbe07ea27b",
   "metadata": {},
   "source": [
    "Il vettore `px` conterrà le probabilità associate ai valori `x`:"
   ]
  },
  {
   "cell_type": "code",
   "execution_count": 4,
   "id": "61b68e42-449e-491f-b84a-a1ef6cd7d76c",
   "metadata": {},
   "outputs": [
    {
     "name": "stdout",
     "output_type": "stream",
     "text": [
      "[0.1, 0.2, 0.3, 0.1, 0.1, 0.0, 0.2]\n"
     ]
    }
   ],
   "source": [
    "px = [0.1, 0.2, 0.3, 0.1, 0.1, 0.0, 0.2]\n",
    "print(px)"
   ]
  },
  {
   "attachments": {},
   "cell_type": "markdown",
   "id": "387a0f97-27ee-4964-942c-3e9ba87c063d",
   "metadata": {},
   "source": [
    "Controlliamo che la somma sia 1:"
   ]
  },
  {
   "cell_type": "code",
   "execution_count": 5,
   "id": "6fb5af7a-98f7-4657-8248-7989742ef6f6",
   "metadata": {},
   "outputs": [
    {
     "data": {
      "text/plain": [
       "1.0"
      ]
     },
     "execution_count": 5,
     "metadata": {},
     "output_type": "execute_result"
    }
   ],
   "source": [
    "np.sum(px)"
   ]
  },
  {
   "attachments": {},
   "cell_type": "markdown",
   "id": "c5b540b8-b5a5-4a4d-af43-feb8340e2930",
   "metadata": {},
   "source": [
    "Usiamo ora la funzione `rv_discrete()` che è una funzione della libreria `stats` di Python. Tale funzione viene utilizzata per creare una distribuzione discreta personalizzata. La funzione richiede che vengano forniti dei valori discreti (ossia interi) e le rispettive probabilità di occorrenza.\n",
    "\n",
    "Una volta definita la distribuzione discreta, `rv_discrete()` permette di eseguire operazioni come la generazione di numeri casuali dalla distribuzione, il calcolo della funzione di probabilità cumulativa (CDF) e della funzione di densità di probabilità (PDF), e la valutazione della media, della varianza e di altre statistiche della distribuzione.\n",
    "\n",
    "La sintassi di base della funzione `rv_discrete()` è la seguente:\n",
    "\n",
    "```\n",
    "rv = stats.rv_discrete(name='rv', values=(xk, pk))\n",
    "```\n",
    "\n",
    "dove `name` è il nome della distribuzione discreta, `xk` sono i valori discreti e `pk` sono le rispettive probabilità di occorrenza. Ad esempio, creiamo la variabile casuale `X`:"
   ]
  },
  {
   "cell_type": "code",
   "execution_count": 6,
   "id": "851ee0b5-72c8-4d4b-a2d7-457a6f4611cf",
   "metadata": {},
   "outputs": [],
   "source": [
    "X = stats.rv_discrete(name='rv', values=(x, px))"
   ]
  },
  {
   "cell_type": "code",
   "execution_count": 7,
   "id": "316a4af3-b417-4ae4-8c0c-d9b1378cf5a3",
   "metadata": {},
   "outputs": [
    {
     "name": "stdout",
     "output_type": "stream",
     "text": [
      "[0.1 0.2 0.3 0.1 0.1 0.  0.2]\n"
     ]
    }
   ],
   "source": [
    "# Distribuzione di massa di probabilità di X.\n",
    "print(X.pmf(x))"
   ]
  },
  {
   "cell_type": "code",
   "execution_count": 8,
   "id": "09c687d6-c03c-40f4-80e6-95d382a676ea",
   "metadata": {},
   "outputs": [
    {
     "name": "stdout",
     "output_type": "stream",
     "text": [
      "[0.1 0.3 0.6 0.7 0.8 0.8 1. ]\n"
     ]
    }
   ],
   "source": [
    "# Distribuzione comulativa di probabilità di X.\n",
    "print(X.cdf(x))"
   ]
  },
  {
   "attachments": {},
   "cell_type": "markdown",
   "id": "71f8f2e3-59aa-40e5-93f6-fc6e43820d71",
   "metadata": {},
   "source": [
    "Generiamo un grafico che rappresenta la distribuzione di massa con Matplotlib."
   ]
  },
  {
   "cell_type": "code",
   "execution_count": 9,
   "metadata": {},
   "outputs": [
    {
     "data": {
      "image/png": "[encoded data removed]",
      "text/plain": [
       "<Figure size 720x480 with 1 Axes>"
      ]
     },
     "metadata": {
      "image/png": {
       "height": 491,
       "width": 731
      }
     },
     "output_type": "display_data"
    }
   ],
   "source": [
    "color_fill = \"#B17F7D\"\n",
    "color_edge = \"#832F2B\"\n",
    "plt.plot(x, X.pmf(x), \"o\", ms=6, color=color_fill, markeredgecolor=color_edge)\n",
    "plt.vlines(x, 0, X.pmf(x), lw=2, colors=color_edge)\n",
    "plt.show()"
   ]
  },
  {
   "attachments": {},
   "cell_type": "markdown",
   "id": "59d0bd7b-0c31-43ea-805b-446c5ccb8594",
   "metadata": {},
   "source": [
    "Calcoliamo il valore atteso di $X$ implementando la formula del valore atteso, ovvero utilizzando i vettori `x` e `px`."
   ]
  },
  {
   "cell_type": "code",
   "execution_count": 14,
   "id": "fb5d13ed-8342-436c-9dc1-cde0e763c0a6",
   "metadata": {},
   "outputs": [
    {
     "data": {
      "text/plain": [
       "2.7"
      ]
     },
     "execution_count": 14,
     "metadata": {},
     "output_type": "execute_result"
    }
   ],
   "source": [
    "x_ev = (x * px).sum()\n",
    "x_ev"
   ]
  },
  {
   "attachments": {},
   "cell_type": "markdown",
   "id": "1daefb8e-863e-45c2-8975-c29c14870337",
   "metadata": {},
   "source": [
    "Lo stesso risultato si ottience applicando il metodo `.expect()` all'oggetto `X`."
   ]
  },
  {
   "cell_type": "code",
   "execution_count": 15,
   "id": "8920f3e6-7e94-4dba-bc60-56286ed82dea",
   "metadata": {},
   "outputs": [
    {
     "data": {
      "text/plain": [
       "2.7"
      ]
     },
     "execution_count": 15,
     "metadata": {},
     "output_type": "execute_result"
    }
   ],
   "source": [
    "x_ev = X.expect()\n",
    "x_ev"
   ]
  },
  {
   "attachments": {},
   "cell_type": "markdown",
   "id": "5c5431c2-f0d2-47b8-8a91-885f0d9c929a",
   "metadata": {},
   "source": [
    "Calcoliamo la varianza di $X$ usando i vettori `x` e `px`."
   ]
  },
  {
   "cell_type": "code",
   "execution_count": 16,
   "id": "86998f09-4f4b-456c-ad20-889d66b4859f",
   "metadata": {},
   "outputs": [
    {
     "data": {
      "text/plain": [
       "3.8100000000000005"
      ]
     },
     "execution_count": 16,
     "metadata": {},
     "output_type": "execute_result"
    }
   ],
   "source": [
    "x_var = ((x - x_ev)**2 * X.pmf(x)).sum()\n",
    "x_var"
   ]
  },
  {
   "attachments": {},
   "cell_type": "markdown",
   "id": "c04f9450-96a9-4c81-818c-6b9f51f4957e",
   "metadata": {},
   "source": [
    "Otteniamo lo stesso risultato applicando il metodo `.var()` all'oggetto `X`."
   ]
  },
  {
   "cell_type": "code",
   "execution_count": 17,
   "id": "3579c89a-af9c-45e3-9081-2b6116f40dd5",
   "metadata": {},
   "outputs": [
    {
     "data": {
      "text/plain": [
       "3.8099999999999987"
      ]
     },
     "execution_count": 17,
     "metadata": {},
     "output_type": "execute_result"
    }
   ],
   "source": [
    "X.var()"
   ]
  },
  {
   "attachments": {},
   "cell_type": "markdown",
   "id": "1b290061-82d6-4bac-9625-258c12f60b9e",
   "metadata": {},
   "source": [
    "Calcoliamo la deviazione standard di $X$ prendento la radice quadrata della varianza."
   ]
  },
  {
   "cell_type": "code",
   "execution_count": 18,
   "id": "f26009d1-a514-43f5-a779-36a18ebcf81e",
   "metadata": {},
   "outputs": [
    {
     "data": {
      "text/plain": [
       "1.9519221295943137"
      ]
     },
     "execution_count": 18,
     "metadata": {},
     "output_type": "execute_result"
    }
   ],
   "source": [
    "np.sqrt(x_var)"
   ]
  },
  {
   "attachments": {},
   "cell_type": "markdown",
   "id": "bb54f794-c8be-4ff5-849c-56b2733c48f6",
   "metadata": {},
   "source": [
    "Oppure, in maniera equivalente, applicando il metodo `.std()` all'oggetto `X`."
   ]
  },
  {
   "cell_type": "code",
   "execution_count": 19,
   "id": "282e5590-6767-4279-a482-5285d9c2557c",
   "metadata": {},
   "outputs": [
    {
     "data": {
      "text/plain": [
       "1.9519221295943132"
      ]
     },
     "execution_count": 19,
     "metadata": {},
     "output_type": "execute_result"
    }
   ],
   "source": [
    "X.std()"
   ]
  },
  {
   "attachments": {},
   "cell_type": "markdown",
   "id": "29e6d49e-195a-46b1-b3c5-e42c48db3671",
   "metadata": {},
   "source": [
    "## Considerazioni Conclusive\n",
    "\n",
    "In conclusione, i concetti di valore atteso e varianza sono fondamentali per comprendere il comportamento delle variabili casuali. Il valore atteso fornisce una misura centrale, rappresentando il \"valore tipico\" che ci si aspetta di osservare, mentre la varianza quantifica la dispersione dei valori attorno a questa media, offrendo una visione più completa della distribuzione. Questi strumenti sono essenziali per l'analisi e la modellizzazione statistica, fornendo le basi per valutare e interpretare la variabilità nei fenomeni aleatori."
   ]
  },
  {
   "cell_type": "markdown",
   "id": "2277453a-e386-4aeb-80a2-53012604544f",
   "metadata": {},
   "source": [
    "## Informazioni sull'Ambiente di Sviluppo"
   ]
  },
  {
   "cell_type": "code",
   "execution_count": 10,
   "id": "21a0d211-0c0c-40ef-ba5d-d30314f331ec",
   "metadata": {},
   "outputs": [
    {
     "name": "stdout",
     "output_type": "stream",
     "text": [
      "Last updated: Fri Aug 02 2024\n",
      "\n",
      "Python implementation: CPython\n",
      "Python version       : 3.12.4\n",
      "IPython version      : 8.26.0\n",
      "\n",
      "Compiler    : Clang 16.0.6 \n",
      "OS          : Darwin\n",
      "Release     : 23.6.0\n",
      "Machine     : arm64\n",
      "Processor   : arm\n",
      "CPU cores   : 8\n",
      "Architecture: 64bit\n",
      "\n",
      "seaborn   : 0.13.2\n",
      "arviz     : 0.18.0\n",
      "matplotlib: 3.9.1\n",
      "scipy     : 1.14.0\n",
      "numpy     : 1.26.4\n",
      "\n",
      "Watermark: 2.4.3\n",
      "\n"
     ]
    }
   ],
   "source": [
    "%load_ext watermark\n",
    "%watermark -n -u -v -iv -w -m"
   ]
  }
 ],
 "metadata": {
  "kernelspec": {
   "display_name": "Python 3",
   "language": "python",
   "name": "python3"
  },
  "language_info": {
   "codemirror_mode": {
    "name": "ipython",
    "version": 3
   },
   "file_extension": ".py",
   "mimetype": "text/x-python",
   "name": "python",
   "nbconvert_exporter": "python",
   "pygments_lexer": "ipython3",
   "version": "3.12.4"
  },
  "vscode": {
   "interpreter": {
    "hash": "2fb22ef73048ab480306a3a8971dd9d9ae74918bef9be9e93ea3e01644b9825e"
   }
  }
 },
 "nbformat": 4,
 "nbformat_minor": 2
}
