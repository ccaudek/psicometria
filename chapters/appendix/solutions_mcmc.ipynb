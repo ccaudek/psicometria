{
  "cells": [
    {
      "cell_type": "markdown",
      "metadata": {},
      "source": [
        "# MCMC {#sec-solutions-mcmc}"
      ]
    },
    {
      "cell_type": "code",
      "execution_count": 16,
      "metadata": {},
      "outputs": [
        {
          "name": "stdout",
          "output_type": "stream",
          "text": [
            "Project directory: /Users/corradocaudek/_repositories/psicometria\n"
          ]
        }
      ],
      "source": [
        "# Standard library imports\n",
        "import os\n",
        "\n",
        "# Third-party imports\n",
        "import numpy as np\n",
        "import pandas as pd\n",
        "import matplotlib.pyplot as plt\n",
        "import seaborn as sns\n",
        "import arviz as az\n",
        "import scipy.stats as stats\n",
        "from scipy.special import expit  # Funzione logistica\n",
        "from cmdstanpy import cmdstan_path, CmdStanModel\n",
        "\n",
        "# Configuration\n",
        "seed = sum(map(ord, \"stan_poisson_regression\"))\n",
        "rng = np.random.default_rng(seed=seed)\n",
        "az.style.use(\"arviz-darkgrid\")\n",
        "%config InlineBackend.figure_format = \"retina\"\n",
        "\n",
        "# Define directories\n",
        "home_directory = os.path.expanduser(\"~\")\n",
        "project_directory = f\"{home_directory}/_repositories/psicometria\"\n",
        "\n",
        "# Print project directory to verify\n",
        "print(f\"Project directory: {project_directory}\")"
      ]
    },
    {
      "cell_type": "markdown",
      "metadata": {},
      "source": [
        "# @sec-poisson-model {.unnumbered} \n",
        "\n",
        "@exr-poisson-model-1\n",
        "\n",
        "1. **Distribuzione a posteriori per la Spagna e la Francia**: Dato che il numero di gol segue una distribuzione di Poisson, e il prior per λ è una distribuzione gamma, sappiamo che il posterior per λ sarà anch'esso una distribuzione gamma. \n",
        "\n",
        "   La distribuzione a posteriori gamma ha parametri aggiornati $\\alpha' = \\alpha + k$ e $\\beta' = \\beta + n$, dove $k$ è il numero di gol segnati e $n$ è il numero di partite osservate.\n",
        "\n",
        "   Per la Spagna:\n",
        "   $$\n",
        "   \\alpha_{Spagna}' = \\alpha + k_{Spagna} = 1 + 5 = 6\n",
        "   $$\n",
        "   $$\n",
        "   \\beta_{Spagna}' = \\beta + n = 1 + 1 = 2\n",
        "   $$\n",
        "\n",
        "   Per la Francia:\n",
        "   $$\n",
        "   \\alpha_{Francia}' = \\alpha + k_{Francia} = 1 + 3 = 4\n",
        "   $$\n",
        "   $$\n",
        "   \\beta_{Francia}' = \\beta + n = 1 + 1 = 2\n",
        "   $$\n",
        "\n",
        "   Quindi, le distribuzioni a posteriori per λ sono:\n",
        "   $$\n",
        "   \\lambda_{Spagna} \\sim \\text{Gamma}(6, 2)\n",
        "   $$\n",
        "   $$\n",
        "   \\lambda_{Francia} \\sim \\text{Gamma}(4, 2)\n",
        "   $$\n",
        "\n",
        "2. **Calcolo della probabilità di superiorità**: La probabilità che $λ_{Spagna} > λ_{Francia}$ può essere calcolata simulando valori da entrambe le distribuzioni a posteriori e calcolando la proporzione di volte in cui $λ_{Spagna} > λ_{Francia}$.\n",
        "\n",
        "```python\n",
        "import numpy as np\n",
        "from scipy.stats import gamma\n",
        "\n",
        "# Parametri posteriori per la Spagna\n",
        "alpha_spagna = 6\n",
        "beta_spagna = 2\n",
        "\n",
        "# Parametri posteriori per la Francia\n",
        "alpha_francia = 4\n",
        "beta_francia = 2\n",
        "\n",
        "# Numero di simulazioni\n",
        "n_sim = 100000\n",
        "\n",
        "# Simulazione delle distribuzioni a posteriori\n",
        "lambda_spagna = gamma.rvs(alpha_spagna, scale=1/beta_spagna, size=n_sim)\n",
        "lambda_francia = gamma.rvs(alpha_francia, scale=1/beta_francia, size=n_sim)\n",
        "\n",
        "# Calcolo della probabilità di superiorità\n",
        "prob_superiorita = np.mean(lambda_spagna > lambda_francia)\n",
        "\n",
        "print(f\"La probabilità di superiorità della Spagna sulla Francia è: {prob_superiorita:.4f}\")\n",
        "```\n",
        "\n",
        "**Risultato:**\n",
        "\n",
        "Il valore per la probabilità di superiorità della Spagna sulla Francia rappresenta la probabilità che la Spagna abbia un tasso medio di gol superiore rispetto alla Francia. Questa probabilità quantifica la fiducia che possiamo avere nel fatto che la Spagna sia, effettivamente, la squadra superiore in base al risultato osservato.\n"
      ]
    }
  ],
  "metadata": {
    "kernelspec": {
      "display_name": "Python 3 (ipykernel)",
      "language": "python",
      "name": "python3"
    },
    "language_info": {
      "codemirror_mode": {
        "name": "ipython",
        "version": 3
      },
      "file_extension": ".py",
      "mimetype": "text/x-python",
      "name": "python",
      "nbconvert_exporter": "python",
      "pygments_lexer": "ipython3",
      "version": "3.12.4"
    }
  },
  "nbformat": 4,
  "nbformat_minor": 4
}
