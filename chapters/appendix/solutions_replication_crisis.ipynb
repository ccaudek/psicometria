{
  "cells": [
    {
      "cell_type": "markdown",
      "metadata": {},
      "source": [
        "# Crisi della replicazione {#sec-replication-crisis}"
      ]
    },
    {
      "cell_type": "code",
      "execution_count": 16,
      "metadata": {},
      "outputs": [
        {
          "name": "stdout",
          "output_type": "stream",
          "text": [
            "Project directory: /Users/corradocaudek/_repositories/psicometria\n"
          ]
        }
      ],
      "source": [
        "# Standard library imports\n",
        "import os\n",
        "\n",
        "# Third-party imports\n",
        "import numpy as np\n",
        "import pandas as pd\n",
        "import matplotlib.pyplot as plt\n",
        "import seaborn as sns\n",
        "import arviz as az\n",
        "import scipy.stats as stats\n",
        "from scipy.special import expit  # Funzione logistica\n",
        "from cmdstanpy import cmdstan_path, CmdStanModel\n",
        "\n",
        "# Configuration\n",
        "seed = sum(map(ord, \"stan_poisson_regression\"))\n",
        "rng = np.random.default_rng(seed=seed)\n",
        "az.style.use(\"arviz-darkgrid\")\n",
        "%config InlineBackend.figure_format = \"retina\"\n",
        "\n",
        "# Define directories\n",
        "home_directory = os.path.expanduser(\"~\")\n",
        "project_directory = f\"{home_directory}/_repositories/psicometria\"\n",
        "\n",
        "# Print project directory to verify\n",
        "print(f\"Project directory: {project_directory}\")"
      ]
    },
    {
      "cell_type": "markdown",
      "metadata": {},
      "source": [
        "# @sec-crisis {.unnumbered} \n",
        "\n",
        "@exr-crisis-1\n",
        "\n",
        "Le argomentazioni di @gelman2024statistical mettono in luce fattori come la selezione dei confronti, la variabilità degli effetti tra i soggetti, l'influenza delle condizioni sperimentali, e l'assenza di un chiaro meccanismo d'azione. Questi stessi fattori potrebbero essere stati determinanti nella mancata replicazione dello studio di @karatacs2023thinking. La combinazione di una possibile sovrainterpretazione dei dati iniziali, la presenza di variabili non controllate, e la mancanza di un chiaro modello teorico per spiegare i risultati originali potrebbe aver portato a risultati che non si sono confermati in studi successivi.\n"
      ]
    }
  ],
  "metadata": {
    "kernelspec": {
      "display_name": "Python 3 (ipykernel)",
      "language": "python",
      "name": "python3"
    },
    "language_info": {
      "codemirror_mode": {
        "name": "ipython",
        "version": 3
      },
      "file_extension": ".py",
      "mimetype": "text/x-python",
      "name": "python",
      "nbconvert_exporter": "python",
      "pygments_lexer": "ipython3",
      "version": "3.12.4"
    }
  },
  "nbformat": 4,
  "nbformat_minor": 4
}
