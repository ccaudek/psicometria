{
 "cells": [
  {
   "attachments": {},
   "cell_type": "markdown",
   "id": "868c86c6-e8ae-49af-b7e6-d91a7aba30ca",
   "metadata": {},
   "source": [
    "# Concetti chiave {#sec-key-notions}"
   ]
  },
  {
   "cell_type": "markdown",
   "id": "2683c953-4f79-474d-b668-0f8d98575d67",
   "metadata": {},
   "source": [
    "**Prerequisiti**\n",
    "\n",
    "- Leggi [Horoscopes](../../figures/horoscopes.pdf). L'ultimo capitolo di @McElreath_rethinking discute il contesto scientifico e culturale della statistica.\n",
    "- Leggi [Data science as an atomic habit](https://malco.io/articles/2021-01-04-data-science-as-an-atomic-habit). Questo post di un blog descrive un approccio all'apprendimento della data science che consiste nel compiere una serie continua di piccole azioni. \n",
    "- Leggi [The Effect: An Introduction to Research Design and Causality](https://theeffectbook.net). Focalizzati sul capitolo 10 *Treatment Effects*.\n",
    "\n",
    "**Concetti e competenze chiave**\n",
    "\n",
    "- Definizione di popolazione e campione.\n",
    "- Distinzione tra variabili indipendenti e dipendenti. \n",
    "- La matrice dei dati.\n",
    "- L'effetto delle variabili all'interno dell'analisi statistica. \n",
    "- I concetti di stima e inferenza. \n",
    "- Il concetto di modello psicologico.\n",
    "\n",
    "**Preparazione del Notebook**"
   ]
  },
  {
   "cell_type": "code",
   "execution_count": 2,
   "id": "70ea5fd0-ac5e-4870-bc27-46d3ceb8a8b6",
   "metadata": {},
   "outputs": [],
   "source": [
    "import numpy as np\n",
    "import pandas as pd"
   ]
  },
  {
   "cell_type": "markdown",
   "metadata": {},
   "source": [
    "## Introduzione {.unnumbered}\n",
    "\n",
    "L’analisi dei dati si colloca all’intersezione tra statistica, teoria della probabilità e informatica. Questa disciplina multidisciplinare richiede una solida comprensione dei concetti fondamentali provenienti da ciascuna di queste tre aree.\n",
    "\n",
    "La statistica fornisce gli strumenti e le tecniche per raccogliere, analizzare e interpretare i dati. Attraverso metodi descrittivi e inferenziali, permette di trarre conclusioni dai dati e di prendere decisioni informate.\n",
    "\n",
    "La **statistica** fornisce gli strumenti e le tecniche per raccogliere, analizzare e interpretare i dati. Attraverso metodi descrittivi e inferenziali, la statistica permette di trarre conclusioni dai dati e di prendere decisioni informate.\n",
    "\n",
    "::: {.callout-note title=\"Statistica\"}\n",
    "Il termine “statistica” può assumere diversi significati, a seconda del contesto in cui viene utilizzato. \n",
    "\n",
    "- Nel primo senso, la statistica è una scienza e una disciplina che si occupa dello studio e dell’applicazione di metodi e tecniche per la raccolta, l’organizzazione, l’analisi, l’interpretazione e la presentazione di dati. \n",
    "- Nel secondo senso, il termine “statistica” si riferisce a una singola misura o un valore numerico che è stato calcolato a partire da un campione di dati. Questo tipo di statistica rappresenta una caratteristica specifica del campione. Esempi comuni di statistiche in questo senso includono la media campionaria, la deviazione standard campionaria o il coefficiente di correlazione campionario. \n",
    ":::\n",
    "\n",
    "La teoria della probabilità costituisce la base matematica della statistica, modellando l’incertezza e comprendendo i fenomeni aleatori, fornendo i fondamenti per sviluppare metodi statistici rigorosi.\n",
    "\n",
    "L’informatica gioca un ruolo cruciale nell’analisi dei dati, offrendo gli strumenti necessari per la gestione, l’elaborazione e la visualizzazione dei dati su larga scala. Conoscere i principi dell’informatica è essenziale per sfruttare appieno tecnologie moderne come il machine learning e l’intelligenza artificiale. L’uso di linguaggi di programmazione come Python e R, insieme a librerie specializzate, permette di eseguire analisi complesse e di visualizzare i dati in modo efficace.\n",
    "\n",
    "## Popolazioni e Campioni\n",
    "\n",
    "Per iniziare l’analisi dei dati, è fondamentale individuare le unità che contengono le informazioni rilevanti per il fenomeno di interesse. Questo insieme di unità costituisce la popolazione o universo, rappresentando l’insieme completo di entità capaci di fornire informazioni per l’indagine statistica in questione. Le singole unità dell’insieme sono chiamate unità statistiche.\n",
    "\n",
    "Nella ricerca psicologica, sia nelle ricerche sperimentali che in quelle osservazionali, l’obiettivo principale è studiare i fenomeni psicologici all’interno di una specifica popolazione. È essenziale definire con chiarezza la popolazione di interesse, ovvero l’insieme di individui ai quali verranno applicati i risultati della ricerca. Tale popolazione può essere reale, come tutte le persone sopravvissute per un anno dopo il bombardamento atomico di Hiroshima, o ipotetica, come tutte le persone depresse che potrebbero beneficiare di un intervento psicologico.\n",
    "\n",
    "### Sotto-popolazioni e Campioni\n",
    "\n",
    "Una sotto-popolazione è un sottoinsieme di individui che possiedono proprietà specifiche ben definite. Ad esempio, potremmo essere interessati alla sotto-popolazione degli uomini di età inferiore ai 30 anni o dei pazienti depressi che hanno ricevuto uno specifico intervento psicologico. Il campione è un sottoinsieme della popolazione composto da elementi che rappresentano unità statistiche (u.s.) portatrici delle informazioni rilevate tramite misurazione. Il campione viene utilizzato per ottenere informazioni sulla popolazione di riferimento.\n",
    "\n",
    "### Metodi di Campionamento\n",
    "\n",
    "Il campionamento può avvenire in diversi modi. Il campionamento casuale consente al ricercatore di trarre conclusioni sulla popolazione e di quantificare l’incertezza dei risultati, come avviene in un sondaggio. Tuttavia, esistono anche altre forme di campionamento, come il campione di convenienza o il campionamento stratificato.\n",
    "\n",
    "Il ricercatore deve sempre considerare la rappresentatività statistica del campione, ovvero se il campione scelto riflette accuratamente le caratteristiche di interesse della popolazione. In molti casi, soprattutto in psicologia, possono essere usati metodi di campionamento diversi dal casuale a seconda delle risorse disponibili."
   ]
  },
  {
   "cell_type": "markdown",
   "metadata": {},
   "source": [
    "## I Bias nella Raccolta Dati\n",
    "\n",
    "È importante tenere presenti i bias che governano la raccolta dei dati. I dati non sono mai “neutri” e il contenuto dei dati raccolti, insieme alle intenzioni che guidano la raccolta, spesso dettano i parametri della nostra comprensione [@nobles2000shades].\n",
    "\n",
    "Ad esempio, @johnson2021two confronta due modalità di raccolta dati riguardanti le persone incarcerate negli Stati Uniti: quella statale e quella comunitaria. La raccolta dati statale si concentra su informazioni demografiche e statistiche di base, perpetuando una comprensione limitata e spesso distorta del sistema carcerario. Al contrario, la raccolta dati comunitaria include dettagli più specifici sulle condizioni di vita e gli effetti della detenzione, offrendo una visione più completa e umana della realtà carceraria."
   ]
  },
  {
   "cell_type": "markdown",
   "metadata": {},
   "source": [
    "## Variabili e Costanti\n",
    "\n",
    "Nell’analisi statistica, le variabili denotano le caratteristiche che possono assumere diversi valori, sia numerici che categoriali. Le costanti, al contrario, sono valori che non variano tra le unità di osservazione. Le variabili indipendenti (o predittive) rappresentano i fattori che si ipotizza influenzino l’esito di interesse, mentre le variabili dipendenti rappresentano l’esito che si cerca di spiegare o prevedere.\n",
    "\n",
    "## Effetto\n",
    "\n",
    "Il concetto di “effetto” misura il cambiamento o l’influenza tra le variabili. Ad esempio, consideriamo uno studio che indaga l’effetto delle mnemotecniche sul miglioramento della memoria. Se il gruppo che ha seguito un workshop mnemonico mostra un punteggio medio superiore, si può affermare che le mnemotecniche hanno un effetto positivo sulla memoria. L’effetto viene misurato attraverso diverse statistiche, come la differenza di medie o il rapporto di probabilità  [@huntington2021effect]. "
   ]
  },
  {
   "attachments": {},
   "cell_type": "markdown",
   "id": "3a1cebaa-ba9e-4512-ad91-b963da0115a0",
   "metadata": {},
   "source": [
    "## Variabili Casuali\n",
    "\n",
    "Nel contesto della teoria delle probabilità, una variabile casuale rappresenta una quantità che può assumere diversi valori con una certa probabilità. Dopo l’osservazione e la misurazione, una variabile casuale diventa una variabile statistica, trasformando un’incertezza teorica in una certezza empirica.\n",
    "\n",
    "## Stima e Inferenza\n",
    "\n",
    "### Stima\n",
    "\n",
    "La stima statistica permette di dedurre le caratteristiche di un'intera popolazione partendo dall'analisi di un campione rappresentativo. Gli elementi chiave della stima statistica sono i seguenti.\n",
    "\n",
    "1. Parametri della popolazione:\n",
    "\n",
    "   - sono le caratteristiche numeriche che descrivono la popolazione;\n",
    "   - esempi includono la media (μ), la varianza (σ²), la proporzione (p), ecc.;\n",
    "   - generalmente non sono noti e devono essere stimati.\n",
    "\n",
    "2. Statistiche campionarie:\n",
    "\n",
    "   - sono calcolate dai dati del campione;\n",
    "   - fungono da stimatori dei parametri della popolazione;\n",
    "   - esempi: media campionaria (x̄), varianza campionaria (s²), proporzione campionaria (p̂).\n",
    "\n",
    "3. Tipi di stime:\n",
    "\n",
    "   - puntuale: fornisce un singolo valore come miglior stima del parametro;\n",
    "   - intervallare: offre un range di valori plausibili per il parametro, con un certo livello di credibilità o confidenza.\n",
    "\n",
    "4. Proprietà degli stimatori:\n",
    "\n",
    "   - consistenza: la stima converge al vero valore del parametro all'aumentare della dimensione del campione;\n",
    "   - non distorsione: il valore atteso dello stimatore è uguale al vero valore del parametro;\n",
    "   - efficienza: lo stimatore ha la minor varianza possibile.\n",
    "\n",
    "L'accuratezza della stima dipende da vari fattori, tra cui la dimensione e la rappresentatività del campione, la variabilità nella popolazione e il metodo di campionamento utilizzato.\n",
    "\n",
    "### Inferenza Statistica\n",
    "\n",
    "Dopo aver ottenuto queste stime, si passa al passaggio successivo: l’inferenza statistica. Questo processo va oltre la semplice stima e ci permette di trarre conclusioni più ampie sulla popolazione. L’inferenza statistica riguarda la valutazione di specifiche ipotesi o risposte a domande di ricerca relative alla popolazione, utilizzando le stime ottenute dal campione.\n",
    "\n",
    "Ad esempio, se abbiamo stimato la media dei redditi in un campione di famiglie, possiamo utilizzare l’inferenza statistica per testare se c’è una differenza significativa nei redditi tra diverse regioni o gruppi demografici all’interno della popolazione. In questo modo, l’inferenza statistica ci fornisce gli strumenti per fare previsioni e trarre conclusioni riguardanti la popolazione intera.\n",
    "\n",
    "Esistono vari approcci e metodologie per condurre l’inferenza statistica, tra cui due dei più comuni sono l’inferenza bayesiana e l’approccio frequentista. \n",
    "\n",
    "L'inferenza bayesiana:\n",
    "\n",
    "- si fonda sul teorema di Bayes;\n",
    "- utilizza probabilità a priori, che rappresentano le conoscenze o le credenze iniziali su un fenomeno;\n",
    "- aggiorna queste probabilità con nuovi dati per ottenere probabilità a posteriori;\n",
    "- offre una interpretazione diretta delle probabilità come gradi di credenza.\n",
    "\n",
    "L'approccio frequentista:\n",
    "\n",
    "- si basa sulla frequenza relativa di eventi in esperimenti ripetuti;\n",
    "- utilizza tecniche come il test dell'ipotesi nulla e gli intervalli di confidenza;\n",
    "- non fa uso di probabilità a priori.\n",
    "\n",
    "## Modelli Psicologici\n",
    "\n",
    "Un “modello” rappresenta una formulazione matematica semplificata di un fenomeno reale che si desidera studiare. Si tratta di un insieme di equazioni e ipotesi che delineano la struttura probabilistica e le relazioni tra le variabili, cercando di catturare gli aspetti essenziali del fenomeno senza rappresentarlo in ogni dettaglio. Poiché spesso esistono diversi modelli che possono essere applicati allo stesso problema, la data science si occupa dell'identificazione del modello che meglio si adatta ai dati e che soddisfa specifici criteri di validità e accuratezza.\n",
    "\n",
    "I modelli psicologici sono strumenti concettuali utilizzati per descrivere, spiegare e prevedere il comportamento umano e i processi mentali. Un modello psicologico robusto e valido deve soddisfare diverse caratteristiche essenziali:\n",
    "\n",
    "1. **Coerenza descrittiva**: Il modello deve fornire una rappresentazione logica e internamente coerente del fenomeno studiato. Deve catturare gli elementi essenziali del processo psicologico in esame, offrendo una struttura concettuale che organizzi le osservazioni in modo significativo e comprensibile.\n",
    "2. **Capacità predittiva**: Un aspetto cruciale di un modello psicologico efficace è la sua abilità di formulare predizioni accurate sulle manifestazioni future del fenomeno. Questa caratteristica non solo aumenta l'utilità pratica del modello, ma fornisce anche un mezzo per testarne la validità.\n",
    "3. **Supporto empirico**: Il modello deve essere ancorato a solide prove empiriche. Ciò implica che le sue assunzioni e previsioni devono essere confermate da dati osservabili raccolti attraverso ricerche sistematiche e metodologicamente rigorose.\n",
    "4. **Falsificabilità**: Forse la caratteristica più critica, la falsificabilità, richiede che il modello sia costruito in modo da poter essere sottoposto a verifica o confutazione attraverso l'osservazione e l'esperimento. Questo principio, fondamentale per il metodo scientifico, assicura che il modello rimanga aperto al scrutinio critico e alla revisione basata su nuove evidenze.\n",
    "5. **Parsimonia**: Un buon modello psicologico dovrebbe essere parsimonioso. Dovrebbe spiegare il fenomeno nel modo più semplice possibile, evitando complessità non necessarie.\n",
    "6. **Generalizzabilità**: Il modello dovrebbe essere applicabile a una vasta gamma di situazioni e contesti, non solo a specifici casi o condizioni sperimentali.\n",
    "7. **Utilità pratica**: Infine, un modello psicologico efficace dovrebbe avere implicazioni pratiche, fornendo insights utili per interventi, terapie o applicazioni nel mondo reale.\n",
    "\n",
    "La modellazione in psicologia si trova spesso di fronte a sfide uniche dovute alla natura soggettiva e variabile dell'esperienza umana. I ricercatori devono bilanciare la necessità di precisione scientifica con la flessibilità richiesta per catturare la ricchezza e la complessità dei fenomeni psicologici. Inoltre, devono essere consapevoli dei limiti etici nella sperimentazione e delle potenziali implicazioni sociali dei loro modelli.\n",
    "\n",
    "La creazione e l'utilizzo di modelli in psicologia è un processo dinamico e iterativo. I modelli sono costantemente raffinati, testati e, se necessario, rivisti o sostituiti man mano che emergono nuove evidenze. \n",
    "\n",
    "L’analisi dei dati, attraverso l’applicazione di tecniche statistiche, è il mezzo attraverso il quale un modello psicologico viene valutato. Oltre a determinare se il modello è in grado di spiegare i dati osservati, l’analisi può anche verificare la capacità del modello di fare previsioni accurate su dati non ancora osservati. In questo modo, la modellazione diventa uno strumento potente non solo per comprendere i fenomeni psicologici ma anche per prevedere e, in alcuni casi, influenzare il comportamento e le dinamiche mentali.\n",
    "\n",
    "In sintesi, un modello, sia in statistica che in psicologia, è uno strumento teorico che cerca di rappresentare un fenomeno complesso in una forma semplificata ma informativa, guidando la comprensione, la previsione e, in ultima analisi, l’intervento efficace su quel fenomeno. La scelta e la valutazione del modello giusto sono fondamentali per garantire che le conclusioni derivanti dall’analisi siano valide e utili nel contesto specifico."
   ]
  },
  {
   "cell_type": "markdown",
   "metadata": {},
   "source": [
    "## Informazioni sull'Ambiente di Sviluppo"
   ]
  },
  {
   "cell_type": "code",
   "execution_count": 3,
   "id": "b83e543c-cea5-458b-8942-d8e8d817920d",
   "metadata": {},
   "outputs": [
    {
     "name": "stdout",
     "output_type": "stream",
     "text": [
      "The watermark extension is already loaded. To reload it, use:\n",
      "  %reload_ext watermark\n",
      "Last updated: Tue Jul 23 2024\n",
      "\n",
      "Python implementation: CPython\n",
      "Python version       : 3.12.4\n",
      "IPython version      : 8.26.0\n",
      "\n",
      "Compiler    : Clang 16.0.6 \n",
      "OS          : Darwin\n",
      "Release     : 23.5.0\n",
      "Machine     : arm64\n",
      "Processor   : arm\n",
      "CPU cores   : 8\n",
      "Architecture: 64bit\n",
      "\n",
      "numpy : 1.26.4\n",
      "pandas: 2.2.2\n",
      "\n",
      "Watermark: 2.4.3\n",
      "\n"
     ]
    }
   ],
   "source": [
    "%load_ext watermark\n",
    "%watermark -n -u -v -iv -w -m"
   ]
  }
 ],
 "metadata": {
  "kernelspec": {
   "display_name": "Python 3",
   "language": "python",
   "name": "python3"
  },
  "language_info": {
   "codemirror_mode": {
    "name": "ipython",
    "version": 3
   },
   "file_extension": ".py",
   "mimetype": "text/x-python",
   "name": "python",
   "nbconvert_exporter": "python",
   "pygments_lexer": "ipython3",
   "version": "3.12.4"
  },
  "vscode": {
   "interpreter": {
    "hash": "aee8b7b246df8f9039afb4144a1f6fd8d2ca17a180786b69acc140d282b71a49"
   }
  }
 },
 "nbformat": 4,
 "nbformat_minor": 2
}
