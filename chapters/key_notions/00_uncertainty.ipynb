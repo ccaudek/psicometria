{
 "cells": [
  {
   "attachments": {},
   "cell_type": "markdown",
   "id": "868c86c6-e8ae-49af-b7e6-d91a7aba30ca",
   "metadata": {},
   "source": [
    "# Abbracciare l'incertezza {#sec-ucertainty}"
   ]
  },
  {
   "cell_type": "markdown",
   "id": "2683c953-4f79-474d-b668-0f8d98575d67",
   "metadata": {},
   "source": [
    "**Prerequisiti**\n",
    "\n",
    "**Concetti e competenze chiave**"
   ]
  },
  {
   "cell_type": "markdown",
   "metadata": {},
   "source": [
    "## Introduzione\n",
    "\n",
    "L'espressione \"abbracciare l'incertezza\" è una delle frasi più emblematiche tra i sostenitori della statistica bayesiana. In questo capitolo esploreremo il significato di questa affermazione, basandoci sulla trattazione presente nel primo capitolo di *Understanding uncertainty* di @lindley2013understanding. L'incertezza è un concetto centrale non solo per la statistica, ma per qualsiasi disciplina scientifica, e in particolare per la psicologia, che si confronta con fenomeni complessi e difficili da misurare.\n",
    "\n",
    "## L'incertezza nella ricerca psicologica\n",
    "\n",
    "La psicologia, come molte altre scienze, si trova costantemente a confrontarsi con l'incertezza. Che si tratti di indagare i processi cognitivi, le emozioni o il comportamento umano, i ricercatori operano in un contesto di dati complessi, spesso ambigui, e soggetti a molteplici interpretazioni. Alcune affermazioni possono essere sostenute con un alto grado di confidenza, altre smentite con decisione, ma la maggior parte delle ipotesi cade in una zona grigia, in cui l'incertezza regna sovrana.\n",
    "\n",
    "Questo corso ha l'obiettivo di insegnare agli studenti come comprendere e gestire l'incertezza nella ricerca psicologica, utilizzando l'approccio bayesiano all'analisi dei dati. Questo metodo, incentrato sulla quantificazione delle nostre credenze e sul loro aggiornamento in base a nuove evidenze, permetterà agli studenti di affrontare in modo rigoroso e sistematico l'incertezza nella loro carriera accademica e nella pratica clinica.\n",
    "\n",
    "## La natura soggettiva dell'incertezza\n",
    "\n",
    "Un aspetto fondamentale dell'incertezza, spesso trascurato, è la sua dimensione soggettiva. @definetti1970teoria ha sottolineato come l'incertezza sia, in parte, una questione personale: ciò che è incerto per uno psicologo può non esserlo per un altro, a seconda della loro esperienza, conoscenza pregressa e interpretazione dei dati disponibili. Anche quando due ricercatori condividono la stessa incertezza su un dato problema, il loro grado di incertezza può variare notevolmente.\n",
    "\n",
    "Questo elemento soggettivo è particolarmente rilevante in psicologia, dove le differenze individuali e culturali influenzano la percezione e l'interpretazione dei fenomeni. L'approccio bayesiano consente di quantificare queste differenze soggettive, aggiornando le nostre credenze in modo coerente sulla base delle informazioni oggettive e della nostra esperienza.\n",
    "\n",
    "## L'onnipresenza dell'incertezza\n",
    "\n",
    "Nella ricerca psicologica, l'incertezza è onnipresente. Ogni esperimento, ogni misurazione e ogni interpretazione dei dati comporta un certo grado di incertezza. Questo è particolarmente vero quando si studiano fenomeni complessi come il comportamento umano o i processi mentali, influenzati da innumerevoli variabili, molte delle quali difficili da controllare o misurare con precisione.\n",
    "\n",
    "Nonostante ciò, l'incertezza non deve essere vista come un ostacolo insormontabile. Al contrario, riconoscerla e quantificarla può portare a una comprensione più profonda e realistica dei fenomeni psicologici. Attraverso l'approccio bayesiano, impareremo a trattare l'incertezza come una parte integrata del processo di indagine scientifica.\n",
    "\n",
    "## Superare la soppressione dell'incertezza\n",
    "\n",
    "Nonostante la sua onnipresenza, l'incertezza è spesso soppressa o ignorata nella comunicazione scientifica. Questo avviene attraverso interpretazioni eccessivamente ottimistiche dei risultati, presentazione di conclusioni come fatti incontrovertibili o riluttanza nel riconoscere i limiti degli studi condotti. Tale tendenza è comprensibile: l'incertezza genera disagio, sia per i ricercatori che per il pubblico. Tuttavia, ignorarla può portare a conclusioni errate e a una visione distorta della realtà studiata.\n",
    "\n",
    "L'approccio bayesiano permette di affrontare l'incertezza in modo esplicito e costruttivo, insegnandoci a quantificarla, ragionarci sopra e comunicarla chiaramente. Questo non solo migliora la trasparenza della ricerca, ma consente di formulare conclusioni più accurate e oneste.\n",
    "\n",
    "## I benefici dell'incertezza\n",
    "\n",
    "Contrariamente a quanto si possa pensare, l'incertezza offre numerosi vantaggi alla ricerca psicologica:\n",
    "\n",
    "- Stimola la curiosità e la ricerca: L'incertezza spinge i ricercatori a porre domande, esplorare nuove ipotesi e sviluppare metodi più raffinati per studiare i fenomeni psicologici.\n",
    "- Promuove l'onestà intellettuale: Riconoscere l'incertezza rende i ricercatori più cauti nelle loro affermazioni e aperti a prospettive alternative.\n",
    "- Migliora la qualità della ricerca: Considerare esplicitamente l'incertezza porta a disegni sperimentali più robusti e interpretazioni dei dati più accurate.\n",
    "- Facilita la collaborazione: Riconoscere i limiti della nostra conoscenza ci rende più propensi a cercare l'input di altri ricercatori e a collaborare in team interdisciplinari.\n",
    "- Riflette meglio la complessità della mente umana: L'incertezza è intrinseca a molti processi psicologici, e riconoscerla nei nostri modelli permette una rappresentazione più fedele di tale complessità.\n",
    "\n",
    "## Tipi di incertezza\n",
    "\n",
    "Nella ricerca, l'incertezza riguarda la mancanza o insufficienza di conoscenza. A seconda della sua origine, possiamo distinguere tra tre principali tipi di incertezza: aleatoria, epistemica e ontologica [@gansch2020system].\n",
    "\n",
    "### Incertezza Aleatoria  \n",
    "\n",
    "L'incertezza aleatoria deriva dalla natura intrinsecamente casuale di un processo. È considerata irreducibile per un dato modello probabilistico ed è quantificata tramite distribuzioni probabilistiche.\n",
    "\n",
    "Ad esempio, se siamo interessati alla distribuzione delle posizioni di due pianeti nello spazio, possiamo usare un modello probabilistico che stima la probabilità che un pianeta si trovi in una determinata posizione. Tuttavia, la posizione esatta è soggetta a incertezza aleatoria.\n",
    "\n",
    "### Incertezza Epistemica  \n",
    "\n",
    "L'incertezza epistemica riguarda la mancanza di conoscenza o la nostra comprensione limitata di un fenomeno. Un elemento chiave è che siamo consapevoli di questa mancanza: l'incertezza epistemica può essere definita come il \"noto-ignoto\" di un modello. \n",
    "\n",
    "Un modello è una rappresentazione semplificata della realtà, e questa semplificazione introduce un'incertezza legata ai dettagli non inclusi. Ad esempio, se iniziamo con un modello deterministico per il moto dei pianeti, per masse puntiformi idealizzate, il modello è completamente accurato e non ci sono incertezze. Tuttavia, nella realtà, i pianeti possono avere una distribuzione di massa eterogenea, e un modello basato su masse puntiformi non descrive più accuratamente il sistema fisico. La mancanza di precisione nel modello porta a un'incertezza epistemica, che potrebbe essere ridotta con un modello più accurato, ma richiederebbe informazioni complete sulla distribuzione di massa, non sempre disponibili.\n",
    "\n",
    "Consideriamo ora un modello probabilistico: la distribuzione probabilistica delle posizioni dei pianeti riflette l'incertezza aleatoria, ma le probabilità stimate non sono sempre precise. Il divario tra probabilità effettive e osservate rappresenta l'incertezza epistemica del modello probabilistico. \n",
    "\n",
    "### Incertezza Ontologica  \n",
    "\n",
    "L'incertezza ontologica si riferisce a una mancanza totale di conoscenza su aspetti rilevanti di un sistema, descritta come \"ignoto-ignoto\". Questo tipo di incertezza implica che vi siano fenomeni o variabili sconosciuti che i nostri modelli non riescono ancora a identificare.\n",
    "\n",
    "Tornando all'esempio dei pianeti, immaginiamo di modellare un sistema con due pianeti. Se osserviamo comportamenti che non coincidono con le previsioni del nostro modello, potrebbe esserci un terzo pianeta non ancora scoperto che influisce sul sistema. Questa situazione rappresenta un caso di incertezza ontologica, poiché si basa su fattori che non avevamo preso in considerazione nel modello.\n",
    "\n",
    "In sintesi, questi tre tipi di incertezza rappresentano differenti sfide nella modellizzazione e nella comprensione dei sistemi complessi. Mentre l'incertezza aleatoria è intrinseca e non può essere eliminata, l'incertezza epistemica può essere ridotta migliorando i modelli e ottenendo più informazioni. L'incertezza ontologica, invece, rappresenta una frontiera di ciò che è ancora sconosciuto.\n",
    "\n",
    "## Il calcolo bayesiano dell'incertezza\n",
    "\n",
    "Il nucleo di questo insegnamento sarà l'apprendimento di come quantificare e ragionare sull'incertezza utilizzando l'approccio bayesiano [@gelman1995bayesian]. Basato sul teorema di Bayes, questo metodo fornisce un framework coerente per aggiornare le credenze alla luce di nuove evidenze.\n",
    "\n",
    "I passi fondamentali includono:\n",
    "\n",
    "1. Quantificare le credenze iniziali (prior) su fenomeni psicologici.\n",
    "2. Valutare la forza dell'evidenza fornita dai dati (likelihood).\n",
    "3. Combinare prior e likelihood per ottenere credenze aggiornate (posterior).\n",
    "4. Usare queste credenze aggiornate per prendere decisioni e pianificare ulteriori ricerche.\n",
    "\n",
    "Questo approccio trasforma l'incertezza in una quantità con cui ragionare rigorosamente e matematicamente.\n",
    "\n",
    "## Credenze e decisioni nella ricerca psicologica\n",
    "\n",
    "Le credenze guidano le decisioni dei ricercatori, che possono riguardare il disegno di esperimenti, l'interpretazione dei risultati o la scelta di interventi clinici. L'approccio bayesiano fornisce strumenti per:\n",
    "\n",
    "- Articolare chiaramente le credenze prima di condurre una ricerca.\n",
    "- Aggiornare le credenze man mano che si raccolgono nuovi dati.\n",
    "- Prendere decisioni ottimali basate sulle credenze aggiornate.\n",
    "- Comunicare in modo trasparente l'incertezza associata alle conclusioni.\n",
    "\n",
    "L'adozione di un approccio bayesiano può contribuire a una psicologia più affidabile, capace di affrontare le sfide complesse del tentativo di comprendere la mente e il comportamento umano.\n",
    "\n",
    "## Conclusione\n",
    "\n",
    "Questo insegnamento guiderà verso l'analisi bayesiana dei dati psicologici, insegnando a riconoscere l'incertezza come parte integrante del processo scientifico. Utilizzando l'incertezza come strumento, possiamo ottenere una comprensione più sfumata e profonda dei fenomeni psicologici."
   ]
  }
 ],
 "metadata": {
  "kernelspec": {
   "display_name": "Python 3",
   "language": "python",
   "name": "python3"
  },
  "language_info": {
   "codemirror_mode": {
    "name": "ipython",
    "version": 3
   },
   "file_extension": ".py",
   "mimetype": "text/x-python",
   "name": "python",
   "nbconvert_exporter": "python",
   "pygments_lexer": "ipython3",
   "version": "3.12.4"
  },
  "vscode": {
   "interpreter": {
    "hash": "aee8b7b246df8f9039afb4144a1f6fd8d2ca17a180786b69acc140d282b71a49"
   }
  }
 },
 "nbformat": 4,
 "nbformat_minor": 2
}
