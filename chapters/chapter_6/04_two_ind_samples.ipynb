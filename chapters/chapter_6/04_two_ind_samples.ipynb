{
 "cells": [
  {
   "attachments": {},
   "cell_type": "markdown",
   "id": "0f07aef4-c6e0-42fd-a224-dbf2b21decd8",
   "metadata": {},
   "source": [
    "(two-means-notebook)=\n",
    "# Test t di Student per campioni indipendenti "
   ]
  },
  {
   "cell_type": "markdown",
   "id": "c201e859-6ba4-4620-b876-384ad23eabad",
   "metadata": {},
   "source": [
    "In questo capitolo, esamineremo il test $t$ di Student per campioni indipendenti, uno dei test statistici frequentisti più ampiamente utilizzati nella pratica."
   ]
  },
  {
   "cell_type": "markdown",
   "id": "cae80d35-b28b-43dd-8c10-6d035dd4816e",
   "metadata": {},
   "source": [
    "## Preparazione del Notebook"
   ]
  },
  {
   "cell_type": "code",
   "execution_count": 3,
   "id": "927328f4-a56a-4ca6-a797-26dc6aa51a28",
   "metadata": {},
   "outputs": [],
   "source": [
    "import numpy as np\n",
    "import pandas as pd\n",
    "import scipy.stats as stats\n",
    "from scipy.stats import gaussian_kde\n",
    "import matplotlib.pyplot as plt\n",
    "from scipy.stats import t\n",
    "from scipy.stats import ttest_ind\n",
    "import arviz as az\n",
    "import seaborn as sns\n",
    "import itertools\n",
    "import pingouin as pg"
   ]
  },
  {
   "cell_type": "code",
   "execution_count": 4,
   "id": "c99f253c-d16d-494a-baa4-7a138dfc7b68",
   "metadata": {},
   "outputs": [],
   "source": [
    "%config InlineBackend.figure_format = 'retina'\n",
    "RANDOM_SEED = 8927\n",
    "rng = np.random.default_rng(RANDOM_SEED)\n",
    "az.style.use(\"arviz-darkgrid\")"
   ]
  },
  {
   "attachments": {},
   "cell_type": "markdown",
   "id": "1ba326d8-164d-4055-b156-644ff24897fe",
   "metadata": {},
   "source": [
    "## Applicazioni del Test t di Student\n",
    "\n",
    "Il test t di Student per due campioni indipendenti è un metodo statistico utilizzato per determinare se le medie di due campioni indipendenti sono significativamente diverse. Questo test si applica quando i due campioni sono estratti da popolazioni diverse e non vi è alcuna correlazione tra le osservazioni di un campione e quelle dell'altro.\n",
    "\n",
    "Per condurre il test t di Student per due campioni indipendenti, calcoliamo la differenza tra le medie dei due campioni e le stime delle varianze campionarie delle rispettive popolazioni. L'ipotesi nulla del test è che le medie dei due campioni siano uguali, mentre l'ipotesi alternativa a due code è che le medie dei due campioni siano diverse. La statistica del test t viene calcolata come il rapporto tra la differenza delle medie campionarie e la deviazione standard media campionaria.\n",
    "\n",
    "Successivamente, confrontiamo la statistica t con la distribuzione t di Student con $n_1 + n_2 - 2$ gradi di libertà, dove $n_1$ e $n_2$ sono le dimensioni dei due campioni. Calcoliamo quindi il valore-p dalla distribuzione t per determinare la significatività del test.\n",
    "\n",
    "Esistono due approcci per stimare la varianza. Se assumiamo che le due popolazioni abbiano la stessa varianza (omoschedasticità), utilizziamo una stima *pooled* della varianza. Questo metodo è considerato efficiente quando l'omoschedasticità è verificata (argomento `correction = False` in `pg.ttest()`). Invece, se supponiamo che le due popolazioni abbiano varianze diverse, utilizziamo due stime separate delle varianze per i due campioni, chiamato test di Welch (argomento `correction = True` in `pg.ttest()`). Questo approccio è più robusto quando le varianze dei due gruppi sono significativamente diverse.\n",
    "\n",
    "Le principali assunzioni del test t di Student per due campioni indipendenti sono l'indipendenza dei due campioni e la normalità della distribuzione delle popolazioni da cui sono stati estratti i campioni.\n",
    "\n",
    "Di seguito è riportato il calcolo della stima della deviazione standard *pooled*, utilizzata per standardizzare la differenza tra le medie dei due campioni quando l'assunzione di omoschedasticità è verificata:\n",
    "\n",
    "$$\n",
    "s_p = \\sqrt{\\frac{(n_1 - 1)s_1^2 + (n_2 - 1)s_2^2}{n_1 + n_2 - 2}},\n",
    "$$\n",
    "\n",
    "dove $s_p$ è la deviazione standard *pooled*, $n$ e $m$ sono le dimensioni dei due campioni, $s^2_0$ e $s^2_1$ sono le varianze campionarie dei due gruppi.\n",
    "\n",
    "La statistica del test t è quindi calcolata come:\n",
    "\n",
    "$$\n",
    "t = \\frac{\\bar{x}_1 - \\bar{x}_2}{s_p \\sqrt{1/n_1 + 1/n_2}},\n",
    "$$\n",
    "\n",
    "dove $\\bar{x}_1$ e $\\bar{x}_2$ sono le medie campionarie dei due gruppi. \n",
    "\n",
    "### Dimostrazione\n",
    "\n",
    "Per dimostrare come calcolare la varianza della differenza tra due medie campionarie, supponiamo di avere due campioni casuali indipendenti $X_1, X_2, \\dots, X_n$ e $Y_1, Y_2, \\dots, Y_m$ che sono estratti dalla stessa popolazione con media $\\mu$ e varianza $\\sigma^2$. Definiamo $\\bar{X}$ e $\\bar{Y}$ come le medie campionarie di questi due campioni, rispettivamente.\n",
    "\n",
    "Le medie campionarie $\\bar{X}$ e $\\bar{Y}$ sono date da:\n",
    "$$\n",
    "\\bar{X} = \\frac{1}{n} \\sum_{i=1}^n X_i\n",
    "$$\n",
    "$$\n",
    "\\bar{Y} = \\frac{1}{m} \\sum_{j=1}^m Y_j\n",
    "$$\n",
    "\n",
    "Le medie campionarie $\\bar{X}$ e $\\bar{Y}$ sono entrambe stimatori non distorti della media della popolazione $\\mu$. Le loro varianze sono date da:\n",
    "\n",
    "$$\n",
    "\\text{Var}(\\bar{X}) = \\frac{\\sigma^2}{n}\n",
    "$$\n",
    "\n",
    "$$\n",
    "\\text{Var}(\\bar{Y}) = \\frac{\\sigma^2}{m}\n",
    "$$\n",
    "\n",
    "Siamo interessati a calcolare la varianza della differenza $\\bar{X} - \\bar{Y}$. Utilizzando le proprietà di varianza per combinazioni lineari di variabili aleatorie indipendenti, otteniamo:\n",
    "\n",
    "$$\n",
    "\\text{Var}(\\bar{X} - \\bar{Y}) = \\text{Var}(\\bar{X}) + \\text{Var}(\\bar{Y})\n",
    "$$\n",
    "\n",
    "dato che i termini incrociati si annullano per l'indipendenza di $\\bar{X}$ e $\\bar{Y}$. Sostituendo le varianze di $\\bar{X}$ e $\\bar{Y}$ abbiamo:\n",
    "\n",
    "$$\n",
    "\\text{Var}(\\bar{X} - \\bar{Y}) = \\frac{\\sigma^2}{n} + \\frac{\\sigma^2}{m}\n",
    "$$\n",
    "\n",
    "$$\n",
    "\\text{Var}(\\bar{X} - \\bar{Y}) = \\sigma^2 \\left(\\frac{1}{n} + \\frac{1}{m}\\right)\n",
    "$$\n",
    "\n",
    "Quindi, la varianza della differenza tra le due medie campionarie è una combinazione delle varianze delle singole medie, ponderate in base alle dimensioni dei campioni corrispondenti.\n",
    "\n",
    "Per giungere alla formula del test $t$ di Student per due campioni indipendenti dobbiamo considerare l'incertezza aggiuntiva che deriva dal fatto che non conosciamo $\\sigma$. Il modo migliore di stimare $\\sigma$ è quello di utilizzare le due deviazioni standard dei campioni (calcolate come stimatori della varianza della popolazione) ponderate per i rispettivi gradi di libertà, come indicato in precedenza per la deviazione standard *pooled*:\n",
    "\n",
    "$$\n",
    "s_p = \\sqrt{\\frac{(n - 1)s^2_x + (m - 1)s^2_y}{n + m - 2}},\n",
    "$$\n",
    "\n",
    "dove $s_x$ e $s_y$ sono le deviazioni standard dei due campioni, e $n$ e $m$ sono le numerosità dei due campioni. "
   ]
  },
  {
   "cell_type": "markdown",
   "id": "c65ed95e-ea6c-45e9-add4-64e49aaae079",
   "metadata": {},
   "source": [
    "### Un esempio concreto\n",
    "\n",
    "Esaminiamo un esempio concreto. Supponiamo di disporre di nove misure del peso per un gruppo di donne e di nove misure di peso per un gruppo di uomini. Ci chiediamo se, nella popolazione, la media del peso dei due gruppi sia diversa.\n",
    "\n",
    "Creiamo due array con i dati e li inseriamo in un DataFrame."
   ]
  },
  {
   "cell_type": "code",
   "execution_count": 5,
   "id": "7e8d1b28-9b0e-46f5-bf25-9916b4e64124",
   "metadata": {},
   "outputs": [
    {
     "name": "stdout",
     "output_type": "stream",
     "text": [
      "[38.9 61.2 73.3 21.8 63.4 64.6 48.4 48.8 48.5 67.8 60.  63.4 76.  89.4\n",
      " 73.3 67.3 61.3 62.4]\n"
     ]
    }
   ],
   "source": [
    "women_weight = np.array([38.9, 61.2, 73.3, 21.8, 63.4, 64.6, 48.4, 48.8, 48.5])\n",
    "men_weight = np.array([67.8, 60, 63.4, 76, 89.4, 73.3, 67.3, 61.3, 62.4])\n",
    "\n",
    "weight = np.concatenate((women_weight, men_weight))\n",
    "print(weight)"
   ]
  },
  {
   "attachments": {},
   "cell_type": "markdown",
   "id": "bd38cec5-e12c-4a43-9900-f59b190c7b71",
   "metadata": {},
   "source": [
    "Creaiamo una variabile che specifica l'appartenenza al gruppo."
   ]
  },
  {
   "cell_type": "code",
   "execution_count": 6,
   "id": "c34f9b0b-c31c-46b4-98cc-f4cc13cbe283",
   "metadata": {},
   "outputs": [
    {
     "data": {
      "text/plain": [
       "array([1, 1, 1, 1, 1, 1, 1, 1, 1, 0, 0, 0, 0, 0, 0, 0, 0, 0])"
      ]
     },
     "execution_count": 6,
     "metadata": {},
     "output_type": "execute_result"
    }
   ],
   "source": [
    "is_female = np.repeat([1, 0], 9)\n",
    "is_female"
   ]
  },
  {
   "cell_type": "code",
   "execution_count": 7,
   "id": "fdd2277e-a084-4b8a-a87a-9713a654e468",
   "metadata": {},
   "outputs": [
    {
     "data": {
      "text/html": [
       "<div>\n",
       "<style scoped>\n",
       "    .dataframe tbody tr th:only-of-type {\n",
       "        vertical-align: middle;\n",
       "    }\n",
       "\n",
       "    .dataframe tbody tr th {\n",
       "        vertical-align: top;\n",
       "    }\n",
       "\n",
       "    .dataframe thead th {\n",
       "        text-align: right;\n",
       "    }\n",
       "</style>\n",
       "<table border=\"1\" class=\"dataframe\">\n",
       "  <thead>\n",
       "    <tr style=\"text-align: right;\">\n",
       "      <th></th>\n",
       "      <th>is_female</th>\n",
       "      <th>weight</th>\n",
       "    </tr>\n",
       "  </thead>\n",
       "  <tbody>\n",
       "    <tr>\n",
       "      <th>0</th>\n",
       "      <td>1</td>\n",
       "      <td>38.9</td>\n",
       "    </tr>\n",
       "    <tr>\n",
       "      <th>1</th>\n",
       "      <td>1</td>\n",
       "      <td>61.2</td>\n",
       "    </tr>\n",
       "    <tr>\n",
       "      <th>2</th>\n",
       "      <td>1</td>\n",
       "      <td>73.3</td>\n",
       "    </tr>\n",
       "    <tr>\n",
       "      <th>3</th>\n",
       "      <td>1</td>\n",
       "      <td>21.8</td>\n",
       "    </tr>\n",
       "    <tr>\n",
       "      <th>4</th>\n",
       "      <td>1</td>\n",
       "      <td>63.4</td>\n",
       "    </tr>\n",
       "    <tr>\n",
       "      <th>5</th>\n",
       "      <td>1</td>\n",
       "      <td>64.6</td>\n",
       "    </tr>\n",
       "    <tr>\n",
       "      <th>6</th>\n",
       "      <td>1</td>\n",
       "      <td>48.4</td>\n",
       "    </tr>\n",
       "    <tr>\n",
       "      <th>7</th>\n",
       "      <td>1</td>\n",
       "      <td>48.8</td>\n",
       "    </tr>\n",
       "    <tr>\n",
       "      <th>8</th>\n",
       "      <td>1</td>\n",
       "      <td>48.5</td>\n",
       "    </tr>\n",
       "    <tr>\n",
       "      <th>9</th>\n",
       "      <td>0</td>\n",
       "      <td>67.8</td>\n",
       "    </tr>\n",
       "    <tr>\n",
       "      <th>10</th>\n",
       "      <td>0</td>\n",
       "      <td>60.0</td>\n",
       "    </tr>\n",
       "    <tr>\n",
       "      <th>11</th>\n",
       "      <td>0</td>\n",
       "      <td>63.4</td>\n",
       "    </tr>\n",
       "    <tr>\n",
       "      <th>12</th>\n",
       "      <td>0</td>\n",
       "      <td>76.0</td>\n",
       "    </tr>\n",
       "    <tr>\n",
       "      <th>13</th>\n",
       "      <td>0</td>\n",
       "      <td>89.4</td>\n",
       "    </tr>\n",
       "    <tr>\n",
       "      <th>14</th>\n",
       "      <td>0</td>\n",
       "      <td>73.3</td>\n",
       "    </tr>\n",
       "    <tr>\n",
       "      <th>15</th>\n",
       "      <td>0</td>\n",
       "      <td>67.3</td>\n",
       "    </tr>\n",
       "    <tr>\n",
       "      <th>16</th>\n",
       "      <td>0</td>\n",
       "      <td>61.3</td>\n",
       "    </tr>\n",
       "    <tr>\n",
       "      <th>17</th>\n",
       "      <td>0</td>\n",
       "      <td>62.4</td>\n",
       "    </tr>\n",
       "  </tbody>\n",
       "</table>\n",
       "</div>"
      ],
      "text/plain": [
       "    is_female  weight\n",
       "0           1    38.9\n",
       "1           1    61.2\n",
       "2           1    73.3\n",
       "3           1    21.8\n",
       "4           1    63.4\n",
       "5           1    64.6\n",
       "6           1    48.4\n",
       "7           1    48.8\n",
       "8           1    48.5\n",
       "9           0    67.8\n",
       "10          0    60.0\n",
       "11          0    63.4\n",
       "12          0    76.0\n",
       "13          0    89.4\n",
       "14          0    73.3\n",
       "15          0    67.3\n",
       "16          0    61.3\n",
       "17          0    62.4"
      ]
     },
     "execution_count": 7,
     "metadata": {},
     "output_type": "execute_result"
    }
   ],
   "source": [
    "df = pd.DataFrame({\"is_female\": is_female, \"weight\": weight})\n",
    "df"
   ]
  },
  {
   "attachments": {},
   "cell_type": "markdown",
   "id": "ccae5af2-db26-4023-9964-e5626c316a1b",
   "metadata": {},
   "source": [
    "Qui sotto è riportato un KDE plot per i dati di tutto il campione."
   ]
  },
  {
   "cell_type": "code",
   "execution_count": 8,
   "id": "f73a4b0c-55c7-4e23-9fa5-beb8fd5a9eea",
   "metadata": {},
   "outputs": [
    {
     "data": {
      "image/png": "[encoded data removed]",
      "text/plain": [
       "<Figure size 720x480 with 1 Axes>"
      ]
     },
     "metadata": {
      "image/png": {
       "height": 491,
       "width": 731
      }
     },
     "output_type": "display_data"
    }
   ],
   "source": [
    "density = gaussian_kde(df[\"weight\"])\n",
    "x_vals = np.linspace(min(df[\"weight\"]), max(df[\"weight\"]), 1000)\n",
    "density = density.evaluate(x_vals)\n",
    "\n",
    "plt.plot(x_vals, density)\n",
    "plt.xlabel('Weight')\n",
    "_ = plt.ylabel('Density')"
   ]
  },
  {
   "attachments": {},
   "cell_type": "markdown",
   "id": "44ca65de-1b57-4702-ae53-f02ef4663e03",
   "metadata": {},
   "source": [
    "Dal DataFrame estraiamo due array contenenti i valori dei pesi dei due gruppi."
   ]
  },
  {
   "cell_type": "code",
   "execution_count": 9,
   "id": "643c44b7-07af-4749-85b5-63741e7d3dca",
   "metadata": {},
   "outputs": [],
   "source": [
    "weight_f = df.loc[df[\"is_female\"] == 1, \"weight\"]\n",
    "weight_m = df.loc[df[\"is_female\"] == 0, \"weight\"]"
   ]
  },
  {
   "attachments": {},
   "cell_type": "markdown",
   "id": "0a5be1af-50d9-4777-b134-29b3218ea742",
   "metadata": {},
   "source": [
    "Calcoliamo la deviazione standard *pooled*."
   ]
  },
  {
   "cell_type": "code",
   "execution_count": 10,
   "id": "d283edf4-ec31-44f1-95e9-aecb3760a88a",
   "metadata": {},
   "outputs": [
    {
     "data": {
      "text/plain": [
       "12.86771368796942"
      ]
     },
     "execution_count": 10,
     "metadata": {},
     "output_type": "execute_result"
    }
   ],
   "source": [
    "s_pool_num = np.sum(\n",
    "    [\n",
    "        (len(weight_f) - 1) * np.std(weight_f, ddof=1) ** 2,\n",
    "        (len(weight_m) - 1) * np.std(weight_m, ddof=1) ** 2,\n",
    "    ]\n",
    ")\n",
    "s_pool_denom = len(weight_f) + len(weight_m) - 2\n",
    "\n",
    "s_pool = np.sqrt(np.divide(s_pool_num, s_pool_denom))\n",
    "s_pool"
   ]
  },
  {
   "attachments": {},
   "cell_type": "markdown",
   "id": "c5239db2-209d-4666-91f7-644f04afed89",
   "metadata": {},
   "source": [
    "Calcoliamo la statistica test."
   ]
  },
  {
   "cell_type": "code",
   "execution_count": 11,
   "id": "76bf1a51-2f17-4b6b-a3bf-14b2501edd7a",
   "metadata": {},
   "outputs": [
    {
     "data": {
      "text/plain": [
       "-2.7842353699254567"
      ]
     },
     "execution_count": 11,
     "metadata": {},
     "output_type": "execute_result"
    }
   ],
   "source": [
    "t_num = np.mean(weight_f) - np.mean(weight_m)\n",
    "t_denom = s_pool * np.sqrt(1 / len(weight_f) + 1 / len(weight_m))\n",
    "T = np.divide(t_num, t_denom)\n",
    "T"
   ]
  },
  {
   "attachments": {},
   "cell_type": "markdown",
   "id": "ea37bfa1-280c-49c6-bbda-5e0d4b6990ed",
   "metadata": {},
   "source": [
    "I gradi di libertà sono:"
   ]
  },
  {
   "cell_type": "code",
   "execution_count": 12,
   "id": "c7cc6c66-b6ec-431c-a119-2f4e4af6de78",
   "metadata": {},
   "outputs": [
    {
     "data": {
      "text/plain": [
       "16"
      ]
     },
     "execution_count": 12,
     "metadata": {},
     "output_type": "execute_result"
    }
   ],
   "source": [
    "len(weight_f) + len(weight_m) - 2"
   ]
  },
  {
   "attachments": {},
   "cell_type": "markdown",
   "id": "50f04e28-2543-4244-8c3e-23360caa3124",
   "metadata": {},
   "source": [
    "Il valore-p è uguale a"
   ]
  },
  {
   "cell_type": "code",
   "execution_count": 13,
   "id": "723f6c82-40df-4947-a2cf-9966c5d718c2",
   "metadata": {},
   "outputs": [
    {
     "data": {
      "text/plain": [
       "0.013265602643801042"
      ]
     },
     "execution_count": 13,
     "metadata": {},
     "output_type": "execute_result"
    }
   ],
   "source": [
    "stats.t.cdf(T, df=16) * 2"
   ]
  },
  {
   "attachments": {},
   "cell_type": "markdown",
   "id": "24ed1e18-3f02-497c-b8af-0478a4437564",
   "metadata": {},
   "source": [
    "Rifacciamo ora i calcoli usando la funzione `ttest` del pacchatto `pingouin`. L'argomento `paired = False` specifica che i due campioni sono indipendenti; l'argomento `correction=False` specifica che non verrà usata la correzione di Welch per varianze separate."
   ]
  },
  {
   "cell_type": "code",
   "execution_count": 14,
   "id": "02bb849c-36c9-4878-b5e1-3773b7158c30",
   "metadata": {},
   "outputs": [
    {
     "name": "stdout",
     "output_type": "stream",
     "text": [
      "               T  dof alternative     p-val          CI95%   cohen-d   BF10  \\\n",
      "T-test  2.784235   16   two-sided  0.013266  [4.03, 29.75]  1.312501  4.251   \n",
      "\n",
      "           power  \n",
      "T-test  0.743519  \n"
     ]
    }
   ],
   "source": [
    "res = pg.ttest(weight_m, weight_f, paired=False, correction=False)\n",
    "print(res)"
   ]
  },
  {
   "attachments": {},
   "cell_type": "markdown",
   "id": "c54b8f4b-0711-4b1d-9053-7f6c7fb57abe",
   "metadata": {},
   "source": [
    "Il risultato conferma quanto trovato in precedenza attraverso i calcoli effettuati. Il valore-$p$ indica che possiamo rifiutare l'ipotesi nulla di uguaglianza delle medie delle due popolazioni. Quindi, possiamo concludere con un livello di confidenza del 95% che la media del peso dei maschi nella popolazione è superiore alla media del peso delle femmine nella popolazione."
   ]
  },
  {
   "cell_type": "markdown",
   "id": "52b10e6c-958c-4513-b042-5a6e68b445c1",
   "metadata": {},
   "source": [
    "Se vogliamo un test più robusto, che non assume l'omogeneità delle varianze, usiamo la correzione di Welch:"
   ]
  },
  {
   "cell_type": "code",
   "execution_count": 15,
   "id": "58df9e99-4fd1-4452-b932-aca1aa79c7c2",
   "metadata": {},
   "outputs": [
    {
     "name": "stdout",
     "output_type": "stream",
     "text": [
      "               T        dof alternative     p-val         CI95%   cohen-d  \\\n",
      "T-test  2.784235  13.113752   two-sided  0.015384  [3.8, 29.98]  1.312501   \n",
      "\n",
      "         BF10     power  \n",
      "T-test  4.251  0.743519  \n"
     ]
    }
   ],
   "source": [
    "res = pg.ttest(weight_m, weight_f, paired=False, correction=True)\n",
    "print(res)"
   ]
  },
  {
   "cell_type": "markdown",
   "id": "b50b47cd-08aa-452a-b964-30ce12d66ba1",
   "metadata": {},
   "source": [
    "La statistica test resta immutata. Quello che cambiano sono i gradi di libertà. Con questa correzione dei gradi di libertà, il p-valore diventa più grande."
   ]
  },
  {
   "cell_type": "markdown",
   "id": "e2207a9d-9e58-4773-bec5-f70f89693b87",
   "metadata": {},
   "source": [
    "## Interpretazione dei Risultati\n",
    "\n",
    "Il test t di Student per campioni indipendenti ha generato un p-valore di 0.013, inferiore alla soglia di significatività di α = 0.05. Questo indica che la differenza osservata tra i gruppi è statisticamente significativa. Tuttavia, anziché limitarci a etichettare il risultato come \"statisticamente significativo\", è importante considerare cosa implica questo esito nel contesto della ricerca.\n",
    "\n",
    "In sostanza, il basso p-valore ci porta a rifiutare l'ipotesi nulla, suggerendo che è improbabile che le differenze osservate nei dati siano dovute al caso. Questo ci permette di concludere con una certa fiducia che esiste una differenza reale tra le medie delle popolazioni da cui i campioni sono stati estratti. Questa interpretazione apre la strada a ulteriori indagini sulle cause di tale differenza e sulle loro implicazioni teoriche o pratiche."
   ]
  },
  {
   "cell_type": "markdown",
   "id": "62948ce8-09ca-43c1-94f6-03b45ae8abcc",
   "metadata": {},
   "source": [
    "Se il p-valore fosse stato superiore alla soglia di significatività α, avremmo interpretato il risultato in modo diverso. Un p-valore maggiore di α indica che i dati osservati non sono incompatibili con l'ipotesi nulla. In altre parole, non avremmo avuto motivi statistici sufficienti per rifiutare l'ipotesi nulla. Tuttavia, è importante sottolineare che questo non equivale a dimostrare che l'ipotesi nulla sia vera; piuttosto, i dati non forniscono evidenza sufficiente per confutarla.\n",
    "\n",
    "In pratica, la non rifiutazione dell'ipotesi nulla significa che i dati sono compatibili sia con l'ipotesi nulla sia con altre possibili ipotesi sulle caratteristiche della popolazione. Di conseguenza, in assenza di evidenza contraria, ci asteniamo dal fare affermazioni conclusive e manteniamo una posizione di neutralità riguardo l'ipotesi nulla, rimanendo aperti alla possibilità di ulteriori indagini e dati futuri che potrebbero chiarire meglio la questione."
   ]
  },
  {
   "cell_type": "markdown",
   "id": "e1d11eb9-829c-467d-a39f-095f85d5cede",
   "metadata": {},
   "source": [
    "## Riportare i risultati\n",
    "\n",
    "Per riportare i risultati si può usare un testo come quello seguente:\n",
    "\n",
    "> Abbiamo condotto un test $t$ di Student per campioni indipendenti per confrontare le medie dei due gruppi. I risultati indicano una differenza tra le medie dei gruppi ($t$(16) = 2.78, $p$ = 0.013). L'intervallo di confidenza al 95% per la differenza delle medie è tra 4.03 e 29.75. L'ampiezza dell'effetto, misurata con Cohen's $d$, è stata di 1.31, indicando un effetto grande secondo le convenzioni comunemente accettate. La potenza statistica del test, calcolata post hoc, è stata del 74.4%, indicando una buona probabilità di rilevare un effetto, se presente."
   ]
  },
  {
   "cell_type": "markdown",
   "id": "5be5c932-aac3-4c35-8583-2250b07e5caf",
   "metadata": {},
   "source": [
    "## Test Unidirezionali e Bidirezionali\n",
    "\n",
    "Il criterio secondo il quale un p-valore inferiore a α indica una \"significatività statistica\" è comune sia nei test bidirezionali sia nei test unidirezionali, ma l'applicazione differisce a seconda della natura dell'ipotesi testata.\n",
    "\n",
    "### Test Bidirezionale\n",
    "Nel caso di un test bidirezionale, le ipotesi sono formulate come segue:\n",
    "- **Ipotesi nulla (H₀):** $\\mu_1 = \\mu_2$ (cioè, $\\mu_1 - \\mu_2 = 0$); si assume uguaglianza delle varianze ($\\sigma^2_1 = \\sigma^2_2$).\n",
    "- **Ipotesi alternativa (H₁):** $\\mu_1 \\neq \\mu_2$; ancora con uguaglianza delle varianze.\n",
    "\n",
    "La statistica test è calcolata come $ \\bar{Y}_1 - \\bar{Y}_2 $, dove $\\bar{Y}_1$ e $\\bar{Y}_2$ sono le medie campionarie dei due gruppi. La regione di rifiuto dell'ipotesi nulla è equamente divisa tra le due code della distribuzione della statistica test, con α/2 per coda.\n",
    "\n",
    "### Test Unidirezionale\n",
    "Per i test unidirezionali, la direzione della differenza che si sta testando è cruciale:\n",
    "\n",
    "1. **Quando si testa se $\\mu_1$ è minore di $\\mu_2$:**\n",
    "   - **Ipotesi nulla (H₀):** $\\mu_1 \\geq \\mu_2$;\n",
    "   - **Ipotesi alternativa (H₁):** $\\mu_1 < \\mu_2$.\n",
    "\n",
    "   La statistica test è calcolata come $ \\bar{Y}_1 - \\bar{Y}_2 $. Se questa differenza è significativamente negativa (cioè cade nella coda sinistra oltre il valore critico), supporta H₁.\n",
    "\n",
    "2. **Quando si testa se $\\mu_1$ è maggiore di $\\mu_2$:**\n",
    "   - **Ipotesi nulla (H₀):** $\\mu_1 \\leq \\mu_2$;\n",
    "   - **Ipotesi alternativa (H₁):** $\\mu_1 > \\mu_2$.\n",
    "\n",
    "   Anche qui, la statistica test è $ \\bar{Y}_1 - \\bar{Y}_2 $. Un risultato che supera il valore critico nella coda destra indica supporto per H₁.\n",
    "\n",
    "In ogni tipo di test unidirezionale, la regione di rifiuto occupa l'intero α dell'area sotto la curva di densità, ma è posizionata completamente nella coda specificata dall'ipotesi alternativa."
   ]
  },
  {
   "cell_type": "markdown",
   "id": "85fd4433-e40f-4ca1-859b-be8390426ae9",
   "metadata": {},
   "source": [
    "## Considerazioni sugli Errori di Tipo I e Tipo II\n",
    "\n",
    "La scelta di un livello di significatività $\\alpha = 0.05$ implica che, nel contesto di un test d'ipotesi, esiste una probabilità del 5% di commettere un errore di Tipo I. Questo tipo di errore si verifica quando l'ipotesi nulla è vera ma, a causa della variabilità casuale nei dati del campione, otteniamo risultati abbastanza estremi da rifiutare erroneamente $H_0$. \n",
    "\n",
    "Un errore di Tipo II, invece, si verifica quando l'ipotesi nulla è falsa, ma i dati del campione non sono sufficientemente estremi da giustificare il suo rifiuto. La probabilità di commettere un errore di Tipo II è spesso influenzata dalla dimensione del campione: campioni più piccoli tendono ad avere una potenza statistica inferiore, aumentando il rischio di non rifiutare $H_0$ quando sarebbe appropriato farlo. La potenza statistica di un test, che rappresenta la probabilità di rifiutare correttamente l'ipotesi nulla quando è falsa, può essere stimata, ma questa stima può diventare complessa. \n",
    "\n",
    "Per i modelli statistici complessi, la stima della potenza può essere particolarmente difficile. Non solo i calcoli possono essere intricati, ma non esiste un metodo unico e standardizzato per effettuare tali stime, richiedendo l'introduzione di diverse assunzioni. \n",
    "\n",
    "La funzione `ttest` del pacchetto `pingouin` offre un modo per calcolare la potenza di un test in contesti di test statistici relativamente semplici."
   ]
  },
  {
   "cell_type": "markdown",
   "id": "71ee5095-a04b-40cf-b70b-4277dd9a1582",
   "metadata": {},
   "source": [
    "## Informazioni sull'Ambiente di Sviluppo"
   ]
  },
  {
   "cell_type": "code",
   "execution_count": 16,
   "id": "3083d467-7be3-4bdd-842b-d9f5830b6931",
   "metadata": {},
   "outputs": [
    {
     "name": "stdout",
     "output_type": "stream",
     "text": [
      "Last updated: Mon May 13 2024\n",
      "\n",
      "Python implementation: CPython\n",
      "Python version       : 3.12.3\n",
      "IPython version      : 8.22.2\n",
      "\n",
      "Compiler    : Clang 16.0.6 \n",
      "OS          : Darwin\n",
      "Release     : 23.4.0\n",
      "Machine     : arm64\n",
      "Processor   : arm\n",
      "CPU cores   : 8\n",
      "Architecture: 64bit\n",
      "\n",
      "pingouin  : 0.5.4\n",
      "matplotlib: 3.8.4\n",
      "pandas    : 2.2.2\n",
      "seaborn   : 0.13.2\n",
      "scipy     : 1.13.0\n",
      "arviz     : 0.18.0\n",
      "numpy     : 1.26.4\n",
      "\n",
      "Watermark: 2.4.3\n",
      "\n"
     ]
    }
   ],
   "source": [
    "%load_ext watermark\n",
    "%watermark -n -u -v -iv -w -m"
   ]
  }
 ],
 "metadata": {
  "kernelspec": {
   "display_name": "pymc_env",
   "language": "python",
   "name": "python3"
  },
  "language_info": {
   "codemirror_mode": {
    "name": "ipython",
    "version": 3
   },
   "file_extension": ".py",
   "mimetype": "text/x-python",
   "name": "python",
   "nbconvert_exporter": "python",
   "pygments_lexer": "ipython3",
   "version": "3.12.3"
  }
 },
 "nbformat": 4,
 "nbformat_minor": 2
}
