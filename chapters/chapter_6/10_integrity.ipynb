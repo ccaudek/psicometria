{
 "cells": [
  {
   "cell_type": "markdown",
   "id": "eaf3fc7f-d7bb-4184-81b0-d44dcb4acaa0",
   "metadata": {},
   "source": [
    "(integrity-notebook)=\n",
    "# Integrità della ricerca"
   ]
  },
  {
   "cell_type": "markdown",
   "id": "b7394c73-7b4b-4b48-b271-d03e969fe11e",
   "metadata": {},
   "source": [
    "L'integrità della ricerca si basa su principi e standard professionali che mirano a garantire l'affidabilità e la qualità della ricerca, distinguendosi dall'etica della ricerca, che si focalizza su principi morali. La condivisione dei dati, il consenso informato, e la trasparenza nelle pratiche di ricerca sono elementi chiave. I codici di condotta sono essenziali per orientare i comportamenti etici, tanto dei ricercatori quanto delle istituzioni. Le pratiche di ricerca discutibili, la fabbricazione e falsificazione dei dati, il plagio, e la gestione dei conflitti di interesse sono sfide da affrontare per mantenere l'integrità della ricerca. È fondamentale promuovere una cultura di ricerca che privilegi l'onestà, la trasparenza e il rispetto dei principi etici."
   ]
  },
  {
   "cell_type": "markdown",
   "id": "848c40c7-0484-4356-a1dd-45f9c6d28b06",
   "metadata": {},
   "source": [
    "## Standard Professionali nei Codici di Condotta per l'Integrità della Ricerca\n",
    "\n",
    "Nel campo della ricerca, è essenziale aderire a principi di condotta responsabile. Questi principi, comunemente definiti come *buone pratiche di ricerca*, stabiliscono gli standard professionali che mirano a ottimizzare qualità e affidabilità degli studi condotti. Se è vero che le idee di base su cosa costituisca una buona pratica di ricerca rimangono relativamente stabili nel tempo, la loro applicazione pratica si evolve in risposta ai cambiamenti sociali, politici e tecnologici. Un esempio lampante di questo adattamento è la crescente enfasi sulla *condivisione dei dati di ricerca*, facilitata oggi dall'esistenza di repository online gratuiti, che ha portato a un'aspettativa diffusa di massima trasparenza e accessibilità dei dati raccolti. Molto incoraggiata è anche la \"buona pratica\" corrispondente alla *condivisione del codice* utilizzato dai ricercatori per analizzare i dati raccolti.\n",
    "\n",
    "## Differenziazione tra Integrità e Etica della Ricerca\n",
    "\n",
    "L'integrità della ricerca si fonda su standard professionali e si distingue nettamente dall'etica della ricerca, che si basa su principi morali quali l'autonomia, la beneficenza, la non-maleficenza e la giustizia. Questi ultimi si traducono in pratiche specifiche, come il consenso informato e la garanzia di verità e confidenzialità nei confronti dei partecipanti. L'adozione di tali principi etici implica l'obbligo per i ricercatori di evitare studi che possano arrecare danno o risultare eccessivamente onerosi per i soggetti coinvolti.\n",
    "\n",
    "I codici di condotta per l'integrità della ricerca variano leggermente tra le diverse fonti. Ad esempio, il *Codice Europeo di Condotta per l'Integrità della Ricerca* enfatizza l'importanza di principi come l'onestà, la trasparenza, l'accuratezza, la responsabilità, l'affidabilità, il rispetto e l'indipendenza. Questi principi sono interpretati in termini di comportamenti specifici attesi sia dai ricercatori sia dalle istituzioni di ricerca, come la condivisione dei dati di ricerca nel rispetto delle normative sulla protezione dei dati, come il GDPR europeo.\n",
    "\n",
    "Un esempio pratico della variazione degli standard nei codici di condotta è rappresentato dall'evoluzione della condivisione dei dati di ricerca. In precedenza, la condivisione dei dati poteva essere limitata dalla mancanza di infrastrutture adeguate. Oggi, l'accesso facilitato attraverso i repository online e la pressione esercitata dalle riviste scientifiche e dai finanziatori della ricerca hanno reso la condivisione dei dati una pratica standard, riflettendo un cambiamento verso una maggiore apertura e trasparenza nella ricerca.\n",
    "\n",
    "## Pressioni e Sfide nell'Adesione ai Codici di Condotta\n",
    "\n",
    "Nonostante l'esistenza di questi codici, i ricercatori, specialmente quelli in fase iniziale della loro carriera, possono trovarsi sotto pressione da parte dei supervisori per adottare comportamenti che si discostano dagli standard stabiliti, spesso a causa della competitività nel campo scientifico e del sistema di valutazione basato sul numero di pubblicazioni. Queste dinamiche possono indurre a pratiche di ricerca discutibili (PRD), che includono la pubblicazione selettiva dei risultati e l'uso di analisi dei dati flessibili per aumentare artificialmente la probabilità di ottenere risultati statisticamente significativi.\n",
    "\n",
    "Per mantenere l'integrità della ricerca, è fondamentale creare un ambiente di lavoro che valorizzi l'apertura, l'inclusività e la discussione franca delle pressioni e delle sfide etiche. Questo implica non solo l'adesione ai codici di condotta esistenti ma anche l'impegno attivo delle istituzioni di ricerca nel promuovere la formazione etica e l'integrità tra i ricercatori. Attraverso un tale approccio, la comunità scientifica può aspirare a una ricerca di alta qualità che sia sia eticamente responsabile sia metodologicamente solida."
   ]
  }
 ],
 "metadata": {
  "kernelspec": {
   "display_name": "pymc_env",
   "language": "python",
   "name": "python3"
  },
  "language_info": {
   "name": "python",
   "version": "3.12.3"
  }
 },
 "nbformat": 4,
 "nbformat_minor": 2
}
