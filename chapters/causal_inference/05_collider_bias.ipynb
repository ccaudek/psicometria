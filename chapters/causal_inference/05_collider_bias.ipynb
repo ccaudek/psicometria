{
 "cells": [
  {
   "attachments": {},
   "cell_type": "markdown",
   "metadata": {},
   "source": [
    "# Collider bias {#sec-collider-bias}"
   ]
  },
  {
   "cell_type": "markdown",
   "metadata": {},
   "source": [
    "**Prerequisiti**\n",
    "\n",
    "**Concetti e competenze chiave**\n",
    "\n",
    "**Preparazione del Notebook**"
   ]
  },
  {
   "cell_type": "markdown",
   "metadata": {},
   "source": [
    "## Introduzione {.unnumbered}\n",
    "\n",
    "Il concetto del \"bias del collider\"  è stato approfondito in uno studio recente di  @fitzgerald2024us, che ha reinterpretato i dati di un'analisi precedente condotta da @rains2024us. Lo studio originale confrontava gli stati degli Stati Uniti che avevano implementato mandati di vaccinazione COVID-19 con quelli che, al contrario, avevano vietato tali requisiti. L'obiettivo era valutare come queste politiche avessero influenzato non solo i tassi di vaccinazione COVID-19, ma anche l'adozione di altri vaccini, come quello antinfluenzale."
   ]
  },
  {
   "cell_type": "markdown",
   "metadata": {},
   "source": [
    "## Rains e Richards (2024)\n",
    "\n",
    "Lo studio di @rains2024us sui mandati di vaccinazione COVID-19 negli Stati Uniti ha portato a due conclusioni principali:\n",
    "\n",
    "1. I mandati statali non hanno avuto un effetto significativo sull’adozione del vaccino COVID-19.\n",
    "2. Gli stati con mandati di vaccinazione COVID-19 hanno mostrato una minore adozione dei vaccini antinfluenzali e dei richiami del vaccino COVID-19 rispetto agli stati che avevano vietato tali mandati.\n",
    "\n",
    "## Fitzgerald (2024)\n",
    "\n",
    "@fitzgerald2024us critica la seconda conclusione dello studio di Rains e Richards, identificando un errore metodologico cruciale. Il problema principale risiede nell'inclusione del tasso di vaccinazione COVID-19 come variabile di controllo nei modelli statistici.\n",
    "\n",
    "Questo approccio è problematico per tre ragioni:\n",
    "\n",
    "1. Fattori comuni come l’esitazione vaccinale influenzano sia l'adozione del vaccino COVID-19 che altri vaccini, come quello antinfluenzale.\n",
    "2. I mandati possono influenzare sia l’adozione dei richiami COVID-19 che dei vaccini antinfluenzali.\n",
    "3. Controllare i tassi di vaccinazione COVID-19 nei modelli può distorcere i risultati, introducendo un \"bias del collider.\"\n",
    "\n",
    "::: {#fig-itzgerald-2024}\n",
    "![](../../figures/fitzgerald_2024.png){width=\"80%\"}\n",
    "\n",
    "Grafo aciclico diretto che mostra le relazioni tra i mandati di vaccinazione COVID-19, i tassi di vaccinazione COVID-19, l'assunzione di vaccini booster/influenzali COVID-19 e fattori non osservati come l'esitazione nei confronti dei vaccini (Figura tratta da @fitzgerald2024us).\n",
    ":::\n",
    "\n",
    "@fitzgerald2024us dimostra che, eliminando questa variabile di controllo errata dai modelli di  @rains2024us, i risultati si invertono. Infatti, gli stati che hanno imposto i mandati di vaccinazione mostrano tassi più alti di adozione sia dei richiami COVID-19 che dei vaccini antinfluenzali."
   ]
  },
  {
   "cell_type": "markdown",
   "metadata": {},
   "source": [
    "## Analisi statistica\n",
    "\n",
    "Di seguito è riportato il codice R utilizzato da @fitzgerald2024us per replicare l'analisi, evidenziando la variazione nei coefficienti relativi alla variabile \"Mandate State\". Quando il modello include il tasso di vaccinazione COVID-19 come controllo, i coefficienti risultano negativi. Tuttavia, rimuovendo questo controllo, i coefficienti cambiano di segno, diventando positivi, evidenziando l'impatto del collider bias sull'analisi originale.\n",
    "\n",
    "L'inversione del segno dei coefficienti sottolinea come l'inclusione di una variabile di controllo inappropriata possa portare a conclusioni fuorvianti sull’effetto dei mandati vaccinali sull’adozione dei vaccini. L'analisi di @fitzgerald2024us dimostra l'importanza di considerare attentamente le relazioni causali tra le variabili in studi di epidemiologia e sanità pubblica. La scelta delle variabili di controllo è cruciale per evitare errori metodologici che possono compromettere la validità dei risultati."
   ]
  },
  {
   "cell_type": "code",
   "execution_count": 13,
   "metadata": {
    "vscode": {
     "languageId": "r"
    }
   },
   "outputs": [],
   "source": [
    "library(kableExtra) # V1.3.4\n",
    "library(here)\n",
    "library(lme4) # V1.1.34\n",
    "library(lmerTest) # V3.1.3\n",
    "library(performance) # V0.10.9\n",
    "library(gt)"
   ]
  },
  {
   "cell_type": "code",
   "execution_count": 4,
   "metadata": {
    "vscode": {
     "languageId": "r"
    }
   },
   "outputs": [],
   "source": [
    "booster_analysis <- read.csv(here(\"data\", \"fitzgerald_2024\", \"booster_analysis.csv\"))\n",
    "flu_analysis_adult <- read.csv(here(\"data\", \"fitzgerald_2024\", \"flu_analysis_adult.csv\"))\n",
    "flu_analysis_children <- read.csv(here(\"data\", \"fitzgerald_2024\", \"flu_analysis_children.csv\"))"
   ]
  },
  {
   "cell_type": "code",
   "execution_count": 21,
   "metadata": {
    "vscode": {
     "languageId": "r"
    }
   },
   "outputs": [],
   "source": [
    "# Create space for table data\n",
    "table_data <- as.data.frame(matrix(nrow = 13, ncol = 4))\n",
    "colnames(table_data) <- NULL\n",
    "\n",
    "# Input column information\n",
    "table_data[1, ] <- c(\"\", \"COVID-19 Booster Uptake\", \"Adult Flu Vaccine Uptake\", \"Child Flu Vaccine Uptake\")\n",
    "\n",
    "###############\n",
    "### PANEL A ###\n",
    "###############\n",
    "\n",
    "# Insert panel information\n",
    "table_data[2, ] <- c(\"\\\\textbf{Panel A: Bad Control Included}\", rep(\"\", 3))\n",
    "# Insert variables and model characteristics\n",
    "table_data[3, 1] <- \"Mandate State\"\n",
    "table_data[4, 1] <- \"\"\n",
    "table_data[5, 1] <- \"COVID-19\"\n",
    "table_data[6, 1] <- \"Vaccination Rate\"\n",
    "table_data[7, 1] <- \"$N$\"\n",
    "table_data[8, 1] <- \"Conditional/marginal $R^2$\"\n",
    "\n",
    "# COVID-19 booster uptake model\n",
    "model <- lmer(prop_boosted ~ mandate_type + prop_vacc_center + (1 | state_ab), data = booster_analysis)\n",
    "r2 <- r2(model)\n",
    "model <- summary(model)\n",
    "# Insert estimates\n",
    "table_data[3, 2] <- round(model$coefficients[2, 1], 3)\n",
    "table_data[4, 2] <- paste0(\"(\", round(model$coefficients[2, 2], 3), \")\")\n",
    "table_data[5, 2] <- round(model$coefficients[3, 1], 3)\n",
    "table_data[6, 2] <- paste0(\"(\", round(model$coefficients[3, 2], 3), \")\")\n",
    "table_data[7, 2] <- length(model$residuals)\n",
    "table_data[8, 2] <- paste0(round(r2$R2_conditional, 3), \"/\", round(r2$R2_marginal, 3))\n",
    "\n",
    "# Adult flu vaccine uptake model\n",
    "model <- lmer(flu_vacc_est ~ mandate_type + cvd_vac_prop_cent + (1 | state_ab), data = flu_analysis_adult)\n",
    "r2 <- r2(model)\n",
    "model <- summary(model)\n",
    "# Insert estimates\n",
    "table_data[3, 3] <- round(model$coefficients[2, 1], 3)\n",
    "table_data[4, 3] <- paste0(\"(\", round(model$coefficients[2, 2], 3), \")\")\n",
    "table_data[5, 3] <- round(model$coefficients[3, 1], 3)\n",
    "table_data[6, 3] <- paste0(\"(\", round(model$coefficients[3, 2], 3), \")\")\n",
    "table_data[7, 3] <- length(model$residuals)\n",
    "table_data[8, 3] <- paste0(round(r2$R2_conditional, 3), \"/\", round(r2$R2_marginal, 3))\n",
    "\n",
    "# Child flu vaccine uptake model\n",
    "model <- lmer(flu_vacc_est ~ mandate_type + cvd_vac_prop_cent + (1 | state_ab), data = flu_analysis_children)\n",
    "r2 <- r2(model)\n",
    "model <- summary(model)\n",
    "# Insert estimates\n",
    "table_data[3, 4] <- round(model$coefficients[2, 1], 3)\n",
    "table_data[4, 4] <- paste0(\"(\", round(model$coefficients[2, 2], 3), \")\")\n",
    "table_data[5, 4] <- round(model$coefficients[3, 1], 3)\n",
    "table_data[6, 4] <- paste0(\"(\", round(model$coefficients[3, 2], 3), \")\")\n",
    "table_data[7, 4] <- length(model$residuals)\n",
    "table_data[8, 4] <- paste0(round(r2$R2_conditional, 3), \"/\", round(r2$R2_marginal, 3))\n",
    "\n",
    "###############\n",
    "### PANEL B ###\n",
    "###############\n",
    "\n",
    "# Insert panel information\n",
    "table_data[9, ] <- c(\"\\\\textbf{Panel B: Bad Control Removed}\", rep(\"\", 3))\n",
    "# Insert variables and model characteristics\n",
    "table_data[10, 1] <- \"Mandate State\"\n",
    "table_data[11, 1] <- \"\"\n",
    "table_data[12, 1] <- \"$N$\"\n",
    "table_data[13, 1] <- \"Conditional/marginal $R^2$\"\n",
    "\n",
    "# COVID-19 booster uptake model\n",
    "model <- lmer(prop_boosted ~ mandate_type + (1 | state_ab), data = booster_analysis)\n",
    "r2 <- r2(model)\n",
    "model <- summary(model)\n",
    "# Insert estimates\n",
    "table_data[10, 2] <- round(model$coefficients[2, 1], 3)\n",
    "table_data[11, 2] <- paste0(\"(\", round(model$coefficients[2, 2], 3), \")\")\n",
    "table_data[12, 2] <- length(model$residuals)\n",
    "table_data[13, 2] <- paste0(round(r2$R2_conditional, 3), \"/\", round(r2$R2_marginal, 3))\n",
    "\n",
    "# Adult flu vaccine uptake model\n",
    "model <- lmer(flu_vacc_est ~ mandate_type + (1 | state_ab), data = flu_analysis_adult)\n",
    "r2 <- r2(model)\n",
    "model <- summary(model)\n",
    "# Insert estimates\n",
    "table_data[10, 3] <- round(model$coefficients[2, 1], 3)\n",
    "table_data[11, 3] <- paste0(\"(\", round(model$coefficients[2, 2], 3), \")\")\n",
    "table_data[12, 3] <- length(model$residuals)\n",
    "table_data[13, 3] <- paste0(round(r2$R2_conditional, 3), \"/\", round(r2$R2_marginal, 3))\n",
    "\n",
    "# Child flu vaccine uptake model\n",
    "model <- lmer(flu_vacc_est ~ mandate_type + (1 | state_ab), data = flu_analysis_children)\n",
    "r2 <- r2(model)\n",
    "model <- summary(model)\n",
    "# Insert estimates\n",
    "table_data[10, 4] <- round(model$coefficients[2, 1], 3)\n",
    "table_data[11, 4] <- paste0(\"(\", round(model$coefficients[2, 2], 3), \")\")\n",
    "table_data[12, 4] <- length(model$residuals)\n",
    "table_data[13, 4] <- paste0(round(r2$R2_conditional, 3), \"/\", round(r2$R2_marginal, 3))\n"
   ]
  },
  {
   "cell_type": "code",
   "execution_count": 26,
   "metadata": {
    "vscode": {
     "languageId": "r"
    }
   },
   "outputs": [],
   "source": [
    "# Produce and save table\n",
    "table <- kbl(table_data,\n",
    "    booktabs = TRUE,\n",
    "    format = \"html\",\n",
    "    linesep = c(\n",
    "        \"\\\\midrule\",\n",
    "        rep(\"\", 4), \"\\\\midrule\", rep(\"\", 1), \"\\\\midrule\",\n",
    "        rep(\"\", 2), \"\\\\midrule\", rep(\"\", 1), \"\\\\bottomrule\"\n",
    "    ),\n",
    "    align = c(\"l\", \"c\", \"c\", \"c\", \"c\", \"c\", \"c\", \"c\"),\n",
    "    label = \"Table_1\",\n",
    "    escape = FALSE\n",
    ") %>%\n",
    "    kable_styling(full_width = F) %>%\n",
    "    footnote(\n",
    "        general = \"Standard errors are reported in parentheses.\",\n",
    "        footnote_as_chunk = TRUE\n",
    "    )"
   ]
  },
  {
   "cell_type": "code",
   "execution_count": 32,
   "metadata": {
    "vscode": {
     "languageId": "r"
    }
   },
   "outputs": [],
   "source": [
    "# Produce and save table\n",
    "table <- kbl(table_data,\n",
    "    format = \"pipe\",\n",
    "    align = c(\"l\", \"c\", \"c\", \"c\", \"c\", \"c\", \"c\", \"c\"),\n",
    "    caption = \"Table 1: Effects of Vaccine Mandates on Vaccine Uptake\"\n",
    ")"
   ]
  },
  {
   "cell_type": "code",
   "execution_count": 33,
   "metadata": {
    "vscode": {
     "languageId": "r"
    }
   },
   "outputs": [
    {
     "data": {
      "text/plain": [
       "\n",
       "\n",
       "Table: Table 1: Effects of Vaccine Mandates on Vaccine Uptake\n",
       "\n",
       "|                                       |                         |                          |                          |\n",
       "|:--------------------------------------|:-----------------------:|:------------------------:|:------------------------:|\n",
       "|                                       | COVID-19 Booster Uptake | Adult Flu Vaccine Uptake | Child Flu Vaccine Uptake |\n",
       "|\\textbf{Panel A: Bad Control Included} |                         |                          |                          |\n",
       "|Mandate State                          |         -0.072          |          -0.119          |          -0.179          |\n",
       "|                                       |         (0.027)         |         (0.021)          |         (0.028)          |\n",
       "|COVID-19                               |          3.686          |          1.518           |          2.194           |\n",
       "|Vaccination Rate                       |         (0.056)         |          (0.07)          |         (0.029)          |\n",
       "|$N$                                    |          1025           |           205            |           1025           |\n",
       "|Conditional/marginal $R^2$             |       0.907/0.55        |       0.941/0.643        |        0.975/0.65        |\n",
       "|\\textbf{Panel B: Bad Control Removed}  |                         |                          |                          |\n",
       "|Mandate State                          |          0.045          |          0.058           |          0.079           |\n",
       "|                                       |         (0.021)         |         (0.016)          |         (0.022)          |\n",
       "|$N$                                    |          1025           |           205            |           1025           |\n",
       "|Conditional/marginal $R^2$             |       0.298/0.034       |       0.512/0.155        |       0.597/0.151        |"
      ]
     },
     "metadata": {},
     "output_type": "display_data"
    },
    {
     "name": "stdout",
     "output_type": "stream",
     "text": [
      "\n",
      "Note: Standard errors are reported in parentheses."
     ]
    }
   ],
   "source": [
    "table\n",
    "cat(\"\\nNote: Standard errors are reported in parentheses.\")"
   ]
  },
  {
   "cell_type": "markdown",
   "metadata": {},
   "source": [
    "## Considerazioni Conclusive\n",
    "\n",
    "Il concetto chiave introdotto da @fitzgerald2024us è il **\"bias del collider\"**. Un \"collider\" è una variabile influenzata da due o più altre variabili nel modello. Nel caso specifico:\n",
    "\n",
    "- **I tassi di vaccinazione COVID-19** sono il collider, poiché sono influenzati sia dai mandati vaccinali che da altri fattori, come l’esitazione vaccinale.\n",
    "- Controllando i tassi di vaccinazione COVID-19 come se fossero una variabile indipendente, si blocca il percorso causale tra i mandati vaccinali e altre variabili, come l’adozione dei richiami o dei vaccini antinfluenzali.\n",
    "  \n",
    "Questo porta a una stima distorta dell'effetto dei mandati sui comportamenti vaccinali successivi.\n",
    "\n",
    "In conclusione, il bias del collider è un errore comune nelle analisi statistiche che può condurre a risultati fuorvianti se non viene identificato e gestito correttamente. Nel caso specifico dei mandati vaccinali, controllare i tassi di vaccinazione COVID-19 come variabile di controllo blocca una parte della relazione causale tra mandati e comportamenti successivi, come l’adozione di richiami o di vaccini antinfluenzali. Questo errore metodologico può portare a conclusioni errate e fuorvianti. Lo stesso principio si applica a studi in altri ambiti, come la psicologia, dove il controllo di variabili che fungono da collider può mascherare relazioni causali importanti e portare a conclusioni errate. È essenziale, quindi, prestare molta attenzione alla scelta delle variabili di controllo per garantire la validità dei risultati negli studi osservazionali."
   ]
  },
  {
   "cell_type": "markdown",
   "metadata": {},
   "source": [
    "## Informazioni sull'Ambiente di Sviluppo {.unnumbered}"
   ]
  },
  {
   "cell_type": "code",
   "execution_count": 24,
   "metadata": {
    "vscode": {
     "languageId": "r"
    }
   },
   "outputs": [
    {
     "name": "stdout",
     "output_type": "stream",
     "text": [
      "Last updated: Sat Jul 27 2024\n",
      "\n",
      "Python implementation: CPython\n",
      "Python version       : 3.12.4\n",
      "IPython version      : 8.26.0\n",
      "\n",
      "Compiler    : Clang 16.0.6 \n",
      "OS          : Darwin\n",
      "Release     : 23.5.0\n",
      "Machine     : arm64\n",
      "Processor   : arm\n",
      "CPU cores   : 8\n",
      "Architecture: 64bit\n",
      "\n",
      "networkx   : 3.3\n",
      "pandas     : 2.2.2\n",
      "bambi      : 0.14.0\n",
      "seaborn    : 0.13.2\n",
      "graphviz   : 0.20.3\n",
      "numpy      : 1.26.4\n",
      "arviz      : 0.18.0\n",
      "matplotlib : 3.9.1\n",
      "statsmodels: 0.14.2\n",
      "\n",
      "Watermark: 2.4.3\n",
      "\n"
     ]
    }
   ],
   "source": [
    "%load_ext watermark\n",
    "%watermark -n -u -v -iv -w -m"
   ]
  }
 ],
 "metadata": {
  "kernelspec": {
   "display_name": "R",
   "language": "R",
   "name": "ir"
  },
  "language_info": {
   "codemirror_mode": "r",
   "file_extension": ".r",
   "mimetype": "text/x-r-source",
   "name": "R",
   "pygments_lexer": "r",
   "version": "4.4.1"
  }
 },
 "nbformat": 4,
 "nbformat_minor": 2
}
